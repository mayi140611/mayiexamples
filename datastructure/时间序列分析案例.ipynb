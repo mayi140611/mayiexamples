{
 "cells": [
  {
   "cell_type": "markdown",
   "metadata": {},
   "source": [
    "https://mp.weixin.qq.com/s/gyeNwInJhBfuOFTKPCcEiA"
   ]
  },
  {
   "cell_type": "markdown",
   "metadata": {},
   "source": [
    "时间序列由四个主要成分组成: \n",
    "* 季节变化、\n",
    "* 趋势变化、\n",
    "* 周期变化\n",
    "* 和随机变化。\n",
    "\n",
    "在今天的推文中，我们将使用状态空间模型对单变量时间序列数据进行预测分析。该模型具有连续的隐状态和观测状态。"
   ]
  },
  {
   "cell_type": "code",
   "execution_count": 1,
   "metadata": {},
   "outputs": [],
   "source": [
    "import sys\n",
    "sys.path.append('/Users/luoyonggui/PycharmProjects/mayiutils_n1/mayiutils/finance')\n",
    "\n",
    "from tushare_wrapper import TushareWrapper\n",
    "\n",
    "tsw = TushareWrapper()"
   ]
  },
  {
   "cell_type": "code",
   "execution_count": 2,
   "metadata": {},
   "outputs": [
    {
     "name": "stdout",
     "output_type": "stream",
     "text": [
      "20150101 20191122\n"
     ]
    }
   ],
   "source": [
    "params = {'ts_code': '600115.SH',\n",
    "          'start_date': '20150101',\n",
    "          'asset': 'E',\n",
    "          'end_date': '20191122',\n",
    "          'adj': 'qfq'}\n",
    "\n",
    "df = tsw.history(**params)"
   ]
  },
  {
   "cell_type": "code",
   "execution_count": 3,
   "metadata": {},
   "outputs": [
    {
     "data": {
      "text/html": [
       "<div>\n",
       "<style scoped>\n",
       "    .dataframe tbody tr th:only-of-type {\n",
       "        vertical-align: middle;\n",
       "    }\n",
       "\n",
       "    .dataframe tbody tr th {\n",
       "        vertical-align: top;\n",
       "    }\n",
       "\n",
       "    .dataframe thead th {\n",
       "        text-align: right;\n",
       "    }\n",
       "</style>\n",
       "<table border=\"1\" class=\"dataframe\">\n",
       "  <thead>\n",
       "    <tr style=\"text-align: right;\">\n",
       "      <th></th>\n",
       "      <th>ts_code</th>\n",
       "      <th>open</th>\n",
       "      <th>high</th>\n",
       "      <th>low</th>\n",
       "      <th>close</th>\n",
       "      <th>pre_close</th>\n",
       "      <th>change</th>\n",
       "      <th>pct_chg</th>\n",
       "      <th>vol</th>\n",
       "      <th>amount</th>\n",
       "    </tr>\n",
       "    <tr>\n",
       "      <th>trade_date</th>\n",
       "      <th></th>\n",
       "      <th></th>\n",
       "      <th></th>\n",
       "      <th></th>\n",
       "      <th></th>\n",
       "      <th></th>\n",
       "      <th></th>\n",
       "      <th></th>\n",
       "      <th></th>\n",
       "      <th></th>\n",
       "    </tr>\n",
       "  </thead>\n",
       "  <tbody>\n",
       "    <tr>\n",
       "      <th>2015-01-05</th>\n",
       "      <td>600115.SH</td>\n",
       "      <td>5.13</td>\n",
       "      <td>5.50</td>\n",
       "      <td>5.13</td>\n",
       "      <td>5.42</td>\n",
       "      <td>5.06</td>\n",
       "      <td>0.36</td>\n",
       "      <td>7.11</td>\n",
       "      <td>2119325.22</td>\n",
       "      <td>1165316.607</td>\n",
       "    </tr>\n",
       "    <tr>\n",
       "      <th>2015-01-06</th>\n",
       "      <td>600115.SH</td>\n",
       "      <td>5.78</td>\n",
       "      <td>5.84</td>\n",
       "      <td>5.45</td>\n",
       "      <td>5.53</td>\n",
       "      <td>5.42</td>\n",
       "      <td>0.11</td>\n",
       "      <td>2.03</td>\n",
       "      <td>1979663.74</td>\n",
       "      <td>1134934.193</td>\n",
       "    </tr>\n",
       "    <tr>\n",
       "      <th>2015-01-07</th>\n",
       "      <td>600115.SH</td>\n",
       "      <td>5.65</td>\n",
       "      <td>5.76</td>\n",
       "      <td>5.52</td>\n",
       "      <td>5.61</td>\n",
       "      <td>5.53</td>\n",
       "      <td>0.08</td>\n",
       "      <td>1.45</td>\n",
       "      <td>1503679.91</td>\n",
       "      <td>867833.821</td>\n",
       "    </tr>\n",
       "    <tr>\n",
       "      <th>2015-01-08</th>\n",
       "      <td>600115.SH</td>\n",
       "      <td>5.52</td>\n",
       "      <td>5.53</td>\n",
       "      <td>5.30</td>\n",
       "      <td>5.36</td>\n",
       "      <td>5.61</td>\n",
       "      <td>-0.25</td>\n",
       "      <td>-4.46</td>\n",
       "      <td>913776.36</td>\n",
       "      <td>505200.427</td>\n",
       "    </tr>\n",
       "    <tr>\n",
       "      <th>2015-01-09</th>\n",
       "      <td>600115.SH</td>\n",
       "      <td>5.30</td>\n",
       "      <td>5.68</td>\n",
       "      <td>5.27</td>\n",
       "      <td>5.46</td>\n",
       "      <td>5.36</td>\n",
       "      <td>0.10</td>\n",
       "      <td>1.87</td>\n",
       "      <td>1408567.14</td>\n",
       "      <td>796266.316</td>\n",
       "    </tr>\n",
       "  </tbody>\n",
       "</table>\n",
       "</div>"
      ],
      "text/plain": [
       "              ts_code  open  high   low  close  pre_close  change  pct_chg  \\\n",
       "trade_date                                                                   \n",
       "2015-01-05  600115.SH  5.13  5.50  5.13   5.42       5.06    0.36     7.11   \n",
       "2015-01-06  600115.SH  5.78  5.84  5.45   5.53       5.42    0.11     2.03   \n",
       "2015-01-07  600115.SH  5.65  5.76  5.52   5.61       5.53    0.08     1.45   \n",
       "2015-01-08  600115.SH  5.52  5.53  5.30   5.36       5.61   -0.25    -4.46   \n",
       "2015-01-09  600115.SH  5.30  5.68  5.27   5.46       5.36    0.10     1.87   \n",
       "\n",
       "                   vol       amount  \n",
       "trade_date                           \n",
       "2015-01-05  2119325.22  1165316.607  \n",
       "2015-01-06  1979663.74  1134934.193  \n",
       "2015-01-07  1503679.91   867833.821  \n",
       "2015-01-08   913776.36   505200.427  \n",
       "2015-01-09  1408567.14   796266.316  "
      ]
     },
     "execution_count": 3,
     "metadata": {},
     "output_type": "execute_result"
    }
   ],
   "source": [
    "df.head()"
   ]
  },
  {
   "cell_type": "code",
   "execution_count": 4,
   "metadata": {},
   "outputs": [
    {
     "data": {
      "text/plain": [
       "ts_code       object\n",
       "open         float64\n",
       "high         float64\n",
       "low          float64\n",
       "close        float64\n",
       "pre_close    float64\n",
       "change       float64\n",
       "pct_chg      float64\n",
       "vol          float64\n",
       "amount       float64\n",
       "dtype: object"
      ]
     },
     "execution_count": 4,
     "metadata": {},
     "output_type": "execute_result"
    }
   ],
   "source": [
    "df.dtypes"
   ]
  },
  {
   "cell_type": "code",
   "execution_count": 6,
   "metadata": {},
   "outputs": [],
   "source": [
    "%matplotlib inline"
   ]
  },
  {
   "cell_type": "code",
   "execution_count": 7,
   "metadata": {},
   "outputs": [
    {
     "data": {
      "text/plain": [
       "<matplotlib.axes._subplots.AxesSubplot at 0x11c65d278>"
      ]
     },
     "execution_count": 7,
     "metadata": {},
     "output_type": "execute_result"
    },
    {
     "data": {
      "image/png": "[encoded data removed]",
      "text/plain": [
       "<Figure size 432x288 with 1 Axes>"
      ]
     },
     "metadata": {
      "needs_background": "light"
     },
     "output_type": "display_data"
    }
   ],
   "source": [
    "df.close.plot()"
   ]
  },
  {
   "cell_type": "code",
   "execution_count": null,
   "metadata": {},
   "outputs": [],
   "source": []
  }
 ],
 "metadata": {
  "kernelspec": {
   "display_name": "Python 3",
   "language": "python",
   "name": "python3"
  },
  "language_info": {
   "codemirror_mode": {
    "name": "ipython",
    "version": 3
   },
   "file_extension": ".py",
   "mimetype": "text/x-python",
   "name": "python",
   "nbconvert_exporter": "python",
   "pygments_lexer": "ipython3",
   "version": "3.7.4"
  },
  "toc": {
   "base_numbering": 1,
   "nav_menu": {},
   "number_sections": true,
   "sideBar": true,
   "skip_h1_title": false,
   "title_cell": "Table of Contents",
   "title_sidebar": "Contents",
   "toc_cell": false,
   "toc_position": {},
   "toc_section_display": true,
   "toc_window_display": false
  },
  "varInspector": {
   "cols": {
    "lenName": 16,
    "lenType": 16,
    "lenVar": 40
   },
   "kernels_config": {
    "python": {
     "delete_cmd_postfix": "",
     "delete_cmd_prefix": "del ",
     "library": "var_list.py",
     "varRefreshCmd": "print(var_dic_list())"
    },
    "r": {
     "delete_cmd_postfix": ") ",
     "delete_cmd_prefix": "rm(",
     "library": "var_list.r",
     "varRefreshCmd": "cat(var_dic_list()) "
    }
   },
   "types_to_exclude": [
    "module",
    "function",
    "builtin_function_or_method",
    "instance",
    "_Feature"
   ],
   "window_display": false
  }
 },
 "nbformat": 4,
 "nbformat_minor": 2
}

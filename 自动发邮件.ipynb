{
 "cells": [
  {
   "cell_type": "code",
   "execution_count": 1,
   "metadata": {},
   "outputs": [],
   "source": [
    "import smtplib    \n",
    "from email.mime.multipart import MIMEMultipart    \n",
    "from email.mime.text import MIMEText    \n",
    "from email.mime.image import MIMEImage \n",
    "from email.header import Header   "
   ]
  },
  {
   "cell_type": "code",
   "execution_count": 2,
   "metadata": {},
   "outputs": [],
   "source": [
    "#设置smtplib所需的参数\n",
    "#下面的发件人，收件人是用于邮件传输的。\n",
    "smtpserver = 'smtp.163.com'\n",
    "username = '1358558124@163.com'\n",
    "password='___L' # 授权码\n",
    "sender='1358558124@163.com'\n",
    "#收件人为多个收件人\n",
    "receiver=['47215638@qq.com']\n",
    "\n",
    "subject = 'Python email test'\n",
    "#通过Header对象编码的文本，包含utf-8编码信息和Base64编码信息。以下中文名测试ok\n",
    "#subject = '中文标题'\n",
    "#subject=Header(subject, 'utf-8').encode()"
   ]
  },
  {
   "cell_type": "code",
   "execution_count": 4,
   "metadata": {},
   "outputs": [
    {
     "data": {
      "text/plain": [
       "(221, b'Bye')"
      ]
     },
     "execution_count": 4,
     "metadata": {},
     "output_type": "execute_result"
    }
   ],
   "source": [
    "#构造邮件对象MIMEMultipart对象\n",
    "#下面的主题，发件人，收件人，日期是显示在邮件页面上的。\n",
    "msg = MIMEMultipart('mixed') \n",
    "msg['Subject'] = subject\n",
    "msg['From'] = 'XXX@163.com <XXX@163.com>'\n",
    "#msg['To'] = 'XXX@126.com'\n",
    "#收件人为多个收件人,通过join将列表转换为以;为间隔的字符串\n",
    "msg['To'] = \";\".join(receiver) \n",
    "#msg['Date']='2012-3-16'\n",
    "\n",
    "#构造文字内容   \n",
    "text = \"Hi!\\nHow are you?\\nHere is the link you wanted:\\nhttp://www.baidu.com\"    \n",
    "text_plain = MIMEText(text,'plain', 'utf-8')    \n",
    "msg.attach(text_plain)    \n",
    "\n",
    "# #构造图片链接\n",
    "# sendimagefile=open(r'D:\\pythontest\\testimage.png','rb').read()\n",
    "# image = MIMEImage(sendimagefile)\n",
    "# image.add_header('Content-ID','<image1>')\n",
    "# image[\"Content-Disposition\"] = 'attachment; filename=\"testimage.png\"'\n",
    "# msg.attach(image)\n",
    "\n",
    "#构造html\n",
    "#发送正文中的图片:由于包含未被许可的信息，网易邮箱定义为垃圾邮件，报554 DT:SPM ：<p><img src=\"cid:image1\"></p>\n",
    "html = \"\"\"\n",
    "<html>  \n",
    "  <head></head>  \n",
    "  <body>  \n",
    "    <p>Hi!<br>  \n",
    "       How are you?<br>  \n",
    "       Here is the <a href=\"http://www.baidu.com\">link</a> you wanted.<br> \n",
    "    </p> \n",
    "  </body>  \n",
    "</html>  \n",
    "\"\"\"    \n",
    "text_html = MIMEText(html,'html', 'utf-8')\n",
    "text_html[\"Content-Disposition\"] = 'attachment; filename=\"texthtml.html\"'   \n",
    "msg.attach(text_html)    \n",
    "\n",
    "\n",
    "# #构造附件\n",
    "# sendfile=open(r'D:\\pythontest\\1111.txt','rb').read()\n",
    "# text_att = MIMEText(sendfile, 'base64', 'utf-8') \n",
    "# text_att[\"Content-Type\"] = 'application/octet-stream'  \n",
    "# #以下附件可以重命名成aaa.txt  \n",
    "# #text_att[\"Content-Disposition\"] = 'attachment; filename=\"aaa.txt\"'\n",
    "# #另一种实现方式\n",
    "# text_att.add_header('Content-Disposition', 'attachment', filename='aaa.txt')\n",
    "# #以下中文测试不ok\n",
    "# #text_att[\"Content-Disposition\"] = u'attachment; filename=\"中文附件.txt\"'.decode('utf-8')\n",
    "# msg.attach(text_att)    \n",
    "       \n",
    "#发送邮件\n",
    "smtp = smtplib.SMTP()    \n",
    "smtp.connect('smtp.163.com')\n",
    "#我们用set_debuglevel(1)就可以打印出和SMTP服务器交互的所有信息。\n",
    "#smtp.set_debuglevel(1)  \n",
    "smtp.login(username, password)    \n",
    "smtp.sendmail(sender, receiver, msg.as_string())    \n",
    "smtp.quit()"
   ]
  },
  {
   "cell_type": "code",
   "execution_count": null,
   "metadata": {},
   "outputs": [],
   "source": []
  }
 ],
 "metadata": {
  "kernelspec": {
   "display_name": "Python 3",
   "language": "python",
   "name": "python3"
  },
  "language_info": {
   "codemirror_mode": {
    "name": "ipython",
    "version": 3
   },
   "file_extension": ".py",
   "mimetype": "text/x-python",
   "name": "python",
   "nbconvert_exporter": "python",
   "pygments_lexer": "ipython3",
   "version": "3.7.3"
  },
  "toc": {
   "base_numbering": 1,
   "nav_menu": {},
   "number_sections": true,
   "sideBar": true,
   "skip_h1_title": false,
   "title_cell": "Table of Contents",
   "title_sidebar": "Contents",
   "toc_cell": false,
   "toc_position": {},
   "toc_section_display": true,
   "toc_window_display": false
  }
 },
 "nbformat": 4,
 "nbformat_minor": 2
}

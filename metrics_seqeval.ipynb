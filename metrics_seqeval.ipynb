{
 "cells": [
  {
   "cell_type": "markdown",
   "metadata": {},
   "source": [
    "# seqeval\n",
    "https://github.com/chakki-works/seqeval\n",
    "\n",
    "seqeval is a Python framework for sequence labeling evaluation. seqeval can evaluate the performance of chunking tasks such as named-entity recognition, part-of-speech tagging, semantic role labeling and so on.\n",
    "\n",
    "This is well-tested by using the Perl script conlleval, which can be used for measuring the performance of a system that has processed the CoNLL-2000 shared task data."
   ]
  },
  {
   "cell_type": "code",
   "execution_count": 3,
   "metadata": {},
   "outputs": [
    {
     "name": "stdout",
     "output_type": "stream",
     "text": [
      "seqeval==0.0.12\r\n"
     ]
    }
   ],
   "source": [
    "!pip freeze | grep seqeval"
   ]
  },
  {
   "cell_type": "markdown",
   "metadata": {},
   "source": [
    "## Support features\n",
    "\n",
    "seqeval supports following formats:\n",
    "\n",
    "    IOB1\n",
    "    IOB2\n",
    "    IOE1\n",
    "    IOE2\n",
    "    IOBES\n",
    "\n",
    "https://blog.csdn.net/weixin_38278334/article/details/83897997"
   ]
  },
  {
   "cell_type": "markdown",
   "metadata": {},
   "source": [
    "# 序列标注算法评估模块seqeval的使用\n",
    "https://www.cnblogs.com/jclian91/p/12459688.html"
   ]
  },
  {
   "cell_type": "code",
   "execution_count": 1,
   "metadata": {},
   "outputs": [],
   "source": [
    "from seqeval.metrics import f1_score, precision_score, accuracy_score, recall_score, classification_report"
   ]
  },
  {
   "cell_type": "markdown",
   "metadata": {},
   "source": [
    "列表中一个有9个元素，其中预测对的元素个数为6个，那么准确率为2/3。标注的实体总个数为2个，预测的实体总个数为3个，预测正确的实体个数为1个，那么precision=1/3, recall=1/2, F1=0.4。"
   ]
  },
  {
   "cell_type": "code",
   "execution_count": 2,
   "metadata": {},
   "outputs": [
    {
     "name": "stdout",
     "output_type": "stream",
     "text": [
      "accuary:  0.6666666666666666\n",
      "p:  0.3333333333333333\n",
      "r:  0.5\n",
      "f1:  0.4\n",
      "classification report: \n",
      "           precision    recall  f1-score   support\n",
      "\n",
      "      PER       1.00      1.00      1.00         1\n",
      "     MISC       0.00      0.00      0.00         1\n",
      "\n",
      "micro avg       0.33      0.50      0.40         2\n",
      "macro avg       0.50      0.50      0.50         2\n",
      "\n"
     ]
    }
   ],
   "source": [
    "y_true = ['O', 'O', 'O', 'B-MISC', 'I-MISC', 'I-MISC', 'O', 'B-PER', 'I-PER']\n",
    "y_pred = ['O', 'O', 'B-MISC', 'I-MISC', 'B-MISC', 'I-MISC', 'O', 'B-PER', 'I-PER']\n",
    "\n",
    "print(\"accuary: \", accuracy_score(y_true, y_pred))\n",
    "print(\"p: \", precision_score(y_true, y_pred))\n",
    "print(\"r: \", recall_score(y_true, y_pred))\n",
    "print(\"f1: \", f1_score(y_true, y_pred))\n",
    "print(\"classification report: \")\n",
    "print(classification_report(y_true, y_pred))"
   ]
  },
  {
   "cell_type": "code",
   "execution_count": 4,
   "metadata": {},
   "outputs": [
    {
     "name": "stdout",
     "output_type": "stream",
     "text": [
      "accuary:  0.6666666666666666\n",
      "p:  0.3333333333333333\n",
      "r:  0.5\n",
      "f1:  0.4\n",
      "classification report: \n",
      "           precision    recall  f1-score   support\n",
      "\n",
      "      PER       1.00      1.00      1.00         1\n",
      "     MISC       0.00      0.00      0.00         1\n",
      "\n",
      "micro avg       0.33      0.50      0.40         2\n",
      "macro avg       0.50      0.50      0.50         2\n",
      "\n"
     ]
    }
   ],
   "source": [
    "y_true = [['O', 'O', 'O', 'B-MISC', 'I-MISC', 'I-MISC', 'O'], ['B-PER', 'I-PER']]\n",
    "y_pred =  [['O', 'O', 'B-MISC', 'I-MISC', 'B-MISC', 'I-MISC', 'O'], ['B-PER', 'I-PER']]\n",
    "\n",
    "print(\"accuary: \", accuracy_score(y_true, y_pred))\n",
    "print(\"p: \", precision_score(y_true, y_pred))\n",
    "print(\"r: \", recall_score(y_true, y_pred))\n",
    "print(\"f1: \", f1_score(y_true, y_pred))\n",
    "print(\"classification report: \")\n",
    "print(classification_report(y_true, y_pred))"
   ]
  },
  {
   "cell_type": "code",
   "execution_count": null,
   "metadata": {},
   "outputs": [],
   "source": []
  }
 ],
 "metadata": {
  "kernelspec": {
   "display_name": "Python 3",
   "language": "python",
   "name": "python3"
  },
  "language_info": {
   "codemirror_mode": {
    "name": "ipython",
    "version": 3
   },
   "file_extension": ".py",
   "mimetype": "text/x-python",
   "name": "python",
   "nbconvert_exporter": "python",
   "pygments_lexer": "ipython3",
   "version": "3.7.9"
  },
  "toc": {
   "base_numbering": 1,
   "nav_menu": {},
   "number_sections": true,
   "sideBar": true,
   "skip_h1_title": false,
   "title_cell": "Table of Contents",
   "title_sidebar": "Contents",
   "toc_cell": false,
   "toc_position": {},
   "toc_section_display": true,
   "toc_window_display": true
  }
 },
 "nbformat": 4,
 "nbformat_minor": 4
}

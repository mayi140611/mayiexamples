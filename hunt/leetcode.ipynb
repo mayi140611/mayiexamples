{
 "cells": [
  {
   "cell_type": "markdown",
   "metadata": {},
   "source": [
    "# problem5\n",
    "https://leetcode-cn.com/problems/longest-palindromic-substring/\n",
    "\n",
    "    给定一个字符串 s，找到 s 中最长的回文子串。你可以假设 s 的最大长度为 1000。\n",
    "    回文串就是正着读和反着读都一样的字符串。\n",
    "    示例 1：\n",
    "\n",
    "    输入: \"babad\"\n",
    "    输出: \"bab\"\n",
    "    注意: \"aba\" 也是一个有效答案。"
   ]
  },
  {
   "cell_type": "code",
   "execution_count": 80,
   "metadata": {},
   "outputs": [],
   "source": [
    "# 执行用时 :6608 ms, 在所有 Python 提交中击败了5.01% 的用户\n",
    "# 内存消耗 :11.8 MB, 在所有 Python 提交中击败了64.27%的用户\n",
    "class Solution(object):\n",
    "    @classmethod\n",
    "    def longestPalindrome(self, s):\n",
    "        \"\"\"\n",
    "        :type s: str\n",
    "        :rtype: str\n",
    "        \"\"\"\n",
    "        len_s = len(s)\n",
    "        for num in range(len_s, 0, -1):\n",
    "            for i in range(len_s-num+1):\n",
    "                if s[i:(i+num)] == s[i:(i+num)][::-1]:\n",
    "                    return s[i:(i+num)]\n",
    "        return ''"
   ]
  },
  {
   "cell_type": "code",
   "execution_count": 81,
   "metadata": {},
   "outputs": [
    {
     "name": "stdout",
     "output_type": "stream",
     "text": [
      "babad  False\n",
      "baba  False\n",
      "abad  False\n",
      "bab  False\n"
     ]
    },
    {
     "data": {
      "text/plain": [
       "'bab'"
      ]
     },
     "execution_count": 81,
     "metadata": {},
     "output_type": "execute_result"
    }
   ],
   "source": [
    "target = \"babad\"\n",
    "Solution.longestPalindrome(target)"
   ]
  },
  {
   "cell_type": "markdown",
   "metadata": {},
   "source": [
    "# problem8\n",
    "https://leetcode-cn.com/problems/string-to-integer-atoi/\n",
    "\n",
    "    请你来实现一个 atoi 函数，使其能将字符串转换成整数。\n",
    "    首先，该函数会根据需要丢弃无用的开头空格字符，直到寻找到第一个非空格的字符为止。\n",
    "    当我们寻找到的第一个非空字符为正或者负号时，则将该符号与之后面尽可能多的连续数字组合起来，作为该整数的正负号；假如第一个非空字符是数字，则直接将其与之后连续的数字字符组合起来，形成整数。\n",
    "    该字符串除了有效的整数部分之后也可能会存在多余的字符，这些字符可以被忽略，它们对于函数不应该造成影响。\n",
    "    注意：假如该字符串中的第一个非空格字符不是一个有效整数字符、字符串为空或字符串仅包含空白字符时，则你的函数不需要进行转换。\n",
    "    在任何情况下，若函数不能进行有效的转换时，请返回 0。\n",
    "    说明：\n",
    "    假设我们的环境只能存储 32 位大小的有符号整数，那么其数值范围为 [−2^31,  2^31 − 1]。如果数值超过这个范围，qing返回  INT_MAX (231 − 1) 或 INT_MIN (−231) 。\n",
    "    \n",
    "    示例 1:\n",
    "\n",
    "    输入: \"42\"\n",
    "    输出: 42\n",
    "\n",
    "    示例 2:\n",
    "\n",
    "    输入: \"   -42\"\n",
    "    输出: -42\n",
    "    解释: 第一个非空白字符为 '-', 它是一个负号。\n",
    "         我们尽可能将负号与后面所有连续出现的数字组合起来，最后得到 -42 。\n",
    "\n",
    "    示例 3:\n",
    "\n",
    "    输入: \"4193 with words\"\n",
    "    输出: 4193\n",
    "    解释: 转换截止于数字 '3' ，因为它的下一个字符不为数字。\n",
    "\n",
    "    示例 4:\n",
    "\n",
    "    输入: \"words and 987\"\n",
    "    输出: 0\n",
    "    解释: 第一个非空字符是 'w', 但它不是数字或正、负号。\n",
    "         因此无法执行有效的转换。\n",
    "\n",
    "    示例 5:\n",
    "\n",
    "    输入: \"-91283472332\"\n",
    "    输出: -2147483648\n",
    "    解释: 数字 \"-91283472332\" 超过 32 位有符号整数范围。 \n",
    "         因此返回 INT_MIN (−231) 。"
   ]
  },
  {
   "cell_type": "code",
   "execution_count": null,
   "metadata": {},
   "outputs": [],
   "source": [
    "# 执行用时 :16 ms, 在所有 Python 提交中击败了96.14% 的用户\n",
    "# 内存消耗 :11.7 MB, 在所有 Python 提交中击败了68.29%的用户\n",
    "class Solution(object):\n",
    "    def myAtoi(self, s):\n",
    "        \"\"\"\n",
    "        :type s: str\n",
    "        :rtype: int\n",
    "        \"\"\"\n",
    "        num_chars='0123456789'\n",
    "        sign = 1\n",
    "        s = s.strip()\n",
    "        if len(s)>0:\n",
    "            if s[0]=='-':\n",
    "                sign=-1\n",
    "                s = s[1:]\n",
    "            elif s[0]=='+':\n",
    "                s = s[1:]\n",
    "        len_s = len(s)\n",
    "        # 确定有效的数字串，这一步可以用正则\n",
    "        for i in range(len_s):\n",
    "            if s[i] not in num_chars:\n",
    "                s = s[:i]\n",
    "                break\n",
    "        while len(s)>0:\n",
    "            if s[0]=='0':\n",
    "                s = s[1:]\n",
    "            else:\n",
    "                break\n",
    "        if len(s) == 0:\n",
    "            return 0\n",
    "        elif len(s)>10 or int(s)>2**31:\n",
    "            if sign == 1:\n",
    "                return 2**31-1\n",
    "            else:\n",
    "                return sign*2**31\n",
    "        elif int(s)==2**31 and sign==1:\n",
    "            return 2**31-1\n",
    "        else:\n",
    "            return sign*int(s)"
   ]
  },
  {
   "cell_type": "code",
   "execution_count": null,
   "metadata": {},
   "outputs": [],
   "source": [
    "#!/usr/bin/python\n",
    "# encoding: utf-8\n",
    "\n",
    "\"\"\"\n",
    "@author: Ian\n",
    "@contact:yongguiluo@hotmail.com\n",
    "@file: problem8.py\n",
    "@time: 2019/3/27 10:10\n",
    "\"\"\"\n",
    "import re\n",
    "\n",
    "\n",
    "class Solution(object):\n",
    "    \"\"\"\n",
    "    https://leetcode-cn.com/problems/string-to-integer-atoi/\n",
    "    请你来实现一个 atoi 函数，使其能将字符串转换成整数。\n",
    "    首先，该函数会根据需要丢弃无用的开头空格字符，直到寻找到第一个非空格的字符为止。\n",
    "    当我们寻找到的第一个非空字符为正或者负号时，则将该符号与之后面尽可能多的连续数字组合起来，作为该整数的正负号；假如第一个非空字符是数字，则直接将其与之后连续的数字字符组合起来，形成整数。\n",
    "    该字符串除了有效的整数部分之后也可能会存在多余的字符，这些字符可以被忽略，它们对于函数不应该造成影响。\n",
    "    注意：假如该字符串中的第一个非空格字符不是一个有效整数字符、字符串为空或字符串仅包含空白字符时，则你的函数不需要进行转换。\n",
    "    在任何情况下，若函数不能进行有效的转换时，请返回 0。\n",
    "    说明：\n",
    "    假设我们的环境只能存储 32 位大小的有符号整数，那么其数值范围为 [−2^31,  2^31 − 1]。如果数值超过这个范围，qing返回  INT_MAX (231 − 1) 或 INT_MIN (−231) 。\n",
    "    \"\"\"\n",
    "    def myAtoi(self, str1):\n",
    "        \"\"\"\n",
    "        执行用时 : 60 ms, 在String to Integer (atoi)的Python提交中击败了11.49% 的用户\n",
    "        内存消耗 : 11.9 MB, 在String to Integer (atoi)的Python提交中击败了0.83% 的用户\n",
    "        :type str: str1\n",
    "        :rtype: int\n",
    "        \"\"\"\n",
    "        s = re.match(r'[+|-]{0,1}\\d+', str1.lstrip())\n",
    "        if s:\n",
    "            r = int(s.group())\n",
    "            if r > (2 ** 31 - 1):\n",
    "                r = 2 ** 31 - 1\n",
    "            elif r < -2 ** 31:\n",
    "                r = -2 ** 31\n",
    "        else:\n",
    "            r = 0\n",
    "\n",
    "        return r"
   ]
  },
  {
   "cell_type": "markdown",
   "metadata": {},
   "source": [
    "# problem1015\n",
    "https://leetcode-cn.com/problems/numbers-with-repeated-digits/\n",
    "\n",
    "    给定正整数 N，返回小于等于 N 且具有至少 1 位重复数字的正整数的个数。\n",
    "    示例 1：\n",
    "\n",
    "    输入：20\n",
    "    输出：1\n",
    "    解释：具有至少 1 位重复数字的正数（<= 20）只有 11 。\n",
    "    示例 2：\n",
    "\n",
    "    输入：100\n",
    "    输出：10\n",
    "    解释：具有至少 1 位重复数字的正数（<= 100）有 11，22，33，44，55，66，77，88，99 和 100 。\n",
    "    示例 3：\n",
    "\n",
    "    输入：1000\n",
    "    输出：262"
   ]
  },
  {
   "cell_type": "code",
   "execution_count": 101,
   "metadata": {},
   "outputs": [],
   "source": [
    "class Solution(object):\n",
    "    def numDupDigitsAtMostN(self, N):\n",
    "        \"\"\"\n",
    "        逆向思维 统计出非重复值个数\n",
    "        https://leetcode.com/problems/numbers-with-repeated-digits/discuss/256725/JavaPython-Count-the-Number-Without-Repeated-Digit\n",
    "        For example,\n",
    "        if N = 8765, L = [8,7,6,6],\n",
    "        the number without repeated digit can the the following format:\n",
    "        XXX\n",
    "        XX\n",
    "        X\n",
    "        1XXX ~ 7XXX\n",
    "        80XX ~ 86XX\n",
    "        870X ~ 875X\n",
    "        8760 ~ 8765\n",
    "\n",
    "        Time Complexity:\n",
    "\n",
    "        the number of permutations A(m,n) is O(1)\n",
    "        We count digit by digit, so it's O(logN)\n",
    "        :type N: int\n",
    "        :rtype: int\n",
    "        \"\"\"\n",
    "        N_str = str(N+1)  # +1是因为range是右开区间。\n",
    "        len_N = len(N_str)\n",
    "        def A(m, n):\n",
    "            # A_m^n 排列数\n",
    "            return 1 if n == 0 else A(m, n-1) * (m-n+1)\n",
    "        res = 0\n",
    "        # 统计位数小于len_N的不重复数值\n",
    "        for i in range(1, len_N):\n",
    "            res += 9*A(9, i-1)\n",
    "        # 如2234 那么22xx就要过滤掉\n",
    "        s1 = set()\n",
    "        for i, s in enumerate(N_str):\n",
    "            print(res)\n",
    "            s_i = int(s)\n",
    "            if i==0:\n",
    "                res += (s_i-1)*A(9, len_N-i-1)\n",
    "            else:\n",
    "                for ii in range(s_i):\n",
    "                    if ii in s1: continue\n",
    "                    res += A(9-i, len_N-i-1)\n",
    "                if s_i in s1: break # 如323XX，没必要统计了\n",
    "            s1.add(s_i)\n",
    "        print(res)\n",
    "        return N-res\n",
    "    def numDupDigitsAtMostN_dup(self, N):\n",
    "        \"\"\"\n",
    "        # 利用dp统计重复值的个数，太难了。。。以下解答 错误\n",
    "        动态规划问题。。。\n",
    "\n",
    "        一位正整数 f1 = 0\n",
    "        2位正整数 f2 = N[0] if N[0]<=N[1] else N[0]-1\n",
    "        3位正整数 f3 = N[0]*f2(N[1:])+f2(99)+1 + min(N[0])\n",
    "        4位正整数 f4 = N[0]*f3(N[1:])+f3(999)+1\n",
    "        :type N: int\n",
    "        :rtype: int\n",
    "        \"\"\"\n",
    "        N_str = str(N)\n",
    "        if len(N_str)==1: return 0\n",
    "        if len(N_str)==2: \n",
    "            return int(N_str[0]) if int(N_str[0])<=int(N_str[1]) else int(N_str[0])-1\n",
    "        N_i_0 = int(N_str[0])\n",
    "        count = 0\n",
    "        from scipy.special import comb, perm\n",
    "\n",
    "        for n in N_str[1:]:\n",
    "            t = min(N_i_0, int(n))\n",
    "            \n",
    "        return int(count)+int(N_str[0])*self.numDupDigitsAtMostN(int(N_str[1:]))+self.numDupDigitsAtMostN(int('9'*(len(N_str)-1)))+N_i_0"
   ]
  },
  {
   "cell_type": "code",
   "execution_count": 102,
   "metadata": {},
   "outputs": [
    {
     "name": "stdout",
     "output_type": "stream",
     "text": [
      "90\n",
      "90\n",
      "90\n",
      "90\n"
     ]
    },
    {
     "data": {
      "text/plain": [
       "10"
      ]
     },
     "execution_count": 102,
     "metadata": {},
     "output_type": "execute_result"
    }
   ],
   "source": [
    "Solution().numDupDigitsAtMostN(100)"
   ]
  },
  {
   "cell_type": "code",
   "execution_count": 103,
   "metadata": {},
   "outputs": [
    {
     "name": "stdout",
     "output_type": "stream",
     "text": [
      "90\n",
      "90\n",
      "90\n",
      "90\n"
     ]
    },
    {
     "data": {
      "text/plain": [
       "11"
      ]
     },
     "execution_count": 103,
     "metadata": {},
     "output_type": "execute_result"
    }
   ],
   "source": [
    "Solution().numDupDigitsAtMostN(101)"
   ]
  },
  {
   "cell_type": "code",
   "execution_count": 104,
   "metadata": {},
   "outputs": [
    {
     "name": "stdout",
     "output_type": "stream",
     "text": [
      "90\n",
      "90\n",
      "98\n",
      "99\n"
     ]
    },
    {
     "data": {
      "text/plain": [
       "21"
      ]
     },
     "execution_count": 104,
     "metadata": {},
     "output_type": "execute_result"
    }
   ],
   "source": [
    "Solution().numDupDigitsAtMostN(120)"
   ]
  },
  {
   "cell_type": "code",
   "execution_count": 106,
   "metadata": {},
   "outputs": [
    {
     "name": "stdout",
     "output_type": "stream",
     "text": [
      "90\n",
      "90\n",
      "98\n"
     ]
    },
    {
     "data": {
      "text/plain": [
       "12"
      ]
     },
     "execution_count": 106,
     "metadata": {},
     "output_type": "execute_result"
    }
   ],
   "source": [
    "Solution().numDupDigitsAtMostN(110)"
   ]
  },
  {
   "cell_type": "code",
   "execution_count": 91,
   "metadata": {},
   "outputs": [
    {
     "data": {
      "text/plain": [
       "37"
      ]
     },
     "execution_count": 91,
     "metadata": {},
     "output_type": "execute_result"
    }
   ],
   "source": [
    "Solution().numDupDigitsAtMostN(199)"
   ]
  },
  {
   "cell_type": "code",
   "execution_count": 83,
   "metadata": {},
   "outputs": [
    {
     "data": {
      "text/plain": [
       "261"
      ]
     },
     "execution_count": 83,
     "metadata": {},
     "output_type": "execute_result"
    }
   ],
   "source": [
    "Solution().numDupDigitsAtMostN(999)"
   ]
  },
  {
   "cell_type": "code",
   "execution_count": 84,
   "metadata": {},
   "outputs": [
    {
     "data": {
      "text/plain": [
       "1491"
      ]
     },
     "execution_count": 84,
     "metadata": {},
     "output_type": "execute_result"
    }
   ],
   "source": [
    "Solution().numDupDigitsAtMostN(3421)"
   ]
  },
  {
   "cell_type": "code",
   "execution_count": 85,
   "metadata": {},
   "outputs": [
    {
     "data": {
      "text/plain": [
       "262"
      ]
     },
     "execution_count": 85,
     "metadata": {},
     "output_type": "execute_result"
    }
   ],
   "source": [
    "Solution().numDupDigitsAtMostN(1000)"
   ]
  },
  {
   "cell_type": "code",
   "execution_count": 28,
   "metadata": {},
   "outputs": [
    {
     "data": {
      "text/plain": [
       "4564.0"
      ]
     },
     "execution_count": 28,
     "metadata": {},
     "output_type": "execute_result"
    }
   ],
   "source": [
    "Solution().numDupDigitsAtMostN(10000)"
   ]
  },
  {
   "cell_type": "markdown",
   "metadata": {},
   "source": [
    "# 动态规划DP"
   ]
  },
  {
   "cell_type": "markdown",
   "metadata": {},
   "source": [
    "https://www.cnblogs.com/liuyicai/p/10182262.html\n",
    "    \n",
    "动态规划的三要素:\n",
    "* 最优子结构,  \n",
    "最优子结构是指每个阶段的最优状态可以从之前某个阶段的某个或某些状态直接得到(子问题的最优解能够决定这个问题的最优解)\n",
    "* 边界  \n",
    "边界指的是问题最小子集的解(初始范围)\n",
    "* 和状态转移函数(递推式)  \n",
    "状态转移函数是指从一个阶段向另一个阶段过度的具体形式,描述的是两个相邻子问题之间的关系\n",
    "\n",
    "　　重叠子问题,对每个子问题只计算一次,然后将其计算的结果保存到一个表格中,每一次需要上一个子问题解时,进行调用,只要o(1)时间复杂度,准确的说,动态规划是利用空间去换取时间的算法.\n",
    "\n",
    "　　判断是否可以利用动态规划求解,第一个是判断是否存在重叠子问题,"
   ]
  },
  {
   "cell_type": "markdown",
   "metadata": {},
   "source": [
    "## 正则表达式匹配\n",
    "https://leetcode-cn.com/problems/regular-expression-matching/\n",
    "\n",
    "    10. 正则表达式匹配\n",
    "    给定一个字符串 (s) 和一个字符模式 (p)。实现支持 '.' 和 '*' 的正则表达式匹配。\n",
    "\n",
    "    '.' 匹配任意单个字符。\n",
    "    '*' 匹配零个或多个前面的元素。\n",
    "    匹配应该覆盖整个字符串 (s) ，而不是部分字符串。\n",
    "\n",
    "    说明:\n",
    "\n",
    "    s 可能为空，且只包含从 a-z 的小写字母。\n",
    "    p 可能为空，且只包含从 a-z 的小写字母，以及字符 . 和 *。\n",
    "    示例 1:\n",
    "\n",
    "    输入:\n",
    "    s = \"aa\"\n",
    "    p = \"a\"\n",
    "    输出: false\n",
    "    解释: \"a\" 无法匹配 \"aa\" 整个字符串。\n",
    "\n",
    "    示例 2:\n",
    "\n",
    "    输入:\n",
    "    s = \"aa\"\n",
    "    p = \"a*\"\n",
    "    输出: true\n",
    "    解释: 因为 '*' 代表可以匹配零个或多个前面的那一个元素, 在这里前面的元素就是 'a'。因此，字符串 \"aa\" 可被视为 'a' 重复了一次。\n",
    "\n",
    "    示例 3:\n",
    "\n",
    "    输入:\n",
    "    s = \"ab\"\n",
    "    p = \".*\"\n",
    "    输出: true\n",
    "    解释: \".*\" 表示可匹配零个或多个（'*'）任意字符（'.'）。\n",
    "\n",
    "    示例 4:\n",
    "\n",
    "    输入:\n",
    "    s = \"aab\"\n",
    "    p = \"c*a*b\"\n",
    "    输出: true\n",
    "    解释: 因为 '*' 表示零个或多个，这里 'c' 为 0 个, 'a' 被重复一次。因此可以匹配字符串 \"aab\"。\n",
    "\n",
    "    示例 5:\n",
    "\n",
    "    输入:\n",
    "    s = \"mississippi\"\n",
    "    p = \"mis*is*p*.\"\n",
    "    输出: false\n",
    "\n",
    "    自己没有做出来，\n",
    "    看评论可以使用递归，或者更优的动态规划！"
   ]
  },
  {
   "cell_type": "code",
   "execution_count": 262,
   "metadata": {},
   "outputs": [],
   "source": [
    "class Solution(object):\n",
    "    @classmethod\n",
    "    def isMatch(self, s, p):\n",
    "        \"\"\"\n",
    "        # 错误 'aaa', 'ab*a*c*a'\n",
    "        :type s: str\n",
    "        :type p: str\n",
    "        :rtype: bool\n",
    "        \"\"\"\n",
    "        list_p = list(p)\n",
    "        for i in range(len(p)):\n",
    "            if p[i]=='*' and i+1<len(p):\n",
    "                if p[i+1]==p[i-1]:\n",
    "                    list_p[i]=list_p[i+1]\n",
    "                    list_p[i+1]='*'\n",
    "        p=''.join(list(list_p))\n",
    "        len_p = len(p)\n",
    "        for i in range(len_p):\n",
    "            print(p[i], s)\n",
    "            if p[i]!='*': \n",
    "                curr_char=p[i]\n",
    "            else: continue\n",
    "            if len(s)==0:\n",
    "                if i+1<len_p and p[i+1]=='*':\n",
    "                    continue\n",
    "                return False\n",
    "            for j in range(len(s)):\n",
    "                print(s)\n",
    "                if curr_char=='.' or s[j]==curr_char:\n",
    "                    if i+1<len_p and p[i+1]=='*':\n",
    "                        continue\n",
    "                    else:\n",
    "                        break\n",
    "                elif i+1<len_p and p[i+1]=='*':\n",
    "                    j -= 1\n",
    "                    break\n",
    "                else:\n",
    "                    return False\n",
    "            s=s[j+1:]\n",
    "        if len(s)!=0:\n",
    "            return False\n",
    "        return True\n",
    "    @classmethod\n",
    "    def isMatch_dp(self, s, p):\n",
    "        \"\"\"\n",
    "        执行用时 :300 ms, 在所有 Python 提交中击败了37.61% 的用户\n",
    "        内存消耗 :11.7 MB, 在所有 Python 提交中击败了73.52%的用户\n",
    "        :type s: str\n",
    "        :type p: str\n",
    "        :rtype: bool\n",
    "        \"\"\"\n",
    "        print(s, p)\n",
    "        len_p_min = len(p) - sum([1 if i=='*' else 0 for i in p])*2\n",
    "        if (len(s)==0 and len_p_min !=0) or (len(s)!=0 and len(p) ==0): return False\n",
    "        if len(s)==0 and len_p_min==0: return True\n",
    "        if s == p: return True\n",
    "        \n",
    "        print('-----------------以下段是为了提高效率，删除不影响功能--------------------------------')\n",
    "        import re\n",
    "        \n",
    "        a = re.split(r'[\\w\\.]\\*|\\.', p)\n",
    "        at = []\n",
    "        for i in range(len(a)):\n",
    "            if i == 0 or i == len(a)-1:\n",
    "                at.append(a[i])\n",
    "            elif a[i] not in at:\n",
    "                at.append(a[i])\n",
    "        a = at\n",
    "        print(a)\n",
    "        for i in range(len(a)):\n",
    "            if i==0 and a[i]!='':\n",
    "                if a[i]!=s[:len(a[i])]:\n",
    "                    return False\n",
    "            if i==len(a)-1 and a[i]!='':\n",
    "                print(a[i], s[-len(a[i]):])\n",
    "                if a[i]!=s[-len(a[i]):]:\n",
    "                    return False\n",
    "            if i!=0 and i!=len(a)-1 and a[i]!='' and a[i] not in s:\n",
    "                return False\n",
    "        \n",
    "        print('-------------------------------------------------')\n",
    "        if p[-1]==s[-1] or p[-1]=='.':\n",
    "            return self.isMatch_dp(s[:-1], p[:-1])\n",
    "        elif p[-1]=='*':\n",
    "            if s[-1]==p[-2] or p[-2]=='.':\n",
    "                r1 = self.isMatch_dp(s, p[:-2]) # in this case, a* counts as empty\n",
    "                if not r1:\n",
    "                    r1 = self.isMatch_dp(s[:-1], p[:-2]) # in this case, a* counts as single a\n",
    "                if not r1:   \n",
    "                    r1 = self.isMatch_dp(s[:-1], p) # in this case, a* counts as multiple a\n",
    "                return r1\n",
    "            return self.isMatch_dp(s, p[:-2]) # in this case, a* counts as empty\n",
    "        return False"
   ]
  },
  {
   "cell_type": "code",
   "execution_count": 226,
   "metadata": {},
   "outputs": [],
   "source": [
    "p = \"a*mis*is*p*aa.*bb\""
   ]
  },
  {
   "cell_type": "code",
   "execution_count": 228,
   "metadata": {},
   "outputs": [
    {
     "data": {
      "text/plain": [
       "'bb'"
      ]
     },
     "execution_count": 228,
     "metadata": {},
     "output_type": "execute_result"
    }
   ],
   "source": [
    "p[-2:]\n",
    "        "
   ]
  },
  {
   "cell_type": "code",
   "execution_count": 219,
   "metadata": {},
   "outputs": [
    {
     "data": {
      "text/plain": [
       "['mis*is*p*']"
      ]
     },
     "execution_count": 219,
     "metadata": {},
     "output_type": "execute_result"
    }
   ],
   "source": [
    "p.split(r'[\\.\\*]')"
   ]
  },
  {
   "cell_type": "code",
   "execution_count": 214,
   "metadata": {},
   "outputs": [
    {
     "data": {
      "text/plain": [
       "'mis'"
      ]
     },
     "execution_count": 214,
     "metadata": {},
     "output_type": "execute_result"
    }
   ],
   "source": [
    "\"mis*is*p*\"[:\"mis*is*p*.\".find('*')]"
   ]
  },
  {
   "cell_type": "code",
   "execution_count": null,
   "metadata": {},
   "outputs": [],
   "source": [
    "\"mississippi\"\n",
    "\"mis*is*p*.\"\n",
    "\n",
    "\"aab\"\n",
    "\"c*a*b\"\n",
    "\n",
    "\"ccababcccbbaaabbaa\"\n",
    "\"ab*.a*.*.*a*a*.*a*\"\n",
    "\n",
    "\"cbbcbaaaaaacabccbc\"\n",
    "\"a.*b*.*.*a*a*.*ba*c\"\n",
    "\n",
    "\n",
    "\"aabcbcbcaccbcaabc\"\n",
    "\".*a*aa*.*b*.c*.*a*\"\n",
    "\n",
    "\n",
    "\"aaa\"\n",
    "\"ab*ac*a\"\n"
   ]
  },
  {
   "cell_type": "code",
   "execution_count": 261,
   "metadata": {
    "scrolled": false
   },
   "outputs": [
    {
     "name": "stdout",
     "output_type": "stream",
     "text": [
      "aaa ab*ac*a\n",
      "['a', 'a', 'a']\n",
      "a a\n",
      "aa ab*ac*\n",
      "['a', 'a', '']\n",
      "aa ab*a\n",
      "['a', 'a']\n",
      "a a\n",
      "a ab*\n",
      "['a', '']\n",
      "a a\n"
     ]
    },
    {
     "data": {
      "text/plain": [
       "True"
      ]
     },
     "execution_count": 261,
     "metadata": {},
     "output_type": "execute_result"
    }
   ],
   "source": [
    "Solution.isMatch_dp('aaa', 'ab*ac*a')"
   ]
  },
  {
   "cell_type": "code",
   "execution_count": 255,
   "metadata": {
    "scrolled": false
   },
   "outputs": [
    {
     "name": "stdout",
     "output_type": "stream",
     "text": [
      "aabcbcbcaccbcaabc .*a*aa*.*b*.c*.*a*\n",
      "aabcbcbcaccbcaabc .*a*aa*.*b*.c*.*\n",
      "aabcbcbcaccbcaabc .*a*aa*.*b*.c*\n",
      "aabcbcbcaccbcaabc .*a*aa*.*b*.\n",
      "aabcbcbcaccbcaab .*a*aa*.*b*\n",
      "aabcbcbcaccbcaab .*a*aa*.*\n",
      "aabcbcbcaccbcaab .*a*aa*\n",
      "aabcbcbcaccbcaab .*a*a\n",
      "a b\n",
      "aabcbcbcaccbcaa .*a*aa*\n",
      "aabcbcbcaccbcaa .*a*a\n",
      "a a\n",
      "aabcbcbcaccbca .*a*\n",
      "aabcbcbcaccbca .*\n",
      "aabcbcbcaccbca \n",
      "aabcbcbcaccbc \n",
      "aabcbcbcaccbc .*\n",
      "aabcbcbcaccbc \n",
      "aabcbcbcaccb \n",
      "aabcbcbcaccb .*\n",
      "aabcbcbcaccb \n",
      "aabcbcbcacc \n",
      "aabcbcbcacc .*\n",
      "aabcbcbcacc \n",
      "aabcbcbcac \n",
      "aabcbcbcac .*\n",
      "aabcbcbcac \n",
      "aabcbcbca \n",
      "aabcbcbca .*\n",
      "aabcbcbca \n",
      "aabcbcbc \n",
      "aabcbcbc .*\n",
      "aabcbcbc \n",
      "aabcbcb \n",
      "aabcbcb .*\n",
      "aabcbcb \n",
      "aabcbc \n",
      "aabcbc .*\n",
      "aabcbc \n",
      "aabcb \n",
      "aabcb .*\n",
      "aabcb \n",
      "aabc \n",
      "aabc .*\n",
      "aabc \n",
      "aab \n",
      "aab .*\n",
      "aab \n",
      "aa \n",
      "aa .*\n",
      "aa \n",
      "a \n",
      "a .*\n",
      "a \n",
      " \n"
     ]
    },
    {
     "data": {
      "text/plain": [
       "True"
      ]
     },
     "execution_count": 255,
     "metadata": {},
     "output_type": "execute_result"
    }
   ],
   "source": [
    "Solution.isMatch_dp('aabcbcbcaccbcaabc', '.*a*aa*.*b*.c*.*a*')"
   ]
  },
  {
   "cell_type": "code",
   "execution_count": 232,
   "metadata": {
    "scrolled": false
   },
   "outputs": [
    {
     "name": "stdout",
     "output_type": "stream",
     "text": [
      "cbbcbaaaaaacabccbc a.*b*.*.*a*a*.*ba*c\n"
     ]
    },
    {
     "data": {
      "text/plain": [
       "False"
      ]
     },
     "execution_count": 232,
     "metadata": {},
     "output_type": "execute_result"
    }
   ],
   "source": [
    "# 超时 原因 当p中有 .*  就会非常的费时\n",
    "Solution.isMatch_dp('cbbcbaaaaaacabccbc', 'a.*b*.*.*a*a*.*ba*c')"
   ]
  },
  {
   "cell_type": "code",
   "execution_count": 251,
   "metadata": {
    "scrolled": false
   },
   "outputs": [
    {
     "name": "stdout",
     "output_type": "stream",
     "text": [
      "aaa a.a\n",
      "['a', 'a']\n",
      "a a\n",
      "aa a.\n",
      "['a', '']\n",
      "a a\n"
     ]
    },
    {
     "data": {
      "text/plain": [
       "True"
      ]
     },
     "execution_count": 251,
     "metadata": {},
     "output_type": "execute_result"
    }
   ],
   "source": [
    "Solution.isMatch_dp('aaa', 'a.a')"
   ]
  },
  {
   "cell_type": "code",
   "execution_count": 233,
   "metadata": {
    "scrolled": false
   },
   "outputs": [
    {
     "name": "stdout",
     "output_type": "stream",
     "text": [
      "ccababcccbbaaabbaa ab*.a*.*.*a*a*.*a*\n"
     ]
    },
    {
     "data": {
      "text/plain": [
       "False"
      ]
     },
     "execution_count": 233,
     "metadata": {},
     "output_type": "execute_result"
    }
   ],
   "source": [
    "Solution.isMatch_dp('ccababcccbbaaabbaa', 'ab*.a*.*.*a*a*.*a*')"
   ]
  },
  {
   "cell_type": "code",
   "execution_count": 242,
   "metadata": {},
   "outputs": [
    {
     "name": "stdout",
     "output_type": "stream",
     "text": [
      "aab c*a*b\n",
      "['', '', 'b']\n",
      "b b\n",
      "aa c*a*\n",
      "['', '', '']\n",
      "aa c*\n",
      "['', '']\n",
      "aa \n",
      "a c*\n",
      "['', '']\n",
      "a \n",
      "a c*a*\n",
      "['', '', '']\n",
      "a c*\n",
      "['', '']\n",
      "a \n",
      " c*\n"
     ]
    },
    {
     "data": {
      "text/plain": [
       "True"
      ]
     },
     "execution_count": 242,
     "metadata": {},
     "output_type": "execute_result"
    }
   ],
   "source": [
    "Solution.isMatch_dp('aab', 'c*a*b')"
   ]
  },
  {
   "cell_type": "code",
   "execution_count": 243,
   "metadata": {},
   "outputs": [
    {
     "name": "stdout",
     "output_type": "stream",
     "text": [
      "aa a*\n",
      "['', '']\n",
      "aa \n",
      "a \n",
      "a a*\n",
      "['', '']\n",
      "a \n",
      " \n"
     ]
    },
    {
     "data": {
      "text/plain": [
       "True"
      ]
     },
     "execution_count": 243,
     "metadata": {},
     "output_type": "execute_result"
    }
   ],
   "source": [
    "Solution.isMatch_dp('aa', 'a*')"
   ]
  },
  {
   "cell_type": "code",
   "execution_count": 244,
   "metadata": {},
   "outputs": [
    {
     "name": "stdout",
     "output_type": "stream",
     "text": [
      "mississippi mis*is*p*.\n",
      "['mi', 'i', '', '.']\n",
      ". i\n"
     ]
    },
    {
     "data": {
      "text/plain": [
       "False"
      ]
     },
     "execution_count": 244,
     "metadata": {},
     "output_type": "execute_result"
    }
   ],
   "source": [
    "# 太难了。。。\n",
    "Solution.isMatch_dp('mississippi', 'mis*is*p*.')"
   ]
  },
  {
   "cell_type": "code",
   "execution_count": 246,
   "metadata": {},
   "outputs": [
    {
     "name": "stdout",
     "output_type": "stream",
     "text": [
      "mississippi mis*is*ip*.\n",
      "['mi', 'i', 'i', '.']\n",
      "mississipp mis*is*ip*\n",
      "['mi', 'i', 'i', '']\n",
      "mississipp mis*is*i\n",
      "['mi', 'i', 'i']\n",
      "i p\n",
      "mississip mis*is*i\n",
      "['mi', 'i', 'i']\n",
      "i p\n",
      "mississip mis*is*ip*\n",
      "['mi', 'i', 'i', '']\n",
      "mississip mis*is*i\n",
      "['mi', 'i', 'i']\n",
      "i p\n",
      "mississi mis*is*i\n",
      "['mi', 'i', 'i']\n",
      "i i\n",
      "mississ mis*is*\n",
      "['mi', 'i', '']\n",
      "mississ mis*i\n",
      "['mi', 'i']\n",
      "i s\n",
      "missis mis*i\n",
      "['mi', 'i']\n",
      "i s\n",
      "missis mis*is*\n",
      "['mi', 'i', '']\n",
      "missis mis*i\n",
      "['mi', 'i']\n",
      "i s\n",
      "missi mis*i\n",
      "['mi', 'i']\n",
      "i i\n",
      "miss mis*\n",
      "['mi', '']\n",
      "miss mi\n",
      "['mi']\n",
      "mi ss\n",
      "mis mi\n",
      "['mi']\n",
      "mi is\n",
      "mis mis*\n",
      "['mi', '']\n",
      "mis mi\n",
      "['mi']\n",
      "mi is\n",
      "mi mi\n"
     ]
    },
    {
     "data": {
      "text/plain": [
       "True"
      ]
     },
     "execution_count": 246,
     "metadata": {},
     "output_type": "execute_result"
    }
   ],
   "source": [
    "# \"mississippi\"\n",
    "# \"mis*is*ip*.\"\n",
    "\n",
    "Solution.isMatch_dp('mississippi', 'mis*is*ip*.')"
   ]
  },
  {
   "cell_type": "code",
   "execution_count": 205,
   "metadata": {},
   "outputs": [
    {
     "name": "stdout",
     "output_type": "stream",
     "text": [
      "aaa ab*a*c*a\n",
      "aa ab*a*c*\n",
      "aa ab*a*\n",
      "a ab*a*\n",
      " ab*a*\n",
      " ab*\n",
      "a ab*\n",
      "a a\n"
     ]
    },
    {
     "data": {
      "text/plain": [
       "True"
      ]
     },
     "execution_count": 205,
     "metadata": {},
     "output_type": "execute_result"
    }
   ],
   "source": [
    "# 太难了。。。\n",
    "Solution.isMatch_dp('aaa', 'ab*a*c*a')"
   ]
  },
  {
   "cell_type": "code",
   "execution_count": 183,
   "metadata": {},
   "outputs": [
    {
     "name": "stdout",
     "output_type": "stream",
     "text": [
      "aa a*\n",
      "a a*\n",
      " a*\n",
      " \n"
     ]
    },
    {
     "data": {
      "text/plain": [
       "True"
      ]
     },
     "execution_count": 183,
     "metadata": {},
     "output_type": "execute_result"
    }
   ],
   "source": [
    "Solution.isMatch_dp('aa', 'a*')"
   ]
  },
  {
   "cell_type": "code",
   "execution_count": 123,
   "metadata": {},
   "outputs": [
    {
     "name": "stdout",
     "output_type": "stream",
     "text": [
      "a aaa\n",
      "aaa\n",
      "b aa\n",
      "aa\n",
      "* aa\n",
      "a aa\n",
      "aa\n",
      "aa\n",
      "* \n",
      "c \n",
      "* \n",
      "a \n"
     ]
    },
    {
     "data": {
      "text/plain": [
       "False"
      ]
     },
     "execution_count": 123,
     "metadata": {},
     "output_type": "execute_result"
    }
   ],
   "source": [
    "# 太难了。。。\n",
    "Solution.isMatch('aaa', 'ab*a*c*a')"
   ]
  },
  {
   "cell_type": "code",
   "execution_count": 115,
   "metadata": {},
   "outputs": [
    {
     "name": "stdout",
     "output_type": "stream",
     "text": [
      "a aa\n",
      "aa\n",
      "aa\n",
      "* \n"
     ]
    },
    {
     "data": {
      "text/plain": [
       "True"
      ]
     },
     "execution_count": 115,
     "metadata": {},
     "output_type": "execute_result"
    }
   ],
   "source": [
    "Solution.isMatch('aa', 'a*')"
   ]
  },
  {
   "cell_type": "code",
   "execution_count": 120,
   "metadata": {},
   "outputs": [
    {
     "name": "stdout",
     "output_type": "stream",
     "text": [
      "a aaa\n",
      "aaa\n",
      "a aa\n",
      "aa\n",
      "aa\n",
      "* \n"
     ]
    },
    {
     "data": {
      "text/plain": [
       "True"
      ]
     },
     "execution_count": 120,
     "metadata": {},
     "output_type": "execute_result"
    }
   ],
   "source": [
    "Solution.isMatch('aaa', 'a*a')"
   ]
  },
  {
   "cell_type": "code",
   "execution_count": 116,
   "metadata": {},
   "outputs": [
    {
     "name": "stdout",
     "output_type": "stream",
     "text": [
      "a aa\n",
      "aa\n"
     ]
    },
    {
     "data": {
      "text/plain": [
       "False"
      ]
     },
     "execution_count": 116,
     "metadata": {},
     "output_type": "execute_result"
    }
   ],
   "source": [
    "Solution.isMatch('aa', 'a')"
   ]
  },
  {
   "cell_type": "code",
   "execution_count": 117,
   "metadata": {
    "scrolled": true
   },
   "outputs": [
    {
     "name": "stdout",
     "output_type": "stream",
     "text": [
      "c aab\n",
      "aab\n",
      "* aab\n",
      "a aab\n",
      "aab\n",
      "aab\n",
      "aab\n",
      "* b\n",
      "b b\n",
      "b\n"
     ]
    },
    {
     "data": {
      "text/plain": [
       "True"
      ]
     },
     "execution_count": 117,
     "metadata": {},
     "output_type": "execute_result"
    }
   ],
   "source": [
    "Solution.isMatch('aab', 'c*a*b')"
   ]
  },
  {
   "cell_type": "markdown",
   "metadata": {},
   "source": [
    "## 爬楼梯\n",
    "假设你正在爬楼梯。需要 n 阶你才能到达楼顶。\n",
    "\n",
    "每次你可以爬 1 或 2 个台阶。你有多少种不同的方法可以爬到楼顶呢？\n",
    "\n",
    "    注意：给定 n 是一个正整数。\n",
    "\n",
    "    示例 1：\n",
    "\n",
    "    输入： 2\n",
    "    输出： 2\n",
    "    解释： 有两种方法可以爬到楼顶。\n",
    "    1.  1 阶 + 1 阶\n",
    "    2.  2 阶\n",
    "    示例 2：\n",
    "\n",
    "    输入： 3\n",
    "    输出： 3\n",
    "    解释： 有三种方法可以爬到楼顶。\n",
    "    1.  1 阶 + 1 阶 + 1 阶\n",
    "    2.  1 阶 + 2 阶\n",
    "    3.  2 阶 + 1 阶\n",
    "https://leetcode-cn.com/explore/interview/card/top-interview-questions-easy/23/dynamic-programming/54/\n",
    "\n",
    "    分析:\n",
    "            假定n=10,首先考虑最后一步的情况,要么从第九级台阶再走一级到第十级,要么从第八级台阶走两级到第十级,因而,要想到达第十级台阶,最后一步一定是从第八级或者第九级台阶开始.也就是说已知从地面到第八级台阶一共有X种走法,从地面到第九级台阶一共有Y种走法,那么从地面到第十级台阶一共有X+Y种走法.\n",
    "\n",
    "    即F(10)=F(9)+F(8)\n",
    "         分析到这里,动态规划的三要素出来了.\n",
    "            边界:F(1)=1,F(2)=2\n",
    "            最优子结构:F(10)的最优子结构即F(9)和F(8)\n",
    "            状态转移函数:F(n)=F(n-1)+F(n-2)"
   ]
  },
  {
   "cell_type": "code",
   "execution_count": 138,
   "metadata": {},
   "outputs": [],
   "source": [
    "class Solution:\n",
    "    @classmethod\n",
    "    def climbStairs_recursion(self, n: int) -> int:\n",
    "        # 递归实现\n",
    "        if n==1: return 1\n",
    "        elif n==2: return 2\n",
    "        elif n>2:\n",
    "            return self.climbStairs_recursion(n-1)+self.climbStairs_recursion(n-2)\n",
    "    @classmethod\n",
    "    def climbStairs_loop(self, n: int) -> int:\n",
    "        #循环实现 \n",
    "        # 思路: 从n=1开始 按照循环结构一步步往后算\n",
    "        if n==1: return 1\n",
    "        elif n==2: return 2\n",
    "        elif n>2:\n",
    "            r1 = 1\n",
    "            r2 = 2\n",
    "            for i in range(3, n+1):\n",
    "                r = r1 + r2\n",
    "                r1 = r2\n",
    "                r2 = r\n",
    "            return r"
   ]
  },
  {
   "cell_type": "code",
   "execution_count": 136,
   "metadata": {},
   "outputs": [
    {
     "data": {
      "text/plain": [
       "1"
      ]
     },
     "execution_count": 136,
     "metadata": {},
     "output_type": "execute_result"
    }
   ],
   "source": [
    "Solution.climbStairs_recursion(1)"
   ]
  },
  {
   "cell_type": "code",
   "execution_count": 127,
   "metadata": {},
   "outputs": [
    {
     "data": {
      "text/plain": [
       "2"
      ]
     },
     "execution_count": 127,
     "metadata": {},
     "output_type": "execute_result"
    }
   ],
   "source": [
    "Solution.climbStairs(2)"
   ]
  },
  {
   "cell_type": "code",
   "execution_count": 128,
   "metadata": {},
   "outputs": [
    {
     "data": {
      "text/plain": [
       "3"
      ]
     },
     "execution_count": 128,
     "metadata": {},
     "output_type": "execute_result"
    }
   ],
   "source": [
    "Solution.climbStairs(3)"
   ]
  },
  {
   "cell_type": "code",
   "execution_count": 129,
   "metadata": {},
   "outputs": [
    {
     "data": {
      "text/plain": [
       "5"
      ]
     },
     "execution_count": 129,
     "metadata": {},
     "output_type": "execute_result"
    }
   ],
   "source": [
    "Solution.climbStairs(4)"
   ]
  },
  {
   "cell_type": "code",
   "execution_count": 139,
   "metadata": {},
   "outputs": [
    {
     "data": {
      "text/plain": [
       "89"
      ]
     },
     "execution_count": 139,
     "metadata": {},
     "output_type": "execute_result"
    }
   ],
   "source": [
    "Solution.climbStairs_recursion(10)"
   ]
  },
  {
   "cell_type": "code",
   "execution_count": 140,
   "metadata": {},
   "outputs": [
    {
     "data": {
      "text/plain": [
       "89"
      ]
     },
     "execution_count": 140,
     "metadata": {},
     "output_type": "execute_result"
    }
   ],
   "source": [
    "Solution.climbStairs_loop(10)"
   ]
  },
  {
   "cell_type": "markdown",
   "metadata": {},
   "source": [
    "## 矿工挖矿问题: 没看懂问题。。。\n",
    "    某一个地区发现了5座金矿,每个金矿的黄金储量不同,需要挖掘的工人也不同,设参加挖掘的总共10人,且每座金矿要么全挖,要么不挖,不能派出一半人挖取一般金矿\n",
    "金矿|    黄金储量 |   工人数\n",
    "-|-|-\n",
    "           |400|            5\n",
    "           |500|            5\n",
    "           |200|            3\n",
    "           |300  |          4\n",
    "          | 350|            3"
   ]
  },
  {
   "cell_type": "markdown",
   "metadata": {},
   "source": [
    "分析:\n",
    "\n",
    "        如果要使用动态规划解决,必须要满足三个条件;\n",
    "        首先确定最优子结构,解题目标是确定10个工人挖5座金矿时能够获得最多的黄金数量,该结果可以从10个工人挖4座金矿的子问题递归求解.\n",
    "    10个人挖掘4个金矿的过程中,存在两种选择,一种是放弃第5座金矿,把10全放入4座金矿的挖掘中,另一种是挖掘第5座金矿,那么10人中的3人取挖掘5座金矿,因此,最优解为上面两种方案的其中一个.\n",
    "        为了描述方便,假设金矿的数量为n(1-n),工人的数量为w,当前获得的黄金数量为G[n],当前所用的矿工数量为P[n],根据上述分析买药获得10个矿工挖掘第5座金矿的最优解F(5,10),需要在F(4,10),和F(4,10-P[5])+G[4]中获得最大值.即\n",
    "          F(5,10)=max(F(4,10),F(4,10-P[5])+G[5])\n",
    "\n",
    "    之后,我们考虑问题的边界,对于第一座金矿来说,当前矿工人数不满足金矿所需人数,则其获得黄金为0,满足要求则为G[1],因此该边界问题为(索引从0开始):\n",
    "       当n=1,w>=P[0]时,F(n,w)=G[0]\n",
    "       当n=1,w<P[0]时,F(n,w)=0\n",
    "\n",
    "    综上,可以得到该问题的状态转移函数:\n",
    "       F(n,w)=0(n<=1,w<p[0])\n",
    "       F(n,w)=0(n==1,w>=p[0])\n",
    "       F(n,w)=F(n-1,w)(n>1,w<p[n-1])\n",
    "        F(n,w)=max(F(n-1,w),F(n-1,w-P[n-1])+G[n-1])(n>1,w>p[n-1])"
   ]
  },
  {
   "cell_type": "markdown",
   "metadata": {},
   "source": [
    "## 最大子序和\n",
    "https://leetcode-cn.com/explore/interview/card/top-interview-questions-easy/23/dynamic-programming/56/\n",
    "\n",
    "    给定一个整数数组 nums ，找到一个具有最大和的连续子数组（子数组最少包含一个元素），返回其最大和。\n",
    "\n",
    "    示例:\n",
    "\n",
    "    输入: [-2,1,-3,4,-1,2,1,-5,4],\n",
    "    输出: 6\n",
    "    解释: 连续子数组 [4,-1,2,1] 的和最大，为 6。\n",
    "\n",
    "    进阶:\n",
    "\n",
    "    如果你已经实现复杂度为 O(n) 的解法，尝试使用更为精妙的分治法求解。\n"
   ]
  },
  {
   "cell_type": "markdown",
   "metadata": {},
   "source": [
    "分析: \n",
    "    \n",
    "    利用动态规划的思路解题: 首先寻找最优子问题,[-2,1,-3,4,-1,2,1,-5,4],第一个最优子问题为-2,那么到下一个1时,其最优为当前值或者当前值加上上一个最优值,因而可以得到其递推公式\n",
    "\n",
    "    状态转移方程\n",
    "\n",
    "    dp[i] = max(nums[i], nums[i] + dp[i - 1])"
   ]
  },
  {
   "cell_type": "code",
   "execution_count": 154,
   "metadata": {},
   "outputs": [],
   "source": [
    "class Solution:\n",
    "    @classmethod\n",
    "    def maxSubArray(self, nums) -> int:\n",
    "        if len(nums)==0: return 0\n",
    "        if len(nums)==1: return nums[0]\n",
    "        \n",
    "        r_max = nums[0]\n",
    "        r_i_max =nums[0]\n",
    "        for i in range(1, len(nums)):\n",
    "            \n",
    "            for ii in range(i+1):\n",
    "#                 print(nums[ii:(i+1)])\n",
    "                rs = sum(nums[ii:(i+1)])\n",
    "                if rs > r_i_max:\n",
    "                    r_i_max = rs\n",
    "            if r_i_max>r_max:\n",
    "                r_max = r_i_max\n",
    "            print(r_max)\n",
    "        return r_max\n",
    "        \n",
    "    @classmethod\n",
    "    def maxSubArray_recursion(self, nums) -> int:\n",
    "        if len(nums)==0: return 0\n",
    "        if len(nums)==1: return nums[0]\n",
    "        r_i_max = nums[-1]\n",
    "        for i in range(len(nums)-1):\n",
    "            rs = sum(nums[i:])\n",
    "            if rs > r_i_max:\n",
    "                r_i_max = rs\n",
    "        return max(r_i_max, self.maxSubArray_recursion(nums[:-1]))"
   ]
  },
  {
   "cell_type": "code",
   "execution_count": 155,
   "metadata": {},
   "outputs": [
    {
     "data": {
      "text/plain": [
       "6"
      ]
     },
     "execution_count": 155,
     "metadata": {},
     "output_type": "execute_result"
    }
   ],
   "source": [
    "Solution.maxSubArray_recursion([-2,1,-3,4,-1,2,1,-5,4])"
   ]
  },
  {
   "cell_type": "code",
   "execution_count": 151,
   "metadata": {},
   "outputs": [
    {
     "name": "stdout",
     "output_type": "stream",
     "text": [
      "1\n",
      "1\n",
      "4\n",
      "4\n",
      "5\n",
      "6\n",
      "6\n",
      "6\n"
     ]
    },
    {
     "data": {
      "text/plain": [
       "6"
      ]
     },
     "execution_count": 151,
     "metadata": {},
     "output_type": "execute_result"
    }
   ],
   "source": [
    "Solution.maxSubArray([-2,1,-3,4,-1,2,1,-5,4])"
   ]
  },
  {
   "cell_type": "markdown",
   "metadata": {},
   "source": [
    "## 打家劫舍\n",
    "https://leetcode-cn.com/explore/interview/card/top-interview-questions-easy/23/dynamic-programming/57/\n",
    "\n",
    "你是一个专业的小偷，计划偷窃沿街的房屋。每间房内都藏有一定的现金，影响你偷窃的唯一制约因素就是相邻的房屋装有相互连通的防盗系统，如果两间相邻的房屋在同一晚上被小偷闯入，系统会自动报警。\n",
    "\n",
    "给定一个代表每个房屋存放金额的非负整数数组，计算你在不触动警报装置的情况下，能够偷窃到的最高金额。\n",
    "\n",
    "    示例 1:\n",
    "\n",
    "    输入: [1,2,3,1]\n",
    "    输出: 4\n",
    "    解释: 偷窃 1 号房屋 (金额 = 1) ，然后偷窃 3 号房屋 (金额 = 3)。\n",
    "         偷窃到的最高金额 = 1 + 3 = 4 。\n",
    "\n",
    "    示例 2:\n",
    "\n",
    "    输入: [2,7,9,3,1]\n",
    "    输出: 12\n",
    "    解释: 偷窃 1 号房屋 (金额 = 2), 偷窃 3 号房屋 (金额 = 9)，接着偷窃 5 号房屋 (金额 = 1)。\n",
    "         偷窃到的最高金额 = 2 + 9 + 1 = 12 。\n",
    "\n"
   ]
  },
  {
   "cell_type": "markdown",
   "metadata": {},
   "source": [
    "### 状态转移函数\n",
    "* fn = nums[-1] + max(fn-2,fn-3)\n",
    "* fn-1 = nums[-2] + max(fn-3,fn-4)\n",
    "* result = max(fn, fn-1)"
   ]
  },
  {
   "cell_type": "code",
   "execution_count": 159,
   "metadata": {},
   "outputs": [],
   "source": [
    "class Solution:\n",
    "    def rob(self, nums) -> int:\n",
    "        if len(nums)==0: return 0\n",
    "        if len(nums)==1: return nums[0]\n",
    "        if len(nums)==2: return max(nums)\n",
    "        if len(nums)==3: return nums[-1]+nums[0]\n",
    "        fn_2 = self.rob(nums[:-2])\n",
    "        fn_3 = self.rob(nums[:-3])\n",
    "        fn_4 = self.rob(nums[:-4])\n",
    "        fn = nums[-1]+max(fn_2, fn_3)\n",
    "        fn_1 = nums[-2]+max(fn_4, fn_3)\n",
    "        return max(fn, fn_1)"
   ]
  },
  {
   "cell_type": "code",
   "execution_count": 162,
   "metadata": {},
   "outputs": [
    {
     "data": {
      "text/plain": [
       "16"
      ]
     },
     "execution_count": 162,
     "metadata": {},
     "output_type": "execute_result"
    }
   ],
   "source": [
    "Solution().rob([2,7,9,3,1,5,3])"
   ]
  },
  {
   "cell_type": "code",
   "execution_count": 160,
   "metadata": {},
   "outputs": [
    {
     "data": {
      "text/plain": [
       "12"
      ]
     },
     "execution_count": 160,
     "metadata": {},
     "output_type": "execute_result"
    }
   ],
   "source": [
    "Solution().rob([2,7,9,3,1])"
   ]
  },
  {
   "cell_type": "code",
   "execution_count": 161,
   "metadata": {},
   "outputs": [
    {
     "data": {
      "text/plain": [
       "4"
      ]
     },
     "execution_count": 161,
     "metadata": {},
     "output_type": "execute_result"
    }
   ],
   "source": [
    "Solution().rob([1,2,3,1])"
   ]
  },
  {
   "cell_type": "markdown",
   "metadata": {},
   "source": [
    "### 买卖股票的最佳时机\n",
    "https://leetcode-cn.com/explore/interview/card/top-interview-questions-easy/23/dynamic-programming/55/\n",
    "\n",
    "给定一个数组，它的第 i 个元素是一支给定股票第 i 天的价格。\n",
    "\n",
    "如果你最多只允许完成一笔交易（即买入和卖出一支股票），设计一个算法来计算你所能获取的最大利润。\n",
    "\n",
    "注意你不能在买入股票前卖出股票。\n",
    "\n",
    "    示例 1:\n",
    "\n",
    "    输入: [7,1,5,3,6,4]\n",
    "    输出: 5\n",
    "    解释: 在第 2 天（股票价格 = 1）的时候买入，在第 5 天（股票价格 = 6）的时候卖出，最大利润 = 6-1 = 5 。\n",
    "         注意利润不能是 7-1 = 6, 因为卖出价格需要大于买入价格。\n",
    "\n",
    "    示例 2:\n",
    "\n",
    "    输入: [7,6,4,3,1]\n",
    "    输出: 0\n",
    "    解释: 在这种情况下, 没有交易完成, 所以最大利润为 0。\n",
    "\n"
   ]
  },
  {
   "cell_type": "markdown",
   "metadata": {},
   "source": [
    "fn=max(prices[-1]-min(prices[:-1]), fn_1)"
   ]
  },
  {
   "cell_type": "code",
   "execution_count": 163,
   "metadata": {},
   "outputs": [],
   "source": [
    "class Solution:\n",
    "    def maxProfit(self, prices) -> int:\n",
    "        if len(prices)==1: return 0\n",
    "        min_i = min(prices[:-1])\n",
    "        r_i_max = prices[-1]-min_i\n",
    "        if r_i_max<0: r_i_max=0\n",
    "        return max(r_i_max, self.maxProfit(prices[:-1]))"
   ]
  },
  {
   "cell_type": "code",
   "execution_count": 165,
   "metadata": {},
   "outputs": [
    {
     "data": {
      "text/plain": [
       "5"
      ]
     },
     "execution_count": 165,
     "metadata": {},
     "output_type": "execute_result"
    }
   ],
   "source": [
    "Solution().maxProfit([7,1,5,3,6,4])"
   ]
  },
  {
   "cell_type": "code",
   "execution_count": 166,
   "metadata": {},
   "outputs": [
    {
     "data": {
      "text/plain": [
       "0"
      ]
     },
     "execution_count": 166,
     "metadata": {},
     "output_type": "execute_result"
    }
   ],
   "source": [
    "Solution().maxProfit([7,6,4,3,1])"
   ]
  },
  {
   "cell_type": "markdown",
   "metadata": {},
   "source": [
    "# 初级算法\n",
    "https://leetcode-cn.com/explore/interview/card/top-interview-questions-easy/\n",
    "\n",
    "编程能力就像任何其他技能一样，也是一个可以通过__刻意练习__大大提高的。\n",
    "\n",
    "大多数经典面试题目都有多种解决方案。 为了达到最佳的练习效果，我们强烈建议您至少将此清单里的题目练习两遍，如果可以的话，三遍会更好。\n",
    "\n",
    "在第二遍练习时，你可能会发现一些新的技巧或新的方法。 到第三遍的时候，你会发现你的代码要比第一次提交时更加简洁。 如果你达到了这样的效果，那么恭喜你，你已经掌握了正确的练习方法！\n",
    "\n",
    "记住：刻意练习并不意味着寻找答案并记住它，这种练习方法不是长久之计。 在没有参考答案情况下，越能自主解决问题，才越能提高自身能力。"
   ]
  },
  {
   "cell_type": "markdown",
   "metadata": {},
   "source": [
    "## 数组\n",
    "数组问题在面试中出现频率很高，你极有可能在面试中遇到。"
   ]
  },
  {
   "cell_type": "markdown",
   "metadata": {},
   "source": [
    "### 只出现一次的数字\n",
    "给定一个非空整数数组，除了某个元素只出现一次以外，其余每个元素均出现两次。找出那个只出现了一次的元素。\n",
    "\n",
    "说明：\n",
    "\n",
    "你的算法应该具有线性时间复杂度。 你可以不使用额外空间来实现吗？\n",
    "\n",
    "    示例 1:\n",
    "\n",
    "    输入: [2,2,1]\n",
    "    输出: 1\n",
    "\n",
    "    示例 2:\n",
    "\n",
    "    输入: [4,1,2,1,2]\n",
    "    输出: 4"
   ]
  },
  {
   "cell_type": "code",
   "execution_count": 117,
   "metadata": {},
   "outputs": [],
   "source": [
    "class Solution(object):\n",
    "    def singleNumber(self, nums):\n",
    "        \"\"\"\n",
    "        :type nums: List[int]\n",
    "        :rtype: int\n",
    "        \"\"\"\n",
    "        num_dict = {}\n",
    "        for i in nums:\n",
    "            if i in num_dict:\n",
    "                del num_dict[i]\n",
    "            else:\n",
    "                num_dict[i] = 1\n",
    "        return list(num_dict.keys())[0]"
   ]
  },
  {
   "cell_type": "code",
   "execution_count": 118,
   "metadata": {},
   "outputs": [
    {
     "data": {
      "text/plain": [
       "4"
      ]
     },
     "execution_count": 118,
     "metadata": {},
     "output_type": "execute_result"
    }
   ],
   "source": [
    "Solution().singleNumber([4,1,2,1,2])"
   ]
  },
  {
   "cell_type": "markdown",
   "metadata": {},
   "source": [
    "## 链表\n",
    "链表问题相对容易掌握。 不要忘记\"双指针解法\"，它不仅适用于数组问题，而且还适用于链表问题。\n",
    "\n",
    "另一种大大简化链接列表问题的方法是\"Dummy node\" 节点技巧，所谓Dummy Node其实就是带头节点的指针。\n",
    "\n",
    "我们推荐以下题目：反转链表，合并两个有序链表和链接环。\n",
    "\n",
    "更有额外的挑战，你可以尝试运用递归来解决这些问题：反转链表，回文链表和合并两个有序链表。"
   ]
  },
  {
   "cell_type": "code",
   "execution_count": 42,
   "metadata": {},
   "outputs": [],
   "source": [
    "# Definition for singly-linked list.\n",
    "class ListNode(object):\n",
    "    def __init__(self, x):\n",
    "        self.val = x\n",
    "        self.next = None\n",
    "    def __str__(self):\n",
    "        s = f'{self.val}'\n",
    "        t=self\n",
    "        while t.next is not None:\n",
    "            s += f' -> {t.next.val}'\n",
    "            t = t.next\n",
    "        return s\n",
    "    \n",
    "class ListNode(object):\n",
    "    def __init__(self, x):\n",
    "        self.val = x\n",
    "        self.next = None\n",
    "    def __str__(self):\n",
    "        s = f'{self.val}'\n",
    "        node = self\n",
    "        while node.next:\n",
    "            node = node.next\n",
    "            s += f' -> {node.val}'\n",
    "        return s\n",
    "    @classmethod\n",
    "    def build_node_from_list(self, ll):\n",
    "        head = node = ListNode(ll[0])\n",
    "        for i in ll[1:]:\n",
    "            node.next = ListNode(i)\n",
    "            node = node.next\n",
    "        return head"
   ]
  },
  {
   "cell_type": "markdown",
   "metadata": {},
   "source": [
    "### 反转链表\n",
    "\n",
    "反转一个单链表。\n",
    "\n",
    "    示例:\n",
    "\n",
    "    输入: 1->2->3->4->5->NULL\n",
    "    输出: 5->4->3->2->1->NULL\n",
    "\n",
    "    进阶:\n",
    "    你可以迭代或递归地反转链表。你能否用两种方法解决这道题？\n"
   ]
  },
  {
   "cell_type": "code",
   "execution_count": 134,
   "metadata": {},
   "outputs": [],
   "source": [
    "\n",
    "class Solution(object):\n",
    "    def reverseList(self, head):\n",
    "        \"\"\"\n",
    "        :type head: ListNode\n",
    "        :rtype: ListNode\n",
    "        \"\"\"\n",
    "        if head == None: return head\n",
    "        node = before = ListNode(head.val)\n",
    "        while head.next:\n",
    "            head = head.next\n",
    "            node = ListNode(head.val)\n",
    "            node.next = before\n",
    "            before = node\n",
    "        return node"
   ]
  },
  {
   "cell_type": "code",
   "execution_count": 135,
   "metadata": {},
   "outputs": [],
   "source": [
    "ll = [1, 2, 3, 4, 5]\n",
    "head = ListNode.build_node_from_list(ll)"
   ]
  },
  {
   "cell_type": "code",
   "execution_count": 136,
   "metadata": {},
   "outputs": [
    {
     "name": "stdout",
     "output_type": "stream",
     "text": [
      "1 -> 2 -> 3 -> 4 -> 5\n"
     ]
    }
   ],
   "source": [
    "print(head)"
   ]
  },
  {
   "cell_type": "code",
   "execution_count": 138,
   "metadata": {},
   "outputs": [],
   "source": [
    "node = Solution().reverseList(head)"
   ]
  },
  {
   "cell_type": "code",
   "execution_count": 139,
   "metadata": {},
   "outputs": [
    {
     "name": "stdout",
     "output_type": "stream",
     "text": [
      "5 -> 4 -> 3 -> 2 -> 1\n"
     ]
    }
   ],
   "source": [
    "print(node)"
   ]
  },
  {
   "cell_type": "markdown",
   "metadata": {},
   "source": [
    "### problem2：两数相加\n",
    "https://leetcode-cn.com/problems/add-two-numbers/\n",
    "\n",
    "    给出两个 非空 的链表用来表示两个非负的整数。其中，它们各自的位数是按照 逆序 的方式存储的，并且它们的每个节点只能存储 一位 数字。\n",
    "\n",
    "    如果，我们将这两个数相加起来，则会返回一个新的链表来表示它们的和。\n",
    "\n",
    "    您可以假设除了数字 0 之外，这两个数都不会以 0 开头。\n",
    "\n",
    "    示例：\n",
    "\n",
    "    输入：(2 -> 4 -> 3) + (5 -> 6 -> 4)\n",
    "    输出：7 -> 0 -> 8\n",
    "    原因：342 + 465 = 807"
   ]
  },
  {
   "cell_type": "code",
   "execution_count": 50,
   "metadata": {},
   "outputs": [],
   "source": [
    "# 执行用时 :80 ms, 在所有 Python 提交中击败了11.19% 的用户\n",
    "# 内存消耗 :11.8 MB, 在所有 Python 提交中击败了27.54%的用户\n",
    "class Solution(object):\n",
    "    @classmethod\n",
    "    def addTwoNumbers(cls, l1: ListNode, l2: ListNode):\n",
    "        \"\"\"\n",
    "        :type l1: ListNode\n",
    "        :type l2: ListNode\n",
    "        :rtype: ListNode\n",
    "        \"\"\"\n",
    "        flag=0\n",
    "        lrs=lr=None\n",
    "        while l1 or l2 or flag:\n",
    "            if l1 is None:\n",
    "                a1=0  \n",
    "            else:\n",
    "                a1=l1.val\n",
    "                l1=l1.next\n",
    "            if l2 is None:\n",
    "                a2=0  \n",
    "            else:\n",
    "                a2=l2.val\n",
    "                l2=l2.next\n",
    "            r=a1 + a2 + flag\n",
    "            if lr is not None:\n",
    "                lr.next=ListNode(r%10)\n",
    "                lr=lr.next\n",
    "            else:\n",
    "                lr=lrs=ListNode(r%10)\n",
    "            \n",
    "            flag=r//10\n",
    "        return lrs"
   ]
  },
  {
   "cell_type": "code",
   "execution_count": 51,
   "metadata": {},
   "outputs": [],
   "source": [
    "a = [2, 4, 3]\n",
    "b = [5, 6, 4]\n",
    "l1 = ListNode(2)\n",
    "l1.next = ListNode(4)\n",
    "l1.next.next = ListNode(3)\n",
    "l2 = ListNode(5)\n",
    "l2.next = ListNode(6)\n",
    "l2.next.next = ListNode(4)"
   ]
  },
  {
   "cell_type": "code",
   "execution_count": 52,
   "metadata": {},
   "outputs": [],
   "source": [
    "lr = Solution.addTwoNumbers(l1, l2)"
   ]
  },
  {
   "cell_type": "code",
   "execution_count": 53,
   "metadata": {},
   "outputs": [
    {
     "name": "stdout",
     "output_type": "stream",
     "text": [
      "7 -> 0 -> 8\n"
     ]
    }
   ],
   "source": [
    "print(lr)"
   ]
  },
  {
   "cell_type": "markdown",
   "metadata": {},
   "source": [
    "## 树\n",
    "\n",
    "树比链表稍微复杂，因为链表是线性数据结构，而树不是。 树的问题可以由__广度优先搜索__或__深度优先搜索__解决。 在本章节中，我们提供了一个对于练习__广度优先遍历__很好的题目。\n",
    "\n",
    "我们推荐以下题目：二叉树的最大深度，验证二叉搜索树，二叉树的层次遍历 和 将有序数组转换为二叉搜索树。"
   ]
  },
  {
   "attachments": {
    "%E5%9B%BE%E7%89%87.png": {
     "image/png": "[encoded data removed]"
    }
   },
   "cell_type": "markdown",
   "metadata": {},
   "source": [
    "### 树的分类\n",
    "![%E5%9B%BE%E7%89%87.png](attachment:%E5%9B%BE%E7%89%87.png)"
   ]
  },
  {
   "cell_type": "markdown",
   "metadata": {},
   "source": [
    "### 定义TreeNode & BinaryTree"
   ]
  },
  {
   "cell_type": "code",
   "execution_count": 160,
   "metadata": {},
   "outputs": [],
   "source": [
    "# Definition for a binary tree node.\n",
    "class TreeNode(object):\n",
    "    def __init__(self, x):\n",
    "        self.val = x\n",
    "        self.left = None\n",
    "        self.right = None\n",
    "class BinaryTree:\n",
    "    def __init__(self, node=None):\n",
    "        self.root = node\n",
    "    def add(self, item_val):\n",
    "        \"\"\"\n",
    "        广度优先添加节点\n",
    "        \"\"\"\n",
    "        if self.root is None:\n",
    "            self.root = TreeNode(item_val)\n",
    "        else:\n",
    "            queue = list()\n",
    "            queue.append(self.root)\n",
    "            while len(queue)>0:\n",
    "                node = queue.pop(0)\n",
    "                if node.left is None:\n",
    "                    node.left = TreeNode(item_val)\n",
    "                    return \n",
    "                else:\n",
    "                    queue.append(node.left)\n",
    "                if node.right is None:\n",
    "                    node.right = TreeNode(item_val)\n",
    "                    return\n",
    "                else:\n",
    "                    queue.append(node.right)\n",
    "    def build_tree_from_list(self, ll):\n",
    "        for i in range(len(ll)):\n",
    "            self.add(ll[i])\n",
    "            \n",
    "    def breadth_travel(self):\n",
    "        \"\"\"广度遍历\"\"\"\n",
    "        if self.root is None: return\n",
    "        queue = [self.root]\n",
    "        while queue:\n",
    "            node = queue.pop(0)\n",
    "            print(node.val)\n",
    "            if node.left:\n",
    "                queue.append(node.left)\n",
    "            if node.right:\n",
    "                queue.append(node.right)\n",
    "    def depth_travel_preorder(self, node):\n",
    "        \"\"\"前(先)序遍历: 根 左右\"\"\"\n",
    "        if node is None: return\n",
    "        # # 下面三行代码顺序,深度先序遍历是先根结点,再左孩子,再右孩子\n",
    "        print(node.val)\n",
    "        self.depth_travel_preorder(node.left)\n",
    "        self.depth_travel_preorder(node.right)\n",
    "    def depth_travel_inorder(self, node):\n",
    "        \"\"\"中序遍历: 左根右\"\"\"\n",
    "        if node is None: return\n",
    "        self.depth_travel_inorder(node.left)\n",
    "        print(node.val)\n",
    "        self.depth_travel_inorder(node.right)\n",
    "    def depth_travel_postorder(self, node):\n",
    "        \"\"\"后序遍历: 左右根\"\"\"\n",
    "        if node is None: return\n",
    "        self.depth_travel_postorder(node.left)\n",
    "        self.depth_travel_postorder(node.right)\n",
    "        print(node.val)"
   ]
  },
  {
   "cell_type": "code",
   "execution_count": 161,
   "metadata": {},
   "outputs": [],
   "source": [
    "bt = BinaryTree()\n",
    "bt.build_tree_from_list(list('123456789'))"
   ]
  },
  {
   "cell_type": "markdown",
   "metadata": {},
   "source": [
    "### 二叉树的广度遍历"
   ]
  },
  {
   "cell_type": "code",
   "execution_count": 162,
   "metadata": {},
   "outputs": [
    {
     "name": "stdout",
     "output_type": "stream",
     "text": [
      "1\n",
      "2\n",
      "3\n",
      "4\n",
      "5\n",
      "6\n",
      "7\n",
      "8\n",
      "9\n"
     ]
    }
   ],
   "source": [
    "bt.breadth_travel()"
   ]
  },
  {
   "cell_type": "markdown",
   "metadata": {},
   "source": [
    "### 二叉树的深度遍历"
   ]
  },
  {
   "cell_type": "code",
   "execution_count": 163,
   "metadata": {},
   "outputs": [
    {
     "name": "stdout",
     "output_type": "stream",
     "text": [
      "1\n",
      "2\n",
      "4\n",
      "8\n",
      "9\n",
      "5\n",
      "3\n",
      "6\n",
      "7\n"
     ]
    }
   ],
   "source": [
    "bt.depth_travel_preorder(bt.root)"
   ]
  },
  {
   "cell_type": "code",
   "execution_count": 164,
   "metadata": {},
   "outputs": [
    {
     "name": "stdout",
     "output_type": "stream",
     "text": [
      "8\n",
      "4\n",
      "9\n",
      "2\n",
      "5\n",
      "1\n",
      "6\n",
      "3\n",
      "7\n"
     ]
    }
   ],
   "source": [
    "bt.depth_travel_inorder(bt.root)"
   ]
  },
  {
   "cell_type": "code",
   "execution_count": 165,
   "metadata": {},
   "outputs": [
    {
     "name": "stdout",
     "output_type": "stream",
     "text": [
      "8\n",
      "9\n",
      "4\n",
      "5\n",
      "2\n",
      "6\n",
      "7\n",
      "3\n",
      "1\n"
     ]
    }
   ],
   "source": [
    "bt.depth_travel_postorder(bt.root)"
   ]
  },
  {
   "attachments": {
    "%E5%9B%BE%E7%89%87.png": {
     "image/png": "[encoded data removed]"
    }
   },
   "cell_type": "markdown",
   "metadata": {},
   "source": [
    "### 根据遍历结果还原二叉树\n",
    "根据先序遍历+中序遍历结果或者先序遍历+后序遍历结果，可以还原二叉树。\n",
    "\n",
    "注意：根据中序+后序遍历结果，无法还原二叉树\n",
    "![%E5%9B%BE%E7%89%87.png](attachment:%E5%9B%BE%E7%89%87.png)"
   ]
  },
  {
   "cell_type": "markdown",
   "metadata": {},
   "source": [
    "### 二叉树的最大深度\n",
    "\n",
    "给定一个二叉树，找出其最大深度。\n",
    "\n",
    "    二叉树的深度为根节点到最远叶子节点的最长路径上的节点数。\n",
    "\n",
    "    说明: 叶子节点是指没有子节点的节点。\n",
    "\n",
    "    示例：\n",
    "    给定二叉树 [3,9,20,null,null,15,7]，\n",
    "\n",
    "        3\n",
    "       / \\\n",
    "      9  20\n",
    "        /  \\\n",
    "       15   7\n",
    "\n",
    "    返回它的最大深度 3 。\n"
   ]
  },
  {
   "cell_type": "code",
   "execution_count": null,
   "metadata": {},
   "outputs": [],
   "source": [
    "\n",
    "class Solution(object):\n",
    "    def maxDepth(self, root):\n",
    "        \"\"\"\n",
    "        广度优先搜索\n",
    "        :type root: TreeNode\n",
    "        :rtype: int\n",
    "        \"\"\"\n",
    "        if root is None: return 0\n",
    "        queue = [root]\n",
    "        count = 0\n",
    "        while len(queue)>0:\n",
    "            count += 1\n",
    "            qt = []\n",
    "            for node in queue:\n",
    "                if node.left is not None:\n",
    "                    qt.append(node.left)\n",
    "                if node.right is not None:\n",
    "                    qt.append(node.right)\n",
    "            queue = qt\n",
    "        return count"
   ]
  },
  {
   "cell_type": "markdown",
   "metadata": {},
   "source": [
    "## 排序和搜索\n",
    "\n",
    "本章涵盖了在有序结构中的排序和搜索问题。\n",
    "\n",
    "我们推荐 第一个错误的版本 这道题，作为介绍一个重要的算法的起始点。"
   ]
  },
  {
   "cell_type": "markdown",
   "metadata": {},
   "source": [
    "### 合并两个有序数组\n",
    "\n",
    "给定两个有序整数数组 nums1 和 nums2，将 nums2 合并到 nums1 中，使得 num1 成为一个有序数组。\n",
    "\n",
    "说明:\n",
    "\n",
    "    初始化 nums1 和 nums2 的元素数量分别为 m 和 n。\n",
    "    你可以假设 nums1 有足够的空间（空间大小大于或等于 m + n）来保存 nums2 中的元素。\n",
    "\n",
    "    示例:\n",
    "\n",
    "    输入:\n",
    "    nums1 = [1,2,3,0,0,0], m = 3\n",
    "    nums2 = [2,5,6],       n = 3\n",
    "\n",
    "    输出: [1,2,2,3,5,6]"
   ]
  },
  {
   "cell_type": "code",
   "execution_count": 192,
   "metadata": {},
   "outputs": [],
   "source": [
    "class Solution(object):\n",
    "    def merge(self, nums1, m, nums2, n):\n",
    "        \"\"\"\n",
    "        :type nums1: List[int]\n",
    "        :type m: int\n",
    "        :type nums2: List[int]\n",
    "        :type n: int\n",
    "        :rtype: None Do not return anything, modify nums1 in-place instead.\n",
    "        \"\"\"\n",
    "        if n == 0: return nums1\n",
    "        i = 0\n",
    "        count = 0\n",
    "        while i < m:\n",
    "            print(nums1, i, m)\n",
    "            if count == n: break\n",
    "            if nums1[i]<=nums2[count]: \n",
    "                i += 1\n",
    "            else:\n",
    "                for ii in range(m, i, -1):\n",
    "                    nums1[ii] = nums1[ii-1]\n",
    "                nums1[i] = nums2[count]\n",
    "                count += 1\n",
    "                i += 1\n",
    "                m += 1\n",
    "        while count < n:\n",
    "            nums1[m] = nums2[count]\n",
    "            count += 1\n",
    "            m += 1\n",
    "        return nums1"
   ]
  },
  {
   "cell_type": "code",
   "execution_count": 193,
   "metadata": {},
   "outputs": [
    {
     "name": "stdout",
     "output_type": "stream",
     "text": [
      "[1, 2, 3, 0, 0, 0] 0 3\n",
      "[1, 2, 3, 0, 0, 0] 1 3\n",
      "[1, 2, 3, 0, 0, 0] 2 3\n",
      "[1, 2, 2, 3, 0, 0] 3 4\n"
     ]
    },
    {
     "data": {
      "text/plain": [
       "[1, 2, 2, 3, 5, 6]"
      ]
     },
     "execution_count": 193,
     "metadata": {},
     "output_type": "execute_result"
    }
   ],
   "source": [
    "Solution().merge([1,2,3,0,0,0], 3, [2,5,6], 3)"
   ]
  },
  {
   "cell_type": "code",
   "execution_count": 194,
   "metadata": {},
   "outputs": [
    {
     "name": "stdout",
     "output_type": "stream",
     "text": [
      "[2, 0] 0 1\n",
      "[1, 2] 1 2\n"
     ]
    },
    {
     "data": {
      "text/plain": [
       "[1, 2]"
      ]
     },
     "execution_count": 194,
     "metadata": {},
     "output_type": "execute_result"
    }
   ],
   "source": [
    "Solution().merge([2,0], 1, [1], 1)"
   ]
  },
  {
   "cell_type": "code",
   "execution_count": null,
   "metadata": {},
   "outputs": [],
   "source": []
  }
 ],
 "metadata": {
  "kernelspec": {
   "display_name": "Python 3 (ipykernel)",
   "language": "python",
   "name": "python3"
  },
  "language_info": {
   "codemirror_mode": {
    "name": "ipython",
    "version": 3
   },
   "file_extension": ".py",
   "mimetype": "text/x-python",
   "name": "python",
   "nbconvert_exporter": "python",
   "pygments_lexer": "ipython3",
   "version": "3.8.10"
  },
  "toc": {
   "base_numbering": 1,
   "nav_menu": {},
   "number_sections": true,
   "sideBar": true,
   "skip_h1_title": false,
   "title_cell": "Table of Contents",
   "title_sidebar": "Contents",
   "toc_cell": false,
   "toc_position": {},
   "toc_section_display": true,
   "toc_window_display": true
  }
 },
 "nbformat": 4,
 "nbformat_minor": 2
}

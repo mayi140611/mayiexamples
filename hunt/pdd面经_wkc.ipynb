{
 "cells": [
  {
   "cell_type": "code",
   "execution_count": null,
   "metadata": {},
   "outputs": [],
   "source": [
    "我之前是做图像的，拿到offer后转的推荐，所以面试中有很多图像深度学习的东西\n",
    "\n",
    "面试题\n",
    "\n",
    "1.剑指offer根据前序和中序遍历构建二叉树\n",
    "\n",
    "2.leetcode76.求子集\n",
    "\n",
    "3.二叉树从左到右遍历叶子结点，输出从根节点到叶子节点的路径\n",
    "\n",
    "4.https://www.nowcoder.com/discuss/315546?type=post&order=time&pos=&page=1\n",
    "\n",
    "5.代码：判断单链表有没有环，找到环入口点；\n",
    "\n",
    "6.项目会问到把softmax+交叉熵损失函数换成sigmoid+交叉熵损失函数可不可以，为什么可以(是否互斥问题)\n",
    " \n",
    "7.项目中为什么要用ssd不用faster rcnn，faster rcnn的特点，faster rcnn中ROI pooling的计算细节,反卷积的计算过程(图像中的内容)\n",
    "\n",
    "8.https://www.nowcoder.com/discuss/231523?type=post&order=time&pos=&page=1\n",
    "\n",
    "9 二叉树 leetcode 102,104,111,112,236\n",
    "\n",
    "10 链表 leetcode 19,21,23,25,148,206\n",
    "\n",
    "11 数组 leetcode 215,239\n",
    "\n",
    "12 dfs,bfs leetcode 200\n",
    "\n",
    "13 数组问题，一般用双指针，二分，快排中的partition, 归并排序中归并思想\n",
    "\n",
    "14 二叉树一般是递归，dfs,bfs\n",
    "\n",
    "15 链表 双指针\n",
    "\n",
    "16 https://www.nowcoder.com/discuss/216469\n",
    "\n",
    "17  ROC曲线，AUC值，我们为什么要使用交叉熵损失函数(衡量分布差异)\n",
    "\n",
    "18 机器学习中问到最多的应该是树模型相关的，cart树，GBDT,XGboost, 随机森林，比如XGboost和RF有啥子区别\n",
    "\n",
    "19 SVM中的核函数，核方法，核技巧傻傻分不清楚，什么情况下使用线性核，高斯核，什么情况下不使用SVM而使用DNN或者LR比较好\n",
    "     SVM是如何处理多分类的，网格搜索参数怎么做的\n",
    "\n",
    "20 KNN,kMeans，kemeans中k值的选取，如何定义聚类时的距离，如何确定停止迭代的点\n",
    "\n",
    "21 实习项目中数据集的获取，标注过程，如何划分测试集和评价算法在线上app的表现效果，如何处理badcase（图像的实习项目）\n",
    " （基本逻辑就是项目遇到了什么问题，使用什么方案处理的问题，使用这种方法后有什么效果和提高）\n",
    "\n",
    "22 python或者C++会涉及编程语言的问题，python中的装饰器，迭代器，生成器，广播，lambda,c++的面向对象三兄弟封装，继承，多态\n",
    "\n",
    "23 简历论文和项目中内容会问的很细很细很细....\n",
    "\n",
    "24 推荐或者机器学习的内容建议在牛客网或者知乎上搜索面经\n",
    "\n",
    "总结：1.算法题 leetcode+剑指offer（每轮面试的算法题都要写出来，有一道算法题写不出来基本上就凉了）\n",
    "          2.深度学习相关，重基础\n",
    "          3.接触内容可能只是一部分，其他部分建议搜索面经，但是面试是在19年8月提前批，感觉不是特别难，\n",
    "             现在难度可能会提高一些，当然也和面试官有关，如果方向对口，有共同语言，题也都刷出来问题不大。\n",
    "\t\t\t\t\t\t\t\t\t\t\t\t\t2020.06.19\n",
    "     \n",
    "\n"
   ]
  }
 ],
 "metadata": {
  "kernelspec": {
   "display_name": "Python 3",
   "language": "python",
   "name": "python3"
  },
  "language_info": {
   "codemirror_mode": {
    "name": "ipython",
    "version": 3
   },
   "file_extension": ".py",
   "mimetype": "text/x-python",
   "name": "python",
   "nbconvert_exporter": "python",
   "pygments_lexer": "ipython3",
   "version": "3.7.3"
  },
  "toc": {
   "base_numbering": 1,
   "nav_menu": {},
   "number_sections": true,
   "sideBar": true,
   "skip_h1_title": false,
   "title_cell": "Table of Contents",
   "title_sidebar": "Contents",
   "toc_cell": false,
   "toc_position": {},
   "toc_section_display": true,
   "toc_window_display": false
  },
  "varInspector": {
   "cols": {
    "lenName": 16,
    "lenType": 16,
    "lenVar": 40
   },
   "kernels_config": {
    "python": {
     "delete_cmd_postfix": "",
     "delete_cmd_prefix": "del ",
     "library": "var_list.py",
     "varRefreshCmd": "print(var_dic_list())"
    },
    "r": {
     "delete_cmd_postfix": ") ",
     "delete_cmd_prefix": "rm(",
     "library": "var_list.r",
     "varRefreshCmd": "cat(var_dic_list()) "
    }
   },
   "types_to_exclude": [
    "module",
    "function",
    "builtin_function_or_method",
    "instance",
    "_Feature"
   ],
   "window_display": false
  }
 },
 "nbformat": 4,
 "nbformat_minor": 2
}

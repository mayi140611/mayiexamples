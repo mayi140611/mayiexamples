{
 "cells": [
  {
   "cell_type": "markdown",
   "metadata": {},
   "source": [
    "# 基础知识"
   ]
  },
  {
   "cell_type": "markdown",
   "metadata": {},
   "source": [
    "## 简单收益率&对数收益率"
   ]
  },
  {
   "cell_type": "markdown",
   "metadata": {},
   "source": [
    "单期简单收益率:\n",
    "$$R_t=\\frac{P_t-P_{t-1}}{P_{t-1}}$$\n",
    "多期简单收益率:\n",
    "$$R_t(k)=\\frac{P_t-P_{t-k}}{P_{t-k}}$$"
   ]
  },
  {
   "cell_type": "markdown",
   "metadata": {},
   "source": [
    "单期对数收益率:\n",
    "$$R_t=ln\\frac{P_t}{P_{t-1}}$$\n",
    "多期对数收益率:\n",
    "$$R_t(k)=ln\\frac{P_t}{P_{t-k}}=R_t+R_{t-1}+...+R_{t-k+1}$$"
   ]
  },
  {
   "cell_type": "markdown",
   "metadata": {},
   "source": [
    "## 为什么要用对数收益率？\n",
    "* 时序上的可加性\n",
    "这个当然很重要。如假如第1年涨5%，第二年跌5%，那么投资也不会回到原点，而会是亏损25个基点。\n",
    "* 把复利关系转换为线性关系\n",
    "本金由1变成2，涨幅是一倍，而由2变成4，也是涨了一倍，涨幅是一样的！！！  \n",
    "使用对数收益率可以完美的反应这一关系: $ln\\frac{4}{1} = 2*ln\\frac{2}{1}$  \n",
    "进而由于这个关系，可以在图上直观的看出哪段的涨幅大！\n",
    "\n",
    "* 简单收益率是不符合正态分布的，而对数收益率更接近正态分布  \n",
    "这样的好处就是采用对数收益，更适合金融的一些假设：如有效市场理论，随机漫步等"
   ]
  },
  {
   "cell_type": "code",
   "execution_count": null,
   "metadata": {},
   "outputs": [],
   "source": []
  }
 ],
 "metadata": {
  "kernelspec": {
   "display_name": "Python 3",
   "language": "python",
   "name": "python3"
  },
  "language_info": {
   "codemirror_mode": {
    "name": "ipython",
    "version": 3
   },
   "file_extension": ".py",
   "mimetype": "text/x-python",
   "name": "python",
   "nbconvert_exporter": "python",
   "pygments_lexer": "ipython3",
   "version": "3.7.4"
  },
  "toc": {
   "base_numbering": 1,
   "nav_menu": {},
   "number_sections": true,
   "sideBar": true,
   "skip_h1_title": false,
   "title_cell": "Table of Contents",
   "title_sidebar": "Contents",
   "toc_cell": false,
   "toc_position": {},
   "toc_section_display": true,
   "toc_window_display": false
  },
  "varInspector": {
   "cols": {
    "lenName": 16,
    "lenType": 16,
    "lenVar": 40
   },
   "kernels_config": {
    "python": {
     "delete_cmd_postfix": "",
     "delete_cmd_prefix": "del ",
     "library": "var_list.py",
     "varRefreshCmd": "print(var_dic_list())"
    },
    "r": {
     "delete_cmd_postfix": ") ",
     "delete_cmd_prefix": "rm(",
     "library": "var_list.r",
     "varRefreshCmd": "cat(var_dic_list()) "
    }
   },
   "types_to_exclude": [
    "module",
    "function",
    "builtin_function_or_method",
    "instance",
    "_Feature"
   ],
   "window_display": false
  }
 },
 "nbformat": 4,
 "nbformat_minor": 2
}

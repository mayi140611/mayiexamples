{
 "cells": [
  {
   "cell_type": "markdown",
   "metadata": {},
   "source": [
    "# TaLib\n",
    "https://mrjbq7.github.io/ta-lib/index.html  \n",
    "\n",
    "https://github.com/mrjbq7/ta-lib\n",
    "\n",
    "\n",
    "\n",
    "TaLib是一个Python金融指数处理库。包含了很多技术分析里的常用参数指标，例如MA、SMA、WMA、MACD、ATR等"
   ]
  },
  {
   "cell_type": "markdown",
   "metadata": {},
   "source": [
    "## 安装\n",
    "https://mrjbq7.github.io/ta-lib/install.html"
   ]
  },
  {
   "cell_type": "code",
   "execution_count": 5,
   "metadata": {},
   "outputs": [
    {
     "name": "stdout",
     "output_type": "stream",
     "text": [
      "TA-Lib==0.4.17\r\n"
     ]
    }
   ],
   "source": [
    "# !brew install ta-lib\n",
    "# !pip install TA-Lib\n",
    "!pip freeze | grep TA-Lib"
   ]
  },
  {
   "cell_type": "markdown",
   "metadata": {},
   "source": [
    "# Examples"
   ]
  },
  {
   "cell_type": "code",
   "execution_count": 6,
   "metadata": {},
   "outputs": [],
   "source": [
    "import numpy\n",
    "import talib\n",
    "\n",
    "close = numpy.random.random(100)"
   ]
  },
  {
   "cell_type": "markdown",
   "metadata": {},
   "source": [
    "## SMA"
   ]
  },
  {
   "cell_type": "code",
   "execution_count": 20,
   "metadata": {},
   "outputs": [
    {
     "data": {
      "text/plain": [
       "array([       nan,        nan,        nan,        nan,        nan,\n",
       "              nan,        nan,        nan,        nan,        nan,\n",
       "              nan,        nan,        nan,        nan,        nan,\n",
       "              nan,        nan,        nan,        nan,        nan,\n",
       "              nan,        nan,        nan,        nan,        nan,\n",
       "              nan,        nan,        nan,        nan, 0.49928206,\n",
       "       0.49274986, 0.49275634, 0.51433436, 0.48568807, 0.46625841,\n",
       "       0.46848981, 0.46497393, 0.46815674, 0.45194713, 0.42679306,\n",
       "       0.43569367, 0.42976775, 0.43779861, 0.43582724, 0.43451622,\n",
       "       0.45366611, 0.44799655, 0.45752559, 0.46501563, 0.48191225,\n",
       "       0.49039797, 0.46686146, 0.47159068, 0.47892082, 0.50061118,\n",
       "       0.49027127, 0.48697665, 0.47521345, 0.49358645, 0.51244067,\n",
       "       0.49873539, 0.49349311, 0.48532857, 0.5086743 , 0.51285077,\n",
       "       0.53882304, 0.53880814, 0.55122367, 0.54015488, 0.53786541,\n",
       "       0.55623977, 0.5694684 , 0.58277305, 0.55772052, 0.53676999,\n",
       "       0.51460723, 0.52162523, 0.53528467, 0.53904571, 0.53657657,\n",
       "       0.50761421, 0.50371511, 0.50668707, 0.50152707, 0.47545682,\n",
       "       0.48198114, 0.46965992, 0.4656607 , 0.46708128, 0.45919949,\n",
       "       0.46444827, 0.48926021, 0.48993376, 0.48837578, 0.48588643,\n",
       "       0.45744518, 0.45686662, 0.4591306 , 0.47392097, 0.49535482])"
      ]
     },
     "execution_count": 20,
     "metadata": {},
     "output_type": "execute_result"
    }
   ],
   "source": [
    "# Calculate a simple moving average of the close prices:\n",
    "output = talib.SMA(close)\n",
    "output"
   ]
  },
  {
   "cell_type": "code",
   "execution_count": 22,
   "metadata": {},
   "outputs": [
    {
     "data": {
      "text/plain": [
       "(array([        nan,         nan,         nan,         nan,         nan,\n",
       "                nan,         nan,         nan,         nan,         nan,\n",
       "                nan,         nan,         nan,         nan,         nan,\n",
       "                nan,         nan,         nan,         nan,         nan,\n",
       "                nan,         nan,         nan,         nan,         nan,\n",
       "                nan,         nan,         nan,         nan,         nan,\n",
       "                nan,         nan,         nan, -0.03703774, -0.03816355,\n",
       "        -0.06305265, -0.0600355 , -0.07507441, -0.05610583, -0.07375528,\n",
       "        -0.05987515, -0.04975547, -0.05265603, -0.00246471,  0.03118869,\n",
       "         0.06780631,  0.06281848,  0.03784932,  0.05845884,  0.06320414,\n",
       "         0.08534483,  0.0381366 ,  0.03286058,  0.0228414 ,  0.04619611,\n",
       "         0.0492472 ,  0.04267088,  0.030216  ,  0.04219989,  0.04199791,\n",
       "         0.00088145, -0.02970042, -0.01287951,  0.00465108,  0.00238476,\n",
       "         0.02830089,  0.00789015,  0.00346997, -0.0263388 , -0.06153301,\n",
       "        -0.01208615,  0.01304004,  0.02136299, -0.01229079, -0.03439929,\n",
       "        -0.04362336, -0.01342293,  0.00593997,  0.03795776,  0.03696495,\n",
       "        -0.00849358, -0.04761434, -0.02913324, -0.03929391, -0.06538358,\n",
       "        -0.02179529, -0.04090254, -0.04230681, -0.0078681 , -0.01216877,\n",
       "        -0.02445559,  0.01465645,  0.02780823,  0.03666008,  0.02500048,\n",
       "        -0.01880764, -0.02662885, -0.01398941, -0.00025572,  0.01426621]),\n",
       " array([        nan,         nan,         nan,         nan,         nan,\n",
       "                nan,         nan,         nan,         nan,         nan,\n",
       "                nan,         nan,         nan,         nan,         nan,\n",
       "                nan,         nan,         nan,         nan,         nan,\n",
       "                nan,         nan,         nan,         nan,         nan,\n",
       "                nan,         nan,         nan,         nan,         nan,\n",
       "                nan,         nan,         nan, -0.0107499 , -0.01623263,\n",
       "        -0.02559663, -0.03248441, -0.04100241, -0.04402309, -0.04996953,\n",
       "        -0.05195066, -0.05151162, -0.0517405 , -0.04188534, -0.02727054,\n",
       "        -0.00825517,  0.00595956,  0.01233751,  0.02156178,  0.02989025,\n",
       "         0.04098116,  0.04041225,  0.03890192,  0.03568981,  0.03779107,\n",
       "         0.0400823 ,  0.04060001,  0.03852321,  0.03925855,  0.03980642,\n",
       "         0.03202142,  0.01967706,  0.01316574,  0.01146281,  0.0096472 ,\n",
       "         0.01337794,  0.01228038,  0.0105183 ,  0.00314688, -0.0097891 ,\n",
       "        -0.01024851, -0.0055908 , -0.00020004, -0.00261819, -0.00897441,\n",
       "        -0.0159042 , -0.01540795, -0.01113836, -0.00131914,  0.00633768,\n",
       "         0.00337143, -0.00682573, -0.01128723, -0.01688856, -0.02658757,\n",
       "        -0.02562911, -0.0286838 , -0.0314084 , -0.02670034, -0.02379403,\n",
       "        -0.02392634, -0.01620978, -0.00740618,  0.00140707,  0.00612575,\n",
       "         0.00113908, -0.00441451, -0.00632949, -0.00511474, -0.00123855]),\n",
       " array([        nan,         nan,         nan,         nan,         nan,\n",
       "                nan,         nan,         nan,         nan,         nan,\n",
       "                nan,         nan,         nan,         nan,         nan,\n",
       "                nan,         nan,         nan,         nan,         nan,\n",
       "                nan,         nan,         nan,         nan,         nan,\n",
       "                nan,         nan,         nan,         nan,         nan,\n",
       "                nan,         nan,         nan, -0.02628784, -0.02193092,\n",
       "        -0.03745602, -0.02755109, -0.03407201, -0.01208274, -0.02378575,\n",
       "        -0.0079245 ,  0.00175614, -0.00091553,  0.03942063,  0.05845922,\n",
       "         0.07606148,  0.05685891,  0.02551181,  0.03689706,  0.03331389,\n",
       "         0.04436366, -0.00227565, -0.00604134, -0.01284841,  0.00840504,\n",
       "         0.0091649 ,  0.00207086, -0.00830722,  0.00294134,  0.00219149,\n",
       "        -0.03113998, -0.04937747, -0.02604525, -0.00681173, -0.00726244,\n",
       "         0.01492295, -0.00439023, -0.00704833, -0.02948568, -0.05174391,\n",
       "        -0.00183764,  0.01863084,  0.02156303, -0.0096726 , -0.02542488,\n",
       "        -0.02771916,  0.00198502,  0.01707834,  0.0392769 ,  0.03062727,\n",
       "        -0.01186501, -0.04078861, -0.01784601, -0.02240534, -0.03879601,\n",
       "         0.00383382, -0.01221874, -0.01089841,  0.01883224,  0.01162526,\n",
       "        -0.00052925,  0.03086623,  0.03521441,  0.03525301,  0.01887473,\n",
       "        -0.01994672, -0.02221434, -0.00765992,  0.00485901,  0.01550476]))"
      ]
     },
     "execution_count": 22,
     "metadata": {},
     "output_type": "execute_result"
    }
   ],
   "source": [
    "# Calculate a simple moving average of the close prices:\n",
    "macd, macdsignal, macdhist = talib.MACD(close)\n",
    "macd, macdsignal, macdhist"
   ]
  },
  {
   "cell_type": "code",
   "execution_count": 8,
   "metadata": {},
   "outputs": [],
   "source": [
    "# Calculating bollinger bands, with triple exponential moving average:\n",
    "from talib import MA_Type\n",
    "\n",
    "upper, middle, lower = talib.BBANDS(close, matype=MA_Type.T3)"
   ]
  },
  {
   "cell_type": "code",
   "execution_count": 9,
   "metadata": {},
   "outputs": [],
   "source": [
    "# Calculating momentum of the close prices, with a time period of 5:\n",
    "output = talib.MOM(close, timeperiod=5)"
   ]
  },
  {
   "cell_type": "markdown",
   "metadata": {},
   "source": [
    "## Abstract API Quick Start\n",
    "If you're already familiar with using the function API, you should feel right at home using the abstract API. Every function takes the same input, passed as a dictionary of Numpy arrays:"
   ]
  },
  {
   "cell_type": "code",
   "execution_count": 14,
   "metadata": {},
   "outputs": [],
   "source": [
    "import numpy as np\n",
    "# note that all ndarrays must be the same length!\n",
    "input_arrays = {\n",
    "    'open': np.random.random(100),\n",
    "    'high': np.random.random(100),\n",
    "    'low': np.random.random(100),\n",
    "    'close': np.random.random(100),\n",
    "    'volume': np.random.random(100)\n",
    "}"
   ]
  },
  {
   "cell_type": "markdown",
   "metadata": {},
   "source": [
    "Functions can either be imported directly or instantiated by name:"
   ]
  },
  {
   "cell_type": "code",
   "execution_count": 15,
   "metadata": {},
   "outputs": [],
   "source": [
    "from talib import abstract\n",
    "sma = abstract.SMA\n",
    "sma = abstract.Function('sma')"
   ]
  },
  {
   "cell_type": "markdown",
   "metadata": {},
   "source": [
    "From there, calling functions is basically the same as the function API:"
   ]
  },
  {
   "cell_type": "code",
   "execution_count": 16,
   "metadata": {},
   "outputs": [],
   "source": [
    "from talib.abstract import *\n",
    "output = SMA(input_arrays, timeperiod=25) # calculate on close prices by default\n",
    "output = SMA(input_arrays, timeperiod=25, price='open') # calculate on opens\n",
    "upper, middle, lower = BBANDS(input_arrays, 20, 2, 2)\n",
    "slowk, slowd = STOCH(input_arrays, 5, 3, 0, 3, 0) # uses high, low, close by default\n",
    "slowk, slowd = STOCH(input_arrays, 5, 3, 0, 3, 0, prices=['high', 'low', 'open'])"
   ]
  },
  {
   "cell_type": "markdown",
   "metadata": {},
   "source": [
    "## Supported Indicators\n",
    "We can show all the TA functions supported by TA-Lib, either as a list or as a dict sorted by group (e.g. \"Overlap Studies\", \"Momentum Indicators\", etc):"
   ]
  },
  {
   "cell_type": "code",
   "execution_count": 18,
   "metadata": {},
   "outputs": [
    {
     "name": "stdout",
     "output_type": "stream",
     "text": [
      "['HT_DCPERIOD', 'HT_DCPHASE', 'HT_PHASOR', 'HT_SINE', 'HT_TRENDMODE', 'ADD', 'DIV', 'MAX', 'MAXINDEX', 'MIN', 'MININDEX', 'MINMAX', 'MINMAXINDEX', 'MULT', 'SUB', 'SUM', 'ACOS', 'ASIN', 'ATAN', 'CEIL', 'COS', 'COSH', 'EXP', 'FLOOR', 'LN', 'LOG10', 'SIN', 'SINH', 'SQRT', 'TAN', 'TANH', 'ADX', 'ADXR', 'APO', 'AROON', 'AROONOSC', 'BOP', 'CCI', 'CMO', 'DX', 'MACD', 'MACDEXT', 'MACDFIX', 'MFI', 'MINUS_DI', 'MINUS_DM', 'MOM', 'PLUS_DI', 'PLUS_DM', 'PPO', 'ROC', 'ROCP', 'ROCR', 'ROCR100', 'RSI', 'STOCH', 'STOCHF', 'STOCHRSI', 'TRIX', 'ULTOSC', 'WILLR', 'BBANDS', 'DEMA', 'EMA', 'HT_TRENDLINE', 'KAMA', 'MA', 'MAMA', 'MAVP', 'MIDPOINT', 'MIDPRICE', 'SAR', 'SAREXT', 'SMA', 'T3', 'TEMA', 'TRIMA', 'WMA', 'CDL2CROWS', 'CDL3BLACKCROWS', 'CDL3INSIDE', 'CDL3LINESTRIKE', 'CDL3OUTSIDE', 'CDL3STARSINSOUTH', 'CDL3WHITESOLDIERS', 'CDLABANDONEDBABY', 'CDLADVANCEBLOCK', 'CDLBELTHOLD', 'CDLBREAKAWAY', 'CDLCLOSINGMARUBOZU', 'CDLCONCEALBABYSWALL', 'CDLCOUNTERATTACK', 'CDLDARKCLOUDCOVER', 'CDLDOJI', 'CDLDOJISTAR', 'CDLDRAGONFLYDOJI', 'CDLENGULFING', 'CDLEVENINGDOJISTAR', 'CDLEVENINGSTAR', 'CDLGAPSIDESIDEWHITE', 'CDLGRAVESTONEDOJI', 'CDLHAMMER', 'CDLHANGINGMAN', 'CDLHARAMI', 'CDLHARAMICROSS', 'CDLHIGHWAVE', 'CDLHIKKAKE', 'CDLHIKKAKEMOD', 'CDLHOMINGPIGEON', 'CDLIDENTICAL3CROWS', 'CDLINNECK', 'CDLINVERTEDHAMMER', 'CDLKICKING', 'CDLKICKINGBYLENGTH', 'CDLLADDERBOTTOM', 'CDLLONGLEGGEDDOJI', 'CDLLONGLINE', 'CDLMARUBOZU', 'CDLMATCHINGLOW', 'CDLMATHOLD', 'CDLMORNINGDOJISTAR', 'CDLMORNINGSTAR', 'CDLONNECK', 'CDLPIERCING', 'CDLRICKSHAWMAN', 'CDLRISEFALL3METHODS', 'CDLSEPARATINGLINES', 'CDLSHOOTINGSTAR', 'CDLSHORTLINE', 'CDLSPINNINGTOP', 'CDLSTALLEDPATTERN', 'CDLSTICKSANDWICH', 'CDLTAKURI', 'CDLTASUKIGAP', 'CDLTHRUSTING', 'CDLTRISTAR', 'CDLUNIQUE3RIVER', 'CDLUPSIDEGAP2CROWS', 'CDLXSIDEGAP3METHODS', 'AVGPRICE', 'MEDPRICE', 'TYPPRICE', 'WCLPRICE', 'BETA', 'CORREL', 'LINEARREG', 'LINEARREG_ANGLE', 'LINEARREG_INTERCEPT', 'LINEARREG_SLOPE', 'STDDEV', 'TSF', 'VAR', 'ATR', 'NATR', 'TRANGE', 'AD', 'ADOSC', 'OBV']\n"
     ]
    }
   ],
   "source": [
    "import talib\n",
    "\n",
    "print (talib.get_functions())"
   ]
  },
  {
   "cell_type": "code",
   "execution_count": 19,
   "metadata": {},
   "outputs": [
    {
     "data": {
      "text/plain": [
       "{'Cycle Indicators': ['HT_DCPERIOD',\n",
       "  'HT_DCPHASE',\n",
       "  'HT_PHASOR',\n",
       "  'HT_SINE',\n",
       "  'HT_TRENDMODE'],\n",
       " 'Math Operators': ['ADD',\n",
       "  'DIV',\n",
       "  'MAX',\n",
       "  'MAXINDEX',\n",
       "  'MIN',\n",
       "  'MININDEX',\n",
       "  'MINMAX',\n",
       "  'MINMAXINDEX',\n",
       "  'MULT',\n",
       "  'SUB',\n",
       "  'SUM'],\n",
       " 'Math Transform': ['ACOS',\n",
       "  'ASIN',\n",
       "  'ATAN',\n",
       "  'CEIL',\n",
       "  'COS',\n",
       "  'COSH',\n",
       "  'EXP',\n",
       "  'FLOOR',\n",
       "  'LN',\n",
       "  'LOG10',\n",
       "  'SIN',\n",
       "  'SINH',\n",
       "  'SQRT',\n",
       "  'TAN',\n",
       "  'TANH'],\n",
       " 'Momentum Indicators': ['ADX',\n",
       "  'ADXR',\n",
       "  'APO',\n",
       "  'AROON',\n",
       "  'AROONOSC',\n",
       "  'BOP',\n",
       "  'CCI',\n",
       "  'CMO',\n",
       "  'DX',\n",
       "  'MACD',\n",
       "  'MACDEXT',\n",
       "  'MACDFIX',\n",
       "  'MFI',\n",
       "  'MINUS_DI',\n",
       "  'MINUS_DM',\n",
       "  'MOM',\n",
       "  'PLUS_DI',\n",
       "  'PLUS_DM',\n",
       "  'PPO',\n",
       "  'ROC',\n",
       "  'ROCP',\n",
       "  'ROCR',\n",
       "  'ROCR100',\n",
       "  'RSI',\n",
       "  'STOCH',\n",
       "  'STOCHF',\n",
       "  'STOCHRSI',\n",
       "  'TRIX',\n",
       "  'ULTOSC',\n",
       "  'WILLR'],\n",
       " 'Overlap Studies': ['BBANDS',\n",
       "  'DEMA',\n",
       "  'EMA',\n",
       "  'HT_TRENDLINE',\n",
       "  'KAMA',\n",
       "  'MA',\n",
       "  'MAMA',\n",
       "  'MAVP',\n",
       "  'MIDPOINT',\n",
       "  'MIDPRICE',\n",
       "  'SAR',\n",
       "  'SAREXT',\n",
       "  'SMA',\n",
       "  'T3',\n",
       "  'TEMA',\n",
       "  'TRIMA',\n",
       "  'WMA'],\n",
       " 'Pattern Recognition': ['CDL2CROWS',\n",
       "  'CDL3BLACKCROWS',\n",
       "  'CDL3INSIDE',\n",
       "  'CDL3LINESTRIKE',\n",
       "  'CDL3OUTSIDE',\n",
       "  'CDL3STARSINSOUTH',\n",
       "  'CDL3WHITESOLDIERS',\n",
       "  'CDLABANDONEDBABY',\n",
       "  'CDLADVANCEBLOCK',\n",
       "  'CDLBELTHOLD',\n",
       "  'CDLBREAKAWAY',\n",
       "  'CDLCLOSINGMARUBOZU',\n",
       "  'CDLCONCEALBABYSWALL',\n",
       "  'CDLCOUNTERATTACK',\n",
       "  'CDLDARKCLOUDCOVER',\n",
       "  'CDLDOJI',\n",
       "  'CDLDOJISTAR',\n",
       "  'CDLDRAGONFLYDOJI',\n",
       "  'CDLENGULFING',\n",
       "  'CDLEVENINGDOJISTAR',\n",
       "  'CDLEVENINGSTAR',\n",
       "  'CDLGAPSIDESIDEWHITE',\n",
       "  'CDLGRAVESTONEDOJI',\n",
       "  'CDLHAMMER',\n",
       "  'CDLHANGINGMAN',\n",
       "  'CDLHARAMI',\n",
       "  'CDLHARAMICROSS',\n",
       "  'CDLHIGHWAVE',\n",
       "  'CDLHIKKAKE',\n",
       "  'CDLHIKKAKEMOD',\n",
       "  'CDLHOMINGPIGEON',\n",
       "  'CDLIDENTICAL3CROWS',\n",
       "  'CDLINNECK',\n",
       "  'CDLINVERTEDHAMMER',\n",
       "  'CDLKICKING',\n",
       "  'CDLKICKINGBYLENGTH',\n",
       "  'CDLLADDERBOTTOM',\n",
       "  'CDLLONGLEGGEDDOJI',\n",
       "  'CDLLONGLINE',\n",
       "  'CDLMARUBOZU',\n",
       "  'CDLMATCHINGLOW',\n",
       "  'CDLMATHOLD',\n",
       "  'CDLMORNINGDOJISTAR',\n",
       "  'CDLMORNINGSTAR',\n",
       "  'CDLONNECK',\n",
       "  'CDLPIERCING',\n",
       "  'CDLRICKSHAWMAN',\n",
       "  'CDLRISEFALL3METHODS',\n",
       "  'CDLSEPARATINGLINES',\n",
       "  'CDLSHOOTINGSTAR',\n",
       "  'CDLSHORTLINE',\n",
       "  'CDLSPINNINGTOP',\n",
       "  'CDLSTALLEDPATTERN',\n",
       "  'CDLSTICKSANDWICH',\n",
       "  'CDLTAKURI',\n",
       "  'CDLTASUKIGAP',\n",
       "  'CDLTHRUSTING',\n",
       "  'CDLTRISTAR',\n",
       "  'CDLUNIQUE3RIVER',\n",
       "  'CDLUPSIDEGAP2CROWS',\n",
       "  'CDLXSIDEGAP3METHODS'],\n",
       " 'Price Transform': ['AVGPRICE', 'MEDPRICE', 'TYPPRICE', 'WCLPRICE'],\n",
       " 'Statistic Functions': ['BETA',\n",
       "  'CORREL',\n",
       "  'LINEARREG',\n",
       "  'LINEARREG_ANGLE',\n",
       "  'LINEARREG_INTERCEPT',\n",
       "  'LINEARREG_SLOPE',\n",
       "  'STDDEV',\n",
       "  'TSF',\n",
       "  'VAR'],\n",
       " 'Volatility Indicators': ['ATR', 'NATR', 'TRANGE'],\n",
       " 'Volume Indicators': ['AD', 'ADOSC', 'OBV']}"
      ]
     },
     "execution_count": 19,
     "metadata": {},
     "output_type": "execute_result"
    }
   ],
   "source": [
    "talib.get_function_groups()"
   ]
  },
  {
   "cell_type": "code",
   "execution_count": null,
   "metadata": {},
   "outputs": [],
   "source": []
  }
 ],
 "metadata": {
  "kernelspec": {
   "display_name": "Python 3",
   "language": "python",
   "name": "python3"
  },
  "language_info": {
   "codemirror_mode": {
    "name": "ipython",
    "version": 3
   },
   "file_extension": ".py",
   "mimetype": "text/x-python",
   "name": "python",
   "nbconvert_exporter": "python",
   "pygments_lexer": "ipython3",
   "version": "3.7.4"
  },
  "toc": {
   "base_numbering": 1,
   "nav_menu": {},
   "number_sections": true,
   "sideBar": true,
   "skip_h1_title": false,
   "title_cell": "Table of Contents",
   "title_sidebar": "Contents",
   "toc_cell": false,
   "toc_position": {},
   "toc_section_display": true,
   "toc_window_display": true
  },
  "varInspector": {
   "cols": {
    "lenName": 16,
    "lenType": 16,
    "lenVar": 40
   },
   "kernels_config": {
    "python": {
     "delete_cmd_postfix": "",
     "delete_cmd_prefix": "del ",
     "library": "var_list.py",
     "varRefreshCmd": "print(var_dic_list())"
    },
    "r": {
     "delete_cmd_postfix": ") ",
     "delete_cmd_prefix": "rm(",
     "library": "var_list.r",
     "varRefreshCmd": "cat(var_dic_list()) "
    }
   },
   "types_to_exclude": [
    "module",
    "function",
    "builtin_function_or_method",
    "instance",
    "_Feature"
   ],
   "window_display": false
  }
 },
 "nbformat": 4,
 "nbformat_minor": 2
}

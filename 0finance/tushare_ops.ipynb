{
 "cells": [
  {
   "cell_type": "markdown",
   "metadata": {},
   "source": [
    "https://tushare.pro/  \n",
    "https://tushare.pro/document/2"
   ]
  },
  {
   "cell_type": "markdown",
   "metadata": {},
   "source": [
    "# api"
   ]
  },
  {
   "cell_type": "code",
   "execution_count": 14,
   "metadata": {},
   "outputs": [],
   "source": [
    "import tushare as ts\n",
    "pro = ts.pro_api('5fd1639100f8a22b7f86e882e03192009faa72bae1ae93803e1172d5')"
   ]
  },
  {
   "cell_type": "code",
   "execution_count": 15,
   "metadata": {},
   "outputs": [
    {
     "data": {
      "text/plain": [
       "tushare.pro.client.DataApi"
      ]
     },
     "execution_count": 15,
     "metadata": {},
     "output_type": "execute_result"
    }
   ],
   "source": [
    "type(pro)"
   ]
  },
  {
   "cell_type": "markdown",
   "metadata": {},
   "source": [
    "## 基础数据\n",
    "### 股票列表stock_basic  \n",
    "描述：获取基础信息数据，包括股票代码、名称、上市日期、退市日期等"
   ]
  },
  {
   "cell_type": "code",
   "execution_count": 2,
   "metadata": {},
   "outputs": [
    {
     "data": {
      "text/html": [
       "<div>\n",
       "<style scoped>\n",
       "    .dataframe tbody tr th:only-of-type {\n",
       "        vertical-align: middle;\n",
       "    }\n",
       "\n",
       "    .dataframe tbody tr th {\n",
       "        vertical-align: top;\n",
       "    }\n",
       "\n",
       "    .dataframe thead th {\n",
       "        text-align: right;\n",
       "    }\n",
       "</style>\n",
       "<table border=\"1\" class=\"dataframe\">\n",
       "  <thead>\n",
       "    <tr style=\"text-align: right;\">\n",
       "      <th></th>\n",
       "      <th>ts_code</th>\n",
       "      <th>symbol</th>\n",
       "      <th>name</th>\n",
       "      <th>area</th>\n",
       "      <th>industry</th>\n",
       "      <th>list_date</th>\n",
       "    </tr>\n",
       "  </thead>\n",
       "  <tbody>\n",
       "    <tr>\n",
       "      <th>0</th>\n",
       "      <td>000001.SZ</td>\n",
       "      <td>000001</td>\n",
       "      <td>平安银行</td>\n",
       "      <td>深圳</td>\n",
       "      <td>银行</td>\n",
       "      <td>19910403</td>\n",
       "    </tr>\n",
       "    <tr>\n",
       "      <th>1</th>\n",
       "      <td>000002.SZ</td>\n",
       "      <td>000002</td>\n",
       "      <td>万科A</td>\n",
       "      <td>深圳</td>\n",
       "      <td>全国地产</td>\n",
       "      <td>19910129</td>\n",
       "    </tr>\n",
       "    <tr>\n",
       "      <th>2</th>\n",
       "      <td>000004.SZ</td>\n",
       "      <td>000004</td>\n",
       "      <td>国农科技</td>\n",
       "      <td>深圳</td>\n",
       "      <td>生物制药</td>\n",
       "      <td>19910114</td>\n",
       "    </tr>\n",
       "    <tr>\n",
       "      <th>3</th>\n",
       "      <td>000005.SZ</td>\n",
       "      <td>000005</td>\n",
       "      <td>世纪星源</td>\n",
       "      <td>深圳</td>\n",
       "      <td>环境保护</td>\n",
       "      <td>19901210</td>\n",
       "    </tr>\n",
       "    <tr>\n",
       "      <th>4</th>\n",
       "      <td>000006.SZ</td>\n",
       "      <td>000006</td>\n",
       "      <td>深振业A</td>\n",
       "      <td>深圳</td>\n",
       "      <td>区域地产</td>\n",
       "      <td>19920427</td>\n",
       "    </tr>\n",
       "  </tbody>\n",
       "</table>\n",
       "</div>"
      ],
      "text/plain": [
       "     ts_code  symbol  name area industry list_date\n",
       "0  000001.SZ  000001  平安银行   深圳       银行  19910403\n",
       "1  000002.SZ  000002   万科A   深圳     全国地产  19910129\n",
       "2  000004.SZ  000004  国农科技   深圳     生物制药  19910114\n",
       "3  000005.SZ  000005  世纪星源   深圳     环境保护  19901210\n",
       "4  000006.SZ  000006  深振业A   深圳     区域地产  19920427"
      ]
     },
     "execution_count": 2,
     "metadata": {},
     "output_type": "execute_result"
    }
   ],
   "source": [
    "#查询当前所有正常上市交易的股票列表\n",
    "\n",
    "data = pro.stock_basic(exchange='', list_status='L', fields='ts_code,symbol,name,area,industry,list_date')\n",
    "data.head()"
   ]
  },
  {
   "cell_type": "code",
   "execution_count": 7,
   "metadata": {},
   "outputs": [
    {
     "data": {
      "text/plain": [
       "array(['银行', '全国地产', '生物制药', '环境保护', '区域地产', '酒店餐饮', '运输设备', '综合类',\n",
       "       '建筑工程', '玻璃', '家用电器', '文教休闲', '装修装饰', '其他商业', '元器件', 'IT设备',\n",
       "       '其他建材', '汽车服务', '火力发电', '医药商业', '汽车配件', '广告包装', '轻工机械', '新型电力',\n",
       "       '房产服务', '饲料', '电气设备', '石油加工', '铅锌', '农业综合', '批发业', '通信设备', '旅游景点',\n",
       "       '港口', '机场', '石油贸易', '空运', '医疗保健', '商贸代理', '化学制药', '影视音像', '工程机械',\n",
       "       '软件服务', '证券', '化纤', '水泥', '专用机械', '供气供热', '农药化肥', '机床制造', '多元金融',\n",
       "       '百货', '中成药', '路桥', '造纸', '食品', '黄金', '化工原料', '矿物制品', '水运', '日用化工',\n",
       "       '机械基件', '汽车整车', '煤炭开采', '铁路', '染料涂料', '白酒', '林业', '水务', '水力发电',\n",
       "       '互联网', '旅游服务', '纺织', '铝', '保险', '园区开发', '小金属', '铜', '普钢', '航空',\n",
       "       '特种钢', '种植业', '出版业', '焦炭加工', '啤酒', '公路', '超市连锁', '钢加工', '渔业',\n",
       "       '农用机械', '软饮料', '化工机械', '塑料', '红黄酒', '橡胶', '家居用品', '摩托车', '电器仪表',\n",
       "       '服饰', '仓储物流', '纺织机械', '电器连锁', '半导体', '电信运营', '石油开采', '乳制品', '商品城',\n",
       "       None, '公共交通', '船舶', '陶瓷'], dtype=object)"
      ]
     },
     "execution_count": 7,
     "metadata": {},
     "output_type": "execute_result"
    }
   ],
   "source": [
    "data.industry.unique()"
   ]
  },
  {
   "cell_type": "code",
   "execution_count": 10,
   "metadata": {},
   "outputs": [
    {
     "data": {
      "text/plain": [
       "['中润资源',\n",
       " '湖南黄金',\n",
       " '恒邦股份',\n",
       " '荣华实业',\n",
       " '*ST金泰',\n",
       " '中金黄金',\n",
       " '山东黄金',\n",
       " '*ST刚泰',\n",
       " '园城黄金',\n",
       " '赤峰黄金',\n",
       " '西部黄金',\n",
       " '紫金矿业']"
      ]
     },
     "execution_count": 10,
     "metadata": {},
     "output_type": "execute_result"
    }
   ],
   "source": [
    "data.loc[data.industry=='黄金', 'name'].tolist()"
   ]
  },
  {
   "cell_type": "code",
   "execution_count": 7,
   "metadata": {},
   "outputs": [
    {
     "data": {
      "text/plain": [
       "(3656, 6)"
      ]
     },
     "execution_count": 7,
     "metadata": {},
     "output_type": "execute_result"
    }
   ],
   "source": [
    "data.shape"
   ]
  },
  {
   "cell_type": "code",
   "execution_count": 8,
   "metadata": {},
   "outputs": [
    {
     "data": {
      "text/html": [
       "<div>\n",
       "<style scoped>\n",
       "    .dataframe tbody tr th:only-of-type {\n",
       "        vertical-align: middle;\n",
       "    }\n",
       "\n",
       "    .dataframe tbody tr th {\n",
       "        vertical-align: top;\n",
       "    }\n",
       "\n",
       "    .dataframe thead th {\n",
       "        text-align: right;\n",
       "    }\n",
       "</style>\n",
       "<table border=\"1\" class=\"dataframe\">\n",
       "  <thead>\n",
       "    <tr style=\"text-align: right;\">\n",
       "      <th></th>\n",
       "      <th>ts_code</th>\n",
       "      <th>symbol</th>\n",
       "      <th>name</th>\n",
       "      <th>area</th>\n",
       "      <th>industry</th>\n",
       "      <th>list_date</th>\n",
       "    </tr>\n",
       "  </thead>\n",
       "  <tbody>\n",
       "    <tr>\n",
       "      <th>0</th>\n",
       "      <td>000001.SZ</td>\n",
       "      <td>000001</td>\n",
       "      <td>平安银行</td>\n",
       "      <td>深圳</td>\n",
       "      <td>银行</td>\n",
       "      <td>19910403</td>\n",
       "    </tr>\n",
       "    <tr>\n",
       "      <th>1</th>\n",
       "      <td>000002.SZ</td>\n",
       "      <td>000002</td>\n",
       "      <td>万科A</td>\n",
       "      <td>深圳</td>\n",
       "      <td>全国地产</td>\n",
       "      <td>19910129</td>\n",
       "    </tr>\n",
       "    <tr>\n",
       "      <th>2</th>\n",
       "      <td>000004.SZ</td>\n",
       "      <td>000004</td>\n",
       "      <td>国农科技</td>\n",
       "      <td>深圳</td>\n",
       "      <td>生物制药</td>\n",
       "      <td>19910114</td>\n",
       "    </tr>\n",
       "    <tr>\n",
       "      <th>3</th>\n",
       "      <td>000005.SZ</td>\n",
       "      <td>000005</td>\n",
       "      <td>世纪星源</td>\n",
       "      <td>深圳</td>\n",
       "      <td>环境保护</td>\n",
       "      <td>19901210</td>\n",
       "    </tr>\n",
       "    <tr>\n",
       "      <th>4</th>\n",
       "      <td>000006.SZ</td>\n",
       "      <td>000006</td>\n",
       "      <td>深振业A</td>\n",
       "      <td>深圳</td>\n",
       "      <td>区域地产</td>\n",
       "      <td>19920427</td>\n",
       "    </tr>\n",
       "  </tbody>\n",
       "</table>\n",
       "</div>"
      ],
      "text/plain": [
       "     ts_code  symbol  name area industry list_date\n",
       "0  000001.SZ  000001  平安银行   深圳       银行  19910403\n",
       "1  000002.SZ  000002   万科A   深圳     全国地产  19910129\n",
       "2  000004.SZ  000004  国农科技   深圳     生物制药  19910114\n",
       "3  000005.SZ  000005  世纪星源   深圳     环境保护  19901210\n",
       "4  000006.SZ  000006  深振业A   深圳     区域地产  19920427"
      ]
     },
     "execution_count": 8,
     "metadata": {},
     "output_type": "execute_result"
    }
   ],
   "source": [
    "#查询当前所有正常上市交易的股票列表\n",
    "\n",
    "data = pro.query('stock_basic', exchange='', list_status='L', fields='ts_code,symbol,name,area,industry,list_date')\n",
    "data.head()"
   ]
  },
  {
   "cell_type": "code",
   "execution_count": 9,
   "metadata": {},
   "outputs": [
    {
     "data": {
      "text/plain": [
       "(3656, 6)"
      ]
     },
     "execution_count": 9,
     "metadata": {},
     "output_type": "execute_result"
    }
   ],
   "source": [
    "data.shape"
   ]
  },
  {
   "cell_type": "markdown",
   "metadata": {},
   "source": [
    "### 交易日历trade_cal"
   ]
  },
  {
   "cell_type": "code",
   "execution_count": 10,
   "metadata": {},
   "outputs": [
    {
     "data": {
      "text/html": [
       "<div>\n",
       "<style scoped>\n",
       "    .dataframe tbody tr th:only-of-type {\n",
       "        vertical-align: middle;\n",
       "    }\n",
       "\n",
       "    .dataframe tbody tr th {\n",
       "        vertical-align: top;\n",
       "    }\n",
       "\n",
       "    .dataframe thead th {\n",
       "        text-align: right;\n",
       "    }\n",
       "</style>\n",
       "<table border=\"1\" class=\"dataframe\">\n",
       "  <thead>\n",
       "    <tr style=\"text-align: right;\">\n",
       "      <th></th>\n",
       "      <th>exchange</th>\n",
       "      <th>cal_date</th>\n",
       "      <th>is_open</th>\n",
       "    </tr>\n",
       "  </thead>\n",
       "  <tbody>\n",
       "    <tr>\n",
       "      <th>0</th>\n",
       "      <td>SSE</td>\n",
       "      <td>20180101</td>\n",
       "      <td>0</td>\n",
       "    </tr>\n",
       "    <tr>\n",
       "      <th>1</th>\n",
       "      <td>SSE</td>\n",
       "      <td>20180102</td>\n",
       "      <td>1</td>\n",
       "    </tr>\n",
       "    <tr>\n",
       "      <th>2</th>\n",
       "      <td>SSE</td>\n",
       "      <td>20180103</td>\n",
       "      <td>1</td>\n",
       "    </tr>\n",
       "    <tr>\n",
       "      <th>3</th>\n",
       "      <td>SSE</td>\n",
       "      <td>20180104</td>\n",
       "      <td>1</td>\n",
       "    </tr>\n",
       "    <tr>\n",
       "      <th>4</th>\n",
       "      <td>SSE</td>\n",
       "      <td>20180105</td>\n",
       "      <td>1</td>\n",
       "    </tr>\n",
       "  </tbody>\n",
       "</table>\n",
       "</div>"
      ],
      "text/plain": [
       "  exchange  cal_date  is_open\n",
       "0      SSE  20180101        0\n",
       "1      SSE  20180102        1\n",
       "2      SSE  20180103        1\n",
       "3      SSE  20180104        1\n",
       "4      SSE  20180105        1"
      ]
     },
     "execution_count": 10,
     "metadata": {},
     "output_type": "execute_result"
    }
   ],
   "source": [
    "df = pro.trade_cal(exchange='', start_date='20180101', end_date='20181231')\n",
    "df.head()"
   ]
  },
  {
   "cell_type": "code",
   "execution_count": null,
   "metadata": {},
   "outputs": [],
   "source": [
    "pro.query('trade_cal', start_date='20180101', end_date='20181231')"
   ]
  },
  {
   "cell_type": "markdown",
   "metadata": {},
   "source": [
    "### 上市公司基本信息stock_company"
   ]
  },
  {
   "cell_type": "code",
   "execution_count": 12,
   "metadata": {},
   "outputs": [
    {
     "data": {
      "text/html": [
       "<div>\n",
       "<style scoped>\n",
       "    .dataframe tbody tr th:only-of-type {\n",
       "        vertical-align: middle;\n",
       "    }\n",
       "\n",
       "    .dataframe tbody tr th {\n",
       "        vertical-align: top;\n",
       "    }\n",
       "\n",
       "    .dataframe thead th {\n",
       "        text-align: right;\n",
       "    }\n",
       "</style>\n",
       "<table border=\"1\" class=\"dataframe\">\n",
       "  <thead>\n",
       "    <tr style=\"text-align: right;\">\n",
       "      <th></th>\n",
       "      <th>ts_code</th>\n",
       "      <th>chairman</th>\n",
       "      <th>manager</th>\n",
       "      <th>secretary</th>\n",
       "      <th>reg_capital</th>\n",
       "      <th>setup_date</th>\n",
       "      <th>province</th>\n",
       "    </tr>\n",
       "  </thead>\n",
       "  <tbody>\n",
       "    <tr>\n",
       "      <th>0</th>\n",
       "      <td>002927.SZ</td>\n",
       "      <td>黄正乾</td>\n",
       "      <td>黄正乾</td>\n",
       "      <td>余辉</td>\n",
       "      <td>17071.600</td>\n",
       "      <td>20081107</td>\n",
       "      <td>贵州</td>\n",
       "    </tr>\n",
       "    <tr>\n",
       "      <th>1</th>\n",
       "      <td>300696.SZ</td>\n",
       "      <td>范庆新</td>\n",
       "      <td>杨有新</td>\n",
       "      <td>陈苗</td>\n",
       "      <td>11920.000</td>\n",
       "      <td>20040301</td>\n",
       "      <td>四川</td>\n",
       "    </tr>\n",
       "    <tr>\n",
       "      <th>2</th>\n",
       "      <td>002960.SZ</td>\n",
       "      <td>蔡为民</td>\n",
       "      <td>蔡为民</td>\n",
       "      <td>卢文浩</td>\n",
       "      <td>18000.000</td>\n",
       "      <td>20010615</td>\n",
       "      <td>河北</td>\n",
       "    </tr>\n",
       "    <tr>\n",
       "      <th>3</th>\n",
       "      <td>300742.SZ</td>\n",
       "      <td>李占江</td>\n",
       "      <td>李占江</td>\n",
       "      <td>钟孟光</td>\n",
       "      <td>7849.857</td>\n",
       "      <td>20120419</td>\n",
       "      <td>江苏</td>\n",
       "    </tr>\n",
       "    <tr>\n",
       "      <th>4</th>\n",
       "      <td>300700.SZ</td>\n",
       "      <td>段志明</td>\n",
       "      <td>段志明</td>\n",
       "      <td>周家华</td>\n",
       "      <td>8240.000</td>\n",
       "      <td>20090408</td>\n",
       "      <td>湖南</td>\n",
       "    </tr>\n",
       "  </tbody>\n",
       "</table>\n",
       "</div>"
      ],
      "text/plain": [
       "     ts_code chairman manager secretary  reg_capital setup_date province\n",
       "0  002927.SZ      黄正乾     黄正乾        余辉    17071.600   20081107       贵州\n",
       "1  300696.SZ      范庆新     杨有新        陈苗    11920.000   20040301       四川\n",
       "2  002960.SZ      蔡为民     蔡为民       卢文浩    18000.000   20010615       河北\n",
       "3  300742.SZ      李占江     李占江       钟孟光     7849.857   20120419       江苏\n",
       "4  300700.SZ      段志明     段志明       周家华     8240.000   20090408       湖南"
      ]
     },
     "execution_count": 12,
     "metadata": {},
     "output_type": "execute_result"
    }
   ],
   "source": [
    "df = pro.stock_company(exchange='SZSE', fields='ts_code,chairman,manager,secretary,reg_capital,setup_date,province')\n",
    "df.head()"
   ]
  },
  {
   "cell_type": "markdown",
   "metadata": {},
   "source": [
    "## 行情数据"
   ]
  },
  {
   "cell_type": "markdown",
   "metadata": {},
   "source": [
    "### 获取日线行情 前复权"
   ]
  },
  {
   "cell_type": "code",
   "execution_count": 20,
   "metadata": {},
   "outputs": [],
   "source": [
    "df = ts.pro_bar(ts_code='002230.SZ', api=pro, adj='qfq', start_date='20180101', end_date='20191122')"
   ]
  },
  {
   "cell_type": "code",
   "execution_count": 23,
   "metadata": {},
   "outputs": [
    {
     "data": {
      "text/html": [
       "<div>\n",
       "<style scoped>\n",
       "    .dataframe tbody tr th:only-of-type {\n",
       "        vertical-align: middle;\n",
       "    }\n",
       "\n",
       "    .dataframe tbody tr th {\n",
       "        vertical-align: top;\n",
       "    }\n",
       "\n",
       "    .dataframe thead th {\n",
       "        text-align: right;\n",
       "    }\n",
       "</style>\n",
       "<table border=\"1\" class=\"dataframe\">\n",
       "  <thead>\n",
       "    <tr style=\"text-align: right;\">\n",
       "      <th></th>\n",
       "      <th>ts_code</th>\n",
       "      <th>trade_date</th>\n",
       "      <th>open</th>\n",
       "      <th>high</th>\n",
       "      <th>low</th>\n",
       "      <th>close</th>\n",
       "      <th>pre_close</th>\n",
       "      <th>change</th>\n",
       "      <th>pct_chg</th>\n",
       "      <th>vol</th>\n",
       "      <th>amount</th>\n",
       "    </tr>\n",
       "  </thead>\n",
       "  <tbody>\n",
       "    <tr>\n",
       "      <th>26</th>\n",
       "      <td>002230.SZ</td>\n",
       "      <td>20191017</td>\n",
       "      <td>34.92</td>\n",
       "      <td>35.37</td>\n",
       "      <td>34.76</td>\n",
       "      <td>35.1</td>\n",
       "      <td>34.92</td>\n",
       "      <td>0.18</td>\n",
       "      <td>0.52</td>\n",
       "      <td>416685.96</td>\n",
       "      <td>1465337.015</td>\n",
       "    </tr>\n",
       "  </tbody>\n",
       "</table>\n",
       "</div>"
      ],
      "text/plain": [
       "      ts_code trade_date   open   high    low  close  pre_close  change  \\\n",
       "26  002230.SZ   20191017  34.92  35.37  34.76   35.1      34.92    0.18   \n",
       "\n",
       "    pct_chg        vol       amount  \n",
       "26     0.52  416685.96  1465337.015  "
      ]
     },
     "execution_count": 23,
     "metadata": {},
     "output_type": "execute_result"
    }
   ],
   "source": [
    "df[df.trade_date=='20191017']"
   ]
  },
  {
   "cell_type": "markdown",
   "metadata": {},
   "source": [
    "是否除权的pct_chg是不同的，pct_chg = close/pre_close-1"
   ]
  },
  {
   "cell_type": "code",
   "execution_count": 26,
   "metadata": {},
   "outputs": [
    {
     "data": {
      "text/plain": [
       "1.0051546391752577"
      ]
     },
     "execution_count": 26,
     "metadata": {},
     "output_type": "execute_result"
    }
   ],
   "source": [
    "35.1/34.92"
   ]
  },
  {
   "cell_type": "code",
   "execution_count": 24,
   "metadata": {},
   "outputs": [],
   "source": [
    "df = ts.pro_bar(ts_code='002230.SZ', api=pro, adj=None, start_date='20180101', end_date='20191122')"
   ]
  },
  {
   "cell_type": "code",
   "execution_count": 25,
   "metadata": {},
   "outputs": [
    {
     "data": {
      "text/html": [
       "<div>\n",
       "<style scoped>\n",
       "    .dataframe tbody tr th:only-of-type {\n",
       "        vertical-align: middle;\n",
       "    }\n",
       "\n",
       "    .dataframe tbody tr th {\n",
       "        vertical-align: top;\n",
       "    }\n",
       "\n",
       "    .dataframe thead th {\n",
       "        text-align: right;\n",
       "    }\n",
       "</style>\n",
       "<table border=\"1\" class=\"dataframe\">\n",
       "  <thead>\n",
       "    <tr style=\"text-align: right;\">\n",
       "      <th></th>\n",
       "      <th>ts_code</th>\n",
       "      <th>trade_date</th>\n",
       "      <th>open</th>\n",
       "      <th>high</th>\n",
       "      <th>low</th>\n",
       "      <th>close</th>\n",
       "      <th>pre_close</th>\n",
       "      <th>change</th>\n",
       "      <th>pct_chg</th>\n",
       "      <th>vol</th>\n",
       "      <th>amount</th>\n",
       "    </tr>\n",
       "  </thead>\n",
       "  <tbody>\n",
       "    <tr>\n",
       "      <th>26</th>\n",
       "      <td>002230.SZ</td>\n",
       "      <td>20191017</td>\n",
       "      <td>35.02</td>\n",
       "      <td>35.47</td>\n",
       "      <td>34.86</td>\n",
       "      <td>35.2</td>\n",
       "      <td>35.02</td>\n",
       "      <td>0.18</td>\n",
       "      <td>0.514</td>\n",
       "      <td>416685.96</td>\n",
       "      <td>1465337.015</td>\n",
       "    </tr>\n",
       "  </tbody>\n",
       "</table>\n",
       "</div>"
      ],
      "text/plain": [
       "      ts_code trade_date   open   high    low  close  pre_close  change  \\\n",
       "26  002230.SZ   20191017  35.02  35.47  34.86   35.2      35.02    0.18   \n",
       "\n",
       "    pct_chg        vol       amount  \n",
       "26    0.514  416685.96  1465337.015  "
      ]
     },
     "execution_count": 25,
     "metadata": {},
     "output_type": "execute_result"
    }
   ],
   "source": [
    "df[df.trade_date=='20191017']"
   ]
  },
  {
   "cell_type": "code",
   "execution_count": 27,
   "metadata": {},
   "outputs": [
    {
     "data": {
      "text/plain": [
       "1.005139920045688"
      ]
     },
     "execution_count": 27,
     "metadata": {},
     "output_type": "execute_result"
    }
   ],
   "source": [
    "35.2/35.02"
   ]
  },
  {
   "cell_type": "markdown",
   "metadata": {},
   "source": [
    "### 日线行情daily"
   ]
  },
  {
   "cell_type": "code",
   "execution_count": 13,
   "metadata": {},
   "outputs": [
    {
     "data": {
      "text/html": [
       "<div>\n",
       "<style scoped>\n",
       "    .dataframe tbody tr th:only-of-type {\n",
       "        vertical-align: middle;\n",
       "    }\n",
       "\n",
       "    .dataframe tbody tr th {\n",
       "        vertical-align: top;\n",
       "    }\n",
       "\n",
       "    .dataframe thead th {\n",
       "        text-align: right;\n",
       "    }\n",
       "</style>\n",
       "<table border=\"1\" class=\"dataframe\">\n",
       "  <thead>\n",
       "    <tr style=\"text-align: right;\">\n",
       "      <th></th>\n",
       "      <th>ts_code</th>\n",
       "      <th>trade_date</th>\n",
       "      <th>open</th>\n",
       "      <th>high</th>\n",
       "      <th>low</th>\n",
       "      <th>close</th>\n",
       "      <th>pre_close</th>\n",
       "      <th>change</th>\n",
       "      <th>pct_chg</th>\n",
       "      <th>vol</th>\n",
       "      <th>amount</th>\n",
       "    </tr>\n",
       "  </thead>\n",
       "  <tbody>\n",
       "    <tr>\n",
       "      <th>0</th>\n",
       "      <td>000001.SZ</td>\n",
       "      <td>20180718</td>\n",
       "      <td>8.75</td>\n",
       "      <td>8.85</td>\n",
       "      <td>8.69</td>\n",
       "      <td>8.70</td>\n",
       "      <td>8.72</td>\n",
       "      <td>-0.02</td>\n",
       "      <td>-0.23</td>\n",
       "      <td>525152.77</td>\n",
       "      <td>460697.377</td>\n",
       "    </tr>\n",
       "    <tr>\n",
       "      <th>1</th>\n",
       "      <td>000001.SZ</td>\n",
       "      <td>20180717</td>\n",
       "      <td>8.74</td>\n",
       "      <td>8.75</td>\n",
       "      <td>8.66</td>\n",
       "      <td>8.72</td>\n",
       "      <td>8.73</td>\n",
       "      <td>-0.01</td>\n",
       "      <td>-0.11</td>\n",
       "      <td>375356.33</td>\n",
       "      <td>326396.994</td>\n",
       "    </tr>\n",
       "    <tr>\n",
       "      <th>2</th>\n",
       "      <td>000001.SZ</td>\n",
       "      <td>20180716</td>\n",
       "      <td>8.85</td>\n",
       "      <td>8.90</td>\n",
       "      <td>8.69</td>\n",
       "      <td>8.73</td>\n",
       "      <td>8.88</td>\n",
       "      <td>-0.15</td>\n",
       "      <td>-1.69</td>\n",
       "      <td>689845.58</td>\n",
       "      <td>603427.713</td>\n",
       "    </tr>\n",
       "    <tr>\n",
       "      <th>3</th>\n",
       "      <td>000001.SZ</td>\n",
       "      <td>20180713</td>\n",
       "      <td>8.92</td>\n",
       "      <td>8.94</td>\n",
       "      <td>8.82</td>\n",
       "      <td>8.88</td>\n",
       "      <td>8.88</td>\n",
       "      <td>0.00</td>\n",
       "      <td>0.00</td>\n",
       "      <td>603378.21</td>\n",
       "      <td>535401.175</td>\n",
       "    </tr>\n",
       "    <tr>\n",
       "      <th>4</th>\n",
       "      <td>000001.SZ</td>\n",
       "      <td>20180712</td>\n",
       "      <td>8.60</td>\n",
       "      <td>8.97</td>\n",
       "      <td>8.58</td>\n",
       "      <td>8.88</td>\n",
       "      <td>8.64</td>\n",
       "      <td>0.24</td>\n",
       "      <td>2.78</td>\n",
       "      <td>1140492.31</td>\n",
       "      <td>1008658.828</td>\n",
       "    </tr>\n",
       "  </tbody>\n",
       "</table>\n",
       "</div>"
      ],
      "text/plain": [
       "     ts_code trade_date  open  high   low  close  pre_close  change  pct_chg  \\\n",
       "0  000001.SZ   20180718  8.75  8.85  8.69   8.70       8.72   -0.02    -0.23   \n",
       "1  000001.SZ   20180717  8.74  8.75  8.66   8.72       8.73   -0.01    -0.11   \n",
       "2  000001.SZ   20180716  8.85  8.90  8.69   8.73       8.88   -0.15    -1.69   \n",
       "3  000001.SZ   20180713  8.92  8.94  8.82   8.88       8.88    0.00     0.00   \n",
       "4  000001.SZ   20180712  8.60  8.97  8.58   8.88       8.64    0.24     2.78   \n",
       "\n",
       "          vol       amount  \n",
       "0   525152.77   460697.377  \n",
       "1   375356.33   326396.994  \n",
       "2   689845.58   603427.713  \n",
       "3   603378.21   535401.175  \n",
       "4  1140492.31  1008658.828  "
      ]
     },
     "execution_count": 13,
     "metadata": {},
     "output_type": "execute_result"
    }
   ],
   "source": [
    "df = pro.daily(ts_code='000001.SZ', start_date='20180701', end_date='20180718')\n",
    "df.head()"
   ]
  },
  {
   "cell_type": "code",
   "execution_count": null,
   "metadata": {},
   "outputs": [],
   "source": [
    "df = pro.query('daily', ts_code='000001.SZ', start_date='20180701', end_date='20180718')"
   ]
  },
  {
   "cell_type": "markdown",
   "metadata": {},
   "source": [
    "#### 也可以通过日期取历史某一天的全部历史"
   ]
  },
  {
   "cell_type": "code",
   "execution_count": 14,
   "metadata": {},
   "outputs": [
    {
     "data": {
      "text/html": [
       "<div>\n",
       "<style scoped>\n",
       "    .dataframe tbody tr th:only-of-type {\n",
       "        vertical-align: middle;\n",
       "    }\n",
       "\n",
       "    .dataframe tbody tr th {\n",
       "        vertical-align: top;\n",
       "    }\n",
       "\n",
       "    .dataframe thead th {\n",
       "        text-align: right;\n",
       "    }\n",
       "</style>\n",
       "<table border=\"1\" class=\"dataframe\">\n",
       "  <thead>\n",
       "    <tr style=\"text-align: right;\">\n",
       "      <th></th>\n",
       "      <th>ts_code</th>\n",
       "      <th>trade_date</th>\n",
       "      <th>open</th>\n",
       "      <th>high</th>\n",
       "      <th>low</th>\n",
       "      <th>close</th>\n",
       "      <th>pre_close</th>\n",
       "      <th>change</th>\n",
       "      <th>pct_chg</th>\n",
       "      <th>vol</th>\n",
       "      <th>amount</th>\n",
       "    </tr>\n",
       "  </thead>\n",
       "  <tbody>\n",
       "    <tr>\n",
       "      <th>0</th>\n",
       "      <td>000001.SZ</td>\n",
       "      <td>20180810</td>\n",
       "      <td>9.30</td>\n",
       "      <td>9.32</td>\n",
       "      <td>9.16</td>\n",
       "      <td>9.23</td>\n",
       "      <td>9.29</td>\n",
       "      <td>-0.06</td>\n",
       "      <td>-0.6459</td>\n",
       "      <td>424168.36</td>\n",
       "      <td>391366.341</td>\n",
       "    </tr>\n",
       "    <tr>\n",
       "      <th>1</th>\n",
       "      <td>000002.SZ</td>\n",
       "      <td>20180810</td>\n",
       "      <td>23.00</td>\n",
       "      <td>24.07</td>\n",
       "      <td>22.93</td>\n",
       "      <td>23.18</td>\n",
       "      <td>22.48</td>\n",
       "      <td>0.70</td>\n",
       "      <td>3.1139</td>\n",
       "      <td>1201163.03</td>\n",
       "      <td>2820091.738</td>\n",
       "    </tr>\n",
       "    <tr>\n",
       "      <th>2</th>\n",
       "      <td>000004.SZ</td>\n",
       "      <td>20180810</td>\n",
       "      <td>18.39</td>\n",
       "      <td>18.75</td>\n",
       "      <td>18.03</td>\n",
       "      <td>18.27</td>\n",
       "      <td>18.85</td>\n",
       "      <td>-0.58</td>\n",
       "      <td>-3.0769</td>\n",
       "      <td>17253.09</td>\n",
       "      <td>31617.673</td>\n",
       "    </tr>\n",
       "    <tr>\n",
       "      <th>3</th>\n",
       "      <td>000005.SZ</td>\n",
       "      <td>20180810</td>\n",
       "      <td>3.05</td>\n",
       "      <td>3.14</td>\n",
       "      <td>3.02</td>\n",
       "      <td>3.08</td>\n",
       "      <td>3.06</td>\n",
       "      <td>0.02</td>\n",
       "      <td>0.6536</td>\n",
       "      <td>56844.76</td>\n",
       "      <td>17559.883</td>\n",
       "    </tr>\n",
       "    <tr>\n",
       "      <th>4</th>\n",
       "      <td>000006.SZ</td>\n",
       "      <td>20180810</td>\n",
       "      <td>5.61</td>\n",
       "      <td>5.93</td>\n",
       "      <td>5.61</td>\n",
       "      <td>5.79</td>\n",
       "      <td>5.60</td>\n",
       "      <td>0.19</td>\n",
       "      <td>3.3929</td>\n",
       "      <td>151639.23</td>\n",
       "      <td>87710.639</td>\n",
       "    </tr>\n",
       "  </tbody>\n",
       "</table>\n",
       "</div>"
      ],
      "text/plain": [
       "     ts_code trade_date   open   high    low  close  pre_close  change  \\\n",
       "0  000001.SZ   20180810   9.30   9.32   9.16   9.23       9.29   -0.06   \n",
       "1  000002.SZ   20180810  23.00  24.07  22.93  23.18      22.48    0.70   \n",
       "2  000004.SZ   20180810  18.39  18.75  18.03  18.27      18.85   -0.58   \n",
       "3  000005.SZ   20180810   3.05   3.14   3.02   3.08       3.06    0.02   \n",
       "4  000006.SZ   20180810   5.61   5.93   5.61   5.79       5.60    0.19   \n",
       "\n",
       "   pct_chg         vol       amount  \n",
       "0  -0.6459   424168.36   391366.341  \n",
       "1   3.1139  1201163.03  2820091.738  \n",
       "2  -3.0769    17253.09    31617.673  \n",
       "3   0.6536    56844.76    17559.883  \n",
       "4   3.3929   151639.23    87710.639  "
      ]
     },
     "execution_count": 14,
     "metadata": {},
     "output_type": "execute_result"
    }
   ],
   "source": [
    "df = pro.daily(trade_date='20180810')\n",
    "df.head()"
   ]
  },
  {
   "cell_type": "code",
   "execution_count": 15,
   "metadata": {},
   "outputs": [
    {
     "data": {
      "text/plain": [
       "(3412, 11)"
      ]
     },
     "execution_count": 15,
     "metadata": {},
     "output_type": "execute_result"
    }
   ],
   "source": [
    "df.shape"
   ]
  },
  {
   "cell_type": "markdown",
   "metadata": {},
   "source": [
    "### 每日指标daily_basic"
   ]
  },
  {
   "cell_type": "code",
   "execution_count": 2,
   "metadata": {},
   "outputs": [
    {
     "data": {
      "text/html": [
       "<div>\n",
       "<style scoped>\n",
       "    .dataframe tbody tr th:only-of-type {\n",
       "        vertical-align: middle;\n",
       "    }\n",
       "\n",
       "    .dataframe tbody tr th {\n",
       "        vertical-align: top;\n",
       "    }\n",
       "\n",
       "    .dataframe thead th {\n",
       "        text-align: right;\n",
       "    }\n",
       "</style>\n",
       "<table border=\"1\" class=\"dataframe\">\n",
       "  <thead>\n",
       "    <tr style=\"text-align: right;\">\n",
       "      <th></th>\n",
       "      <th>ts_code</th>\n",
       "      <th>trade_date</th>\n",
       "      <th>turnover_rate</th>\n",
       "      <th>volume_ratio</th>\n",
       "      <th>pe</th>\n",
       "      <th>pb</th>\n",
       "    </tr>\n",
       "  </thead>\n",
       "  <tbody>\n",
       "    <tr>\n",
       "      <th>0</th>\n",
       "      <td>600230.SH</td>\n",
       "      <td>20180726</td>\n",
       "      <td>2.4584</td>\n",
       "      <td>0.72</td>\n",
       "      <td>8.6928</td>\n",
       "      <td>3.7203</td>\n",
       "    </tr>\n",
       "    <tr>\n",
       "      <th>1</th>\n",
       "      <td>600237.SH</td>\n",
       "      <td>20180726</td>\n",
       "      <td>1.4737</td>\n",
       "      <td>0.88</td>\n",
       "      <td>166.4001</td>\n",
       "      <td>1.8868</td>\n",
       "    </tr>\n",
       "    <tr>\n",
       "      <th>2</th>\n",
       "      <td>002465.SZ</td>\n",
       "      <td>20180726</td>\n",
       "      <td>0.7489</td>\n",
       "      <td>0.72</td>\n",
       "      <td>71.8943</td>\n",
       "      <td>2.6391</td>\n",
       "    </tr>\n",
       "    <tr>\n",
       "      <th>3</th>\n",
       "      <td>300732.SZ</td>\n",
       "      <td>20180726</td>\n",
       "      <td>6.7083</td>\n",
       "      <td>0.77</td>\n",
       "      <td>21.8101</td>\n",
       "      <td>3.2513</td>\n",
       "    </tr>\n",
       "    <tr>\n",
       "      <th>4</th>\n",
       "      <td>600007.SH</td>\n",
       "      <td>20180726</td>\n",
       "      <td>0.0381</td>\n",
       "      <td>0.61</td>\n",
       "      <td>23.7696</td>\n",
       "      <td>2.3774</td>\n",
       "    </tr>\n",
       "  </tbody>\n",
       "</table>\n",
       "</div>"
      ],
      "text/plain": [
       "     ts_code trade_date  turnover_rate  volume_ratio        pe      pb\n",
       "0  600230.SH   20180726         2.4584          0.72    8.6928  3.7203\n",
       "1  600237.SH   20180726         1.4737          0.88  166.4001  1.8868\n",
       "2  002465.SZ   20180726         0.7489          0.72   71.8943  2.6391\n",
       "3  300732.SZ   20180726         6.7083          0.77   21.8101  3.2513\n",
       "4  600007.SH   20180726         0.0381          0.61   23.7696  2.3774"
      ]
     },
     "execution_count": 2,
     "metadata": {},
     "output_type": "execute_result"
    }
   ],
   "source": [
    "df = pro.daily_basic(ts_code='', trade_date='20180726', fields='ts_code,trade_date,turnover_rate,volume_ratio,pe,pb')\n",
    "df.head()"
   ]
  },
  {
   "cell_type": "code",
   "execution_count": 3,
   "metadata": {},
   "outputs": [
    {
     "data": {
      "text/plain": [
       "(3388, 6)"
      ]
     },
     "execution_count": 3,
     "metadata": {},
     "output_type": "execute_result"
    }
   ],
   "source": [
    "df.shape"
   ]
  },
  {
   "cell_type": "code",
   "execution_count": 5,
   "metadata": {},
   "outputs": [
    {
     "data": {
      "text/html": [
       "<div>\n",
       "<style scoped>\n",
       "    .dataframe tbody tr th:only-of-type {\n",
       "        vertical-align: middle;\n",
       "    }\n",
       "\n",
       "    .dataframe tbody tr th {\n",
       "        vertical-align: top;\n",
       "    }\n",
       "\n",
       "    .dataframe thead th {\n",
       "        text-align: right;\n",
       "    }\n",
       "</style>\n",
       "<table border=\"1\" class=\"dataframe\">\n",
       "  <thead>\n",
       "    <tr style=\"text-align: right;\">\n",
       "      <th></th>\n",
       "      <th>ts_code</th>\n",
       "      <th>trade_date</th>\n",
       "      <th>turnover_rate</th>\n",
       "      <th>volume_ratio</th>\n",
       "      <th>pe</th>\n",
       "      <th>pb</th>\n",
       "    </tr>\n",
       "  </thead>\n",
       "  <tbody>\n",
       "    <tr>\n",
       "      <th>0</th>\n",
       "      <td>600126.SH</td>\n",
       "      <td>20010103</td>\n",
       "      <td>0.7893</td>\n",
       "      <td>1.56</td>\n",
       "      <td>32.0225</td>\n",
       "      <td>5.0741</td>\n",
       "    </tr>\n",
       "    <tr>\n",
       "      <th>1</th>\n",
       "      <td>600130.SH</td>\n",
       "      <td>20010103</td>\n",
       "      <td>2.9852</td>\n",
       "      <td>3.13</td>\n",
       "      <td>107.4221</td>\n",
       "      <td>6.4621</td>\n",
       "    </tr>\n",
       "    <tr>\n",
       "      <th>2</th>\n",
       "      <td>600628.SH</td>\n",
       "      <td>20010103</td>\n",
       "      <td>1.2413</td>\n",
       "      <td>1.86</td>\n",
       "      <td>49.6321</td>\n",
       "      <td>5.5915</td>\n",
       "    </tr>\n",
       "    <tr>\n",
       "      <th>3</th>\n",
       "      <td>000066.SZ</td>\n",
       "      <td>20010103</td>\n",
       "      <td>0.9122</td>\n",
       "      <td>1.71</td>\n",
       "      <td>43.6149</td>\n",
       "      <td>8.4810</td>\n",
       "    </tr>\n",
       "    <tr>\n",
       "      <th>4</th>\n",
       "      <td>000430.SZ</td>\n",
       "      <td>20010103</td>\n",
       "      <td>1.4054</td>\n",
       "      <td>1.95</td>\n",
       "      <td>1355.9917</td>\n",
       "      <td>10.5757</td>\n",
       "    </tr>\n",
       "  </tbody>\n",
       "</table>\n",
       "</div>"
      ],
      "text/plain": [
       "     ts_code trade_date  turnover_rate  volume_ratio         pe       pb\n",
       "0  600126.SH   20010103         0.7893          1.56    32.0225   5.0741\n",
       "1  600130.SH   20010103         2.9852          3.13   107.4221   6.4621\n",
       "2  600628.SH   20010103         1.2413          1.86    49.6321   5.5915\n",
       "3  000066.SZ   20010103         0.9122          1.71    43.6149   8.4810\n",
       "4  000430.SZ   20010103         1.4054          1.95  1355.9917  10.5757"
      ]
     },
     "execution_count": 5,
     "metadata": {},
     "output_type": "execute_result"
    }
   ],
   "source": [
    "df = pro.daily_basic(ts_code='', trade_date='20010103', fields='ts_code,trade_date,turnover_rate,volume_ratio,pe,pb')\n",
    "df.head()"
   ]
  },
  {
   "cell_type": "code",
   "execution_count": 6,
   "metadata": {},
   "outputs": [
    {
     "data": {
      "text/plain": [
       "(1048, 6)"
      ]
     },
     "execution_count": 6,
     "metadata": {},
     "output_type": "execute_result"
    }
   ],
   "source": [
    "df.shape"
   ]
  },
  {
   "cell_type": "code",
   "execution_count": null,
   "metadata": {},
   "outputs": [],
   "source": [
    "df = pro.query('daily_basic', ts_code='', trade_date='20180726',fields='ts_code,trade_date,turnover_rate,volume_ratio,pe,pb')"
   ]
  },
  {
   "cell_type": "markdown",
   "metadata": {},
   "source": [
    "## 财务数据\n",
    "Pro版的财务数据跟旧版有着明显的差异，Pro提供的是完整的财务指标和全部历史数据，同时也提供质量比较高的业绩预告和业绩快报数据。我们将继续完善和充实财务指标，为大家提供更全面的反映上市公司基本面情况的数据，希望大家愉快的使用。"
   ]
  },
  {
   "cell_type": "markdown",
   "metadata": {},
   "source": [
    "### 利润表income"
   ]
  },
  {
   "cell_type": "code",
   "execution_count": 18,
   "metadata": {},
   "outputs": [
    {
     "data": {
      "text/html": [
       "<div>\n",
       "<style scoped>\n",
       "    .dataframe tbody tr th:only-of-type {\n",
       "        vertical-align: middle;\n",
       "    }\n",
       "\n",
       "    .dataframe tbody tr th {\n",
       "        vertical-align: top;\n",
       "    }\n",
       "\n",
       "    .dataframe thead th {\n",
       "        text-align: right;\n",
       "    }\n",
       "</style>\n",
       "<table border=\"1\" class=\"dataframe\">\n",
       "  <thead>\n",
       "    <tr style=\"text-align: right;\">\n",
       "      <th></th>\n",
       "      <th>ts_code</th>\n",
       "      <th>ann_date</th>\n",
       "      <th>f_ann_date</th>\n",
       "      <th>end_date</th>\n",
       "      <th>report_type</th>\n",
       "      <th>comp_type</th>\n",
       "      <th>basic_eps</th>\n",
       "      <th>diluted_eps</th>\n",
       "    </tr>\n",
       "  </thead>\n",
       "  <tbody>\n",
       "    <tr>\n",
       "      <th>0</th>\n",
       "      <td>600000.SH</td>\n",
       "      <td>20180428</td>\n",
       "      <td>20180428</td>\n",
       "      <td>20180331</td>\n",
       "      <td>1</td>\n",
       "      <td>2</td>\n",
       "      <td>0.46</td>\n",
       "      <td>0.46</td>\n",
       "    </tr>\n",
       "    <tr>\n",
       "      <th>1</th>\n",
       "      <td>600000.SH</td>\n",
       "      <td>20180428</td>\n",
       "      <td>20180428</td>\n",
       "      <td>20171231</td>\n",
       "      <td>1</td>\n",
       "      <td>2</td>\n",
       "      <td>1.84</td>\n",
       "      <td>1.84</td>\n",
       "    </tr>\n",
       "  </tbody>\n",
       "</table>\n",
       "</div>"
      ],
      "text/plain": [
       "     ts_code  ann_date f_ann_date  end_date report_type comp_type  basic_eps  \\\n",
       "0  600000.SH  20180428   20180428  20180331           1         2       0.46   \n",
       "1  600000.SH  20180428   20180428  20171231           1         2       1.84   \n",
       "\n",
       "   diluted_eps  \n",
       "0         0.46  \n",
       "1         1.84  "
      ]
     },
     "execution_count": 18,
     "metadata": {},
     "output_type": "execute_result"
    }
   ],
   "source": [
    "df = pro.income(ts_code='600000.SH', start_date='20180101', end_date='20180730', fields='ts_code,ann_date,f_ann_date,end_date,report_type,comp_type,basic_eps,diluted_eps')\n",
    "df.head()"
   ]
  },
  {
   "cell_type": "markdown",
   "metadata": {},
   "source": [
    "## 市场参考数据"
   ]
  },
  {
   "cell_type": "markdown",
   "metadata": {},
   "source": [
    "### 概念股分类表"
   ]
  },
  {
   "cell_type": "code",
   "execution_count": 19,
   "metadata": {},
   "outputs": [
    {
     "data": {
      "text/html": [
       "<div>\n",
       "<style scoped>\n",
       "    .dataframe tbody tr th:only-of-type {\n",
       "        vertical-align: middle;\n",
       "    }\n",
       "\n",
       "    .dataframe tbody tr th {\n",
       "        vertical-align: top;\n",
       "    }\n",
       "\n",
       "    .dataframe thead th {\n",
       "        text-align: right;\n",
       "    }\n",
       "</style>\n",
       "<table border=\"1\" class=\"dataframe\">\n",
       "  <thead>\n",
       "    <tr style=\"text-align: right;\">\n",
       "      <th></th>\n",
       "      <th>code</th>\n",
       "      <th>name</th>\n",
       "      <th>src</th>\n",
       "    </tr>\n",
       "  </thead>\n",
       "  <tbody>\n",
       "    <tr>\n",
       "      <th>0</th>\n",
       "      <td>TS0</td>\n",
       "      <td>密集调研</td>\n",
       "      <td>ts</td>\n",
       "    </tr>\n",
       "    <tr>\n",
       "      <th>1</th>\n",
       "      <td>TS1</td>\n",
       "      <td>南北船合并</td>\n",
       "      <td>ts</td>\n",
       "    </tr>\n",
       "    <tr>\n",
       "      <th>2</th>\n",
       "      <td>TS2</td>\n",
       "      <td>5G</td>\n",
       "      <td>ts</td>\n",
       "    </tr>\n",
       "    <tr>\n",
       "      <th>3</th>\n",
       "      <td>TS3</td>\n",
       "      <td>机场</td>\n",
       "      <td>ts</td>\n",
       "    </tr>\n",
       "    <tr>\n",
       "      <th>4</th>\n",
       "      <td>TS4</td>\n",
       "      <td>高价股</td>\n",
       "      <td>ts</td>\n",
       "    </tr>\n",
       "  </tbody>\n",
       "</table>\n",
       "</div>"
      ],
      "text/plain": [
       "  code   name src\n",
       "0  TS0   密集调研  ts\n",
       "1  TS1  南北船合并  ts\n",
       "2  TS2     5G  ts\n",
       "3  TS3     机场  ts\n",
       "4  TS4    高价股  ts"
      ]
     },
     "execution_count": 19,
     "metadata": {},
     "output_type": "execute_result"
    }
   ],
   "source": [
    "df = pro.concept()\n",
    "df.head()"
   ]
  },
  {
   "cell_type": "markdown",
   "metadata": {},
   "source": [
    "### 概念股列表concept_detail"
   ]
  },
  {
   "cell_type": "code",
   "execution_count": 20,
   "metadata": {},
   "outputs": [
    {
     "data": {
      "text/html": [
       "<div>\n",
       "<style scoped>\n",
       "    .dataframe tbody tr th:only-of-type {\n",
       "        vertical-align: middle;\n",
       "    }\n",
       "\n",
       "    .dataframe tbody tr th {\n",
       "        vertical-align: top;\n",
       "    }\n",
       "\n",
       "    .dataframe thead th {\n",
       "        text-align: right;\n",
       "    }\n",
       "</style>\n",
       "<table border=\"1\" class=\"dataframe\">\n",
       "  <thead>\n",
       "    <tr style=\"text-align: right;\">\n",
       "      <th></th>\n",
       "      <th>ts_code</th>\n",
       "      <th>name</th>\n",
       "    </tr>\n",
       "  </thead>\n",
       "  <tbody>\n",
       "    <tr>\n",
       "      <th>0</th>\n",
       "      <td>000008.SZ</td>\n",
       "      <td>神州高铁</td>\n",
       "    </tr>\n",
       "    <tr>\n",
       "      <th>1</th>\n",
       "      <td>000063.SZ</td>\n",
       "      <td>中兴通讯</td>\n",
       "    </tr>\n",
       "    <tr>\n",
       "      <th>2</th>\n",
       "      <td>000070.SZ</td>\n",
       "      <td>特发信息</td>\n",
       "    </tr>\n",
       "    <tr>\n",
       "      <th>3</th>\n",
       "      <td>000586.SZ</td>\n",
       "      <td>汇源通信</td>\n",
       "    </tr>\n",
       "    <tr>\n",
       "      <th>4</th>\n",
       "      <td>000636.SZ</td>\n",
       "      <td>风华高科</td>\n",
       "    </tr>\n",
       "  </tbody>\n",
       "</table>\n",
       "</div>"
      ],
      "text/plain": [
       "     ts_code  name\n",
       "0  000008.SZ  神州高铁\n",
       "1  000063.SZ  中兴通讯\n",
       "2  000070.SZ  特发信息\n",
       "3  000586.SZ  汇源通信\n",
       "4  000636.SZ  风华高科"
      ]
     },
     "execution_count": 20,
     "metadata": {},
     "output_type": "execute_result"
    }
   ],
   "source": [
    "#取5G概念明细\n",
    "df = pro.concept_detail(id='TS2', fields='ts_code,name')\n",
    "df.head()"
   ]
  },
  {
   "cell_type": "code",
   "execution_count": 21,
   "metadata": {},
   "outputs": [
    {
     "data": {
      "text/html": [
       "<div>\n",
       "<style scoped>\n",
       "    .dataframe tbody tr th:only-of-type {\n",
       "        vertical-align: middle;\n",
       "    }\n",
       "\n",
       "    .dataframe tbody tr th {\n",
       "        vertical-align: top;\n",
       "    }\n",
       "\n",
       "    .dataframe thead th {\n",
       "        text-align: right;\n",
       "    }\n",
       "</style>\n",
       "<table border=\"1\" class=\"dataframe\">\n",
       "  <thead>\n",
       "    <tr style=\"text-align: right;\">\n",
       "      <th></th>\n",
       "      <th>id</th>\n",
       "      <th>concept_name</th>\n",
       "      <th>ts_code</th>\n",
       "      <th>name</th>\n",
       "    </tr>\n",
       "  </thead>\n",
       "  <tbody>\n",
       "    <tr>\n",
       "      <th>0</th>\n",
       "      <td>TS56</td>\n",
       "      <td>电改</td>\n",
       "      <td>600848.SH</td>\n",
       "      <td>上海临港</td>\n",
       "    </tr>\n",
       "    <tr>\n",
       "      <th>1</th>\n",
       "      <td>TS59</td>\n",
       "      <td>特斯拉</td>\n",
       "      <td>600848.SH</td>\n",
       "      <td>上海临港</td>\n",
       "    </tr>\n",
       "    <tr>\n",
       "      <th>2</th>\n",
       "      <td>TS185</td>\n",
       "      <td>环杭州湾大湾区</td>\n",
       "      <td>600848.SH</td>\n",
       "      <td>上海临港</td>\n",
       "    </tr>\n",
       "    <tr>\n",
       "      <th>3</th>\n",
       "      <td>TS199</td>\n",
       "      <td>房地产</td>\n",
       "      <td>600848.SH</td>\n",
       "      <td>上海临港</td>\n",
       "    </tr>\n",
       "    <tr>\n",
       "      <th>4</th>\n",
       "      <td>TS211</td>\n",
       "      <td>小米概念股</td>\n",
       "      <td>600848.SH</td>\n",
       "      <td>上海临港</td>\n",
       "    </tr>\n",
       "  </tbody>\n",
       "</table>\n",
       "</div>"
      ],
      "text/plain": [
       "      id concept_name    ts_code  name\n",
       "0   TS56           电改  600848.SH  上海临港\n",
       "1   TS59          特斯拉  600848.SH  上海临港\n",
       "2  TS185      环杭州湾大湾区  600848.SH  上海临港\n",
       "3  TS199          房地产  600848.SH  上海临港\n",
       "4  TS211        小米概念股  600848.SH  上海临港"
      ]
     },
     "execution_count": 21,
     "metadata": {},
     "output_type": "execute_result"
    }
   ],
   "source": [
    "#或者查询某个股票的概念\n",
    "\n",
    "df = pro.concept_detail(ts_code = '600848.SH')\n",
    "df.head()"
   ]
  },
  {
   "cell_type": "markdown",
   "metadata": {},
   "source": [
    "### 股东人数stk_holdernumber"
   ]
  },
  {
   "cell_type": "code",
   "execution_count": 22,
   "metadata": {},
   "outputs": [
    {
     "ename": "Exception",
     "evalue": "抱歉，您没有权限访问该接口，权限的具体详情访问：https://tushare.pro/document/1?doc_id=108。",
     "output_type": "error",
     "traceback": [
      "\u001b[0;31m---------------------------------------------------------------------------\u001b[0m",
      "\u001b[0;31mException\u001b[0m                                 Traceback (most recent call last)",
      "\u001b[0;32m<ipython-input-22-860cd64d1ceb>\u001b[0m in \u001b[0;36m<module>\u001b[0;34m\u001b[0m\n\u001b[0;32m----> 1\u001b[0;31m \u001b[0mdf\u001b[0m \u001b[0;34m=\u001b[0m \u001b[0mpro\u001b[0m\u001b[0;34m.\u001b[0m\u001b[0mstk_holdernumber\u001b[0m\u001b[0;34m(\u001b[0m\u001b[0mts_code\u001b[0m\u001b[0;34m=\u001b[0m\u001b[0;34m'300199.SZ'\u001b[0m\u001b[0;34m,\u001b[0m \u001b[0mstart_date\u001b[0m\u001b[0;34m=\u001b[0m\u001b[0;34m'20160101'\u001b[0m\u001b[0;34m,\u001b[0m \u001b[0mend_date\u001b[0m\u001b[0;34m=\u001b[0m\u001b[0;34m'20181231'\u001b[0m\u001b[0;34m)\u001b[0m\u001b[0;34m\u001b[0m\u001b[0;34m\u001b[0m\u001b[0m\n\u001b[0m\u001b[1;32m      2\u001b[0m \u001b[0mdf\u001b[0m\u001b[0;34m.\u001b[0m\u001b[0mhead\u001b[0m\u001b[0;34m(\u001b[0m\u001b[0;34m)\u001b[0m\u001b[0;34m\u001b[0m\u001b[0;34m\u001b[0m\u001b[0m\n",
      "\u001b[0;32m~/anaconda3/lib/python3.7/site-packages/tushare/pro/client.py\u001b[0m in \u001b[0;36mquery\u001b[0;34m(self, api_name, fields, **kwargs)\u001b[0m\n\u001b[1;32m     41\u001b[0m         \u001b[0mresult\u001b[0m \u001b[0;34m=\u001b[0m \u001b[0mjson\u001b[0m\u001b[0;34m.\u001b[0m\u001b[0mloads\u001b[0m\u001b[0;34m(\u001b[0m\u001b[0mres\u001b[0m\u001b[0;34m.\u001b[0m\u001b[0mtext\u001b[0m\u001b[0;34m)\u001b[0m\u001b[0;34m\u001b[0m\u001b[0;34m\u001b[0m\u001b[0m\n\u001b[1;32m     42\u001b[0m         \u001b[0;32mif\u001b[0m \u001b[0mresult\u001b[0m\u001b[0;34m[\u001b[0m\u001b[0;34m'code'\u001b[0m\u001b[0;34m]\u001b[0m \u001b[0;34m!=\u001b[0m \u001b[0;36m0\u001b[0m\u001b[0;34m:\u001b[0m\u001b[0;34m\u001b[0m\u001b[0;34m\u001b[0m\u001b[0m\n\u001b[0;32m---> 43\u001b[0;31m             \u001b[0;32mraise\u001b[0m \u001b[0mException\u001b[0m\u001b[0;34m(\u001b[0m\u001b[0mresult\u001b[0m\u001b[0;34m[\u001b[0m\u001b[0;34m'msg'\u001b[0m\u001b[0;34m]\u001b[0m\u001b[0;34m)\u001b[0m\u001b[0;34m\u001b[0m\u001b[0;34m\u001b[0m\u001b[0m\n\u001b[0m\u001b[1;32m     44\u001b[0m         \u001b[0mdata\u001b[0m \u001b[0;34m=\u001b[0m \u001b[0mresult\u001b[0m\u001b[0;34m[\u001b[0m\u001b[0;34m'data'\u001b[0m\u001b[0;34m]\u001b[0m\u001b[0;34m\u001b[0m\u001b[0;34m\u001b[0m\u001b[0m\n\u001b[1;32m     45\u001b[0m         \u001b[0mcolumns\u001b[0m \u001b[0;34m=\u001b[0m \u001b[0mdata\u001b[0m\u001b[0;34m[\u001b[0m\u001b[0;34m'fields'\u001b[0m\u001b[0;34m]\u001b[0m\u001b[0;34m\u001b[0m\u001b[0;34m\u001b[0m\u001b[0m\n",
      "\u001b[0;31mException\u001b[0m: 抱歉，您没有权限访问该接口，权限的具体详情访问：https://tushare.pro/document/1?doc_id=108。"
     ]
    }
   ],
   "source": [
    "df = pro.stk_holdernumber(ts_code='300199.SZ', start_date='20160101', end_date='20181231')\n",
    "df.head()"
   ]
  },
  {
   "cell_type": "markdown",
   "metadata": {},
   "source": [
    "## 指数数据"
   ]
  },
  {
   "cell_type": "markdown",
   "metadata": {},
   "source": [
    "### 指数基本信息index_basic"
   ]
  },
  {
   "cell_type": "code",
   "execution_count": 23,
   "metadata": {},
   "outputs": [
    {
     "data": {
      "text/html": [
       "<div>\n",
       "<style scoped>\n",
       "    .dataframe tbody tr th:only-of-type {\n",
       "        vertical-align: middle;\n",
       "    }\n",
       "\n",
       "    .dataframe tbody tr th {\n",
       "        vertical-align: top;\n",
       "    }\n",
       "\n",
       "    .dataframe thead th {\n",
       "        text-align: right;\n",
       "    }\n",
       "</style>\n",
       "<table border=\"1\" class=\"dataframe\">\n",
       "  <thead>\n",
       "    <tr style=\"text-align: right;\">\n",
       "      <th></th>\n",
       "      <th>ts_code</th>\n",
       "      <th>name</th>\n",
       "      <th>market</th>\n",
       "      <th>publisher</th>\n",
       "      <th>category</th>\n",
       "      <th>base_date</th>\n",
       "      <th>base_point</th>\n",
       "      <th>list_date</th>\n",
       "    </tr>\n",
       "  </thead>\n",
       "  <tbody>\n",
       "    <tr>\n",
       "      <th>0</th>\n",
       "      <td>801001.SI</td>\n",
       "      <td>申万50</td>\n",
       "      <td>SW</td>\n",
       "      <td>申万研究</td>\n",
       "      <td>其他</td>\n",
       "      <td>19991230</td>\n",
       "      <td>1000.0</td>\n",
       "      <td>None</td>\n",
       "    </tr>\n",
       "    <tr>\n",
       "      <th>1</th>\n",
       "      <td>801002.SI</td>\n",
       "      <td>申万中小板</td>\n",
       "      <td>SW</td>\n",
       "      <td>申万研究</td>\n",
       "      <td>其他</td>\n",
       "      <td>20040705</td>\n",
       "      <td>1000.0</td>\n",
       "      <td>None</td>\n",
       "    </tr>\n",
       "    <tr>\n",
       "      <th>2</th>\n",
       "      <td>801003.SI</td>\n",
       "      <td>申万A股</td>\n",
       "      <td>SW</td>\n",
       "      <td>申万研究</td>\n",
       "      <td>其他</td>\n",
       "      <td>19991230</td>\n",
       "      <td>1000.0</td>\n",
       "      <td>None</td>\n",
       "    </tr>\n",
       "    <tr>\n",
       "      <th>3</th>\n",
       "      <td>801004.SI</td>\n",
       "      <td>申万股改指数</td>\n",
       "      <td>SW</td>\n",
       "      <td>申万研究</td>\n",
       "      <td>其他</td>\n",
       "      <td>20050815</td>\n",
       "      <td>1000.0</td>\n",
       "      <td>None</td>\n",
       "    </tr>\n",
       "    <tr>\n",
       "      <th>4</th>\n",
       "      <td>801005.SI</td>\n",
       "      <td>申万创业板</td>\n",
       "      <td>SW</td>\n",
       "      <td>申万研究</td>\n",
       "      <td>其他</td>\n",
       "      <td>20091105</td>\n",
       "      <td>1000.0</td>\n",
       "      <td>20091106</td>\n",
       "    </tr>\n",
       "  </tbody>\n",
       "</table>\n",
       "</div>"
      ],
      "text/plain": [
       "     ts_code    name market publisher category base_date  base_point list_date\n",
       "0  801001.SI    申万50     SW      申万研究       其他  19991230      1000.0      None\n",
       "1  801002.SI   申万中小板     SW      申万研究       其他  20040705      1000.0      None\n",
       "2  801003.SI    申万A股     SW      申万研究       其他  19991230      1000.0      None\n",
       "3  801004.SI  申万股改指数     SW      申万研究       其他  20050815      1000.0      None\n",
       "4  801005.SI   申万创业板     SW      申万研究       其他  20091105      1000.0  20091106"
      ]
     },
     "execution_count": 23,
     "metadata": {},
     "output_type": "execute_result"
    }
   ],
   "source": [
    "df = pro.index_basic(market='SW')\n",
    "df.head()"
   ]
  },
  {
   "cell_type": "markdown",
   "metadata": {},
   "source": [
    "### 指数日线行情index_daily"
   ]
  },
  {
   "cell_type": "code",
   "execution_count": 24,
   "metadata": {},
   "outputs": [
    {
     "data": {
      "text/html": [
       "<div>\n",
       "<style scoped>\n",
       "    .dataframe tbody tr th:only-of-type {\n",
       "        vertical-align: middle;\n",
       "    }\n",
       "\n",
       "    .dataframe tbody tr th {\n",
       "        vertical-align: top;\n",
       "    }\n",
       "\n",
       "    .dataframe thead th {\n",
       "        text-align: right;\n",
       "    }\n",
       "</style>\n",
       "<table border=\"1\" class=\"dataframe\">\n",
       "  <thead>\n",
       "    <tr style=\"text-align: right;\">\n",
       "      <th></th>\n",
       "      <th>ts_code</th>\n",
       "      <th>trade_date</th>\n",
       "      <th>close</th>\n",
       "      <th>open</th>\n",
       "      <th>high</th>\n",
       "      <th>low</th>\n",
       "      <th>pre_close</th>\n",
       "      <th>change</th>\n",
       "      <th>pct_chg</th>\n",
       "      <th>vol</th>\n",
       "      <th>amount</th>\n",
       "    </tr>\n",
       "  </thead>\n",
       "  <tbody>\n",
       "    <tr>\n",
       "      <th>0</th>\n",
       "      <td>399300.SZ</td>\n",
       "      <td>20190730</td>\n",
       "      <td>3870.3176</td>\n",
       "      <td>3861.5698</td>\n",
       "      <td>3890.7298</td>\n",
       "      <td>3861.5698</td>\n",
       "      <td>3854.2704</td>\n",
       "      <td>16.0472</td>\n",
       "      <td>0.4163</td>\n",
       "      <td>94123955.0</td>\n",
       "      <td>120480280.0</td>\n",
       "    </tr>\n",
       "    <tr>\n",
       "      <th>1</th>\n",
       "      <td>399300.SZ</td>\n",
       "      <td>20190729</td>\n",
       "      <td>3854.2704</td>\n",
       "      <td>3857.9394</td>\n",
       "      <td>3862.7467</td>\n",
       "      <td>3842.4260</td>\n",
       "      <td>3858.5688</td>\n",
       "      <td>-4.2984</td>\n",
       "      <td>-0.1114</td>\n",
       "      <td>84814370.0</td>\n",
       "      <td>111679108.8</td>\n",
       "    </tr>\n",
       "    <tr>\n",
       "      <th>2</th>\n",
       "      <td>399300.SZ</td>\n",
       "      <td>20190726</td>\n",
       "      <td>3858.5688</td>\n",
       "      <td>3835.2281</td>\n",
       "      <td>3863.5878</td>\n",
       "      <td>3832.5223</td>\n",
       "      <td>3851.0665</td>\n",
       "      <td>7.5023</td>\n",
       "      <td>0.1948</td>\n",
       "      <td>83259300.0</td>\n",
       "      <td>110929728.7</td>\n",
       "    </tr>\n",
       "    <tr>\n",
       "      <th>3</th>\n",
       "      <td>399300.SZ</td>\n",
       "      <td>20190725</td>\n",
       "      <td>3851.0665</td>\n",
       "      <td>3821.3898</td>\n",
       "      <td>3851.0665</td>\n",
       "      <td>3812.9532</td>\n",
       "      <td>3819.8325</td>\n",
       "      <td>31.2340</td>\n",
       "      <td>0.8177</td>\n",
       "      <td>93740417.0</td>\n",
       "      <td>125899502.5</td>\n",
       "    </tr>\n",
       "    <tr>\n",
       "      <th>4</th>\n",
       "      <td>399300.SZ</td>\n",
       "      <td>20190724</td>\n",
       "      <td>3819.8325</td>\n",
       "      <td>3803.5867</td>\n",
       "      <td>3840.0579</td>\n",
       "      <td>3803.5738</td>\n",
       "      <td>3789.9135</td>\n",
       "      <td>29.9190</td>\n",
       "      <td>0.7894</td>\n",
       "      <td>90940684.0</td>\n",
       "      <td>129940587.2</td>\n",
       "    </tr>\n",
       "  </tbody>\n",
       "</table>\n",
       "</div>"
      ],
      "text/plain": [
       "     ts_code trade_date      close       open       high        low  \\\n",
       "0  399300.SZ   20190730  3870.3176  3861.5698  3890.7298  3861.5698   \n",
       "1  399300.SZ   20190729  3854.2704  3857.9394  3862.7467  3842.4260   \n",
       "2  399300.SZ   20190726  3858.5688  3835.2281  3863.5878  3832.5223   \n",
       "3  399300.SZ   20190725  3851.0665  3821.3898  3851.0665  3812.9532   \n",
       "4  399300.SZ   20190724  3819.8325  3803.5867  3840.0579  3803.5738   \n",
       "\n",
       "   pre_close   change  pct_chg         vol       amount  \n",
       "0  3854.2704  16.0472   0.4163  94123955.0  120480280.0  \n",
       "1  3858.5688  -4.2984  -0.1114  84814370.0  111679108.8  \n",
       "2  3851.0665   7.5023   0.1948  83259300.0  110929728.7  \n",
       "3  3819.8325  31.2340   0.8177  93740417.0  125899502.5  \n",
       "4  3789.9135  29.9190   0.7894  90940684.0  129940587.2  "
      ]
     },
     "execution_count": 24,
     "metadata": {},
     "output_type": "execute_result"
    }
   ],
   "source": [
    "df = pro.index_daily(ts_code='399300.SZ')\n",
    "df.head()"
   ]
  },
  {
   "cell_type": "code",
   "execution_count": null,
   "metadata": {},
   "outputs": [],
   "source": [
    "#或者按日期取\n",
    "\n",
    "df = pro.index_daily(ts_code='399300.SZ', start_date='20180101', end_date='20181010')"
   ]
  },
  {
   "cell_type": "markdown",
   "metadata": {},
   "source": [
    "### 申万行业分类index_classify\n",
    "描述：获取申万行业分类，包括申万28个一级分类，104个二级分类，227个三级分类的列表信息  \n",
    "权限：用户需2000积分可以调取"
   ]
  },
  {
   "cell_type": "markdown",
   "metadata": {},
   "source": [
    "## 基金"
   ]
  },
  {
   "cell_type": "markdown",
   "metadata": {},
   "source": [
    "### 公募基金列表fund_basic\n",
    "描述：获取公募基金数据列表，包括场内和场外基金"
   ]
  },
  {
   "cell_type": "code",
   "execution_count": 2,
   "metadata": {},
   "outputs": [
    {
     "ename": "Exception",
     "evalue": "抱歉，您没有权限访问该接口，权限的具体详情访问：https://tushare.pro/document/1?doc_id=108。",
     "output_type": "error",
     "traceback": [
      "\u001b[0;31m---------------------------------------------------------------------------\u001b[0m",
      "\u001b[0;31mException\u001b[0m                                 Traceback (most recent call last)",
      "\u001b[0;32m<ipython-input-2-6b0b0a0b9a28>\u001b[0m in \u001b[0;36m<module>\u001b[0;34m\u001b[0m\n\u001b[1;32m      1\u001b[0m \u001b[0;31m#交易市场: E场内 O场外（默认E）\u001b[0m\u001b[0;34m\u001b[0m\u001b[0;34m\u001b[0m\u001b[0;34m\u001b[0m\u001b[0m\n\u001b[0;32m----> 2\u001b[0;31m \u001b[0mdf\u001b[0m \u001b[0;34m=\u001b[0m \u001b[0mpro\u001b[0m\u001b[0;34m.\u001b[0m\u001b[0mfund_basic\u001b[0m\u001b[0;34m(\u001b[0m\u001b[0mmarket\u001b[0m\u001b[0;34m=\u001b[0m\u001b[0;34m'E'\u001b[0m\u001b[0;34m)\u001b[0m\u001b[0;34m\u001b[0m\u001b[0;34m\u001b[0m\u001b[0m\n\u001b[0m\u001b[1;32m      3\u001b[0m \u001b[0mdf\u001b[0m\u001b[0;34m.\u001b[0m\u001b[0mhead\u001b[0m\u001b[0;34m(\u001b[0m\u001b[0;34m)\u001b[0m\u001b[0;34m\u001b[0m\u001b[0;34m\u001b[0m\u001b[0m\n",
      "\u001b[0;32m~/anaconda3/lib/python3.7/site-packages/tushare/pro/client.py\u001b[0m in \u001b[0;36mquery\u001b[0;34m(self, api_name, fields, **kwargs)\u001b[0m\n\u001b[1;32m     41\u001b[0m         \u001b[0mresult\u001b[0m \u001b[0;34m=\u001b[0m \u001b[0mjson\u001b[0m\u001b[0;34m.\u001b[0m\u001b[0mloads\u001b[0m\u001b[0;34m(\u001b[0m\u001b[0mres\u001b[0m\u001b[0;34m.\u001b[0m\u001b[0mtext\u001b[0m\u001b[0;34m)\u001b[0m\u001b[0;34m\u001b[0m\u001b[0;34m\u001b[0m\u001b[0m\n\u001b[1;32m     42\u001b[0m         \u001b[0;32mif\u001b[0m \u001b[0mresult\u001b[0m\u001b[0;34m[\u001b[0m\u001b[0;34m'code'\u001b[0m\u001b[0;34m]\u001b[0m \u001b[0;34m!=\u001b[0m \u001b[0;36m0\u001b[0m\u001b[0;34m:\u001b[0m\u001b[0;34m\u001b[0m\u001b[0;34m\u001b[0m\u001b[0m\n\u001b[0;32m---> 43\u001b[0;31m             \u001b[0;32mraise\u001b[0m \u001b[0mException\u001b[0m\u001b[0;34m(\u001b[0m\u001b[0mresult\u001b[0m\u001b[0;34m[\u001b[0m\u001b[0;34m'msg'\u001b[0m\u001b[0;34m]\u001b[0m\u001b[0;34m)\u001b[0m\u001b[0;34m\u001b[0m\u001b[0;34m\u001b[0m\u001b[0m\n\u001b[0m\u001b[1;32m     44\u001b[0m         \u001b[0mdata\u001b[0m \u001b[0;34m=\u001b[0m \u001b[0mresult\u001b[0m\u001b[0;34m[\u001b[0m\u001b[0;34m'data'\u001b[0m\u001b[0;34m]\u001b[0m\u001b[0;34m\u001b[0m\u001b[0;34m\u001b[0m\u001b[0m\n\u001b[1;32m     45\u001b[0m         \u001b[0mcolumns\u001b[0m \u001b[0;34m=\u001b[0m \u001b[0mdata\u001b[0m\u001b[0;34m[\u001b[0m\u001b[0;34m'fields'\u001b[0m\u001b[0;34m]\u001b[0m\u001b[0;34m\u001b[0m\u001b[0;34m\u001b[0m\u001b[0m\n",
      "\u001b[0;31mException\u001b[0m: 抱歉，您没有权限访问该接口，权限的具体详情访问：https://tushare.pro/document/1?doc_id=108。"
     ]
    }
   ],
   "source": [
    "#交易市场: E场内 O场外（默认E）\n",
    "df = pro.fund_basic(market='E')\n",
    "df.head()"
   ]
  },
  {
   "cell_type": "markdown",
   "metadata": {},
   "source": [
    "### 公募基金公司fund_company\n",
    "描述：获取公募基金管理人列表"
   ]
  },
  {
   "cell_type": "code",
   "execution_count": 26,
   "metadata": {},
   "outputs": [
    {
     "data": {
      "text/html": [
       "<div>\n",
       "<style scoped>\n",
       "    .dataframe tbody tr th:only-of-type {\n",
       "        vertical-align: middle;\n",
       "    }\n",
       "\n",
       "    .dataframe tbody tr th {\n",
       "        vertical-align: top;\n",
       "    }\n",
       "\n",
       "    .dataframe thead th {\n",
       "        text-align: right;\n",
       "    }\n",
       "</style>\n",
       "<table border=\"1\" class=\"dataframe\">\n",
       "  <thead>\n",
       "    <tr style=\"text-align: right;\">\n",
       "      <th></th>\n",
       "      <th>name</th>\n",
       "      <th>shortname</th>\n",
       "      <th>province</th>\n",
       "      <th>city</th>\n",
       "      <th>address</th>\n",
       "      <th>phone</th>\n",
       "      <th>office</th>\n",
       "      <th>website</th>\n",
       "      <th>chairman</th>\n",
       "      <th>manager</th>\n",
       "      <th>reg_capital</th>\n",
       "      <th>setup_date</th>\n",
       "      <th>end_date</th>\n",
       "      <th>employees</th>\n",
       "      <th>main_business</th>\n",
       "      <th>org_code</th>\n",
       "      <th>credit_code</th>\n",
       "    </tr>\n",
       "  </thead>\n",
       "  <tbody>\n",
       "    <tr>\n",
       "      <th>0</th>\n",
       "      <td>北京广能投资基金管理有限公司</td>\n",
       "      <td>广能基金</td>\n",
       "      <td>北京</td>\n",
       "      <td>北京市</td>\n",
       "      <td>北京市朝阳区北四环中路27号院5号楼2712-2715A</td>\n",
       "      <td>None</td>\n",
       "      <td>北京市朝阳区北四环中路27号院5号楼2712-2715A</td>\n",
       "      <td>www.gnfund.cn</td>\n",
       "      <td>刘锡潜</td>\n",
       "      <td>杨运成</td>\n",
       "      <td>1.000000e+04</td>\n",
       "      <td>20111031</td>\n",
       "      <td>None</td>\n",
       "      <td>10.0</td>\n",
       "      <td>None</td>\n",
       "      <td>584419680</td>\n",
       "      <td>None</td>\n",
       "    </tr>\n",
       "    <tr>\n",
       "      <th>1</th>\n",
       "      <td>平安银行股份有限公司</td>\n",
       "      <td>平安银行</td>\n",
       "      <td>广东</td>\n",
       "      <td>深圳市</td>\n",
       "      <td>广东省深圳市罗湖区深南东路5047号</td>\n",
       "      <td>86-755-82080387</td>\n",
       "      <td>广东省深圳市罗湖区深南东路5047号</td>\n",
       "      <td>www.bank.pingan.com</td>\n",
       "      <td>谢永林</td>\n",
       "      <td>胡跃飞</td>\n",
       "      <td>1.717041e+06</td>\n",
       "      <td>19871222</td>\n",
       "      <td>None</td>\n",
       "      <td>32744.0</td>\n",
       "      <td>主要业务:贷款,拆借,存放等同业业务,债券投资.</td>\n",
       "      <td>192185379</td>\n",
       "      <td>91440300192185379H</td>\n",
       "    </tr>\n",
       "    <tr>\n",
       "      <th>2</th>\n",
       "      <td>宏源证券股份有限公司</td>\n",
       "      <td>宏源证券</td>\n",
       "      <td>新疆</td>\n",
       "      <td>乌鲁木齐市</td>\n",
       "      <td>新疆维吾尔自治区乌鲁木齐市文艺路233号宏源大厦</td>\n",
       "      <td>86-991-2301870</td>\n",
       "      <td>新疆维吾尔自治区乌鲁木齐市文艺路233号宏源大厦</td>\n",
       "      <td>www.hysec.com</td>\n",
       "      <td>冯戎</td>\n",
       "      <td>冯戎</td>\n",
       "      <td>3.972408e+05</td>\n",
       "      <td>19930525</td>\n",
       "      <td>None</td>\n",
       "      <td>5347.0</td>\n",
       "      <td>主要业务:代理买卖证券.</td>\n",
       "      <td>228593068</td>\n",
       "      <td>None</td>\n",
       "    </tr>\n",
       "    <tr>\n",
       "      <th>3</th>\n",
       "      <td>陕西省国际信托股份有限公司</td>\n",
       "      <td>陕国投</td>\n",
       "      <td>陕西</td>\n",
       "      <td>西安市</td>\n",
       "      <td>陕西省西安市高新区科技路50号金桥国际广场C座</td>\n",
       "      <td>86-29-88897633,86-29-81870266,86-29-81870262</td>\n",
       "      <td>陕西省西安市高新区科技路50号金桥国际广场C座</td>\n",
       "      <td>www.siti.com.cn</td>\n",
       "      <td>薛季民</td>\n",
       "      <td>姚卫东</td>\n",
       "      <td>3.964013e+05</td>\n",
       "      <td>19850105</td>\n",
       "      <td>None</td>\n",
       "      <td>498.0</td>\n",
       "      <td>主营业务:房地产及实业,信托业</td>\n",
       "      <td>220530273</td>\n",
       "      <td>91610000220530273T</td>\n",
       "    </tr>\n",
       "    <tr>\n",
       "      <th>4</th>\n",
       "      <td>东北证券股份有限公司</td>\n",
       "      <td>东北证券</td>\n",
       "      <td>吉林</td>\n",
       "      <td>长春市</td>\n",
       "      <td>吉林省长春市生态大街6666号</td>\n",
       "      <td>86-431-85096806</td>\n",
       "      <td>吉林省长春市生态大街6666号</td>\n",
       "      <td>www.nesc.cn</td>\n",
       "      <td>李福春</td>\n",
       "      <td>何俊岩</td>\n",
       "      <td>2.340453e+05</td>\n",
       "      <td>19880824</td>\n",
       "      <td>None</td>\n",
       "      <td>3005.0</td>\n",
       "      <td>主营业务:证券经纪业务,证券承销与保荐业务,证券自营业务,证券资产管理业务和信用交易业务等.</td>\n",
       "      <td>664275090</td>\n",
       "      <td>91220000664275090B</td>\n",
       "    </tr>\n",
       "  </tbody>\n",
       "</table>\n",
       "</div>"
      ],
      "text/plain": [
       "             name shortname province   city                       address  \\\n",
       "0  北京广能投资基金管理有限公司      广能基金       北京    北京市  北京市朝阳区北四环中路27号院5号楼2712-2715A   \n",
       "1      平安银行股份有限公司      平安银行       广东    深圳市            广东省深圳市罗湖区深南东路5047号   \n",
       "2      宏源证券股份有限公司      宏源证券       新疆  乌鲁木齐市      新疆维吾尔自治区乌鲁木齐市文艺路233号宏源大厦   \n",
       "3   陕西省国际信托股份有限公司       陕国投       陕西    西安市       陕西省西安市高新区科技路50号金桥国际广场C座   \n",
       "4      东北证券股份有限公司      东北证券       吉林    长春市               吉林省长春市生态大街6666号   \n",
       "\n",
       "                                          phone                        office  \\\n",
       "0                                          None  北京市朝阳区北四环中路27号院5号楼2712-2715A   \n",
       "1                               86-755-82080387            广东省深圳市罗湖区深南东路5047号   \n",
       "2                                86-991-2301870      新疆维吾尔自治区乌鲁木齐市文艺路233号宏源大厦   \n",
       "3  86-29-88897633,86-29-81870266,86-29-81870262       陕西省西安市高新区科技路50号金桥国际广场C座   \n",
       "4                               86-431-85096806               吉林省长春市生态大街6666号   \n",
       "\n",
       "               website chairman manager   reg_capital setup_date end_date  \\\n",
       "0        www.gnfund.cn      刘锡潜     杨运成  1.000000e+04   20111031     None   \n",
       "1  www.bank.pingan.com      谢永林     胡跃飞  1.717041e+06   19871222     None   \n",
       "2        www.hysec.com       冯戎      冯戎  3.972408e+05   19930525     None   \n",
       "3      www.siti.com.cn      薛季民     姚卫东  3.964013e+05   19850105     None   \n",
       "4          www.nesc.cn      李福春     何俊岩  2.340453e+05   19880824     None   \n",
       "\n",
       "   employees                                   main_business   org_code  \\\n",
       "0       10.0                                            None  584419680   \n",
       "1    32744.0                        主要业务:贷款,拆借,存放等同业业务,债券投资.  192185379   \n",
       "2     5347.0                                    主要业务:代理买卖证券.  228593068   \n",
       "3      498.0                                 主营业务:房地产及实业,信托业  220530273   \n",
       "4     3005.0  主营业务:证券经纪业务,证券承销与保荐业务,证券自营业务,证券资产管理业务和信用交易业务等.  664275090   \n",
       "\n",
       "          credit_code  \n",
       "0                None  \n",
       "1  91440300192185379H  \n",
       "2                None  \n",
       "3  91610000220530273T  \n",
       "4  91220000664275090B  "
      ]
     },
     "execution_count": 26,
     "metadata": {},
     "output_type": "execute_result"
    }
   ],
   "source": [
    "df = pro.fund_company()\n",
    "df.head()"
   ]
  },
  {
   "cell_type": "markdown",
   "metadata": {},
   "source": [
    "### 场内基金日线行情fund_daily\n",
    "描述：获取场内基金日线行情，类似股票日行情  \n",
    "更新：每日收盘后2小时内  \n",
    "限量：单次最大800行记录，总量不限制"
   ]
  },
  {
   "cell_type": "code",
   "execution_count": 30,
   "metadata": {},
   "outputs": [
    {
     "data": {
      "text/html": [
       "<div>\n",
       "<style scoped>\n",
       "    .dataframe tbody tr th:only-of-type {\n",
       "        vertical-align: middle;\n",
       "    }\n",
       "\n",
       "    .dataframe tbody tr th {\n",
       "        vertical-align: top;\n",
       "    }\n",
       "\n",
       "    .dataframe thead th {\n",
       "        text-align: right;\n",
       "    }\n",
       "</style>\n",
       "<table border=\"1\" class=\"dataframe\">\n",
       "  <thead>\n",
       "    <tr style=\"text-align: right;\">\n",
       "      <th></th>\n",
       "      <th>ts_code</th>\n",
       "      <th>trade_date</th>\n",
       "      <th>pre_close</th>\n",
       "      <th>open</th>\n",
       "      <th>high</th>\n",
       "      <th>low</th>\n",
       "      <th>close</th>\n",
       "      <th>change</th>\n",
       "      <th>pct_chg</th>\n",
       "      <th>vol</th>\n",
       "      <th>amount</th>\n",
       "    </tr>\n",
       "  </thead>\n",
       "  <tbody>\n",
       "    <tr>\n",
       "      <th>0</th>\n",
       "      <td>510300.SH</td>\n",
       "      <td>20190730</td>\n",
       "      <td>3.906</td>\n",
       "      <td>3.910</td>\n",
       "      <td>3.949</td>\n",
       "      <td>3.909</td>\n",
       "      <td>3.924</td>\n",
       "      <td>0.018</td>\n",
       "      <td>0.4608</td>\n",
       "      <td>2396548.55</td>\n",
       "      <td>941746.113</td>\n",
       "    </tr>\n",
       "    <tr>\n",
       "      <th>1</th>\n",
       "      <td>510300.SH</td>\n",
       "      <td>20190729</td>\n",
       "      <td>3.912</td>\n",
       "      <td>3.910</td>\n",
       "      <td>3.914</td>\n",
       "      <td>3.892</td>\n",
       "      <td>3.906</td>\n",
       "      <td>-0.006</td>\n",
       "      <td>-0.1534</td>\n",
       "      <td>2471021.62</td>\n",
       "      <td>964260.317</td>\n",
       "    </tr>\n",
       "    <tr>\n",
       "      <th>2</th>\n",
       "      <td>510300.SH</td>\n",
       "      <td>20190726</td>\n",
       "      <td>3.907</td>\n",
       "      <td>3.890</td>\n",
       "      <td>3.921</td>\n",
       "      <td>3.887</td>\n",
       "      <td>3.912</td>\n",
       "      <td>0.005</td>\n",
       "      <td>0.1280</td>\n",
       "      <td>2857908.92</td>\n",
       "      <td>1115742.690</td>\n",
       "    </tr>\n",
       "    <tr>\n",
       "      <th>3</th>\n",
       "      <td>510300.SH</td>\n",
       "      <td>20190725</td>\n",
       "      <td>3.872</td>\n",
       "      <td>3.871</td>\n",
       "      <td>3.908</td>\n",
       "      <td>3.866</td>\n",
       "      <td>3.907</td>\n",
       "      <td>0.035</td>\n",
       "      <td>0.9039</td>\n",
       "      <td>2336295.86</td>\n",
       "      <td>908142.115</td>\n",
       "    </tr>\n",
       "    <tr>\n",
       "      <th>4</th>\n",
       "      <td>510300.SH</td>\n",
       "      <td>20190724</td>\n",
       "      <td>3.841</td>\n",
       "      <td>3.854</td>\n",
       "      <td>3.900</td>\n",
       "      <td>3.852</td>\n",
       "      <td>3.872</td>\n",
       "      <td>0.031</td>\n",
       "      <td>0.8071</td>\n",
       "      <td>2974453.89</td>\n",
       "      <td>1154191.782</td>\n",
       "    </tr>\n",
       "  </tbody>\n",
       "</table>\n",
       "</div>"
      ],
      "text/plain": [
       "     ts_code trade_date  pre_close   open   high    low  close  change  \\\n",
       "0  510300.SH   20190730      3.906  3.910  3.949  3.909  3.924   0.018   \n",
       "1  510300.SH   20190729      3.912  3.910  3.914  3.892  3.906  -0.006   \n",
       "2  510300.SH   20190726      3.907  3.890  3.921  3.887  3.912   0.005   \n",
       "3  510300.SH   20190725      3.872  3.871  3.908  3.866  3.907   0.035   \n",
       "4  510300.SH   20190724      3.841  3.854  3.900  3.852  3.872   0.031   \n",
       "\n",
       "   pct_chg         vol       amount  \n",
       "0   0.4608  2396548.55   941746.113  \n",
       "1  -0.1534  2471021.62   964260.317  \n",
       "2   0.1280  2857908.92  1115742.690  \n",
       "3   0.9039  2336295.86   908142.115  \n",
       "4   0.8071  2974453.89  1154191.782  "
      ]
     },
     "execution_count": 30,
     "metadata": {},
     "output_type": "execute_result"
    }
   ],
   "source": [
    "df = pro.fund_daily(ts_code='510300.SH')\n",
    "df.head()"
   ]
  },
  {
   "cell_type": "markdown",
   "metadata": {},
   "source": [
    "## 外汇"
   ]
  },
  {
   "cell_type": "markdown",
   "metadata": {},
   "source": [
    "## 特色大数据"
   ]
  },
  {
   "cell_type": "markdown",
   "metadata": {},
   "source": [
    "### 新闻联播cctv_news\n",
    "描述：获取新闻联播文字稿数据，数据开始于2006年6月，超过12年历史  \n",
    "限量：总量不限制  \n",
    "积分：用户积累120积分可以调取，但会做流控限制，超过5000无限制，"
   ]
  },
  {
   "cell_type": "code",
   "execution_count": 31,
   "metadata": {},
   "outputs": [
    {
     "data": {
      "text/html": [
       "<div>\n",
       "<style scoped>\n",
       "    .dataframe tbody tr th:only-of-type {\n",
       "        vertical-align: middle;\n",
       "    }\n",
       "\n",
       "    .dataframe tbody tr th {\n",
       "        vertical-align: top;\n",
       "    }\n",
       "\n",
       "    .dataframe thead th {\n",
       "        text-align: right;\n",
       "    }\n",
       "</style>\n",
       "<table border=\"1\" class=\"dataframe\">\n",
       "  <thead>\n",
       "    <tr style=\"text-align: right;\">\n",
       "      <th></th>\n",
       "      <th>date</th>\n",
       "      <th>title</th>\n",
       "      <th>content</th>\n",
       "    </tr>\n",
       "  </thead>\n",
       "  <tbody>\n",
       "    <tr>\n",
       "      <th>0</th>\n",
       "      <td>20181211</td>\n",
       "      <td>《习近平谈“一带一路”》出版发行</td>\n",
       "      <td>中共中央党史和文献研究院编辑的《习近平谈“一带一路”》一书，已由中央文献出版社出版，即日起在...</td>\n",
       "    </tr>\n",
       "    <tr>\n",
       "      <th>1</th>\n",
       "      <td>20181211</td>\n",
       "      <td>【在习近平新时代中国特色社会主义思想指引下——新时代 新作为 新篇章】北京“吹哨报到”：高效...</td>\n",
       "      <td>习近平总书记视察北京时强调，要坚持人民城市为人民，以北京市民最关心的问题为导向，对大气污染、...</td>\n",
       "    </tr>\n",
       "    <tr>\n",
       "      <th>2</th>\n",
       "      <td>20181211</td>\n",
       "      <td>汪洋率中央代表团一分团在南宁看望慰问各族干部群众</td>\n",
       "      <td>中共中央政治局常委、全国政协主席、中央代表团团长汪洋，11日率中央代表团一分团在南宁看望慰问...</td>\n",
       "    </tr>\n",
       "    <tr>\n",
       "      <th>3</th>\n",
       "      <td>20181211</td>\n",
       "      <td>国务院办公厅印发《关于国家综合性消防救援车辆悬挂应急救援专用号牌有关事项的通知》</td>\n",
       "      <td>近日，国务院办公厅印发《关于国家综合性消防救援车辆悬挂应急救援专用号牌有关事项的通知》，对应...</td>\n",
       "    </tr>\n",
       "    <tr>\n",
       "      <th>4</th>\n",
       "      <td>20181211</td>\n",
       "      <td>【数说改革开放40年】全方位开放新格局逐步形成</td>\n",
       "      <td>改革开放40年，我国对外贸易实现历史性跨越，外商投资环境持续改善，对外投资合作深入推进。今天...</td>\n",
       "    </tr>\n",
       "  </tbody>\n",
       "</table>\n",
       "</div>"
      ],
      "text/plain": [
       "       date                                              title  \\\n",
       "0  20181211                                   《习近平谈“一带一路”》出版发行   \n",
       "1  20181211  【在习近平新时代中国特色社会主义思想指引下——新时代 新作为 新篇章】北京“吹哨报到”：高效...   \n",
       "2  20181211                           汪洋率中央代表团一分团在南宁看望慰问各族干部群众   \n",
       "3  20181211           国务院办公厅印发《关于国家综合性消防救援车辆悬挂应急救援专用号牌有关事项的通知》   \n",
       "4  20181211                            【数说改革开放40年】全方位开放新格局逐步形成   \n",
       "\n",
       "                                             content  \n",
       "0  中共中央党史和文献研究院编辑的《习近平谈“一带一路”》一书，已由中央文献出版社出版，即日起在...  \n",
       "1  习近平总书记视察北京时强调，要坚持人民城市为人民，以北京市民最关心的问题为导向，对大气污染、...  \n",
       "2  中共中央政治局常委、全国政协主席、中央代表团团长汪洋，11日率中央代表团一分团在南宁看望慰问...  \n",
       "3  近日，国务院办公厅印发《关于国家综合性消防救援车辆悬挂应急救援专用号牌有关事项的通知》，对应...  \n",
       "4  改革开放40年，我国对外贸易实现历史性跨越，外商投资环境持续改善，对外投资合作深入推进。今天...  "
      ]
     },
     "execution_count": 31,
     "metadata": {},
     "output_type": "execute_result"
    }
   ],
   "source": [
    "df = pro.cctv_news(date='20181211')\n",
    "df.head()"
   ]
  },
  {
   "cell_type": "markdown",
   "metadata": {},
   "source": [
    "# TushareWrapper"
   ]
  },
  {
   "cell_type": "code",
   "execution_count": 4,
   "metadata": {},
   "outputs": [],
   "source": [
    "import sys\n",
    "sys.path.append('/Users/luoyonggui/PycharmProjects/mayiutils_n1/mayiutils/finance')\n",
    "\n",
    "from tushare_wrapper import TushareWrapper\n",
    "\n",
    "tsw = TushareWrapper()"
   ]
  },
  {
   "cell_type": "markdown",
   "metadata": {},
   "source": [
    "## 获取某只stock的历史daily数据"
   ]
  },
  {
   "cell_type": "code",
   "execution_count": 7,
   "metadata": {},
   "outputs": [],
   "source": [
    "from datetime import datetime"
   ]
  },
  {
   "cell_type": "code",
   "execution_count": 8,
   "metadata": {},
   "outputs": [],
   "source": [
    "params = {'ts_code': '002230.SZ',\n",
    "          'start_date': '20180101',\n",
    "          'asset': 'E',\n",
    "          'end_date': '20191122',\n",
    "          'adj': 'qfq'}\n",
    "\n",
    "df = tsw.history(**params)"
   ]
  },
  {
   "cell_type": "code",
   "execution_count": 10,
   "metadata": {},
   "outputs": [
    {
     "data": {
      "text/html": [
       "<div>\n",
       "<style scoped>\n",
       "    .dataframe tbody tr th:only-of-type {\n",
       "        vertical-align: middle;\n",
       "    }\n",
       "\n",
       "    .dataframe tbody tr th {\n",
       "        vertical-align: top;\n",
       "    }\n",
       "\n",
       "    .dataframe thead th {\n",
       "        text-align: right;\n",
       "    }\n",
       "</style>\n",
       "<table border=\"1\" class=\"dataframe\">\n",
       "  <thead>\n",
       "    <tr style=\"text-align: right;\">\n",
       "      <th></th>\n",
       "      <th>ts_code</th>\n",
       "      <th>open</th>\n",
       "      <th>high</th>\n",
       "      <th>low</th>\n",
       "      <th>close</th>\n",
       "      <th>pre_close</th>\n",
       "      <th>change</th>\n",
       "      <th>pct_chg</th>\n",
       "      <th>vol</th>\n",
       "      <th>amount</th>\n",
       "    </tr>\n",
       "    <tr>\n",
       "      <th>trade_date</th>\n",
       "      <th></th>\n",
       "      <th></th>\n",
       "      <th></th>\n",
       "      <th></th>\n",
       "      <th></th>\n",
       "      <th></th>\n",
       "      <th></th>\n",
       "      <th></th>\n",
       "      <th></th>\n",
       "      <th></th>\n",
       "    </tr>\n",
       "  </thead>\n",
       "  <tbody>\n",
       "    <tr>\n",
       "      <th>2018-01-02</th>\n",
       "      <td>002230.SZ</td>\n",
       "      <td>39.82</td>\n",
       "      <td>40.37</td>\n",
       "      <td>39.09</td>\n",
       "      <td>40.19</td>\n",
       "      <td>39.24</td>\n",
       "      <td>0.95</td>\n",
       "      <td>2.42</td>\n",
       "      <td>331903.93</td>\n",
       "      <td>1995572.724</td>\n",
       "    </tr>\n",
       "    <tr>\n",
       "      <th>2018-01-03</th>\n",
       "      <td>002230.SZ</td>\n",
       "      <td>40.22</td>\n",
       "      <td>41.54</td>\n",
       "      <td>39.93</td>\n",
       "      <td>41.14</td>\n",
       "      <td>40.19</td>\n",
       "      <td>0.95</td>\n",
       "      <td>2.36</td>\n",
       "      <td>429169.75</td>\n",
       "      <td>2645559.867</td>\n",
       "    </tr>\n",
       "    <tr>\n",
       "      <th>2018-01-04</th>\n",
       "      <td>002230.SZ</td>\n",
       "      <td>41.35</td>\n",
       "      <td>42.19</td>\n",
       "      <td>40.88</td>\n",
       "      <td>41.77</td>\n",
       "      <td>41.14</td>\n",
       "      <td>0.63</td>\n",
       "      <td>1.53</td>\n",
       "      <td>401471.81</td>\n",
       "      <td>2514017.144</td>\n",
       "    </tr>\n",
       "    <tr>\n",
       "      <th>2018-01-05</th>\n",
       "      <td>002230.SZ</td>\n",
       "      <td>41.85</td>\n",
       "      <td>42.18</td>\n",
       "      <td>41.01</td>\n",
       "      <td>41.11</td>\n",
       "      <td>41.77</td>\n",
       "      <td>-0.66</td>\n",
       "      <td>-1.58</td>\n",
       "      <td>298071.77</td>\n",
       "      <td>1863274.179</td>\n",
       "    </tr>\n",
       "    <tr>\n",
       "      <th>2018-01-08</th>\n",
       "      <td>002230.SZ</td>\n",
       "      <td>41.16</td>\n",
       "      <td>41.28</td>\n",
       "      <td>39.95</td>\n",
       "      <td>40.65</td>\n",
       "      <td>41.11</td>\n",
       "      <td>-0.46</td>\n",
       "      <td>-1.12</td>\n",
       "      <td>292295.86</td>\n",
       "      <td>1781712.926</td>\n",
       "    </tr>\n",
       "  </tbody>\n",
       "</table>\n",
       "</div>"
      ],
      "text/plain": [
       "              ts_code   open   high    low  close  pre_close  change  pct_chg  \\\n",
       "trade_date                                                                      \n",
       "2018-01-02  002230.SZ  39.82  40.37  39.09  40.19      39.24    0.95     2.42   \n",
       "2018-01-03  002230.SZ  40.22  41.54  39.93  41.14      40.19    0.95     2.36   \n",
       "2018-01-04  002230.SZ  41.35  42.19  40.88  41.77      41.14    0.63     1.53   \n",
       "2018-01-05  002230.SZ  41.85  42.18  41.01  41.11      41.77   -0.66    -1.58   \n",
       "2018-01-08  002230.SZ  41.16  41.28  39.95  40.65      41.11   -0.46    -1.12   \n",
       "\n",
       "                  vol       amount  \n",
       "trade_date                          \n",
       "2018-01-02  331903.93  1995572.724  \n",
       "2018-01-03  429169.75  2645559.867  \n",
       "2018-01-04  401471.81  2514017.144  \n",
       "2018-01-05  298071.77  1863274.179  \n",
       "2018-01-08  292295.86  1781712.926  "
      ]
     },
     "execution_count": 10,
     "metadata": {},
     "output_type": "execute_result"
    }
   ],
   "source": [
    "df.head()"
   ]
  },
  {
   "cell_type": "code",
   "execution_count": 12,
   "metadata": {},
   "outputs": [
    {
     "data": {
      "text/html": [
       "<div>\n",
       "<style scoped>\n",
       "    .dataframe tbody tr th:only-of-type {\n",
       "        vertical-align: middle;\n",
       "    }\n",
       "\n",
       "    .dataframe tbody tr th {\n",
       "        vertical-align: top;\n",
       "    }\n",
       "\n",
       "    .dataframe thead th {\n",
       "        text-align: right;\n",
       "    }\n",
       "</style>\n",
       "<table border=\"1\" class=\"dataframe\">\n",
       "  <thead>\n",
       "    <tr style=\"text-align: right;\">\n",
       "      <th></th>\n",
       "      <th>ts_code</th>\n",
       "      <th>open</th>\n",
       "      <th>high</th>\n",
       "      <th>low</th>\n",
       "      <th>close</th>\n",
       "      <th>pre_close</th>\n",
       "      <th>change</th>\n",
       "      <th>pct_chg</th>\n",
       "      <th>vol</th>\n",
       "      <th>amount</th>\n",
       "    </tr>\n",
       "    <tr>\n",
       "      <th>trade_date</th>\n",
       "      <th></th>\n",
       "      <th></th>\n",
       "      <th></th>\n",
       "      <th></th>\n",
       "      <th></th>\n",
       "      <th></th>\n",
       "      <th></th>\n",
       "      <th></th>\n",
       "      <th></th>\n",
       "      <th></th>\n",
       "    </tr>\n",
       "  </thead>\n",
       "  <tbody>\n",
       "    <tr>\n",
       "      <th>2019-10-17</th>\n",
       "      <td>002230.SZ</td>\n",
       "      <td>34.92</td>\n",
       "      <td>35.37</td>\n",
       "      <td>34.76</td>\n",
       "      <td>35.1</td>\n",
       "      <td>34.92</td>\n",
       "      <td>0.18</td>\n",
       "      <td>0.52</td>\n",
       "      <td>416685.96</td>\n",
       "      <td>1465337.015</td>\n",
       "    </tr>\n",
       "  </tbody>\n",
       "</table>\n",
       "</div>"
      ],
      "text/plain": [
       "              ts_code   open   high    low  close  pre_close  change  pct_chg  \\\n",
       "trade_date                                                                      \n",
       "2019-10-17  002230.SZ  34.92  35.37  34.76   35.1      34.92    0.18     0.52   \n",
       "\n",
       "                  vol       amount  \n",
       "trade_date                          \n",
       "2019-10-17  416685.96  1465337.015  "
      ]
     },
     "execution_count": 12,
     "metadata": {},
     "output_type": "execute_result"
    }
   ],
   "source": [
    "df[df.index=='20191017']"
   ]
  },
  {
   "cell_type": "code",
   "execution_count": 13,
   "metadata": {},
   "outputs": [],
   "source": [
    "df.to_pickle('/Users/luoyonggui/Downloads/x/df.pkl')"
   ]
  },
  {
   "cell_type": "code",
   "execution_count": null,
   "metadata": {},
   "outputs": [],
   "source": []
  }
 ],
 "metadata": {
  "kernelspec": {
   "display_name": "Python 3",
   "language": "python",
   "name": "python3"
  },
  "language_info": {
   "codemirror_mode": {
    "name": "ipython",
    "version": 3
   },
   "file_extension": ".py",
   "mimetype": "text/x-python",
   "name": "python",
   "nbconvert_exporter": "python",
   "pygments_lexer": "ipython3",
   "version": "3.7.4"
  },
  "toc": {
   "base_numbering": 1,
   "nav_menu": {},
   "number_sections": true,
   "sideBar": true,
   "skip_h1_title": false,
   "title_cell": "Table of Contents",
   "title_sidebar": "Contents",
   "toc_cell": false,
   "toc_position": {
    "height": "calc(100% - 180px)",
    "left": "10px",
    "top": "150px",
    "width": "288px"
   },
   "toc_section_display": true,
   "toc_window_display": true
  },
  "varInspector": {
   "cols": {
    "lenName": 16,
    "lenType": 16,
    "lenVar": 40
   },
   "kernels_config": {
    "python": {
     "delete_cmd_postfix": "",
     "delete_cmd_prefix": "del ",
     "library": "var_list.py",
     "varRefreshCmd": "print(var_dic_list())"
    },
    "r": {
     "delete_cmd_postfix": ") ",
     "delete_cmd_prefix": "rm(",
     "library": "var_list.r",
     "varRefreshCmd": "cat(var_dic_list()) "
    }
   },
   "types_to_exclude": [
    "module",
    "function",
    "builtin_function_or_method",
    "instance",
    "_Feature"
   ],
   "window_display": false
  }
 },
 "nbformat": 4,
 "nbformat_minor": 2
}

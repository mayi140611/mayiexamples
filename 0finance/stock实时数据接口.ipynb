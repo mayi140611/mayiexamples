{
 "cells": [
  {
   "cell_type": "markdown",
   "metadata": {},
   "source": [
    "https://blog.csdn.net/weixin_34185320/article/details/91734754"
   ]
  },
  {
   "cell_type": "markdown",
   "metadata": {},
   "source": [
    "# Sina股票实时数据接口\n",
    "eg：http://hq.sinajs.cn/list=sh600389\n",
    "\n",
    "这个字符串由许多数据拼接在一起，不同含义的数据用逗号隔开了，按照程序员的思路，顺序号从0开始。\n",
    "```\n",
    "0：”大秦铁路”，股票名字；\n",
    "1：”27.55″，今日开盘价；\n",
    "2：”27.25″，昨日收盘价；\n",
    "3：”26.91″，当前价格；\n",
    "4：”27.55″，今日最高价；\n",
    "5：”26.20″，今日最低价；\n",
    "6：”26.91″，竞买价，即“买一”报价；\n",
    "7：”26.92″，竞卖价，即“卖一”报价；\n",
    "8：”22114263″，成交的股票数，由于股票交易以一百股为基本单位，所以在使用时，通常把该值除以一百；\n",
    "9：”589824680″，成交金额，单位为“元”，为了一目了然，通常以“万元”为成交金额的单位，所以通常把该值除以一万；\n",
    "10：”4695″，“买一”申请4695股，即47手；\n",
    "11：”26.91″，“买一”报价；\n",
    "12：”57590″，“买二”\n",
    "13：”26.90″，“买二”\n",
    "14：”14700″，“买三”\n",
    "15：”26.89″，“买三”\n",
    "16：”14300″，“买四”\n",
    "17：”26.88″，“买四”\n",
    "18：”15100″，“买五”\n",
    "19：”26.87″，“买五”\n",
    "20：”3100″，“卖一”申报3100股，即31手；\n",
    "21：”26.92″，“卖一”报价\n",
    "(22, 23), (24, 25), (26,27), (28, 29)分别为“卖二”至“卖四的情况”\n",
    "30：”2008-01-11″，日期；\n",
    "31：”15:05:32″，时间；\n",
    "```"
   ]
  },
  {
   "cell_type": "markdown",
   "metadata": {},
   "source": [
    "# import requests"
   ]
  },
  {
   "cell_type": "code",
   "execution_count": 17,
   "metadata": {},
   "outputs": [],
   "source": [
    "r = requests.get('http://hq.sinajs.cn/list=sh600389')"
   ]
  },
  {
   "cell_type": "code",
   "execution_count": 18,
   "metadata": {},
   "outputs": [
    {
     "data": {
      "text/plain": [
       "'var hq_str_sh600389=\"江山股份,21.350,21.200,21.790,21.790,21.030,21.780,21.790,2959786,63856093.000,45200,21.780,8400,21.770,31500,21.760,13014,21.750,1300,21.740,12500,21.790,31900,21.800,1500,21.810,5000,21.820,3000,21.830,2019-10-08,15:00:00,00,\";\\n'"
      ]
     },
     "execution_count": 18,
     "metadata": {},
     "output_type": "execute_result"
    }
   ],
   "source": [
    "r.text"
   ]
  },
  {
   "cell_type": "markdown",
   "metadata": {},
   "source": [
    "如果你要同时查询多个股票，那么在URL最后加上一个逗号，再加上股票代码就可以了；比如你要一次查询大秦铁路（601006）和大同煤业（601001）的行情，就这样使用URL："
   ]
  },
  {
   "cell_type": "code",
   "execution_count": 19,
   "metadata": {},
   "outputs": [],
   "source": [
    "r = requests.get('http://hq.sinajs.cn/list=sh600000,sh600004')"
   ]
  },
  {
   "cell_type": "code",
   "execution_count": 20,
   "metadata": {},
   "outputs": [
    {
     "data": {
      "text/plain": [
       "'var hq_str_sh600000=\"浦发银行,11.800,11.840,11.900,12.030,11.800,11.900,11.910,32415886,386027564.000,112140,11.900,197887,11.890,234950,11.880,51200,11.870,44100,11.860,69500,11.910,64000,11.920,28400,11.930,149718,11.940,252400,11.950,2019-10-08,15:00:00,00,\";\\nvar hq_str_sh600004=\"白云机场,22.450,22.450,22.960,23.290,22.230,22.960,22.970,16224595,372208603.000,13800,22.960,33000,22.950,3906,22.940,4000,22.930,5500,22.920,100,22.970,10000,22.990,32800,23.000,8700,23.060,200,23.080,2019-10-08,15:00:07,00,\";\\n'"
      ]
     },
     "execution_count": 20,
     "metadata": {},
     "output_type": "execute_result"
    }
   ],
   "source": [
    "r.text"
   ]
  },
  {
   "cell_type": "code",
   "execution_count": 21,
   "metadata": {},
   "outputs": [
    {
     "data": {
      "text/plain": [
       "['var hq_str_sh600000=\"浦发银行,11.800,11.840,11.900,12.030,11.800,11.900,11.910,32415886,386027564.000,112140,11.900,197887,11.890,234950,11.880,51200,11.870,44100,11.860,69500,11.910,64000,11.920,28400,11.930,149718,11.940,252400,11.950,2019-10-08,15:00:00,00,\"',\n",
       " 'var hq_str_sh600004=\"白云机场,22.450,22.450,22.960,23.290,22.230,22.960,22.970,16224595,372208603.000,13800,22.960,33000,22.950,3906,22.940,4000,22.930,5500,22.920,100,22.970,10000,22.990,32800,23.000,8700,23.060,200,23.080,2019-10-08,15:00:07,00,\"',\n",
       " '']"
      ]
     },
     "execution_count": 21,
     "metadata": {},
     "output_type": "execute_result"
    }
   ],
   "source": [
    "r.text.split(';\\n')"
   ]
  },
  {
   "cell_type": "code",
   "execution_count": 25,
   "metadata": {},
   "outputs": [],
   "source": [
    "s = r.text.split(';\\n')[0].find('\"')"
   ]
  },
  {
   "cell_type": "code",
   "execution_count": 30,
   "metadata": {},
   "outputs": [],
   "source": [
    "ll = [1, 3]"
   ]
  },
  {
   "cell_type": "code",
   "execution_count": 31,
   "metadata": {},
   "outputs": [
    {
     "data": {
      "text/plain": [
       "'[1, 3]'"
      ]
     },
     "execution_count": 31,
     "metadata": {},
     "output_type": "execute_result"
    }
   ],
   "source": [
    "str(ll)"
   ]
  },
  {
   "cell_type": "code",
   "execution_count": 29,
   "metadata": {},
   "outputs": [
    {
     "data": {
      "text/plain": [
       "(['浦发银行',\n",
       "  '11.800',\n",
       "  '11.840',\n",
       "  '11.900',\n",
       "  '12.030',\n",
       "  '11.800',\n",
       "  '11.900',\n",
       "  '11.910',\n",
       "  '32415886',\n",
       "  '386027564.000',\n",
       "  '112140',\n",
       "  '11.900',\n",
       "  '197887',\n",
       "  '11.890',\n",
       "  '234950',\n",
       "  '11.880',\n",
       "  '51200',\n",
       "  '11.870',\n",
       "  '44100',\n",
       "  '11.860',\n",
       "  '69500',\n",
       "  '11.910',\n",
       "  '64000',\n",
       "  '11.920',\n",
       "  '28400',\n",
       "  '11.930',\n",
       "  '149718',\n",
       "  '11.940',\n",
       "  '252400',\n",
       "  '11.950',\n",
       "  '2019-10-08',\n",
       "  '15:00:00',\n",
       "  '00'],\n",
       " 33)"
      ]
     },
     "execution_count": 29,
     "metadata": {},
     "output_type": "execute_result"
    }
   ],
   "source": [
    "r.text.split(';\\n')[0][s+1: -2].split(','), len(r.text.split(';\\n')[0][s+1: -2].split(','))"
   ]
  },
  {
   "cell_type": "markdown",
   "metadata": {},
   "source": [
    "查询大盘指数，比如查询上证综合指数（000001）："
   ]
  },
  {
   "cell_type": "code",
   "execution_count": 9,
   "metadata": {},
   "outputs": [
    {
     "data": {
      "text/plain": [
       "'var hq_str_s_sh000001=\"上证指数,2913.5704,8.3812,0.29,1255358,15198079\";\\n'"
      ]
     },
     "execution_count": 9,
     "metadata": {},
     "output_type": "execute_result"
    }
   ],
   "source": [
    "r = requests.get('http://hq.sinajs.cn/list=s_sh000001')\n",
    "r.text"
   ]
  },
  {
   "cell_type": "markdown",
   "metadata": {},
   "source": [
    "数据含义分别为：指数名称，当前指数，今日变化值，今日变化百分比，成交量（手），成交额（万元）；\n",
    "查询深圳成指数："
   ]
  },
  {
   "cell_type": "code",
   "execution_count": 10,
   "metadata": {},
   "outputs": [
    {
     "data": {
      "text/plain": [
       "'var hq_str_s_sz399001=\"深证成指,9474.75,28.516,0.30,188610558,22106171\";\\n'"
      ]
     },
     "execution_count": 10,
     "metadata": {},
     "output_type": "execute_result"
    }
   ],
   "source": [
    "r = requests.get('http://hq.sinajs.cn/list=s_sz399001')\n",
    "r.text"
   ]
  },
  {
   "cell_type": "markdown",
   "metadata": {},
   "source": [
    "# 腾讯的实时股票接口："
   ]
  },
  {
   "cell_type": "code",
   "execution_count": 12,
   "metadata": {},
   "outputs": [
    {
     "data": {
      "text/plain": [
       "'v_s_sz000559=\"51~万向钱潮~000559~5.19~0.01~0.19~32925~1704~~142.89~GP-A\";\\nv_s_sz000913=\"51~钱江摩托~000913~9.32~-0.21~-2.20~15729~1466~~42.27~GP-A\";\\nv_s_sz002048=\"51~宁波华翔~002048~14.45~-0.48~-3.22~148477~21834~~90.49~GP-A\";\\nv_s_sz002085=\"51~万丰奥威~002085~7.21~0.16~2.27~82895~5926~~157.67~GP-A\";\\nv_s_sz002126=\"51~银轮股份~002126~7.11~-0.12~-1.66~25576~1835~~56.96~GP-A\";\\n'"
      ]
     },
     "execution_count": 12,
     "metadata": {},
     "output_type": "execute_result"
    }
   ],
   "source": [
    "r = requests.get('http://qt.gtimg.cn/r=0.8409869808238q=s_sz000559,s_sz000913,s_sz002048,s_sz002085,s_sz002126')\n",
    "r.text"
   ]
  },
  {
   "cell_type": "markdown",
   "metadata": {},
   "source": [
    "# 网易的实时股票接口：\n",
    "注：新浪和腾讯都用sh、sz来区分上证和深证，网易用的1和0来区分。"
   ]
  },
  {
   "cell_type": "code",
   "execution_count": 14,
   "metadata": {},
   "outputs": [
    {
     "data": {
      "text/plain": [
       "'_ntes_quote_callback13451765({\"1002151\":{\"code\": \"1002151\", \"percent\": -0.011317, \"high\": 22.25, \"askvol3\": 1000, \"askvol2\": 100, \"askvol5\": 5900, \"askvol4\": 10000, \"price\": 21.84, \"open\": 22.1, \"bid5\": 21.8, \"bid4\": 21.81, \"bid3\": 21.82, \"bid2\": 21.83, \"bid1\": 21.84, \"low\": 21.8, \"updown\": -0.25, \"type\": \"SZ\", \"bidvol1\": 10166, \"status\": 0, \"bidvol3\": 6800, \"bidvol2\": 4500, \"symbol\": \"002151\", \"update\": \"2019/10/08 15:59:44\", \"bidvol5\": 38400, \"bidvol4\": 5900, \"volume\": 3600324, \"askvol1\": 2000, \"ask5\": 21.92, \"ask4\": 21.9, \"ask1\": 21.85, \"name\": \"\\\\u5317\\\\u6597\\\\u661f\\\\u901a\", \"ask3\": 21.88, \"ask2\": 21.86, \"arrow\": \"\\\\u2193\", \"time\": \"2019/10/08 15:59:42\", \"yestclose\": 22.09, \"turnover\": 79306674.24},\"0600036\":{\"code\": \"0600036\", \"percent\": 0.001727, \"high\": 35.1, \"askvol3\": 28200, \"askvol2\": 118300, \"askvol5\": 360642, \"askvol4\": 144500, \"price\": 34.81, \"open\": 34.7, \"bid5\": 34.77, \"bid4\": 34.78, \"bid3\": 34.79, \"bid2\": 34.8, \"bid1\": 34.81, \"low\": 34.5, \"updown\": 0.06, \"type\": \"SH\", \"symbol\": \"600036\", \"status\": 0, \"ask4\": 34.85, \"bidvol3\": 20600, \"bidvol2\": 73100, \"bidvol1\": 52600, \"update\": \"2019/10/08 15:59:44\", \"bidvol5\": 28500, \"bidvol4\": 28500, \"yestclose\": 34.75, \"askvol1\": 26200, \"ask5\": 34.86, \"volume\": 64588657, \"ask1\": 34.82, \"name\": \"\\\\u62db\\\\u5546\\\\u94f6\\\\u884c\", \"ask3\": 34.84, \"ask2\": 34.83, \"arrow\": \"\\\\u2191\", \"time\": \"2019/10/08 15:59:41\", \"turnover\": 2250110388},\"0600028\":{\"code\": \"0600028\", \"percent\": -0.003984, \"high\": 5.02, \"askvol3\": 2312465, \"askvol2\": 2008091, \"askvol5\": 798100, \"askvol4\": 1236600, \"price\": 5.0, \"open\": 4.99, \"bid5\": 4.95, \"bid4\": 4.96, \"bid3\": 4.97, \"bid2\": 4.98, \"bid1\": 4.99, \"low\": 4.99, \"updown\": -0.02, \"type\": \"SH\", \"symbol\": \"600028\", \"status\": 0, \"ask4\": 5.03, \"bidvol3\": 823200, \"bidvol2\": 1551800, \"bidvol1\": 2135291, \"update\": \"2019/10/08 15:59:44\", \"bidvol5\": 622800, \"bidvol4\": 754000, \"yestclose\": 5.02, \"askvol1\": 553372, \"ask5\": 5.04, \"volume\": 43671233, \"ask1\": 5.0, \"name\": \"\\\\u4e2d\\\\u56fd\\\\u77f3\\\\u5316\", \"ask3\": 5.02, \"ask2\": 5.01, \"arrow\": \"\\\\u2193\", \"time\": \"2019/10/08 15:59:41\", \"turnover\": 218564393} });'"
      ]
     },
     "execution_count": 14,
     "metadata": {},
     "output_type": "execute_result"
    }
   ],
   "source": [
    "r = requests.get('http://api.money.126.net/data/feed/1002151,0600036,0600028,money.api?callback=_ntes_quote_callback13451765')\n",
    "r.text"
   ]
  },
  {
   "cell_type": "code",
   "execution_count": null,
   "metadata": {},
   "outputs": [],
   "source": []
  }
 ],
 "metadata": {
  "kernelspec": {
   "display_name": "Python 3",
   "language": "python",
   "name": "python3"
  },
  "language_info": {
   "codemirror_mode": {
    "name": "ipython",
    "version": 3
   },
   "file_extension": ".py",
   "mimetype": "text/x-python",
   "name": "python",
   "nbconvert_exporter": "python",
   "pygments_lexer": "ipython3",
   "version": "3.7.3"
  },
  "toc": {
   "base_numbering": 1,
   "nav_menu": {},
   "number_sections": true,
   "sideBar": true,
   "skip_h1_title": false,
   "title_cell": "Table of Contents",
   "title_sidebar": "Contents",
   "toc_cell": false,
   "toc_position": {},
   "toc_section_display": true,
   "toc_window_display": true
  },
  "varInspector": {
   "cols": {
    "lenName": 16,
    "lenType": 16,
    "lenVar": 40
   },
   "kernels_config": {
    "python": {
     "delete_cmd_postfix": "",
     "delete_cmd_prefix": "del ",
     "library": "var_list.py",
     "varRefreshCmd": "print(var_dic_list())"
    },
    "r": {
     "delete_cmd_postfix": ") ",
     "delete_cmd_prefix": "rm(",
     "library": "var_list.r",
     "varRefreshCmd": "cat(var_dic_list()) "
    }
   },
   "types_to_exclude": [
    "module",
    "function",
    "builtin_function_or_method",
    "instance",
    "_Feature"
   ],
   "window_display": false
  }
 },
 "nbformat": 4,
 "nbformat_minor": 2
}

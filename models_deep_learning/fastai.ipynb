{
 "cells": [
  {
   "cell_type": "markdown",
   "metadata": {},
   "source": [
    "# fastai\n",
    "基于pytorch的上层封装。类似于tf的keras吧。。。  暂时先不看了\n",
    "\n",
    "https://docs.fast.ai/\n",
    "\n",
    "https://github.com/fastai/fastai\n",
    "\n",
    "The fastai library simplifies training fast and accurate neural nets using modern best practices. It's based on research in to deep learning best practices undertaken at fast.ai, including \"out of the box\" support for vision, text, tabular, and collab (collaborative filtering) models. \n",
    "\n",
    "If you're looking for the source code, head over to the fastai repo on GitHub. For brief examples, see the examples folder; detailed examples are provided in the full documentation (see the sidebar). For example, here's how to train an MNIST model using resnet18 (from the vision example)"
   ]
  },
  {
   "cell_type": "code",
   "execution_count": 1,
   "metadata": {},
   "outputs": [
    {
     "name": "stdout",
     "output_type": "stream",
     "text": [
      "fastai==1.0.59\r\n"
     ]
    }
   ],
   "source": [
    "!pip freeze | grep fastai"
   ]
  },
  {
   "cell_type": "code",
   "execution_count": 2,
   "metadata": {},
   "outputs": [
    {
     "name": "stdout",
     "output_type": "stream",
     "text": [
      "Collecting fastai==2.0.0\n",
      "\u001b[?25l  Downloading https://files.pythonhosted.org/packages/a2/a3/dc9b0ada3b6b920d6b786110ac3b2ff8a592b7dd08fc9e90045d07e5736c/fastai-2.0.0-py3-none-any.whl (350kB)\n",
      "\u001b[K     |████████████████████████████████| 358kB 352kB/s eta 0:00:01\n",
      "\u001b[?25hRequirement already satisfied: scikit-learn in /Users/luoyonggui/anaconda3/lib/python3.7/site-packages (from fastai==2.0.0) (0.23.1)\n",
      "Requirement already satisfied: pillow in /Users/luoyonggui/anaconda3/lib/python3.7/site-packages (from fastai==2.0.0) (5.2.0)\n",
      "Requirement already satisfied: pip in /Users/luoyonggui/anaconda3/lib/python3.7/site-packages (from fastai==2.0.0) (19.1.1)\n",
      "Requirement already satisfied: matplotlib in /Users/luoyonggui/anaconda3/lib/python3.7/site-packages (from fastai==2.0.0) (3.1.1)\n",
      "Requirement already satisfied: scipy in /Users/luoyonggui/anaconda3/lib/python3.7/site-packages (from fastai==2.0.0) (1.5.1)\n",
      "Requirement already satisfied: spacy in /Users/luoyonggui/anaconda3/lib/python3.7/site-packages (from fastai==2.0.0) (2.2.2)\n",
      "Collecting fastprogress>=0.2.4 (from fastai==2.0.0)\n",
      "  Downloading https://files.pythonhosted.org/packages/eb/1f/c61b92d806fbd06ad75d08440efe7f2bd1006ba0b15d086debed49d93cdc/fastprogress-1.0.0-py3-none-any.whl\n",
      "Requirement already satisfied: requests in /Users/luoyonggui/anaconda3/lib/python3.7/site-packages (from fastai==2.0.0) (2.22.0)\n",
      "Requirement already satisfied: pyyaml in /Users/luoyonggui/anaconda3/lib/python3.7/site-packages (from fastai==2.0.0) (5.1)\n",
      "Requirement already satisfied: packaging in /Users/luoyonggui/anaconda3/lib/python3.7/site-packages (from fastai==2.0.0) (19.0)\n",
      "Collecting torchvision>=0.7 (from fastai==2.0.0)\n",
      "\u001b[?25l  Downloading https://files.pythonhosted.org/packages/72/68/b82d188d09a40e681e8df5eeb91f71bb1facdc5c8a61a905350fa398a4a4/torchvision-0.7.0-cp37-cp37m-macosx_10_9_x86_64.whl (387kB)\n",
      "\u001b[K     |████████████████████████████████| 389kB 587kB/s eta 0:00:01\n",
      "\u001b[?25hRequirement already satisfied: torch>=1.6.0 in /Users/luoyonggui/anaconda3/lib/python3.7/site-packages (from fastai==2.0.0) (1.6.0)\n",
      "Requirement already satisfied: pandas in /Users/luoyonggui/anaconda3/lib/python3.7/site-packages (from fastai==2.0.0) (0.25.3)\n",
      "Collecting fastcore>=1.0.0 (from fastai==2.0.0)\n",
      "  Downloading https://files.pythonhosted.org/packages/cc/92/233661d730b5613b4daf473cd28005bf2294fb1a858ce0bac57fbb7fa5ec/fastcore-1.0.0-py3-none-any.whl\n",
      "Requirement already satisfied: threadpoolctl>=2.0.0 in /Users/luoyonggui/anaconda3/lib/python3.7/site-packages (from scikit-learn->fastai==2.0.0) (2.1.0)\n",
      "Requirement already satisfied: joblib>=0.11 in /Users/luoyonggui/anaconda3/lib/python3.7/site-packages (from scikit-learn->fastai==2.0.0) (0.16.0)\n",
      "Requirement already satisfied: numpy>=1.13.3 in /Users/luoyonggui/anaconda3/lib/python3.7/site-packages (from scikit-learn->fastai==2.0.0) (1.19.0)\n",
      "Requirement already satisfied: pyparsing!=2.0.4,!=2.1.2,!=2.1.6,>=2.0.1 in /Users/luoyonggui/anaconda3/lib/python3.7/site-packages (from matplotlib->fastai==2.0.0) (2.4.0)\n",
      "Requirement already satisfied: python-dateutil>=2.1 in /Users/luoyonggui/anaconda3/lib/python3.7/site-packages (from matplotlib->fastai==2.0.0) (2.7.3)\n",
      "Requirement already satisfied: cycler>=0.10 in /Users/luoyonggui/anaconda3/lib/python3.7/site-packages (from matplotlib->fastai==2.0.0) (0.10.0)\n",
      "Requirement already satisfied: kiwisolver>=1.0.1 in /Users/luoyonggui/anaconda3/lib/python3.7/site-packages (from matplotlib->fastai==2.0.0) (1.1.0)\n",
      "Requirement already satisfied: plac<1.2.0,>=0.9.6 in /Users/luoyonggui/anaconda3/lib/python3.7/site-packages (from spacy->fastai==2.0.0) (1.1.3)\n",
      "Requirement already satisfied: wasabi<1.1.0,>=0.3.0 in /Users/luoyonggui/anaconda3/lib/python3.7/site-packages (from spacy->fastai==2.0.0) (0.4.0)\n",
      "Requirement already satisfied: srsly<1.1.0,>=0.1.0 in /Users/luoyonggui/anaconda3/lib/python3.7/site-packages (from spacy->fastai==2.0.0) (0.2.0)\n",
      "Requirement already satisfied: thinc<7.4.0,>=7.3.0 in /Users/luoyonggui/anaconda3/lib/python3.7/site-packages (from spacy->fastai==2.0.0) (7.3.1)\n",
      "Requirement already satisfied: importlib-metadata>=0.20; python_version < \"3.8\" in /Users/luoyonggui/anaconda3/lib/python3.7/site-packages (from spacy->fastai==2.0.0) (0.23)\n",
      "Requirement already satisfied: setuptools in /Users/luoyonggui/anaconda3/lib/python3.7/site-packages (from spacy->fastai==2.0.0) (49.1.0)\n",
      "Requirement already satisfied: murmurhash<1.1.0,>=0.28.0 in /Users/luoyonggui/anaconda3/lib/python3.7/site-packages (from spacy->fastai==2.0.0) (1.0.2)\n",
      "Requirement already satisfied: blis<0.5.0,>=0.4.0 in /Users/luoyonggui/anaconda3/lib/python3.7/site-packages (from spacy->fastai==2.0.0) (0.4.1)\n",
      "Requirement already satisfied: cymem<2.1.0,>=2.0.2 in /Users/luoyonggui/anaconda3/lib/python3.7/site-packages (from spacy->fastai==2.0.0) (2.0.3)\n",
      "Requirement already satisfied: preshed<3.1.0,>=3.0.2 in /Users/luoyonggui/anaconda3/lib/python3.7/site-packages (from spacy->fastai==2.0.0) (3.0.2)\n",
      "Requirement already satisfied: idna<2.9,>=2.5 in /Users/luoyonggui/anaconda3/lib/python3.7/site-packages (from requests->fastai==2.0.0) (2.7)\n",
      "Requirement already satisfied: certifi>=2017.4.17 in /Users/luoyonggui/anaconda3/lib/python3.7/site-packages (from requests->fastai==2.0.0) (2018.4.16)\n",
      "Requirement already satisfied: chardet<3.1.0,>=3.0.2 in /Users/luoyonggui/anaconda3/lib/python3.7/site-packages (from requests->fastai==2.0.0) (3.0.4)\n",
      "Requirement already satisfied: urllib3!=1.25.0,!=1.25.1,<1.26,>=1.21.1 in /Users/luoyonggui/anaconda3/lib/python3.7/site-packages (from requests->fastai==2.0.0) (1.23)\n",
      "Requirement already satisfied: six in /Users/luoyonggui/anaconda3/lib/python3.7/site-packages (from packaging->fastai==2.0.0) (1.14.0)\n",
      "Requirement already satisfied: future in /Users/luoyonggui/anaconda3/lib/python3.7/site-packages (from torch>=1.6.0->fastai==2.0.0) (0.18.2)\n",
      "Requirement already satisfied: pytz>=2017.2 in /Users/luoyonggui/anaconda3/lib/python3.7/site-packages (from pandas->fastai==2.0.0) (2018.5)\n",
      "Collecting dataclasses (from fastcore>=1.0.0->fastai==2.0.0)\n",
      "  Downloading https://files.pythonhosted.org/packages/26/2f/1095cdc2868052dd1e64520f7c0d5c8c550ad297e944e641dbf1ffbb9a5d/dataclasses-0.6-py3-none-any.whl\n",
      "Requirement already satisfied: wheel in /Users/luoyonggui/anaconda3/lib/python3.7/site-packages (from fastcore>=1.0.0->fastai==2.0.0) (0.33.4)\n",
      "Requirement already satisfied: tqdm<5.0.0,>=4.10.0 in /Users/luoyonggui/anaconda3/lib/python3.7/site-packages (from thinc<7.4.0,>=7.3.0->spacy->fastai==2.0.0) (4.35.0)\n",
      "Requirement already satisfied: zipp>=0.5 in /Users/luoyonggui/anaconda3/lib/python3.7/site-packages (from importlib-metadata>=0.20; python_version < \"3.8\"->spacy->fastai==2.0.0) (0.6.0)\n",
      "Requirement already satisfied: more-itertools in /Users/luoyonggui/anaconda3/lib/python3.7/site-packages (from zipp>=0.5->importlib-metadata>=0.20; python_version < \"3.8\"->spacy->fastai==2.0.0) (6.0.0)\n",
      "Installing collected packages: fastprogress, torchvision, dataclasses, fastcore, fastai\n",
      "  Found existing installation: fastprogress 0.1.22\n",
      "    Uninstalling fastprogress-0.1.22:\n",
      "      Successfully uninstalled fastprogress-0.1.22\n",
      "  Found existing installation: torchvision 0.4.2\n",
      "    Uninstalling torchvision-0.4.2:\n",
      "      Successfully uninstalled torchvision-0.4.2\n",
      "  Found existing installation: fastai 0.6\n",
      "    Uninstalling fastai-0.6:\n",
      "      Successfully uninstalled fastai-0.6\n",
      "Successfully installed dataclasses-0.6 fastai-2.0.0 fastcore-1.0.0 fastprogress-1.0.0 torchvision-0.7.0\n"
     ]
    }
   ],
   "source": [
    "!pip install fastai==2.0.0"
   ]
  },
  {
   "cell_type": "code",
   "execution_count": null,
   "metadata": {},
   "outputs": [],
   "source": []
  }
 ],
 "metadata": {
  "kernelspec": {
   "display_name": "Python 3",
   "language": "python",
   "name": "python3"
  },
  "language_info": {
   "codemirror_mode": {
    "name": "ipython",
    "version": 3
   },
   "file_extension": ".py",
   "mimetype": "text/x-python",
   "name": "python",
   "nbconvert_exporter": "python",
   "pygments_lexer": "ipython3",
   "version": "3.7.3"
  },
  "toc": {
   "base_numbering": 1,
   "nav_menu": {},
   "number_sections": true,
   "sideBar": true,
   "skip_h1_title": false,
   "title_cell": "Table of Contents",
   "title_sidebar": "Contents",
   "toc_cell": false,
   "toc_position": {},
   "toc_section_display": true,
   "toc_window_display": false
  },
  "varInspector": {
   "cols": {
    "lenName": 16,
    "lenType": 16,
    "lenVar": 40
   },
   "kernels_config": {
    "python": {
     "delete_cmd_postfix": "",
     "delete_cmd_prefix": "del ",
     "library": "var_list.py",
     "varRefreshCmd": "print(var_dic_list())"
    },
    "r": {
     "delete_cmd_postfix": ") ",
     "delete_cmd_prefix": "rm(",
     "library": "var_list.r",
     "varRefreshCmd": "cat(var_dic_list()) "
    }
   },
   "types_to_exclude": [
    "module",
    "function",
    "builtin_function_or_method",
    "instance",
    "_Feature"
   ],
   "window_display": false
  }
 },
 "nbformat": 4,
 "nbformat_minor": 2
}

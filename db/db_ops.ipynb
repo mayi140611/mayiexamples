{
 "cells": [
  {
   "cell_type": "markdown",
   "metadata": {},
   "source": [
    "# 准备数据"
   ]
  },
  {
   "cell_type": "code",
   "execution_count": 1,
   "metadata": {},
   "outputs": [],
   "source": [
    "import sys\n",
    "sys.path.append('/Users/luoyonggui/PycharmProjects/mayiutils_n1/mayiutils/finance')\n",
    "from stock_wrapper import daily"
   ]
  },
  {
   "cell_type": "code",
   "execution_count": 2,
   "metadata": {},
   "outputs": [],
   "source": [
    "from datetime import datetime, timedelta\n",
    "import pandas as pd\n",
    "import numpy as np\n",
    "import tushare as ts"
   ]
  },
  {
   "cell_type": "code",
   "execution_count": 3,
   "metadata": {},
   "outputs": [
    {
     "name": "stdout",
     "output_type": "stream",
     "text": [
      "20010101 20061231\n",
      "20070101 20121231\n",
      "20130101 20190813\n"
     ]
    }
   ],
   "source": [
    "df = daily('000001.SH', start_date='20010101', end_date=datetime.now().strftime('%Y%m%d'))"
   ]
  },
  {
   "cell_type": "code",
   "execution_count": 10,
   "metadata": {},
   "outputs": [
    {
     "data": {
      "text/html": [
       "<div>\n",
       "<style scoped>\n",
       "    .dataframe tbody tr th:only-of-type {\n",
       "        vertical-align: middle;\n",
       "    }\n",
       "\n",
       "    .dataframe tbody tr th {\n",
       "        vertical-align: top;\n",
       "    }\n",
       "\n",
       "    .dataframe thead th {\n",
       "        text-align: right;\n",
       "    }\n",
       "</style>\n",
       "<table border=\"1\" class=\"dataframe\">\n",
       "  <thead>\n",
       "    <tr style=\"text-align: right;\">\n",
       "      <th></th>\n",
       "      <th>ts_code</th>\n",
       "      <th>close</th>\n",
       "      <th>open</th>\n",
       "      <th>high</th>\n",
       "      <th>low</th>\n",
       "      <th>pre_close</th>\n",
       "      <th>change</th>\n",
       "      <th>pct_chg</th>\n",
       "      <th>vol</th>\n",
       "      <th>amount</th>\n",
       "    </tr>\n",
       "    <tr>\n",
       "      <th>trade_date</th>\n",
       "      <th></th>\n",
       "      <th></th>\n",
       "      <th></th>\n",
       "      <th></th>\n",
       "      <th></th>\n",
       "      <th></th>\n",
       "      <th></th>\n",
       "      <th></th>\n",
       "      <th></th>\n",
       "      <th></th>\n",
       "    </tr>\n",
       "  </thead>\n",
       "  <tbody>\n",
       "    <tr>\n",
       "      <th>2001-01-02</th>\n",
       "      <td>000001.SH</td>\n",
       "      <td>2103.469</td>\n",
       "      <td>2077.076</td>\n",
       "      <td>2103.538</td>\n",
       "      <td>2074.882</td>\n",
       "      <td>2073.477</td>\n",
       "      <td>29.992</td>\n",
       "      <td>1.4465</td>\n",
       "      <td>18650746.0</td>\n",
       "      <td>1.340509e+07</td>\n",
       "    </tr>\n",
       "    <tr>\n",
       "      <th>2001-01-03</th>\n",
       "      <td>000001.SH</td>\n",
       "      <td>2123.899</td>\n",
       "      <td>2108.254</td>\n",
       "      <td>2123.900</td>\n",
       "      <td>2105.497</td>\n",
       "      <td>2103.469</td>\n",
       "      <td>20.430</td>\n",
       "      <td>0.9713</td>\n",
       "      <td>17157673.0</td>\n",
       "      <td>1.751683e+07</td>\n",
       "    </tr>\n",
       "    <tr>\n",
       "      <th>2001-01-04</th>\n",
       "      <td>000001.SH</td>\n",
       "      <td>2117.405</td>\n",
       "      <td>2125.485</td>\n",
       "      <td>2127.419</td>\n",
       "      <td>2113.179</td>\n",
       "      <td>2123.899</td>\n",
       "      <td>-6.494</td>\n",
       "      <td>-0.3058</td>\n",
       "      <td>13423541.0</td>\n",
       "      <td>1.429525e+07</td>\n",
       "    </tr>\n",
       "    <tr>\n",
       "      <th>2001-01-05</th>\n",
       "      <td>000001.SH</td>\n",
       "      <td>2125.300</td>\n",
       "      <td>2117.664</td>\n",
       "      <td>2125.381</td>\n",
       "      <td>2114.056</td>\n",
       "      <td>2117.405</td>\n",
       "      <td>7.895</td>\n",
       "      <td>0.3729</td>\n",
       "      <td>13288175.0</td>\n",
       "      <td>1.484424e+07</td>\n",
       "    </tr>\n",
       "    <tr>\n",
       "      <th>2001-01-08</th>\n",
       "      <td>000001.SH</td>\n",
       "      <td>2102.064</td>\n",
       "      <td>2128.602</td>\n",
       "      <td>2131.980</td>\n",
       "      <td>2092.097</td>\n",
       "      <td>2125.300</td>\n",
       "      <td>-23.236</td>\n",
       "      <td>-1.0933</td>\n",
       "      <td>14787085.0</td>\n",
       "      <td>1.588766e+07</td>\n",
       "    </tr>\n",
       "  </tbody>\n",
       "</table>\n",
       "</div>"
      ],
      "text/plain": [
       "              ts_code     close      open      high       low  pre_close  \\\n",
       "trade_date                                                                 \n",
       "2001-01-02  000001.SH  2103.469  2077.076  2103.538  2074.882   2073.477   \n",
       "2001-01-03  000001.SH  2123.899  2108.254  2123.900  2105.497   2103.469   \n",
       "2001-01-04  000001.SH  2117.405  2125.485  2127.419  2113.179   2123.899   \n",
       "2001-01-05  000001.SH  2125.300  2117.664  2125.381  2114.056   2117.405   \n",
       "2001-01-08  000001.SH  2102.064  2128.602  2131.980  2092.097   2125.300   \n",
       "\n",
       "            change  pct_chg         vol        amount  \n",
       "trade_date                                             \n",
       "2001-01-02  29.992   1.4465  18650746.0  1.340509e+07  \n",
       "2001-01-03  20.430   0.9713  17157673.0  1.751683e+07  \n",
       "2001-01-04  -6.494  -0.3058  13423541.0  1.429525e+07  \n",
       "2001-01-05   7.895   0.3729  13288175.0  1.484424e+07  \n",
       "2001-01-08 -23.236  -1.0933  14787085.0  1.588766e+07  "
      ]
     },
     "execution_count": 10,
     "metadata": {},
     "output_type": "execute_result"
    }
   ],
   "source": [
    "df.head()"
   ]
  },
  {
   "cell_type": "code",
   "execution_count": 47,
   "metadata": {},
   "outputs": [
    {
     "name": "stdout",
     "output_type": "stream",
     "text": [
      "20010101 20061231\n",
      "20070101 20121231\n",
      "20130101 20190811\n"
     ]
    },
    {
     "data": {
      "text/html": [
       "<div>\n",
       "<style scoped>\n",
       "    .dataframe tbody tr th:only-of-type {\n",
       "        vertical-align: middle;\n",
       "    }\n",
       "\n",
       "    .dataframe tbody tr th {\n",
       "        vertical-align: top;\n",
       "    }\n",
       "\n",
       "    .dataframe thead th {\n",
       "        text-align: right;\n",
       "    }\n",
       "</style>\n",
       "<table border=\"1\" class=\"dataframe\">\n",
       "  <thead>\n",
       "    <tr style=\"text-align: right;\">\n",
       "      <th></th>\n",
       "      <th>ts_code</th>\n",
       "      <th>open</th>\n",
       "      <th>high</th>\n",
       "      <th>low</th>\n",
       "      <th>close</th>\n",
       "      <th>pre_close</th>\n",
       "      <th>change</th>\n",
       "      <th>pct_chg</th>\n",
       "      <th>vol</th>\n",
       "      <th>amount</th>\n",
       "    </tr>\n",
       "    <tr>\n",
       "      <th>trade_date</th>\n",
       "      <th></th>\n",
       "      <th></th>\n",
       "      <th></th>\n",
       "      <th></th>\n",
       "      <th></th>\n",
       "      <th></th>\n",
       "      <th></th>\n",
       "      <th></th>\n",
       "      <th></th>\n",
       "      <th></th>\n",
       "    </tr>\n",
       "  </thead>\n",
       "  <tbody>\n",
       "    <tr>\n",
       "      <th>2001-01-02</th>\n",
       "      <td>600115.SH</td>\n",
       "      <td>5.60</td>\n",
       "      <td>5.70</td>\n",
       "      <td>5.60</td>\n",
       "      <td>5.69</td>\n",
       "      <td>5.60</td>\n",
       "      <td>0.09</td>\n",
       "      <td>1.61</td>\n",
       "      <td>14808.76</td>\n",
       "      <td>8368.321</td>\n",
       "    </tr>\n",
       "    <tr>\n",
       "      <th>2001-01-03</th>\n",
       "      <td>600115.SH</td>\n",
       "      <td>5.70</td>\n",
       "      <td>5.73</td>\n",
       "      <td>5.65</td>\n",
       "      <td>5.69</td>\n",
       "      <td>5.69</td>\n",
       "      <td>0.00</td>\n",
       "      <td>0.00</td>\n",
       "      <td>15642.39</td>\n",
       "      <td>8896.981</td>\n",
       "    </tr>\n",
       "    <tr>\n",
       "      <th>2001-01-04</th>\n",
       "      <td>600115.SH</td>\n",
       "      <td>5.69</td>\n",
       "      <td>5.70</td>\n",
       "      <td>5.65</td>\n",
       "      <td>5.69</td>\n",
       "      <td>5.69</td>\n",
       "      <td>0.00</td>\n",
       "      <td>0.00</td>\n",
       "      <td>17148.66</td>\n",
       "      <td>9738.521</td>\n",
       "    </tr>\n",
       "    <tr>\n",
       "      <th>2001-01-05</th>\n",
       "      <td>600115.SH</td>\n",
       "      <td>5.69</td>\n",
       "      <td>5.78</td>\n",
       "      <td>5.65</td>\n",
       "      <td>5.74</td>\n",
       "      <td>5.69</td>\n",
       "      <td>0.05</td>\n",
       "      <td>0.88</td>\n",
       "      <td>24655.30</td>\n",
       "      <td>14105.074</td>\n",
       "    </tr>\n",
       "    <tr>\n",
       "      <th>2001-01-08</th>\n",
       "      <td>600115.SH</td>\n",
       "      <td>5.74</td>\n",
       "      <td>5.74</td>\n",
       "      <td>5.51</td>\n",
       "      <td>5.69</td>\n",
       "      <td>5.74</td>\n",
       "      <td>-0.05</td>\n",
       "      <td>-0.87</td>\n",
       "      <td>19110.72</td>\n",
       "      <td>10843.115</td>\n",
       "    </tr>\n",
       "  </tbody>\n",
       "</table>\n",
       "</div>"
      ],
      "text/plain": [
       "              ts_code  open  high   low  close  pre_close  change  pct_chg  \\\n",
       "trade_date                                                                   \n",
       "2001-01-02  600115.SH  5.60  5.70  5.60   5.69       5.60    0.09     1.61   \n",
       "2001-01-03  600115.SH  5.70  5.73  5.65   5.69       5.69    0.00     0.00   \n",
       "2001-01-04  600115.SH  5.69  5.70  5.65   5.69       5.69    0.00     0.00   \n",
       "2001-01-05  600115.SH  5.69  5.78  5.65   5.74       5.69    0.05     0.88   \n",
       "2001-01-08  600115.SH  5.74  5.74  5.51   5.69       5.74   -0.05    -0.87   \n",
       "\n",
       "                 vol     amount  \n",
       "trade_date                       \n",
       "2001-01-02  14808.76   8368.321  \n",
       "2001-01-03  15642.39   8896.981  \n",
       "2001-01-04  17148.66   9738.521  \n",
       "2001-01-05  24655.30  14105.074  \n",
       "2001-01-08  19110.72  10843.115  "
      ]
     },
     "execution_count": 47,
     "metadata": {},
     "output_type": "execute_result"
    }
   ],
   "source": [
    "df_dfhk = daily('600115.SH', start_date='20010101', end_date=datetime.now().strftime('%Y%m%d'), mode='stock')\n",
    "df_dfhk.head()"
   ]
  },
  {
   "cell_type": "code",
   "execution_count": 43,
   "metadata": {},
   "outputs": [],
   "source": [
    "def df2dicts(df):\n",
    "    \"\"\"\n",
    "    df to dicts list\n",
    "    \"\"\"\n",
    "    dicts = []\n",
    "    for line in df.itertuples():\n",
    "        ll = list(df.columns)\n",
    "        dicts.append(dict(zip(ll, list(line)[1:])))\n",
    "    return dicts"
   ]
  },
  {
   "cell_type": "code",
   "execution_count": 50,
   "metadata": {},
   "outputs": [],
   "source": [
    "def df2dicts_stock(df):\n",
    "    \"\"\"\n",
    "    df to dicts list\n",
    "    \"\"\"\n",
    "    dicts = []\n",
    "    for line in df.itertuples():\n",
    "        ll = ['trade_date'] + list(df.columns)\n",
    "        dicts.append(dict(zip(ll, [f'{line[0].date()}']+list(line)[1:])))\n",
    "    return dicts"
   ]
  },
  {
   "cell_type": "code",
   "execution_count": 28,
   "metadata": {},
   "outputs": [],
   "source": [
    "dicts = []\n",
    "for line in df.itertuples():\n",
    "    ll = ['trade_date'] + list(df.columns)\n",
    "    dicts.append(dict(zip(ll, [f'{line[0].date()}']+list(line)[1:])))"
   ]
  },
  {
   "cell_type": "code",
   "execution_count": 30,
   "metadata": {},
   "outputs": [
    {
     "data": {
      "text/plain": [
       "[{'trade_date': '2001-01-02',\n",
       "  'ts_code': '000001.SH',\n",
       "  'close': 2103.469,\n",
       "  'open': 2077.076,\n",
       "  'high': 2103.538,\n",
       "  'low': 2074.882,\n",
       "  'pre_close': 2073.477,\n",
       "  'change': 29.992,\n",
       "  'pct_chg': 1.4465,\n",
       "  'vol': 18650746.0,\n",
       "  'amount': 13405094.725},\n",
       " {'trade_date': '2001-01-03',\n",
       "  'ts_code': '000001.SH',\n",
       "  'close': 2123.899,\n",
       "  'open': 2108.254,\n",
       "  'high': 2123.9,\n",
       "  'low': 2105.497,\n",
       "  'pre_close': 2103.469,\n",
       "  'change': 20.43,\n",
       "  'pct_chg': 0.9713,\n",
       "  'vol': 17157673.0,\n",
       "  'amount': 17516832.575}]"
      ]
     },
     "execution_count": 30,
     "metadata": {},
     "output_type": "execute_result"
    }
   ],
   "source": [
    "dicts[:2]"
   ]
  },
  {
   "cell_type": "markdown",
   "metadata": {},
   "source": [
    "# pymongo ops"
   ]
  },
  {
   "cell_type": "markdown",
   "metadata": {},
   "source": [
    "## 原生pymongo"
   ]
  },
  {
   "cell_type": "markdown",
   "metadata": {},
   "source": [
    "https://www.runoob.com/python3/python-mongodb.html\n",
    "\n",
    "https://api.mongodb.com/python/current/tutorial.html\n",
    "\n",
    "https://docs.mongodb.com/manual/indexes/\n",
    "\n",
    "https://www.jianshu.com/p/a4d1a362daae"
   ]
  },
  {
   "cell_type": "code",
   "execution_count": 14,
   "metadata": {},
   "outputs": [
    {
     "name": "stdout",
     "output_type": "stream",
     "text": [
      "/bin/sh: -c: line 0: syntax error near unexpected token `('\r\n",
      "/bin/sh: -c: line 0: `mongo db.serverStatus().connections'\r\n"
     ]
    }
   ],
   "source": [
    "!mongo db.serverStatus().connections"
   ]
  },
  {
   "cell_type": "code",
   "execution_count": 1,
   "metadata": {},
   "outputs": [
    {
     "name": "stdout",
     "output_type": "stream",
     "text": [
      "pymongo==3.8.0\r\n"
     ]
    }
   ],
   "source": [
    "!pip freeze | grep pymongo"
   ]
  },
  {
   "cell_type": "code",
   "execution_count": 1,
   "metadata": {},
   "outputs": [],
   "source": [
    "from pymongo import MongoClient"
   ]
  },
  {
   "cell_type": "markdown",
   "metadata": {},
   "source": [
    "### 连接mongodb"
   ]
  },
  {
   "cell_type": "code",
   "execution_count": 12,
   "metadata": {},
   "outputs": [],
   "source": [
    "client = MongoClient('localhost', 27017)"
   ]
  },
  {
   "cell_type": "code",
   "execution_count": 13,
   "metadata": {},
   "outputs": [
    {
     "data": {
      "text/plain": [
       "100"
      ]
     },
     "execution_count": 13,
     "metadata": {},
     "output_type": "execute_result"
    }
   ],
   "source": [
    "client.max_pool_size"
   ]
  },
  {
   "cell_type": "code",
   "execution_count": null,
   "metadata": {},
   "outputs": [],
   "source": [
    "client."
   ]
  },
  {
   "cell_type": "code",
   "execution_count": 6,
   "metadata": {},
   "outputs": [
    {
     "data": {
      "text/plain": [
       "pymongo.mongo_client.MongoClient"
      ]
     },
     "execution_count": 6,
     "metadata": {},
     "output_type": "execute_result"
    }
   ],
   "source": [
    "type(client)"
   ]
  },
  {
   "cell_type": "code",
   "execution_count": 11,
   "metadata": {},
   "outputs": [],
   "source": [
    "# Cleanup client resources and disconnect from MongoDB.\n",
    "client.close()"
   ]
  },
  {
   "cell_type": "markdown",
   "metadata": {},
   "source": [
    "### 获取db"
   ]
  },
  {
   "cell_type": "code",
   "execution_count": 7,
   "metadata": {},
   "outputs": [],
   "source": [
    "db = client['finance']"
   ]
  },
  {
   "cell_type": "code",
   "execution_count": 9,
   "metadata": {
    "scrolled": true
   },
   "outputs": [],
   "source": [
    "#db.list_collection_names()"
   ]
  },
  {
   "cell_type": "markdown",
   "metadata": {},
   "source": [
    "### 获取table"
   ]
  },
  {
   "cell_type": "code",
   "execution_count": 10,
   "metadata": {},
   "outputs": [],
   "source": [
    "table = db['test']  # 此时如果表不存在，并不会创建表"
   ]
  },
  {
   "cell_type": "markdown",
   "metadata": {},
   "source": [
    "### Indexing 创建唯一索引  \n",
    "https://api.mongodb.com/python/current/tutorial.html#indexing\n",
    "\n",
    "Adding indexes can help accelerate certain queries and can also add additional functionality to querying and storing documents. In this example, we’ll demonstrate how to create a unique index on a key that rejects documents whose value for that key already exists in the index."
   ]
  },
  {
   "cell_type": "code",
   "execution_count": 16,
   "metadata": {
    "scrolled": true
   },
   "outputs": [
    {
     "name": "stderr",
     "output_type": "stream",
     "text": [
      "/Users/luoyonggui/anaconda3/lib/python3.7/site-packages/ipykernel_launcher.py:2: DeprecationWarning: ensure_index is deprecated. Use create_index instead.\n",
      "  \n"
     ]
    },
    {
     "data": {
      "text/plain": [
       "'a_1'"
      ]
     },
     "execution_count": 16,
     "metadata": {},
     "output_type": "execute_result"
    }
   ],
   "source": [
    "# deprecated\n",
    "table.ensure_index('a', unique=True)"
   ]
  },
  {
   "cell_type": "code",
   "execution_count": 17,
   "metadata": {},
   "outputs": [
    {
     "data": {
      "text/plain": [
       "{'_id_': {'v': 2, 'key': [('_id', 1)], 'ns': 'finance.test'},\n",
       " 'a_1': {'v': 2, 'unique': True, 'key': [('a', 1)], 'ns': 'finance.test'}}"
      ]
     },
     "execution_count": 17,
     "metadata": {},
     "output_type": "execute_result"
    }
   ],
   "source": [
    "table.index_information()"
   ]
  },
  {
   "cell_type": "markdown",
   "metadata": {},
   "source": [
    "#### Creates an index on this collection."
   ]
  },
  {
   "cell_type": "code",
   "execution_count": 18,
   "metadata": {},
   "outputs": [
    {
     "data": {
      "text/plain": [
       "'b_1'"
      ]
     },
     "execution_count": 18,
     "metadata": {},
     "output_type": "execute_result"
    }
   ],
   "source": [
    "# To create a single key ascending index on the key\n",
    "table.create_index('b')"
   ]
  },
  {
   "cell_type": "code",
   "execution_count": 19,
   "metadata": {},
   "outputs": [
    {
     "data": {
      "text/plain": [
       "{'_id_': {'v': 2, 'key': [('_id', 1)], 'ns': 'finance.test'},\n",
       " 'a_1': {'v': 2, 'unique': True, 'key': [('a', 1)], 'ns': 'finance.test'},\n",
       " 'b_1': {'v': 2, 'key': [('b', 1)], 'ns': 'finance.test'}}"
      ]
     },
     "execution_count": 19,
     "metadata": {},
     "output_type": "execute_result"
    }
   ],
   "source": [
    "table.index_information()"
   ]
  },
  {
   "cell_type": "code",
   "execution_count": 21,
   "metadata": {},
   "outputs": [
    {
     "data": {
      "text/plain": [
       "'mike_-1_eliot_1'"
      ]
     },
     "execution_count": 21,
     "metadata": {},
     "output_type": "execute_result"
    }
   ],
   "source": [
    "# compound index 复合索引\n",
    "table.create_index([(\"mike\", pymongo.DESCENDING), (\"eliot\", pymongo.ASCENDING)])"
   ]
  },
  {
   "cell_type": "code",
   "execution_count": 22,
   "metadata": {},
   "outputs": [
    {
     "data": {
      "text/plain": [
       "{'_id_': {'v': 2, 'key': [('_id', 1)], 'ns': 'finance.test'},\n",
       " 'a_1': {'v': 2, 'unique': True, 'key': [('a', 1)], 'ns': 'finance.test'},\n",
       " 'b_1': {'v': 2, 'key': [('b', 1)], 'ns': 'finance.test'},\n",
       " 'mike_-1_eliot_1': {'v': 2,\n",
       "  'key': [('mike', -1), ('eliot', 1)],\n",
       "  'ns': 'finance.test'}}"
      ]
     },
     "execution_count": 22,
     "metadata": {},
     "output_type": "execute_result"
    }
   ],
   "source": [
    "table.index_information()"
   ]
  },
  {
   "cell_type": "code",
   "execution_count": 23,
   "metadata": {},
   "outputs": [
    {
     "data": {
      "text/plain": [
       "'user_id_1'"
      ]
     },
     "execution_count": 23,
     "metadata": {},
     "output_type": "execute_result"
    }
   ],
   "source": [
    "# 唯一索引\n",
    "table.create_index([('user_id', pymongo.ASCENDING)], unique=True)"
   ]
  },
  {
   "cell_type": "code",
   "execution_count": 24,
   "metadata": {},
   "outputs": [
    {
     "data": {
      "text/plain": [
       "{'_id_': {'v': 2, 'key': [('_id', 1)], 'ns': 'finance.test'},\n",
       " 'a_1': {'v': 2, 'unique': True, 'key': [('a', 1)], 'ns': 'finance.test'},\n",
       " 'b_1': {'v': 2, 'key': [('b', 1)], 'ns': 'finance.test'},\n",
       " 'mike_-1_eliot_1': {'v': 2,\n",
       "  'key': [('mike', -1), ('eliot', 1)],\n",
       "  'ns': 'finance.test'},\n",
       " 'user_id_1': {'v': 2,\n",
       "  'unique': True,\n",
       "  'key': [('user_id', 1)],\n",
       "  'ns': 'finance.test'}}"
      ]
     },
     "execution_count": 24,
     "metadata": {},
     "output_type": "execute_result"
    }
   ],
   "source": [
    "table.index_information()"
   ]
  },
  {
   "cell_type": "code",
   "execution_count": 25,
   "metadata": {},
   "outputs": [
    {
     "data": {
      "text/plain": [
       "'hh_1'"
      ]
     },
     "execution_count": 25,
     "metadata": {},
     "output_type": "execute_result"
    }
   ],
   "source": [
    "# 唯一索引 的简写形式\n",
    "table.create_index('hh', unique=True)"
   ]
  },
  {
   "cell_type": "code",
   "execution_count": 26,
   "metadata": {},
   "outputs": [
    {
     "data": {
      "text/plain": [
       "{'_id_': {'v': 2, 'key': [('_id', 1)], 'ns': 'finance.test'},\n",
       " 'a_1': {'v': 2, 'unique': True, 'key': [('a', 1)], 'ns': 'finance.test'},\n",
       " 'b_1': {'v': 2, 'key': [('b', 1)], 'ns': 'finance.test'},\n",
       " 'mike_-1_eliot_1': {'v': 2,\n",
       "  'key': [('mike', -1), ('eliot', 1)],\n",
       "  'ns': 'finance.test'},\n",
       " 'user_id_1': {'v': 2,\n",
       "  'unique': True,\n",
       "  'key': [('user_id', 1)],\n",
       "  'ns': 'finance.test'},\n",
       " 'hh_1': {'v': 2, 'unique': True, 'key': [('hh', 1)], 'ns': 'finance.test'}}"
      ]
     },
     "execution_count": 26,
     "metadata": {},
     "output_type": "execute_result"
    }
   ],
   "source": [
    "table.index_information()"
   ]
  },
  {
   "cell_type": "code",
   "execution_count": 30,
   "metadata": {},
   "outputs": [
    {
     "data": {
      "text/plain": [
       "'yy_1_mm_1'"
      ]
     },
     "execution_count": 30,
     "metadata": {},
     "output_type": "execute_result"
    }
   ],
   "source": [
    "# 唯一索引 的简写形式\n",
    "table.create_index([('yy', pymongo.ASCENDING), ('mm', pymongo.ASCENDING)], unique=True)"
   ]
  },
  {
   "cell_type": "code",
   "execution_count": 31,
   "metadata": {},
   "outputs": [
    {
     "data": {
      "text/plain": [
       "{'_id_': {'v': 2, 'key': [('_id', 1)], 'ns': 'finance.test'},\n",
       " 'a_1': {'v': 2, 'unique': True, 'key': [('a', 1)], 'ns': 'finance.test'},\n",
       " 'b_1': {'v': 2, 'key': [('b', 1)], 'ns': 'finance.test'},\n",
       " 'mike_-1_eliot_1': {'v': 2,\n",
       "  'key': [('mike', -1), ('eliot', 1)],\n",
       "  'ns': 'finance.test'},\n",
       " 'user_id_1': {'v': 2,\n",
       "  'unique': True,\n",
       "  'key': [('user_id', 1)],\n",
       "  'ns': 'finance.test'},\n",
       " 'hh_1': {'v': 2, 'unique': True, 'key': [('hh', 1)], 'ns': 'finance.test'},\n",
       " 'yy_1_mm_1': {'v': 2,\n",
       "  'unique': True,\n",
       "  'key': [('yy', 1), ('mm', 1)],\n",
       "  'ns': 'finance.test'}}"
      ]
     },
     "execution_count": 31,
     "metadata": {},
     "output_type": "execute_result"
    }
   ],
   "source": [
    "table.index_information()"
   ]
  },
  {
   "cell_type": "markdown",
   "metadata": {},
   "source": [
    "### 删除表"
   ]
  },
  {
   "cell_type": "code",
   "execution_count": 32,
   "metadata": {},
   "outputs": [
    {
     "data": {
      "text/plain": [
       "{'ns': 'finance.test', 'nIndexesWas': 7, 'ok': 1.0}"
      ]
     },
     "execution_count": 32,
     "metadata": {},
     "output_type": "execute_result"
    }
   ],
   "source": [
    "db.drop_collection(table)"
   ]
  },
  {
   "cell_type": "markdown",
   "metadata": {},
   "source": [
    "## PyMongoWrapper"
   ]
  },
  {
   "cell_type": "code",
   "execution_count": 36,
   "metadata": {},
   "outputs": [],
   "source": [
    "import sys\n",
    "sys.path.append('/Users/luoyonggui/PycharmProjects/mayiutils_n1/mayiutils/db')\n",
    "\n",
    "from pymongo_wrapper import PyMongoWrapper\n",
    "import pandas as pd"
   ]
  },
  {
   "cell_type": "code",
   "execution_count": 37,
   "metadata": {},
   "outputs": [],
   "source": [
    "mongo = PyMongoWrapper()"
   ]
  },
  {
   "cell_type": "code",
   "execution_count": 42,
   "metadata": {},
   "outputs": [],
   "source": [
    "db = mongo.getDb('finance')"
   ]
  },
  {
   "cell_type": "markdown",
   "metadata": {},
   "source": [
    "## 列出数据库下所有表名"
   ]
  },
  {
   "cell_type": "code",
   "execution_count": 43,
   "metadata": {},
   "outputs": [
    {
     "data": {
      "text/plain": [
       "['600029.SH',\n",
       " '600115.SH',\n",
       " '601318.SH',\n",
       " '000001.SZ',\n",
       " '600036.SH',\n",
       " 'stock_basic',\n",
       " '601939.SH']"
      ]
     },
     "execution_count": 43,
     "metadata": {},
     "output_type": "execute_result"
    }
   ],
   "source": [
    "db.list_collection_names()"
   ]
  },
  {
   "cell_type": "code",
   "execution_count": 13,
   "metadata": {},
   "outputs": [],
   "source": [
    "\n",
    "\n",
    "table = mongo.getCollection('finance', '000001.SH')\n",
    "\n",
    "mongo.setUniqueIndex('finance', '000001.SH', 'trade_date')\n",
    "\n",
    "table.insert_many(dicts)"
   ]
  },
  {
   "cell_type": "code",
   "execution_count": 48,
   "metadata": {},
   "outputs": [],
   "source": [
    "table = mongo.getCollection('finance', '600115.SH')"
   ]
  },
  {
   "cell_type": "code",
   "execution_count": 49,
   "metadata": {},
   "outputs": [
    {
     "data": {
      "text/plain": [
       "True"
      ]
     },
     "execution_count": 49,
     "metadata": {},
     "output_type": "execute_result"
    }
   ],
   "source": [
    "mongo.setUniqueIndex('finance', '600115.SH', 'trade_date')"
   ]
  },
  {
   "cell_type": "code",
   "execution_count": 51,
   "metadata": {},
   "outputs": [
    {
     "data": {
      "text/plain": [
       "<pymongo.results.InsertManyResult at 0x11a841848>"
      ]
     },
     "execution_count": 51,
     "metadata": {},
     "output_type": "execute_result"
    }
   ],
   "source": [
    "table.insert_many(df2dicts_stock(df_dfhk))"
   ]
  },
  {
   "cell_type": "code",
   "execution_count": 32,
   "metadata": {},
   "outputs": [],
   "source": [
    "table = mongo.getCollection('finance', 'stock_basic')"
   ]
  },
  {
   "cell_type": "code",
   "execution_count": 33,
   "metadata": {},
   "outputs": [
    {
     "data": {
      "text/plain": [
       "True"
      ]
     },
     "execution_count": 33,
     "metadata": {},
     "output_type": "execute_result"
    }
   ],
   "source": [
    "mongo.setUniqueIndex('finance', 'stock_basic', 'ts_code')"
   ]
  },
  {
   "cell_type": "code",
   "execution_count": 34,
   "metadata": {},
   "outputs": [],
   "source": [
    "TS_TOKEN = '5fd1639100f8a22b7f86e882e03192009faa72bae1ae93803e1172d5'\n",
    "pro = ts.pro_api(TS_TOKEN)"
   ]
  },
  {
   "cell_type": "code",
   "execution_count": 39,
   "metadata": {},
   "outputs": [],
   "source": [
    "data = pro.stock_basic(exchange='', list_status='L', fields='ts_code,symbol,name,area,industry,market,is_hs,list_date')"
   ]
  },
  {
   "cell_type": "code",
   "execution_count": null,
   "metadata": {},
   "outputs": [],
   "source": [
    "名称\t类型\t描述\n",
    "ts_code\tstr\tTS代码\n",
    "symbol\tstr\t股票代码\n",
    "name\tstr\t股票名称\n",
    "area\tstr\t所在地域\n",
    "industry\tstr\t所属行业\n",
    "fullname\tstr\t股票全称\n",
    "enname\tstr\t英文全称\n",
    "market\tstr\t市场类型 （主板/中小板/创业板）\n",
    "exchange\tstr\t交易所代码\n",
    "curr_type\tstr\t交易货币\n",
    "list_status\tstr\t上市状态： L上市 D退市 P暂停上市\n",
    "list_date\tstr\t上市日期\n",
    "delist_date\tstr\t退市日期\n",
    "is_hs\tstr\t是否沪深港通标的，N否 H沪股通 S深股通"
   ]
  },
  {
   "cell_type": "code",
   "execution_count": 41,
   "metadata": {},
   "outputs": [
    {
     "data": {
      "text/html": [
       "<div>\n",
       "<style scoped>\n",
       "    .dataframe tbody tr th:only-of-type {\n",
       "        vertical-align: middle;\n",
       "    }\n",
       "\n",
       "    .dataframe tbody tr th {\n",
       "        vertical-align: top;\n",
       "    }\n",
       "\n",
       "    .dataframe thead th {\n",
       "        text-align: right;\n",
       "    }\n",
       "</style>\n",
       "<table border=\"1\" class=\"dataframe\">\n",
       "  <thead>\n",
       "    <tr style=\"text-align: right;\">\n",
       "      <th></th>\n",
       "      <th>ts_code</th>\n",
       "      <th>symbol</th>\n",
       "      <th>name</th>\n",
       "      <th>area</th>\n",
       "      <th>industry</th>\n",
       "      <th>market</th>\n",
       "      <th>list_date</th>\n",
       "      <th>is_hs</th>\n",
       "    </tr>\n",
       "  </thead>\n",
       "  <tbody>\n",
       "    <tr>\n",
       "      <th>0</th>\n",
       "      <td>000001.SZ</td>\n",
       "      <td>000001</td>\n",
       "      <td>平安银行</td>\n",
       "      <td>深圳</td>\n",
       "      <td>银行</td>\n",
       "      <td>主板</td>\n",
       "      <td>19910403</td>\n",
       "      <td>S</td>\n",
       "    </tr>\n",
       "    <tr>\n",
       "      <th>1</th>\n",
       "      <td>000002.SZ</td>\n",
       "      <td>000002</td>\n",
       "      <td>万科A</td>\n",
       "      <td>深圳</td>\n",
       "      <td>全国地产</td>\n",
       "      <td>主板</td>\n",
       "      <td>19910129</td>\n",
       "      <td>S</td>\n",
       "    </tr>\n",
       "    <tr>\n",
       "      <th>2</th>\n",
       "      <td>000004.SZ</td>\n",
       "      <td>000004</td>\n",
       "      <td>国农科技</td>\n",
       "      <td>深圳</td>\n",
       "      <td>生物制药</td>\n",
       "      <td>主板</td>\n",
       "      <td>19910114</td>\n",
       "      <td>N</td>\n",
       "    </tr>\n",
       "    <tr>\n",
       "      <th>3</th>\n",
       "      <td>000005.SZ</td>\n",
       "      <td>000005</td>\n",
       "      <td>世纪星源</td>\n",
       "      <td>深圳</td>\n",
       "      <td>环境保护</td>\n",
       "      <td>主板</td>\n",
       "      <td>19901210</td>\n",
       "      <td>N</td>\n",
       "    </tr>\n",
       "    <tr>\n",
       "      <th>4</th>\n",
       "      <td>000006.SZ</td>\n",
       "      <td>000006</td>\n",
       "      <td>深振业A</td>\n",
       "      <td>深圳</td>\n",
       "      <td>区域地产</td>\n",
       "      <td>主板</td>\n",
       "      <td>19920427</td>\n",
       "      <td>S</td>\n",
       "    </tr>\n",
       "  </tbody>\n",
       "</table>\n",
       "</div>"
      ],
      "text/plain": [
       "     ts_code  symbol  name area industry market list_date is_hs\n",
       "0  000001.SZ  000001  平安银行   深圳       银行     主板  19910403     S\n",
       "1  000002.SZ  000002   万科A   深圳     全国地产     主板  19910129     S\n",
       "2  000004.SZ  000004  国农科技   深圳     生物制药     主板  19910114     N\n",
       "3  000005.SZ  000005  世纪星源   深圳     环境保护     主板  19901210     N\n",
       "4  000006.SZ  000006  深振业A   深圳     区域地产     主板  19920427     S"
      ]
     },
     "execution_count": 41,
     "metadata": {},
     "output_type": "execute_result"
    }
   ],
   "source": [
    "data.head()"
   ]
  },
  {
   "cell_type": "code",
   "execution_count": 44,
   "metadata": {},
   "outputs": [
    {
     "data": {
      "text/plain": [
       "<pymongo.results.InsertManyResult at 0x11a26c848>"
      ]
     },
     "execution_count": 44,
     "metadata": {},
     "output_type": "execute_result"
    }
   ],
   "source": [
    "table.insert_many(df2dicts(data))"
   ]
  },
  {
   "cell_type": "markdown",
   "metadata": {},
   "source": [
    "## 查询数据"
   ]
  },
  {
   "cell_type": "code",
   "execution_count": 4,
   "metadata": {},
   "outputs": [],
   "source": [
    "from datetime import datetime"
   ]
  },
  {
   "cell_type": "code",
   "execution_count": 29,
   "metadata": {},
   "outputs": [],
   "source": [
    "mongo = PyMongoWrapper()\n",
    "\n",
    "table = mongo.getCollection('finance', 'stock_basic')"
   ]
  },
  {
   "cell_type": "code",
   "execution_count": 30,
   "metadata": {},
   "outputs": [],
   "source": [
    "r = list(mongo.findAll(table))"
   ]
  },
  {
   "cell_type": "code",
   "execution_count": 31,
   "metadata": {},
   "outputs": [
    {
     "data": {
      "text/html": [
       "<div>\n",
       "<style scoped>\n",
       "    .dataframe tbody tr th:only-of-type {\n",
       "        vertical-align: middle;\n",
       "    }\n",
       "\n",
       "    .dataframe tbody tr th {\n",
       "        vertical-align: top;\n",
       "    }\n",
       "\n",
       "    .dataframe thead th {\n",
       "        text-align: right;\n",
       "    }\n",
       "</style>\n",
       "<table border=\"1\" class=\"dataframe\">\n",
       "  <thead>\n",
       "    <tr style=\"text-align: right;\">\n",
       "      <th></th>\n",
       "      <th>_id</th>\n",
       "      <th>area</th>\n",
       "      <th>industry</th>\n",
       "      <th>is_hs</th>\n",
       "      <th>list_date</th>\n",
       "      <th>market</th>\n",
       "      <th>name</th>\n",
       "      <th>symbol</th>\n",
       "      <th>ts_code</th>\n",
       "    </tr>\n",
       "  </thead>\n",
       "  <tbody>\n",
       "    <tr>\n",
       "      <th>0</th>\n",
       "      <td>5d502a3f870cc9ddd54f6861</td>\n",
       "      <td>深圳</td>\n",
       "      <td>银行</td>\n",
       "      <td>S</td>\n",
       "      <td>19910403</td>\n",
       "      <td>主板</td>\n",
       "      <td>平安银行</td>\n",
       "      <td>000001</td>\n",
       "      <td>000001.SZ</td>\n",
       "    </tr>\n",
       "    <tr>\n",
       "      <th>1</th>\n",
       "      <td>5d502a3f870cc9ddd54f6862</td>\n",
       "      <td>深圳</td>\n",
       "      <td>全国地产</td>\n",
       "      <td>S</td>\n",
       "      <td>19910129</td>\n",
       "      <td>主板</td>\n",
       "      <td>万科A</td>\n",
       "      <td>000002</td>\n",
       "      <td>000002.SZ</td>\n",
       "    </tr>\n",
       "    <tr>\n",
       "      <th>2</th>\n",
       "      <td>5d502a3f870cc9ddd54f6863</td>\n",
       "      <td>深圳</td>\n",
       "      <td>生物制药</td>\n",
       "      <td>N</td>\n",
       "      <td>19910114</td>\n",
       "      <td>主板</td>\n",
       "      <td>国农科技</td>\n",
       "      <td>000004</td>\n",
       "      <td>000004.SZ</td>\n",
       "    </tr>\n",
       "    <tr>\n",
       "      <th>3</th>\n",
       "      <td>5d502a3f870cc9ddd54f6864</td>\n",
       "      <td>深圳</td>\n",
       "      <td>环境保护</td>\n",
       "      <td>N</td>\n",
       "      <td>19901210</td>\n",
       "      <td>主板</td>\n",
       "      <td>世纪星源</td>\n",
       "      <td>000005</td>\n",
       "      <td>000005.SZ</td>\n",
       "    </tr>\n",
       "    <tr>\n",
       "      <th>4</th>\n",
       "      <td>5d502a3f870cc9ddd54f6865</td>\n",
       "      <td>深圳</td>\n",
       "      <td>区域地产</td>\n",
       "      <td>S</td>\n",
       "      <td>19920427</td>\n",
       "      <td>主板</td>\n",
       "      <td>深振业A</td>\n",
       "      <td>000006</td>\n",
       "      <td>000006.SZ</td>\n",
       "    </tr>\n",
       "  </tbody>\n",
       "</table>\n",
       "</div>"
      ],
      "text/plain": [
       "                        _id area industry is_hs list_date market  name  \\\n",
       "0  5d502a3f870cc9ddd54f6861   深圳       银行     S  19910403     主板  平安银行   \n",
       "1  5d502a3f870cc9ddd54f6862   深圳     全国地产     S  19910129     主板   万科A   \n",
       "2  5d502a3f870cc9ddd54f6863   深圳     生物制药     N  19910114     主板  国农科技   \n",
       "3  5d502a3f870cc9ddd54f6864   深圳     环境保护     N  19901210     主板  世纪星源   \n",
       "4  5d502a3f870cc9ddd54f6865   深圳     区域地产     S  19920427     主板  深振业A   \n",
       "\n",
       "   symbol    ts_code  \n",
       "0  000001  000001.SZ  \n",
       "1  000002  000002.SZ  \n",
       "2  000004  000004.SZ  \n",
       "3  000005  000005.SZ  \n",
       "4  000006  000006.SZ  "
      ]
     },
     "execution_count": 31,
     "metadata": {},
     "output_type": "execute_result"
    }
   ],
   "source": [
    "df = pd.DataFrame(r)\n",
    "df.head()"
   ]
  },
  {
   "cell_type": "code",
   "execution_count": 32,
   "metadata": {},
   "outputs": [
    {
     "data": {
      "text/plain": [
       "(3664, 9)"
      ]
     },
     "execution_count": 32,
     "metadata": {},
     "output_type": "execute_result"
    }
   ],
   "source": [
    "df.shape"
   ]
  },
  {
   "cell_type": "code",
   "execution_count": 33,
   "metadata": {},
   "outputs": [
    {
     "data": {
      "text/plain": [
       "3664"
      ]
     },
     "execution_count": 33,
     "metadata": {},
     "output_type": "execute_result"
    }
   ],
   "source": [
    "df.name.nunique()"
   ]
  },
  {
   "cell_type": "markdown",
   "metadata": {},
   "source": [
    "stock名称没有重复"
   ]
  },
  {
   "cell_type": "code",
   "execution_count": 38,
   "metadata": {},
   "outputs": [],
   "source": [
    "s = pd.Series(df.ts_code.values, index=df.name.values)"
   ]
  },
  {
   "cell_type": "code",
   "execution_count": 39,
   "metadata": {},
   "outputs": [
    {
     "data": {
      "text/plain": [
       "平安银行    000001.SZ\n",
       "万科A     000002.SZ\n",
       "国农科技    000004.SZ\n",
       "世纪星源    000005.SZ\n",
       "深振业A    000006.SZ\n",
       "dtype: object"
      ]
     },
     "execution_count": 39,
     "metadata": {},
     "output_type": "execute_result"
    }
   ],
   "source": [
    "s[:5]"
   ]
  },
  {
   "cell_type": "code",
   "execution_count": 40,
   "metadata": {},
   "outputs": [],
   "source": [
    "s.to_pickle('stock_dict.pkl')"
   ]
  },
  {
   "cell_type": "code",
   "execution_count": 2,
   "metadata": {},
   "outputs": [],
   "source": [
    "mongo = PyMongoWrapper()\n",
    "\n",
    "table = mongo.getCollection('finance', '000001.SZ')"
   ]
  },
  {
   "cell_type": "markdown",
   "metadata": {},
   "source": [
    "### 查询日期类型"
   ]
  },
  {
   "cell_type": "code",
   "execution_count": 28,
   "metadata": {},
   "outputs": [
    {
     "name": "stdout",
     "output_type": "stream",
     "text": [
      "{'_id': ObjectId('5d511c2a050124cda9a64b03'), 'trade_date': datetime.datetime(2001, 1, 3, 0, 0), 'ts_code': '000001.SZ', 'open': 14.56, 'high': 14.61, 'low': 14.37, 'close': 14.44, 'pre_close': 14.55, 'change': -0.11, 'pct_chg': -0.76, 'vol': 54294.2, 'amount': 78304.3035}\n",
      "{'_id': ObjectId('5d511c2a050124cda9a64b04'), 'trade_date': datetime.datetime(2001, 1, 4, 0, 0), 'ts_code': '000001.SZ', 'open': 14.45, 'high': 14.5, 'low': 14.3, 'close': 14.35, 'pre_close': 14.44, 'change': -0.09, 'pct_chg': -0.62, 'vol': 48404.44, 'amount': 69573.3568}\n",
      "{'_id': ObjectId('5d511c2a050124cda9a64b05'), 'trade_date': datetime.datetime(2001, 1, 5, 0, 0), 'ts_code': '000001.SZ', 'open': 14.33, 'high': 14.33, 'low': 14.12, 'close': 14.2, 'pre_close': 14.35, 'change': -0.15, 'pct_chg': -1.05, 'vol': 66419.01, 'amount': 94154.8127}\n"
     ]
    }
   ],
   "source": [
    "for i in mongo.findAll(table, {'$and': [{'trade_date':{'$lte': datetime(2001, 1, 5)}}, {'trade_date':{'$gt': datetime(2001, 1, 2)}}]}):\n",
    "    print(i)"
   ]
  },
  {
   "cell_type": "code",
   "execution_count": 26,
   "metadata": {},
   "outputs": [
    {
     "name": "stdout",
     "output_type": "stream",
     "text": [
      "{'_id': ObjectId('5d511c2a050124cda9a64b02'), 'trade_date': datetime.datetime(2001, 1, 2, 0, 0), 'ts_code': '000001.SZ', 'open': 14.54, 'high': 14.7, 'low': 14.4, 'close': 14.55, 'pre_close': 14.52, 'change': 0.03, 'pct_chg': 0.21, 'vol': 34122.68, 'amount': 49505.252}\n",
      "{'_id': ObjectId('5d511c2a050124cda9a64b03'), 'trade_date': datetime.datetime(2001, 1, 3, 0, 0), 'ts_code': '000001.SZ', 'open': 14.56, 'high': 14.61, 'low': 14.37, 'close': 14.44, 'pre_close': 14.55, 'change': -0.11, 'pct_chg': -0.76, 'vol': 54294.2, 'amount': 78304.3035}\n",
      "{'_id': ObjectId('5d511c2a050124cda9a64b04'), 'trade_date': datetime.datetime(2001, 1, 4, 0, 0), 'ts_code': '000001.SZ', 'open': 14.45, 'high': 14.5, 'low': 14.3, 'close': 14.35, 'pre_close': 14.44, 'change': -0.09, 'pct_chg': -0.62, 'vol': 48404.44, 'amount': 69573.3568}\n",
      "{'_id': ObjectId('5d511c2a050124cda9a64b05'), 'trade_date': datetime.datetime(2001, 1, 5, 0, 0), 'ts_code': '000001.SZ', 'open': 14.33, 'high': 14.33, 'low': 14.12, 'close': 14.2, 'pre_close': 14.35, 'change': -0.15, 'pct_chg': -1.05, 'vol': 66419.01, 'amount': 94154.8127}\n"
     ]
    }
   ],
   "source": [
    "for i in mongo.findAll(table, {'trade_date': {'$lte': datetime(2001, 1, 5)}}):\n",
    "    print(i)"
   ]
  },
  {
   "cell_type": "markdown",
   "metadata": {},
   "source": [
    "### 排序"
   ]
  },
  {
   "cell_type": "code",
   "execution_count": 51,
   "metadata": {},
   "outputs": [],
   "source": [
    "import pymongo"
   ]
  },
  {
   "cell_type": "code",
   "execution_count": 52,
   "metadata": {},
   "outputs": [
    {
     "data": {
      "text/plain": [
       "-1"
      ]
     },
     "execution_count": 52,
     "metadata": {},
     "output_type": "execute_result"
    }
   ],
   "source": [
    "pymongo.DESCENDING"
   ]
  },
  {
   "cell_type": "code",
   "execution_count": 55,
   "metadata": {},
   "outputs": [],
   "source": [
    "r = table.find({}).sort([('change',-1)]).limit(1)"
   ]
  },
  {
   "cell_type": "code",
   "execution_count": 56,
   "metadata": {},
   "outputs": [],
   "source": [
    "a = list(r)"
   ]
  },
  {
   "cell_type": "code",
   "execution_count": 57,
   "metadata": {},
   "outputs": [
    {
     "data": {
      "text/plain": [
       "[{'_id': ObjectId('5d511c2a050124cda9a6511f'),\n",
       "  'trade_date': datetime.datetime(2007, 10, 26, 0, 0),\n",
       "  'ts_code': '000001.SZ',\n",
       "  'open': 41.7,\n",
       "  'high': 45.13,\n",
       "  'low': 41.59,\n",
       "  'close': 44.58,\n",
       "  'pre_close': 41.13,\n",
       "  'change': 3.45,\n",
       "  'pct_chg': 8.39,\n",
       "  'vol': 347517.91,\n",
       "  'amount': 1509456.598}]"
      ]
     },
     "execution_count": 57,
     "metadata": {},
     "output_type": "execute_result"
    }
   ],
   "source": [
    "a[:5]"
   ]
  },
  {
   "cell_type": "markdown",
   "metadata": {},
   "source": [
    "### 获取最大值"
   ]
  },
  {
   "cell_type": "code",
   "execution_count": 3,
   "metadata": {},
   "outputs": [
    {
     "data": {
      "text/plain": [
       "[{'trade_date': datetime.datetime(2019, 8, 12, 0, 0)}]"
      ]
     },
     "execution_count": 3,
     "metadata": {},
     "output_type": "execute_result"
    }
   ],
   "source": [
    "list(mongo.findAll(table, fieldlist=['trade_date'], sort=[('trade_date', -1)], limit=1))"
   ]
  },
  {
   "cell_type": "code",
   "execution_count": null,
   "metadata": {},
   "outputs": [],
   "source": []
  },
  {
   "cell_type": "code",
   "execution_count": null,
   "metadata": {},
   "outputs": [],
   "source": []
  },
  {
   "cell_type": "code",
   "execution_count": null,
   "metadata": {},
   "outputs": [],
   "source": []
  },
  {
   "cell_type": "code",
   "execution_count": null,
   "metadata": {},
   "outputs": [],
   "source": [
    "if __name__ == '__main__':\n",
    "    \n",
    "    mode = 2\n",
    "    if mode == 2:\n",
    "        \"\"\"\n",
    "        存储专科医院表\n",
    "        \"\"\"\n",
    "        pmw = PyMongoWrapper('h1')\n",
    "        table = pmw.getCollection('intelligent-guidance', 'specialhosdeptmapping')\n",
    "        #专科医院和其对应的科室\n",
    "        dict1 = {'东方肝胆外科医院(杨浦院区)': '肝病科、肝胆外科',\n",
    "         '儿科医院': '儿科',\n",
    "         '儿童医学中心': '儿科',\n",
    "         '儿童医院(北京西路院区)': '儿科',\n",
    "         '龙华医院': '中医科',\n",
    "         '儿童医院(泸定路院区)': '儿科',\n",
    "         '上海市中医医院': '中医科',\n",
    "         '上海市中医医院(石门路门诊部)': '中医科',\n",
    "         '同济口腔医院': '口腔科',\n",
    "         '皮肤病医院(武夷路院区)': '皮肤性病科',\n",
    "         '眼病防治中心': '眼科',\n",
    "         '口腔病防治院(分院)': '眼科',\n",
    "         '胸科医院': '心胸外科',\n",
    "         '皮肤病医院(保德路院区)': '皮肤性病科',\n",
    "         '精神卫生中心': '精神心理科、精神科、心理咨询科',\n",
    "         '口腔病防治院(总院)': '口腔科',\n",
    "         '曙光医院(西院)': '中医科',\n",
    "         '曙光医院(东院)': '中医科',\n",
    "         '肿瘤医院': '肿瘤科',\n",
    "         '岳阳中西医结合医院(青海路名医特诊部)': '中医科',\n",
    "         '上海市第一妇婴保健院(东院)': '妇产科',\n",
    "         '上海市第一妇婴保健院(西院)': '妇产科',\n",
    "         '肺科医院': '呼吸内科',\n",
    "         '肺科医院(徐汇区延庆路门诊部)': '呼吸内科',\n",
    "         '妇产科医院(杨浦院区)': '妇产科',\n",
    "         '妇产科医院(黄浦院区)': '妇产科',\n",
    "         '岳阳中西医结合医院': '中西医结合科',\n",
    "         '眼耳鼻喉科医院(含宝庆浦江)': '眼科、耳鼻喉科'}\n",
    "        sqltemplate = \"\"\"\n",
    "            SELECT h.hospitalAdd as addr,\n",
    "                h.hosOrgCode as hoscode,\n",
    "                h.latLng as latlng,\n",
    "                h.hospitalGrade as grade\n",
    "            from kh_hospital h\n",
    "            where h.hosName='{}'\n",
    "            \"\"\"\n",
    "        list1 = ['addr', 'hoscode', 'latlng', 'grade']\n",
    "        for k, v in dict1.items():\n",
    "            mysql.execute(sqltemplate.format(k))\n",
    "            data = mysql._cursor.fetchone()\n",
    "            d = {'hosname': k, 'dept': v.split('、')}\n",
    "            d.update(dict(zip(list1, data)))\n",
    "            table.insert_one(d)\n",
    "\n",
    "    if mode == 1:\n",
    "        sqltemplate = \"\"\"\n",
    "            SELECT\n",
    "                h.hosOrgCode AS hoscode,\n",
    "                h.hospitalAdd AS addr,\n",
    "                h.latLng as latLng,\n",
    "                d.hosDeptCode AS deptcode,\n",
    "                d.topHosDeptCode AS topdeptcode,\n",
    "                d.deptType as type,\n",
    "                d.hosName as yyname,\n",
    "                d.deptName as ksname\n",
    "            FROM\n",
    "                kh_hospital h,\n",
    "                kh_dept d\n",
    "            WHERE h.hosOrgCode=d.hosOrgCode and  d.hosName = '{}'\n",
    "                AND d.deptName = '{}'\n",
    "            \"\"\"\n",
    "\n",
    "        pmw = PyMongoWrapper('h1')\n",
    "        table = pmw.getCollection('intelligent-guidance', 'deptmapping')\n",
    "        # for i in pmw.findAll(table, fieldlist=['简介']):\n",
    "        #     print(' '.join(i['简介']))\n",
    "        df = pd.read_excel('../../tmp/deptmapping.xlsx', '申康可预约科室')\n",
    "        # print(df.head())\n",
    "        # print(df.loc[:, '医院类型'].unique())#['专科医院' '专科医院 ' '中医医院' '综合医院' '综合医院 ']\n",
    "        # print(df.loc[:, '专病'].unique())\n",
    "        \"\"\"\n",
    "        ['肝病科、肝胆外科' '儿科' '中医科' nan '口腔科' '皮肤性病科' '眼科' '心胸外科' '精神心理科、精神科、心理咨询科'\n",
    "     '肿瘤科' '妇产科' '呼吸内科' '呼吸内科、心胸外科' '皮肤科' '肝胆外科、肝病科' '中西医结合科' '眼科、耳鼻喉科']\n",
    "        \"\"\"\n",
    "        dict1 = dict()\n",
    "        for line in df[df.loc[:, '医院类型'].isin(['专科医院', '专科医院 ', '中医医院'])].itertuples():\n",
    "            if line[1] not in dict1:\n",
    "                dict1[line[1]] = line[7]\n",
    "        # print(dict1)\n",
    "        \"\"\"\n",
    "        {'东方肝胆外科医院(杨浦院区)': '肝病科、肝胆外科', \n",
    "        '儿科医院': '儿科', \n",
    "        '儿童医学中心': '儿科', \n",
    "        '儿童医院(北京西路院区)': '儿科', \n",
    "        '龙华医院': '中医科', \n",
    "        '儿童医院(泸定路院区)': '儿科', \n",
    "        '上海市中医医院': '中医科', \n",
    "        '上海市中医医院(石门路门诊部)': '中医科', \n",
    "        '同济口腔医院': '口腔科', \n",
    "        '皮肤病医院(武夷路院区)': '皮肤性病科', \n",
    "        '眼病防治中心': '眼科', \n",
    "        '口腔病防治院(分院)': '眼科', \n",
    "        '胸科医院': '心胸外科', \n",
    "        '皮肤病医院(保德路院区)': '皮肤性病科', \n",
    "        '精神卫生中心': '精神心理科、精神科、心理咨询科', \n",
    "        '口腔病防治院(总院)': '口腔科', \n",
    "        '曙光医院(西院)': '中医科', \n",
    "        '曙光医院(东院)': '中医科',\n",
    "         '肿瘤医院': '肿瘤科', \n",
    "         '岳阳中西医结合医院(青海路名医特诊部)': '中医科', \n",
    "         '上海市第一妇婴保健院(东院)': '妇产科', \n",
    "         '上海市第一妇婴保健院(西院)': '妇产科', \n",
    "         '肺科医院': '呼吸内科', \n",
    "         '肺科医院(徐汇区延庆路门诊部)': '呼吸内科', \n",
    "         '妇产科医院(杨浦院区)': '妇产科', \n",
    "         '妇产科医院(黄浦院区)': '妇产科', \n",
    "         '岳阳中西医结合医院': '中西医结合科', \n",
    "         '眼耳鼻喉科医院(含宝庆浦江)': '眼科、耳鼻喉科'}\n",
    "        \"\"\"\n",
    "        # print(df.loc[:, '备注'].unique())\n",
    "        \"\"\"\n",
    "        [nan '0-14岁' '0-1岁' '女' '15岁及以上' '0-15岁' '0-16岁' '产褥期' '孕期' '注意' '不可约'\n",
    "     '骨质疏松' '鼻炎' '哮喘' '呼吸道感染' '尿失禁' '糖尿病' '肾炎' '高血压' '糖尿病神经病变' '糖尿病肾病' '孕妇'\n",
    "     '高血压高血脂' '糖尿病护理']\n",
    "        \"\"\"\n",
    "        Item = namedtuple('Item', ['hosname', 'dept', 'aidept', 'age', 'gender', 'other'])\n",
    "        list1 = ['hoscode', 'addr', 'latLng', 'deptcode', 'topdeptcode', 'type']\n",
    "        for line in df[df.loc[:, '医院类型'].isin(['综合医院', '综合医院 '])].itertuples():\n",
    "            if line[4] and str(line[4]).strip():\n",
    "                if str(line[6]).strip() not in ['注意', '不可约', '骨质疏松', '鼻炎', '哮喘', '呼吸道感染', '尿失禁', '糖尿病', '肾炎', '高血压',\n",
    "                                                '糖尿病神经病变', '糖尿病肾病', '高血压高血脂', '糖尿病护理']:\n",
    "                    # print(line[1], line[2], line[4], line[6])\n",
    "                    if str(line[6]).strip() in ['0-14岁', '0-15岁', '0-16岁']:\n",
    "                        r = Item(line[1], line[2], line[4], [2, 3, 4], [0, 1], [0, 1, 2])\n",
    "                    elif str(line[6]).strip() == '女':\n",
    "                        r = Item(line[1], line[2], line[4], [1, 2, 3, 4, 5, 6, 7], [1], [0, 1, 2])\n",
    "                    elif str(line[6]).strip() == '产褥期':\n",
    "                        r = Item(line[1], line[2], line[4], [1, 2, 3, 4, 5, 6, 7], [0, 1], [2])\n",
    "                    elif str(line[6]).strip() in ['孕期', '孕妇']:\n",
    "                        r = Item(line[1], line[2], line[4], [2, 3, 4], [0, 1], [1])\n",
    "                    else:\n",
    "                        r = Item(line[1], line[2], line[4], [1, 2, 3, 4, 5, 6, 7], [0, 1], [0, 1, 2])\n",
    "                    print(r)\n",
    "                    # print(dict(zip(['hosname', 'dept', 'aidept', 'age', 'gender', 'other'], list(r))))\n",
    "                    # table.insert_one(dict(zip(['hosname', 'dept', 'aidept', 'age', 'gender', 'other'], list(r))))\n",
    "                    mysql.execute(sqltemplate.format(line[1], line[2]))\n",
    "                    data = mysql._cursor.fetchone()\n",
    "                    if data:\n",
    "                        dict1 = dict(zip(list1, data))\n",
    "                        print(dict1)\n",
    "                        dict2 = dict(zip(['hosname', 'dept', 'aidept', 'age', 'gender', 'other'], list(r)))\n",
    "                        print(dict2)\n",
    "                        dict1.update(dict2)\n",
    "                        table.insert_one(dict1)\n",
    "                    print(data)\n",
    "                    # break\n"
   ]
  }
 ],
 "metadata": {
  "kernelspec": {
   "display_name": "Python 3",
   "language": "python",
   "name": "python3"
  },
  "language_info": {
   "codemirror_mode": {
    "name": "ipython",
    "version": 3
   },
   "file_extension": ".py",
   "mimetype": "text/x-python",
   "name": "python",
   "nbconvert_exporter": "python",
   "pygments_lexer": "ipython3",
   "version": "3.7.3"
  },
  "toc": {
   "base_numbering": 1,
   "nav_menu": {},
   "number_sections": true,
   "sideBar": true,
   "skip_h1_title": false,
   "title_cell": "Table of Contents",
   "title_sidebar": "Contents",
   "toc_cell": false,
   "toc_position": {},
   "toc_section_display": true,
   "toc_window_display": true
  },
  "varInspector": {
   "cols": {
    "lenName": 16,
    "lenType": 16,
    "lenVar": 40
   },
   "kernels_config": {
    "python": {
     "delete_cmd_postfix": "",
     "delete_cmd_prefix": "del ",
     "library": "var_list.py",
     "varRefreshCmd": "print(var_dic_list())"
    },
    "r": {
     "delete_cmd_postfix": ") ",
     "delete_cmd_prefix": "rm(",
     "library": "var_list.r",
     "varRefreshCmd": "cat(var_dic_list()) "
    }
   },
   "types_to_exclude": [
    "module",
    "function",
    "builtin_function_or_method",
    "instance",
    "_Feature"
   ],
   "window_display": false
  }
 },
 "nbformat": 4,
 "nbformat_minor": 2
}

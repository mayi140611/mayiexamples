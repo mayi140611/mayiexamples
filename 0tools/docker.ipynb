{
 "cells": [
  {
   "cell_type": "markdown",
   "metadata": {},
   "source": [
    "https://www.jianshu.com/p/82ef099d5925"
   ]
  },
  {
   "cell_type": "markdown",
   "metadata": {},
   "source": [
    "# 查看容器\n",
    "docker ps：查看当前正在运行的容器\n",
    "\n",
    "docker ps -a：查看所有容器\n",
    "\n",
    "docker stop myjava"
   ]
  },
  {
   "cell_type": "markdown",
   "metadata": {},
   "source": [
    "# 打包image"
   ]
  },
  {
   "cell_type": "markdown",
   "metadata": {},
   "source": [
    "1. 创建一个 Dockerfile\n",
    "\n",
    "        FROM harbor.leapstack.cn/base/python36:predict-base-v1\n",
    "        WORKDIR /app\n",
    "        ENV TZ Asia/Shanghai\n",
    "        RUN echo Asia/Shanghai > /etc/timezone\n",
    "        RUN mkdir -p /app\n",
    "        COPY . /app/\n",
    "\n",
    "2. 打镜像\n",
    "docker build -t hub-dev.leapstack.cn/models/rc_scores_predict:v1.1 .\n",
    "\n",
    "3. 导出镜像\n",
    "docker save hub-dev.leapstack.cn/models/rc_scores_predict:v1.1 -o rc_scores_predict.img\n",
    "\n",
    "4. 导入镜像到 docker 中\n",
    "docker load -i rc_scores_predict.img\n",
    "\n",
    "docker run -itd -p 9092:9092 -v rc_scores_predict.log:/var/log/rc_scores_predict.log -e deployEnv=test hub-dev.leapstack.cn/models/rc_scores_predict:v1.1 /bin/bash -lc \"gunicorn --config gunicorn.conf.py --chdir /app django_rest_web.wsgi:application\""
   ]
  },
  {
   "cell_type": "code",
   "execution_count": null,
   "metadata": {},
   "outputs": [],
   "source": []
  }
 ],
 "metadata": {
  "kernelspec": {
   "display_name": "Python 3",
   "language": "python",
   "name": "python3"
  },
  "language_info": {
   "codemirror_mode": {
    "name": "ipython",
    "version": 3
   },
   "file_extension": ".py",
   "mimetype": "text/x-python",
   "name": "python",
   "nbconvert_exporter": "python",
   "pygments_lexer": "ipython3",
   "version": "3.7.3"
  },
  "toc": {
   "base_numbering": 1,
   "nav_menu": {},
   "number_sections": true,
   "sideBar": true,
   "skip_h1_title": false,
   "title_cell": "Table of Contents",
   "title_sidebar": "Contents",
   "toc_cell": false,
   "toc_position": {},
   "toc_section_display": true,
   "toc_window_display": false
  }
 },
 "nbformat": 4,
 "nbformat_minor": 2
}

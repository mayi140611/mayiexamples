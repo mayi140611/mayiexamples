{
 "cells": [
  {
   "cell_type": "markdown",
   "metadata": {},
   "source": [
    "## 需求: 多环境开发\n",
    "* 开发环境(DEV)\n",
    "\n",
    "专门用于开发的服务器，配置可以比较随意， 为了开发调试方便，一般打开全部错误报告。\n",
    "* 测试环境(TEST)\n",
    "\n",
    "一般是克隆一份生产环境的配置，一个程序在测试环境工作不正常，肯定不能把它发布到生产机上。\n",
    "* 仿真环境(UAT)\n",
    "\n",
    "顾名思义是和真正使用的环境一样的环境（即已经出售给客户的系统所在环境，也成为商用环境），所有的配置，页面展示等都应该和商家正在使用的一样，差别只在环境的性能方面。\n",
    "\n",
    "* 生产环境(PROD)\n",
    "\n",
    "正式提供对外服务的，一般会关掉错误报告，打开错误日志。可以理解为包含所有的功能的环境，任何项目所使用的环境都以这个为基础，然后根据客户的个性化需求来做调整或者修改。\n",
    "\n",
    "三个环境可以说是系统开发的三个阶段：DEV->TEST->UAT->PROD，其中生产环境也就是通常说真实环境。\n",
    "\n",
    "在开发过程中，应保证不同环境的代码都是完全相同的，把不同的东西都提取出来放在配置文件中。  \n",
    "一般不同的环境的配置会有不同，如数据库url，密码等，这些都放在以环境命名的配置文件中，如db_dev_mysql_config.properties"
   ]
  },
  {
   "cell_type": "markdown",
   "metadata": {},
   "source": [
    "虽然从流程上讲，DEV->TEST->UAT->PROD。但是为了减少复杂性，分支的推送关系是：DEV->TEST; DEV->UAT; DEV->PROD"
   ]
  },
  {
   "cell_type": "markdown",
   "metadata": {},
   "source": [
    "以DEV->TEST为例，相应的git代码"
   ]
  },
  {
   "cell_type": "code",
   "execution_count": null,
   "metadata": {},
   "outputs": [],
   "source": [
    "# 当前分支是master(DEV)分支\n",
    "git checkout test\n",
    "\n",
    "git merge --no-ff master\n",
    "\n",
    "git push\n",
    "# 代码推送完成，返回到master\n",
    "git checkout -"
   ]
  },
  {
   "cell_type": "markdown",
   "metadata": {},
   "source": [
    "## 需求: 分支b1只同步分支b2的个别文件"
   ]
  },
  {
   "cell_type": "code",
   "execution_count": null,
   "metadata": {},
   "outputs": [],
   "source": []
  }
 ],
 "metadata": {
  "kernelspec": {
   "display_name": "Python 3",
   "language": "python",
   "name": "python3"
  },
  "language_info": {
   "codemirror_mode": {
    "name": "ipython",
    "version": 3
   },
   "file_extension": ".py",
   "mimetype": "text/x-python",
   "name": "python",
   "nbconvert_exporter": "python",
   "pygments_lexer": "ipython3",
   "version": "3.7.3"
  },
  "toc": {
   "base_numbering": 1,
   "nav_menu": {},
   "number_sections": true,
   "sideBar": true,
   "skip_h1_title": false,
   "title_cell": "Table of Contents",
   "title_sidebar": "Contents",
   "toc_cell": false,
   "toc_position": {},
   "toc_section_display": true,
   "toc_window_display": false
  }
 },
 "nbformat": 4,
 "nbformat_minor": 2
}

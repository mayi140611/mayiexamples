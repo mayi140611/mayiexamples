{
 "cells": [
  {
   "cell_type": "markdown",
   "metadata": {},
   "source": [
    "## zip解压后乱码问题\n",
    "https://www.cnblogs.com/CN-S/p/6566395.html\n",
    "\n",
    "在zipfile.ZipFile中获得的filename有中日文则很大可能是乱码，这是因为\n",
    "\n",
    "    在zip标准中，对文件名的 encoding 用的不是 unicode，而可能是各种软件根据系统的默认字符集来采用（此为猜测），而zipfile中根据文件 flag 检测的时候，只支持 cp437 和 utf-8。\n",
    "    \n",
    "具体zipfile模块中的源代码如下\n",
    "\n",
    "    if flags & 0x800:\n",
    "        # UTF-8 file names extension\n",
    "        filename = filename.decode('utf-8')\n",
    "    else:\n",
    "        # Historical ZIP filename encoding\n",
    "        filename = filename.decode('cp437')\n",
    "\n",
    "可见编码被正确识别为utf8时的情况外，都会被识别并decode为cp437编码，但如果实际是gbk等其他编码时就变为乱码了。所以解决的方法在于被decode为cp437后重新再手动转为正确的编码。\n",
    "\n",
    "具体操作\n",
    "\n",
    "    cd anaconda3/\n",
    "\n",
    "    find . -name zipfile.py\n",
    "    ./pkgs/python-3.7.4-h265db76_1/lib/python3.7/zipfile.py\n",
    "    ./lib/python3.7/zipfile.py\n",
    "\n",
    "    vim ./lib/python3.7/zipfile.py\n",
    "\n",
    "共有两处修改的地方\n",
    "\n",
    "            if flags & 0x800:\n",
    "                # UTF-8 file names extension\n",
    "                filename = filename.decode('utf-8')\n",
    "            else:\n",
    "                # Historical ZIP filename encoding\n",
    "                # filename = filename.decode('cp437')\n",
    "                filename = filename.decode('utf-8')\n",
    "                \n",
    "            if zinfo.flag_bits & 0x800:\n",
    "                # UTF-8 filename\n",
    "                fname_str = fname.decode(\"utf-8\")\n",
    "            else:\n",
    "                # fname_str = fname.decode(\"cp437\")\n",
    "                fname_str = fname.decode(\"utf-8\")"
   ]
  },
  {
   "cell_type": "code",
   "execution_count": null,
   "metadata": {},
   "outputs": [],
   "source": []
  },
  {
   "cell_type": "markdown",
   "metadata": {},
   "source": [
    "# zipfile\n",
    "zipFile模块式Python自带的模块，提供了对zip 文件的创建，读，写，追加，解压以及列出文件列表的操作"
   ]
  },
  {
   "cell_type": "code",
   "execution_count": 1,
   "metadata": {},
   "outputs": [],
   "source": [
    "import zipfile"
   ]
  },
  {
   "cell_type": "code",
   "execution_count": 2,
   "metadata": {},
   "outputs": [],
   "source": [
    "filepath = 'test.zip'"
   ]
  },
  {
   "cell_type": "code",
   "execution_count": 3,
   "metadata": {},
   "outputs": [],
   "source": [
    "f = zipfile.ZipFile(filepath)"
   ]
  },
  {
   "cell_type": "code",
   "execution_count": 4,
   "metadata": {},
   "outputs": [
    {
     "data": {
      "text/plain": [
       "['σÅÿσêåΦç¬τ╝ûτáüσÖ¿/',\n",
       " 'σÅÿσêåΦç¬τ╝ûτáüσÖ¿/VAE _ Index Construction.ipynb',\n",
       " '__MACOSX/',\n",
       " '__MACOSX/σÅÿσêåΦç¬τ╝ûτáüσÖ¿/',\n",
       " '__MACOSX/σÅÿσêåΦç¬τ╝ûτáüσÖ¿/._VAE _ Index Construction.ipynb',\n",
       " 'σÅÿσêåΦç¬τ╝ûτáüσÖ¿/.DS_Store',\n",
       " '__MACOSX/σÅÿσêåΦç¬τ╝ûτáüσÖ¿/._.DS_Store',\n",
       " 'σÅÿσêåΦç¬τ╝ûτáüσÖ¿/ΘçÅσîûµèòΦ╡äΣ╕Äµ£║σÖ¿σ¡ªΣ╣áσà¼Σ╝ùσÅ╖.jpeg',\n",
       " '__MACOSX/σÅÿσêåΦç¬τ╝ûτáüσÖ¿/._ΘçÅσîûµèòΦ╡äΣ╕Äµ£║σÖ¿σ¡ªΣ╣áσà¼Σ╝ùσÅ╖.jpeg',\n",
       " 'σÅÿσêåΦç¬τ╝ûτáüσÖ¿/README.md',\n",
       " '__MACOSX/σÅÿσêåΦç¬τ╝ûτáüσÖ¿/._README.md',\n",
       " 'σÅÿσêåΦç¬τ╝ûτáüσÖ¿/Data Treatment.ipynb',\n",
       " '__MACOSX/σÅÿσêåΦç¬τ╝ûτáüσÖ¿/._Data Treatment.ipynb',\n",
       " 'σÅÿσêåΦç¬τ╝ûτáüσÖ¿/σà¼Σ╝ùσÅ╖σÉÄΦè▒σ¢¡.png',\n",
       " '__MACOSX/σÅÿσêåΦç¬τ╝ûτáüσÖ¿/._σà¼Σ╝ùσÅ╖σÉÄΦè▒σ¢¡.png',\n",
       " '__MACOSX/._σÅÿσêåΦç¬τ╝ûτáüσÖ¿']"
      ]
     },
     "execution_count": 4,
     "metadata": {},
     "output_type": "execute_result"
    }
   ],
   "source": [
    "f.namelist()"
   ]
  },
  {
   "cell_type": "code",
   "execution_count": 25,
   "metadata": {},
   "outputs": [
    {
     "data": {
      "text/plain": [
       "'σÅÿσêåΦç¬τ╝ûτáüσÖ¿/README.md'"
      ]
     },
     "execution_count": 25,
     "metadata": {},
     "output_type": "execute_result"
    }
   ],
   "source": [
    "f.namelist()[9]"
   ]
  },
  {
   "cell_type": "markdown",
   "metadata": {},
   "source": [
    "## 读取zipfile中的文件内容"
   ]
  },
  {
   "cell_type": "code",
   "execution_count": 28,
   "metadata": {},
   "outputs": [
    {
     "name": "stdout",
     "output_type": "stream",
     "text": [
      "# Variational AutoEncoder for Dimensionality Reduction in Finance\n",
      "This notebook revolves on a full-cycle application of Variational AutoEncoders for dimensionality reduction.\n",
      "It is designed to be used on finance data. \n",
      "It is also about exploring the possibility of Index creation.\n",
      "\n",
      "## License\n",
      "This code is under AGPLv3 license.\n",
      "\n",
      "## The code\n",
      "As dataset, data from Yahoo Finance was used and anonymized.\n",
      "\n",
      "It is based on a pair of Python notebook files:\n",
      "\n",
      "- Data Preparation\n",
      "- Model, results and Index Creation\n",
      "\n",
      "2019-04-10: First release\n",
      "\n"
     ]
    }
   ],
   "source": [
    "print(f.read(f.namelist()[9]).decode('utf8'))"
   ]
  },
  {
   "cell_type": "code",
   "execution_count": 29,
   "metadata": {},
   "outputs": [],
   "source": [
    "f.close()"
   ]
  },
  {
   "cell_type": "code",
   "execution_count": 30,
   "metadata": {},
   "outputs": [],
   "source": [
    "zf = zipfile.ZipFile('test.zip')"
   ]
  },
  {
   "cell_type": "markdown",
   "metadata": {},
   "source": [
    "## extractall(path=None, members=None, pwd=None)\n",
    "把zipfile解压到指定的路径。\n",
    "\n",
    "Extract all members from the archive to the current working\n",
    "directory."
   ]
  },
  {
   "cell_type": "code",
   "execution_count": 31,
   "metadata": {},
   "outputs": [],
   "source": [
    "zf.extractall()"
   ]
  },
  {
   "cell_type": "markdown",
   "metadata": {},
   "source": [
    "# FileOperationWrapper"
   ]
  },
  {
   "cell_type": "code",
   "execution_count": 1,
   "metadata": {},
   "outputs": [],
   "source": [
    "import sys\n",
    "sys.path.append('/Users/luoyonggui/PycharmProjects/mayiutils_n1/mayiutils/fileio')"
   ]
  },
  {
   "cell_type": "code",
   "execution_count": 4,
   "metadata": {},
   "outputs": [],
   "source": [
    "from fileoperation_wrapper import FileOperationWrapper as fow"
   ]
  },
  {
   "cell_type": "code",
   "execution_count": 3,
   "metadata": {},
   "outputs": [
    {
     "data": {
      "text/plain": [
       "'# Variational AutoEncoder for Dimensionality Reduction in Finance\\nThis notebook revolves on a full-cycle application of Variational AutoEncoders for dimensionality reduction.\\nIt is designed to be used on finance data. \\nIt is also about exploring the possibility of Index creation.\\n\\n## License\\nThis code is under AGPLv3 license.\\n\\n## The code\\nAs dataset, data from Yahoo Finance was used and anonymized.\\n\\nIt is based on a pair of Python notebook files:\\n\\n- Data Preparation\\n- Model, results and Index Creation\\n\\n2019-04-10: First release\\n'"
      ]
     },
     "execution_count": 3,
     "metadata": {},
     "output_type": "execute_result"
    }
   ],
   "source": [
    "fow.readZipFile('test.zip', 9)"
   ]
  },
  {
   "cell_type": "markdown",
   "metadata": {},
   "source": [
    "# pickle.dump(obj, file, protocol=None, *, fix_imports=True)\n",
    "The optional *protocol* argument tells the pickler to use the given protocol supported protocols are 0, 1, 2, 3 and 4.  The default protocol is 3; a backward-incompatible protocol designed for Python 3.\n",
    "\n",
    "Specifying a negative protocol version selects the highest protocol version supported.  The higher the protocol used, the more recent the version of Python needed to read the pickle produced."
   ]
  },
  {
   "cell_type": "code",
   "execution_count": 1,
   "metadata": {},
   "outputs": [],
   "source": [
    "import pickle"
   ]
  },
  {
   "cell_type": "code",
   "execution_count": null,
   "metadata": {},
   "outputs": [],
   "source": [
    "pickle.dump()"
   ]
  }
 ],
 "metadata": {
  "kernelspec": {
   "display_name": "Python 3",
   "language": "python",
   "name": "python3"
  },
  "language_info": {
   "codemirror_mode": {
    "name": "ipython",
    "version": 3
   },
   "file_extension": ".py",
   "mimetype": "text/x-python",
   "name": "python",
   "nbconvert_exporter": "python",
   "pygments_lexer": "ipython3",
   "version": "3.7.3"
  },
  "toc": {
   "base_numbering": 1,
   "nav_menu": {},
   "number_sections": true,
   "sideBar": true,
   "skip_h1_title": false,
   "title_cell": "Table of Contents",
   "title_sidebar": "Contents",
   "toc_cell": false,
   "toc_position": {},
   "toc_section_display": true,
   "toc_window_display": true
  }
 },
 "nbformat": 4,
 "nbformat_minor": 2
}

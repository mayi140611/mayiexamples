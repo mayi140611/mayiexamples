{
 "cells": [
  {
   "cell_type": "markdown",
   "metadata": {},
   "source": [
    "# hw10"
   ]
  },
  {
   "cell_type": "markdown",
   "metadata": {},
   "source": [
    "# 1\n",
    " （1）画出x与y的散点图，初步判断x与y的关系\n",
    "\n",
    "（2）求出Y关于X的一元线性方程\n",
    "\n",
    "（3）若今年的X=7，估计Y的值 "
   ]
  },
  {
   "cell_type": "code",
   "execution_count": 7,
   "metadata": {},
   "outputs": [],
   "source": [
    "from sklearn.linear_model import LinearRegression \n",
    "import matplotlib.pyplot as plt \n",
    "from sklearn import metrics\n",
    "import numpy as np \n",
    "import pandas as pd"
   ]
  },
  {
   "cell_type": "code",
   "execution_count": 2,
   "metadata": {},
   "outputs": [
    {
     "data": {
      "image/png": "[encoded data removed]",
      "text/plain": [
       "<Figure size 432x288 with 1 Axes>"
      ]
     },
     "metadata": {
      "needs_background": "light"
     },
     "output_type": "display_data"
    }
   ],
   "source": [
    "x = [[5.1], [3.5], [7.1], [6.2], [8.8], [7.8], [4.5], [5.6], [8.0], [6.4]] \n",
    "\n",
    "y = [[1907.],[1287.],[2700.],[2373.],[3260.],[3000.],[1947.],[2273.],[3113.],[2493.]] \n",
    "\n",
    "\n",
    "\n",
    "plt.scatter(x, y) \n",
    "\n",
    "plt.show() #画出散点图"
   ]
  },
  {
   "cell_type": "code",
   "execution_count": 3,
   "metadata": {},
   "outputs": [
    {
     "name": "stdout",
     "output_type": "stream",
     "text": [
      "[140.95363128]\n",
      "[[364.18196329]]\n"
     ]
    }
   ],
   "source": [
    "linreg = LinearRegression() \n",
    "linreg.fit(x,y)#做回归 \n",
    "\n",
    "print (linreg.intercept_ )\n",
    "\n",
    "print (linreg.coef_ )"
   ]
  },
  {
   "cell_type": "code",
   "execution_count": 4,
   "metadata": {},
   "outputs": [
    {
     "data": {
      "text/plain": [
       "array([[2690.2273743]])"
      ]
     },
     "execution_count": 4,
     "metadata": {},
     "output_type": "execute_result"
    }
   ],
   "source": [
    "xtest=[[7]]\n",
    "y_pred = linreg.predict(xtest)\n",
    "y_pred"
   ]
  },
  {
   "cell_type": "markdown",
   "metadata": {},
   "source": [
    "# 2\n",
    " 求出关于Y的多元线性模型，并尝试删除某一变量后，与全变量的线性回归方程进行比较，找出最优模型\n"
   ]
  },
  {
   "cell_type": "code",
   "execution_count": 8,
   "metadata": {},
   "outputs": [
    {
     "name": "stdout",
     "output_type": "stream",
     "text": [
      "43.650072446518664\n",
      "[ 1.78533861 -0.08329137  0.16102189]\n",
      "MAE: 13.328007676045035\n",
      "MSE: 310.20775860746693\n",
      "RMSE: 17.612715821458853\n"
     ]
    }
   ],
   "source": [
    "data = pd.DataFrame({'x1':[0.4,0.4,3.1,0.6,4.7,1.7,9.4,10.1,11.6,12.6,10.9,23.1,23.1,21.6,23.1,1.9,26.8,29.9],\n",
    " 'x2':[52,23,19,34,24,65,44,31,29,58,37,46,50,44,56,36,58,51],\n",
    " 'x3':[158,163,37,157,59,123,46,117,173,112,111,114,134,73,168,143,202,124],\n",
    " 'y':[64,60,71,61,54,77,81,93,93,51,76,96,77,93,95,54,168,99]})   \n",
    "\n",
    "#加入所有自变量\n",
    "linreg = LinearRegression()\n",
    "linreg.fit(data[['x1','x2','x3']],data['y'])  \n",
    "y_pred = linreg.predict(data[['x1','x2','x3']])  \n",
    "print (linreg.intercept_)\n",
    "print (linreg.coef_)\n",
    "\n",
    "print (\"MAE:\",metrics.mean_absolute_error(data['y'],y_pred))\n",
    "print (\"MSE:\",metrics.mean_squared_error(data['y'],y_pred))\n",
    "print (\"RMSE:\",np.sqrt(metrics.mean_squared_error(data['y'],y_pred)))"
   ]
  },
  {
   "cell_type": "code",
   "execution_count": 9,
   "metadata": {},
   "outputs": [
    {
     "data": {
      "text/html": [
       "<div>\n",
       "<style scoped>\n",
       "    .dataframe tbody tr th:only-of-type {\n",
       "        vertical-align: middle;\n",
       "    }\n",
       "\n",
       "    .dataframe tbody tr th {\n",
       "        vertical-align: top;\n",
       "    }\n",
       "\n",
       "    .dataframe thead th {\n",
       "        text-align: right;\n",
       "    }\n",
       "</style>\n",
       "<table border=\"1\" class=\"dataframe\">\n",
       "  <thead>\n",
       "    <tr style=\"text-align: right;\">\n",
       "      <th></th>\n",
       "      <th>x1</th>\n",
       "      <th>x2</th>\n",
       "      <th>x3</th>\n",
       "      <th>y</th>\n",
       "    </tr>\n",
       "  </thead>\n",
       "  <tbody>\n",
       "    <tr>\n",
       "      <th>x1</th>\n",
       "      <td>1.000000</td>\n",
       "      <td>0.468022</td>\n",
       "      <td>0.151964</td>\n",
       "      <td>0.693403</td>\n",
       "    </tr>\n",
       "    <tr>\n",
       "      <th>x2</th>\n",
       "      <td>0.468022</td>\n",
       "      <td>1.000000</td>\n",
       "      <td>0.315242</td>\n",
       "      <td>0.358414</td>\n",
       "    </tr>\n",
       "    <tr>\n",
       "      <th>x3</th>\n",
       "      <td>0.151964</td>\n",
       "      <td>0.315242</td>\n",
       "      <td>1.000000</td>\n",
       "      <td>0.361685</td>\n",
       "    </tr>\n",
       "    <tr>\n",
       "      <th>y</th>\n",
       "      <td>0.693403</td>\n",
       "      <td>0.358414</td>\n",
       "      <td>0.361685</td>\n",
       "      <td>1.000000</td>\n",
       "    </tr>\n",
       "  </tbody>\n",
       "</table>\n",
       "</div>"
      ],
      "text/plain": [
       "          x1        x2        x3         y\n",
       "x1  1.000000  0.468022  0.151964  0.693403\n",
       "x2  0.468022  1.000000  0.315242  0.358414\n",
       "x3  0.151964  0.315242  1.000000  0.361685\n",
       "y   0.693403  0.358414  0.361685  1.000000"
      ]
     },
     "execution_count": 9,
     "metadata": {},
     "output_type": "execute_result"
    }
   ],
   "source": [
    "data.corr()"
   ]
  },
  {
   "cell_type": "code",
   "execution_count": 10,
   "metadata": {},
   "outputs": [],
   "source": [
    "#剔除自变量x2\n",
    "linreg = LinearRegression()\n",
    "linreg.fit(data[['x1','x3']],data['y'])  \n",
    "y_pred = linreg.predict(data[['x1','x3']])"
   ]
  },
  {
   "cell_type": "code",
   "execution_count": 11,
   "metadata": {},
   "outputs": [
    {
     "name": "stdout",
     "output_type": "stream",
     "text": [
      "41.479363658887934\n",
      "[1.73743751 0.15484299]\n",
      "MAE: 13.310502624660906\n",
      "MSE: 311.07764130128515\n",
      "RMSE: 17.63739326831732\n"
     ]
    }
   ],
   "source": [
    "print (linreg.intercept_)\n",
    "print (linreg.coef_)\n",
    "\n",
    "print (\"MAE:\",metrics.mean_absolute_error(data['y'],y_pred))\n",
    "print (\"MSE:\",metrics.mean_squared_error(data['y'],y_pred))\n",
    "print (\"RMSE:\",np.sqrt(metrics.mean_squared_error(data['y'],y_pred)))"
   ]
  },
  {
   "cell_type": "code",
   "execution_count": 12,
   "metadata": {},
   "outputs": [],
   "source": [
    "#剔除自变量x2、x3\n",
    "linreg = LinearRegression()\n",
    "linreg.fit(data[['x1']],data['y'])  \n",
    "y_pred = linreg.predict(data[['x1']]) "
   ]
  },
  {
   "cell_type": "code",
   "execution_count": 13,
   "metadata": {},
   "outputs": [
    {
     "name": "stdout",
     "output_type": "stream",
     "text": [
      "59.25895879234413\n",
      "[1.84343601]\n",
      "MAE: 12.945013638977136\n",
      "MSE: 357.3660342353397\n",
      "RMSE: 18.90412743914248\n"
     ]
    }
   ],
   "source": [
    "print (linreg.intercept_)\n",
    "print (linreg.coef_)\n",
    "\n",
    "print (\"MAE:\",metrics.mean_absolute_error(data['y'],y_pred))\n",
    "print (\"MSE:\",metrics.mean_squared_error(data['y'],y_pred))\n",
    "print (\"RMSE:\",np.sqrt(metrics.mean_squared_error(data['y'],y_pred)))"
   ]
  }
 ],
 "metadata": {
  "kernelspec": {
   "display_name": "Python 3",
   "language": "python",
   "name": "python3"
  },
  "language_info": {
   "codemirror_mode": {
    "name": "ipython",
    "version": 3
   },
   "file_extension": ".py",
   "mimetype": "text/x-python",
   "name": "python",
   "nbconvert_exporter": "python",
   "pygments_lexer": "ipython3",
   "version": "3.7.3"
  },
  "toc": {
   "base_numbering": 1,
   "nav_menu": {},
   "number_sections": true,
   "sideBar": true,
   "skip_h1_title": false,
   "title_cell": "Table of Contents",
   "title_sidebar": "Contents",
   "toc_cell": false,
   "toc_position": {},
   "toc_section_display": true,
   "toc_window_display": false
  },
  "varInspector": {
   "cols": {
    "lenName": 16,
    "lenType": 16,
    "lenVar": 40
   },
   "kernels_config": {
    "python": {
     "delete_cmd_postfix": "",
     "delete_cmd_prefix": "del ",
     "library": "var_list.py",
     "varRefreshCmd": "print(var_dic_list())"
    },
    "r": {
     "delete_cmd_postfix": ") ",
     "delete_cmd_prefix": "rm(",
     "library": "var_list.r",
     "varRefreshCmd": "cat(var_dic_list()) "
    }
   },
   "types_to_exclude": [
    "module",
    "function",
    "builtin_function_or_method",
    "instance",
    "_Feature"
   ],
   "window_display": false
  }
 },
 "nbformat": 4,
 "nbformat_minor": 2
}

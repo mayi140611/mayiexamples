{
 "cells": [
  {
   "cell_type": "markdown",
   "metadata": {},
   "source": [
    "# hw15\n",
    "\n",
    " ex15.txt 记录了进口总额Y与三个自变量：国内生产总值X1、存储量X2、总消费X3 的值。\n",
    "\n",
    "先对自变量进行主成分法分析，然后将得到的主成分与Y进行回归分析\n",
    "\n",
    "试比较与直接进行回归分析所得到的结果差异，说说哪个模型的拟合效果比较好 "
   ]
  },
  {
   "cell_type": "code",
   "execution_count": 21,
   "metadata": {},
   "outputs": [],
   "source": [
    "import pandas as pd \n",
    "from sklearn.linear_model import LinearRegression \n",
    "from sklearn import metrics \n",
    "from sklearn.decomposition import PCA "
   ]
  },
  {
   "cell_type": "code",
   "execution_count": 19,
   "metadata": {},
   "outputs": [],
   "source": [
    "df = pd.read_csv('../../Downloads/ex15.txt', sep=' ', encoding='gbk')"
   ]
  },
  {
   "cell_type": "code",
   "execution_count": 20,
   "metadata": {},
   "outputs": [
    {
     "data": {
      "text/html": [
       "<div>\n",
       "<style scoped>\n",
       "    .dataframe tbody tr th:only-of-type {\n",
       "        vertical-align: middle;\n",
       "    }\n",
       "\n",
       "    .dataframe tbody tr th {\n",
       "        vertical-align: top;\n",
       "    }\n",
       "\n",
       "    .dataframe thead th {\n",
       "        text-align: right;\n",
       "    }\n",
       "</style>\n",
       "<table border=\"1\" class=\"dataframe\">\n",
       "  <thead>\n",
       "    <tr style=\"text-align: right;\">\n",
       "      <th></th>\n",
       "      <th>x1</th>\n",
       "      <th>x2</th>\n",
       "      <th>x3</th>\n",
       "      <th>y</th>\n",
       "    </tr>\n",
       "  </thead>\n",
       "  <tbody>\n",
       "    <tr>\n",
       "      <th>1</th>\n",
       "      <td>149.3</td>\n",
       "      <td>4.2</td>\n",
       "      <td>108.1</td>\n",
       "      <td>15.9</td>\n",
       "    </tr>\n",
       "    <tr>\n",
       "      <th>2</th>\n",
       "      <td>161.2</td>\n",
       "      <td>4.1</td>\n",
       "      <td>114.8</td>\n",
       "      <td>16.4</td>\n",
       "    </tr>\n",
       "    <tr>\n",
       "      <th>3</th>\n",
       "      <td>171.5</td>\n",
       "      <td>3.1</td>\n",
       "      <td>123.2</td>\n",
       "      <td>19.0</td>\n",
       "    </tr>\n",
       "    <tr>\n",
       "      <th>4</th>\n",
       "      <td>175.5</td>\n",
       "      <td>3.1</td>\n",
       "      <td>126.9</td>\n",
       "      <td>19.1</td>\n",
       "    </tr>\n",
       "    <tr>\n",
       "      <th>5</th>\n",
       "      <td>180.8</td>\n",
       "      <td>1.1</td>\n",
       "      <td>132.1</td>\n",
       "      <td>18.8</td>\n",
       "    </tr>\n",
       "  </tbody>\n",
       "</table>\n",
       "</div>"
      ],
      "text/plain": [
       "      x1   x2     x3     y\n",
       "1  149.3  4.2  108.1  15.9\n",
       "2  161.2  4.1  114.8  16.4\n",
       "3  171.5  3.1  123.2  19.0\n",
       "4  175.5  3.1  126.9  19.1\n",
       "5  180.8  1.1  132.1  18.8"
      ]
     },
     "execution_count": 20,
     "metadata": {},
     "output_type": "execute_result"
    }
   ],
   "source": [
    "df.head()"
   ]
  },
  {
   "cell_type": "code",
   "execution_count": 22,
   "metadata": {},
   "outputs": [
    {
     "data": {
      "text/html": [
       "<div>\n",
       "<style scoped>\n",
       "    .dataframe tbody tr th:only-of-type {\n",
       "        vertical-align: middle;\n",
       "    }\n",
       "\n",
       "    .dataframe tbody tr th {\n",
       "        vertical-align: top;\n",
       "    }\n",
       "\n",
       "    .dataframe thead th {\n",
       "        text-align: right;\n",
       "    }\n",
       "</style>\n",
       "<table border=\"1\" class=\"dataframe\">\n",
       "  <thead>\n",
       "    <tr style=\"text-align: right;\">\n",
       "      <th></th>\n",
       "      <th>x1</th>\n",
       "      <th>x2</th>\n",
       "      <th>x3</th>\n",
       "    </tr>\n",
       "  </thead>\n",
       "  <tbody>\n",
       "    <tr>\n",
       "      <th>x1</th>\n",
       "      <td>1.000000</td>\n",
       "      <td>0.025851</td>\n",
       "      <td>0.997261</td>\n",
       "    </tr>\n",
       "    <tr>\n",
       "      <th>x2</th>\n",
       "      <td>0.025851</td>\n",
       "      <td>1.000000</td>\n",
       "      <td>0.035673</td>\n",
       "    </tr>\n",
       "    <tr>\n",
       "      <th>x3</th>\n",
       "      <td>0.997261</td>\n",
       "      <td>0.035673</td>\n",
       "      <td>1.000000</td>\n",
       "    </tr>\n",
       "  </tbody>\n",
       "</table>\n",
       "</div>"
      ],
      "text/plain": [
       "          x1        x2        x3\n",
       "x1  1.000000  0.025851  0.997261\n",
       "x2  0.025851  1.000000  0.035673\n",
       "x3  0.997261  0.035673  1.000000"
      ]
     },
     "execution_count": 22,
     "metadata": {},
     "output_type": "execute_result"
    }
   ],
   "source": [
    "y=df['y'] \n",
    "x=(df.iloc[:,0:3]) \n",
    "\n",
    "x.corr()"
   ]
  },
  {
   "cell_type": "code",
   "execution_count": 23,
   "metadata": {},
   "outputs": [
    {
     "name": "stdout",
     "output_type": "stream",
     "text": [
      "-10.127988155231051\n",
      "[-0.05139616  0.58694904  0.28684868]\n",
      "MAE: 0.3233899552716768\n",
      "MSE: 0.15208631466626785\n",
      "RMSE: 0.38998245430566214\n"
     ]
    }
   ],
   "source": [
    "#多元线性回归分析 \n",
    "linreg = LinearRegression() \n",
    "linreg.fit(x, y) \n",
    "print (linreg.intercept_ )\n",
    "print (linreg.coef_ )\n",
    "y_pred = linreg.predict(x) \n",
    "#误差评估 \n",
    "print (\"MAE:\",metrics.mean_absolute_error(y,y_pred) )\n",
    "print (\"MSE:\",metrics.mean_squared_error(y,y_pred) )\n",
    "print (\"RMSE:\",np.sqrt(metrics.mean_squared_error(y,y_pred)) )"
   ]
  },
  {
   "cell_type": "code",
   "execution_count": 24,
   "metadata": {},
   "outputs": [
    {
     "name": "stdout",
     "output_type": "stream",
     "text": [
      "[0.99676249 0.00209367 0.00114384]\n",
      "21.89090909090909\n",
      "[-0.12086575]\n",
      "MAE: 0.8936859420929342\n",
      "MSE: 1.182503150421625\n",
      "RMSE: 1.087429607111019\n"
     ]
    },
    {
     "data": {
      "text/plain": [
       "0.9369939843408384"
      ]
     },
     "execution_count": 24,
     "metadata": {},
     "output_type": "execute_result"
    }
   ],
   "source": [
    "#主成分分析 \n",
    "pca = PCA() \n",
    "pca.fit(x) \n",
    "print (pca.explained_variance_ratio_)\n",
    "\n",
    "pac=PCA(n_components=1)\n",
    "reduced_x=pac.fit_transform(x)\n",
    "\n",
    "linreg2 = LinearRegression() \n",
    "linreg2.fit(reduced_x, y) \n",
    "print (linreg2.intercept_ )\n",
    "print (linreg2.coef_ )\n",
    "\n",
    "y_pred2 = linreg2.predict(reduced_x) \n",
    "print (\"MAE:\",metrics.mean_absolute_error(y,y_pred2) )\n",
    "print (\"MSE:\",metrics.mean_squared_error(y,y_pred2) )\n",
    "print (\"RMSE:\",np.sqrt(metrics.mean_squared_error(y,y_pred2)) )\n",
    "\n",
    "linreg2.score(reduced_x,y)"
   ]
  },
  {
   "cell_type": "code",
   "execution_count": null,
   "metadata": {},
   "outputs": [],
   "source": []
  }
 ],
 "metadata": {
  "kernelspec": {
   "display_name": "Python 3",
   "language": "python",
   "name": "python3"
  },
  "language_info": {
   "codemirror_mode": {
    "name": "ipython",
    "version": 3
   },
   "file_extension": ".py",
   "mimetype": "text/x-python",
   "name": "python",
   "nbconvert_exporter": "python",
   "pygments_lexer": "ipython3",
   "version": "3.7.3"
  },
  "toc": {
   "base_numbering": 1,
   "nav_menu": {},
   "number_sections": true,
   "sideBar": true,
   "skip_h1_title": false,
   "title_cell": "Table of Contents",
   "title_sidebar": "Contents",
   "toc_cell": false,
   "toc_position": {},
   "toc_section_display": true,
   "toc_window_display": false
  },
  "varInspector": {
   "cols": {
    "lenName": 16,
    "lenType": 16,
    "lenVar": 40
   },
   "kernels_config": {
    "python": {
     "delete_cmd_postfix": "",
     "delete_cmd_prefix": "del ",
     "library": "var_list.py",
     "varRefreshCmd": "print(var_dic_list())"
    },
    "r": {
     "delete_cmd_postfix": ") ",
     "delete_cmd_prefix": "rm(",
     "library": "var_list.r",
     "varRefreshCmd": "cat(var_dic_list()) "
    }
   },
   "types_to_exclude": [
    "module",
    "function",
    "builtin_function_or_method",
    "instance",
    "_Feature"
   ],
   "window_display": false
  }
 },
 "nbformat": 4,
 "nbformat_minor": 2
}

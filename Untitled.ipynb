{
 "cells": [
  {
   "cell_type": "markdown",
   "metadata": {},
   "source": [
    "1. 读入  肝气郁结证型系数.xls  数据集，将数据集按照等距、小组等量 两种方式 分别分为5组数据，分别计算5组数据的中位数与标准差\n",
    "\n",
    "2. 读入BHP1.csv，使用适当的方法填补缺失值\n",
    "\n",
    "3. 读入BHP2.xlsx，与BHP1数据集合并为BHP数据集\n",
    "\n",
    "4. 将BHP数据集中的成交量（volume）替换为 high、median、low 三种水平（区间自行定义） "
   ]
  },
  {
   "cell_type": "code",
   "execution_count": 1,
   "metadata": {},
   "outputs": [],
   "source": [
    "data_dir = '../../Downloads/第6周作业数据/'"
   ]
  },
  {
   "cell_type": "markdown",
   "metadata": {},
   "source": [
    "# 1"
   ]
  },
  {
   "cell_type": "code",
   "execution_count": 2,
   "metadata": {},
   "outputs": [],
   "source": [
    "import pandas as pd"
   ]
  },
  {
   "cell_type": "code",
   "execution_count": 3,
   "metadata": {},
   "outputs": [],
   "source": [
    "gq = pd.read_excel(data_dir + '肝气郁结证型系数.xls')"
   ]
  },
  {
   "cell_type": "code",
   "execution_count": 4,
   "metadata": {},
   "outputs": [
    {
     "data": {
      "text/html": [
       "<div>\n",
       "<style scoped>\n",
       "    .dataframe tbody tr th:only-of-type {\n",
       "        vertical-align: middle;\n",
       "    }\n",
       "\n",
       "    .dataframe tbody tr th {\n",
       "        vertical-align: top;\n",
       "    }\n",
       "\n",
       "    .dataframe thead th {\n",
       "        text-align: right;\n",
       "    }\n",
       "</style>\n",
       "<table border=\"1\" class=\"dataframe\">\n",
       "  <thead>\n",
       "    <tr style=\"text-align: right;\">\n",
       "      <th></th>\n",
       "      <th>肝气郁结证型系数</th>\n",
       "    </tr>\n",
       "  </thead>\n",
       "  <tbody>\n",
       "    <tr>\n",
       "      <th>0</th>\n",
       "      <td>0.056</td>\n",
       "    </tr>\n",
       "    <tr>\n",
       "      <th>1</th>\n",
       "      <td>0.488</td>\n",
       "    </tr>\n",
       "    <tr>\n",
       "      <th>2</th>\n",
       "      <td>0.107</td>\n",
       "    </tr>\n",
       "    <tr>\n",
       "      <th>3</th>\n",
       "      <td>0.322</td>\n",
       "    </tr>\n",
       "    <tr>\n",
       "      <th>4</th>\n",
       "      <td>0.242</td>\n",
       "    </tr>\n",
       "  </tbody>\n",
       "</table>\n",
       "</div>"
      ],
      "text/plain": [
       "   肝气郁结证型系数\n",
       "0     0.056\n",
       "1     0.488\n",
       "2     0.107\n",
       "3     0.322\n",
       "4     0.242"
      ]
     },
     "execution_count": 4,
     "metadata": {},
     "output_type": "execute_result"
    }
   ],
   "source": [
    "gq.head()"
   ]
  },
  {
   "cell_type": "code",
   "execution_count": 7,
   "metadata": {},
   "outputs": [],
   "source": [
    "gq['Group_XZDJ']=pd.cut(gq['肝气郁结证型系数'],5,precision=2) #将值列按等距方式分为5组并赋值新列\n",
    "gq['Group_XZDL']=pd.qcut(gq['肝气郁结证型系数'], 5, precision=2) #将值列按等距等量方式分为5组并赋值新列"
   ]
  },
  {
   "cell_type": "code",
   "execution_count": 8,
   "metadata": {},
   "outputs": [
    {
     "data": {
      "text/html": [
       "<div>\n",
       "<style scoped>\n",
       "    .dataframe tbody tr th:only-of-type {\n",
       "        vertical-align: middle;\n",
       "    }\n",
       "\n",
       "    .dataframe tbody tr th {\n",
       "        vertical-align: top;\n",
       "    }\n",
       "\n",
       "    .dataframe thead th {\n",
       "        text-align: right;\n",
       "    }\n",
       "</style>\n",
       "<table border=\"1\" class=\"dataframe\">\n",
       "  <thead>\n",
       "    <tr style=\"text-align: right;\">\n",
       "      <th></th>\n",
       "      <th>肝气郁结证型系数</th>\n",
       "      <th>Group_XZDJ</th>\n",
       "      <th>Group_XZDL</th>\n",
       "    </tr>\n",
       "  </thead>\n",
       "  <tbody>\n",
       "    <tr>\n",
       "      <th>0</th>\n",
       "      <td>0.056</td>\n",
       "      <td>(0.026, 0.12]</td>\n",
       "      <td>(0.016, 0.17]</td>\n",
       "    </tr>\n",
       "    <tr>\n",
       "      <th>1</th>\n",
       "      <td>0.488</td>\n",
       "      <td>(0.41, 0.5]</td>\n",
       "      <td>(0.29, 0.5]</td>\n",
       "    </tr>\n",
       "    <tr>\n",
       "      <th>2</th>\n",
       "      <td>0.107</td>\n",
       "      <td>(0.026, 0.12]</td>\n",
       "      <td>(0.016, 0.17]</td>\n",
       "    </tr>\n",
       "    <tr>\n",
       "      <th>3</th>\n",
       "      <td>0.322</td>\n",
       "      <td>(0.31, 0.41]</td>\n",
       "      <td>(0.29, 0.5]</td>\n",
       "    </tr>\n",
       "    <tr>\n",
       "      <th>4</th>\n",
       "      <td>0.242</td>\n",
       "      <td>(0.22, 0.31]</td>\n",
       "      <td>(0.21, 0.25]</td>\n",
       "    </tr>\n",
       "  </tbody>\n",
       "</table>\n",
       "</div>"
      ],
      "text/plain": [
       "   肝气郁结证型系数     Group_XZDJ     Group_XZDL\n",
       "0     0.056  (0.026, 0.12]  (0.016, 0.17]\n",
       "1     0.488    (0.41, 0.5]    (0.29, 0.5]\n",
       "2     0.107  (0.026, 0.12]  (0.016, 0.17]\n",
       "3     0.322   (0.31, 0.41]    (0.29, 0.5]\n",
       "4     0.242   (0.22, 0.31]   (0.21, 0.25]"
      ]
     },
     "execution_count": 8,
     "metadata": {},
     "output_type": "execute_result"
    }
   ],
   "source": [
    "gq.head()"
   ]
  },
  {
   "cell_type": "code",
   "execution_count": 9,
   "metadata": {},
   "outputs": [
    {
     "data": {
      "text/plain": [
       "(0.22, 0.31]     395\n",
       "(0.12, 0.22]     335\n",
       "(0.31, 0.41]     100\n",
       "(0.026, 0.12]     73\n",
       "(0.41, 0.5]       27\n",
       "Name: Group_XZDJ, dtype: int64"
      ]
     },
     "execution_count": 9,
     "metadata": {},
     "output_type": "execute_result"
    }
   ],
   "source": [
    "gq.Group_XZDJ.value_counts()"
   ]
  },
  {
   "cell_type": "code",
   "execution_count": 10,
   "metadata": {},
   "outputs": [
    {
     "data": {
      "text/plain": [
       "(0.016, 0.17]    189\n",
       "(0.25, 0.29]     187\n",
       "(0.21, 0.25]     186\n",
       "(0.29, 0.5]      185\n",
       "(0.17, 0.21]     183\n",
       "Name: Group_XZDL, dtype: int64"
      ]
     },
     "execution_count": 10,
     "metadata": {},
     "output_type": "execute_result"
    }
   ],
   "source": [
    "gq.Group_XZDL.value_counts()"
   ]
  },
  {
   "cell_type": "code",
   "execution_count": 13,
   "metadata": {},
   "outputs": [],
   "source": [
    "group_xzdl=gq['肝气郁结证型系数'].groupby(gq['Group_XZDJ'])   #将值列按等距分组列准备数据\n",
    "group_xzdj=gq['肝气郁结证型系数'].groupby(gq['Group_XZDL'])   #将值列按等距等量分组列准备数据"
   ]
  },
  {
   "cell_type": "code",
   "execution_count": 14,
   "metadata": {},
   "outputs": [
    {
     "data": {
      "text/plain": [
       "Group_XZDJ\n",
       "(0.026, 0.12]    0.099\n",
       "(0.12, 0.22]     0.179\n",
       "(0.22, 0.31]     0.262\n",
       "(0.31, 0.41]     0.330\n",
       "(0.41, 0.5]      0.429\n",
       "Name: 肝气郁结证型系数, dtype: float64"
      ]
     },
     "execution_count": 14,
     "metadata": {},
     "output_type": "execute_result"
    }
   ],
   "source": [
    "group_xzdl.median()  #等距方式求中位数"
   ]
  },
  {
   "cell_type": "code",
   "execution_count": 15,
   "metadata": {},
   "outputs": [
    {
     "data": {
      "text/plain": [
       "Group_XZDJ\n",
       "(0.026, 0.12]    0.024902\n",
       "(0.12, 0.22]     0.025987\n",
       "(0.22, 0.31]     0.026260\n",
       "(0.31, 0.41]     0.025085\n",
       "(0.41, 0.5]      0.026956\n",
       "Name: 肝气郁结证型系数, dtype: float64"
      ]
     },
     "execution_count": 15,
     "metadata": {},
     "output_type": "execute_result"
    }
   ],
   "source": [
    "group_xzdl.std()  #等距方式求标准差"
   ]
  },
  {
   "cell_type": "code",
   "execution_count": 16,
   "metadata": {},
   "outputs": [
    {
     "data": {
      "text/plain": [
       "Group_XZDL\n",
       "(0.016, 0.17]    0.134\n",
       "(0.17, 0.21]     0.191\n",
       "(0.21, 0.25]     0.231\n",
       "(0.25, 0.29]     0.272\n",
       "(0.29, 0.5]      0.325\n",
       "Name: 肝气郁结证型系数, dtype: float64"
      ]
     },
     "execution_count": 16,
     "metadata": {},
     "output_type": "execute_result"
    }
   ],
   "source": [
    "group_xzdj.median()  #等距等量求中位数"
   ]
  },
  {
   "cell_type": "code",
   "execution_count": 17,
   "metadata": {},
   "outputs": [
    {
     "data": {
      "text/plain": [
       "Group_XZDL\n",
       "(0.016, 0.17]    0.034750\n",
       "(0.17, 0.21]     0.014029\n",
       "(0.21, 0.25]     0.010834\n",
       "(0.25, 0.29]     0.012661\n",
       "(0.29, 0.5]      0.047936\n",
       "Name: 肝气郁结证型系数, dtype: float64"
      ]
     },
     "execution_count": 17,
     "metadata": {},
     "output_type": "execute_result"
    }
   ],
   "source": [
    "group_xzdj.std()  #等距等量求标准差"
   ]
  },
  {
   "cell_type": "markdown",
   "metadata": {},
   "source": [
    "# 2"
   ]
  },
  {
   "cell_type": "code",
   "execution_count": 23,
   "metadata": {},
   "outputs": [],
   "source": [
    "from scipy.interpolate import lagrange #导入拉格朗日插值函数"
   ]
  },
  {
   "cell_type": "code",
   "execution_count": 19,
   "metadata": {},
   "outputs": [
    {
     "data": {
      "text/html": [
       "<div>\n",
       "<style scoped>\n",
       "    .dataframe tbody tr th:only-of-type {\n",
       "        vertical-align: middle;\n",
       "    }\n",
       "\n",
       "    .dataframe tbody tr th {\n",
       "        vertical-align: top;\n",
       "    }\n",
       "\n",
       "    .dataframe thead th {\n",
       "        text-align: right;\n",
       "    }\n",
       "</style>\n",
       "<table border=\"1\" class=\"dataframe\">\n",
       "  <thead>\n",
       "    <tr style=\"text-align: right;\">\n",
       "      <th></th>\n",
       "      <th>name</th>\n",
       "      <th>date</th>\n",
       "      <th>Unnamed: 2</th>\n",
       "      <th>Open</th>\n",
       "      <th>High</th>\n",
       "      <th>Low</th>\n",
       "      <th>Close</th>\n",
       "      <th>Unnamed: 7</th>\n",
       "    </tr>\n",
       "  </thead>\n",
       "  <tbody>\n",
       "    <tr>\n",
       "      <th>0</th>\n",
       "      <td>BHP</td>\n",
       "      <td>11-02-2011</td>\n",
       "      <td></td>\n",
       "      <td>93.11</td>\n",
       "      <td>94.26</td>\n",
       "      <td>92.90</td>\n",
       "      <td>93.72</td>\n",
       "      <td>NaN</td>\n",
       "    </tr>\n",
       "    <tr>\n",
       "      <th>1</th>\n",
       "      <td>BHP</td>\n",
       "      <td>14-02-2011</td>\n",
       "      <td></td>\n",
       "      <td>94.57</td>\n",
       "      <td>96.23</td>\n",
       "      <td>94.39</td>\n",
       "      <td>95.64</td>\n",
       "      <td>NaN</td>\n",
       "    </tr>\n",
       "    <tr>\n",
       "      <th>2</th>\n",
       "      <td>BHP</td>\n",
       "      <td>15-02-2011</td>\n",
       "      <td></td>\n",
       "      <td>94.45</td>\n",
       "      <td>95.47</td>\n",
       "      <td>93.91</td>\n",
       "      <td>94.56</td>\n",
       "      <td>NaN</td>\n",
       "    </tr>\n",
       "    <tr>\n",
       "      <th>3</th>\n",
       "      <td>BHP</td>\n",
       "      <td>16-02-2011</td>\n",
       "      <td></td>\n",
       "      <td>92.67</td>\n",
       "      <td>93.58</td>\n",
       "      <td>92.56</td>\n",
       "      <td>93.30</td>\n",
       "      <td>NaN</td>\n",
       "    </tr>\n",
       "    <tr>\n",
       "      <th>4</th>\n",
       "      <td>BHP</td>\n",
       "      <td>17-02-2011</td>\n",
       "      <td></td>\n",
       "      <td>92.65</td>\n",
       "      <td>93.98</td>\n",
       "      <td>92.58</td>\n",
       "      <td>93.93</td>\n",
       "      <td>NaN</td>\n",
       "    </tr>\n",
       "  </tbody>\n",
       "</table>\n",
       "</div>"
      ],
      "text/plain": [
       "  name        date Unnamed: 2   Open   High    Low  Close  Unnamed: 7\n",
       "0  BHP  11-02-2011             93.11  94.26  92.90  93.72         NaN\n",
       "1  BHP  14-02-2011             94.57  96.23  94.39  95.64         NaN\n",
       "2  BHP  15-02-2011             94.45  95.47  93.91  94.56         NaN\n",
       "3  BHP  16-02-2011             92.67  93.58  92.56  93.30         NaN\n",
       "4  BHP  17-02-2011             92.65  93.98  92.58  93.93         NaN"
      ]
     },
     "execution_count": 19,
     "metadata": {},
     "output_type": "execute_result"
    }
   ],
   "source": [
    "df = pd.read_csv(data_dir + 'BHP1.csv')\n",
    "df.head()"
   ]
  },
  {
   "cell_type": "code",
   "execution_count": 20,
   "metadata": {},
   "outputs": [],
   "source": [
    "del df['Unnamed: 2'], df['Unnamed: 7']"
   ]
  },
  {
   "cell_type": "code",
   "execution_count": 22,
   "metadata": {},
   "outputs": [
    {
     "data": {
      "text/plain": [
       "(13, 6)"
      ]
     },
     "execution_count": 22,
     "metadata": {},
     "output_type": "execute_result"
    }
   ],
   "source": [
    "df.shape"
   ]
  },
  {
   "cell_type": "code",
   "execution_count": 21,
   "metadata": {},
   "outputs": [
    {
     "name": "stdout",
     "output_type": "stream",
     "text": [
      "<class 'pandas.core.frame.DataFrame'>\n",
      "RangeIndex: 13 entries, 0 to 12\n",
      "Data columns (total 6 columns):\n",
      "name     13 non-null object\n",
      "date     13 non-null object\n",
      "Open     12 non-null float64\n",
      "High     13 non-null float64\n",
      "Low      13 non-null float64\n",
      "Close    13 non-null float64\n",
      "dtypes: float64(4), object(2)\n",
      "memory usage: 752.0+ bytes\n"
     ]
    }
   ],
   "source": [
    "df.info()"
   ]
  },
  {
   "cell_type": "code",
   "execution_count": 25,
   "metadata": {},
   "outputs": [
    {
     "name": "stderr",
     "output_type": "stream",
     "text": [
      "/Users/luoyonggui/anaconda3/lib/python3.7/site-packages/ipykernel_launcher.py:10: SettingWithCopyWarning: \n",
      "A value is trying to be set on a copy of a slice from a DataFrame\n",
      "\n",
      "See the caveats in the documentation: http://pandas.pydata.org/pandas-docs/stable/user_guide/indexing.html#returning-a-view-versus-a-copy\n",
      "  # Remove the CWD from sys.path while we load stuff.\n"
     ]
    }
   ],
   "source": [
    "def ployinterp_column(s, n, k=5):\n",
    "  y = s[list(range(n-k, n)) + list(range(n+1, n+1+k))] #取数\n",
    "  y = y[y.notnull()] #剔除空值\n",
    "  return lagrange(y.index, list(y))(n) #插值并返回插值结果\n",
    " \n",
    "#逐个元素判断是否需要插值\n",
    "for i in df.columns:\n",
    "  for j in range(len(df)):\n",
    "    if (df[i].isnull())[j]: #如果为空即插值。\n",
    "      df[i][j] = ployinterp_column(df[i], j)\n"
   ]
  },
  {
   "cell_type": "markdown",
   "metadata": {},
   "source": [
    "# 3"
   ]
  },
  {
   "cell_type": "code",
   "execution_count": 27,
   "metadata": {},
   "outputs": [
    {
     "data": {
      "text/html": [
       "<div>\n",
       "<style scoped>\n",
       "    .dataframe tbody tr th:only-of-type {\n",
       "        vertical-align: middle;\n",
       "    }\n",
       "\n",
       "    .dataframe tbody tr th {\n",
       "        vertical-align: top;\n",
       "    }\n",
       "\n",
       "    .dataframe thead th {\n",
       "        text-align: right;\n",
       "    }\n",
       "</style>\n",
       "<table border=\"1\" class=\"dataframe\">\n",
       "  <thead>\n",
       "    <tr style=\"text-align: right;\">\n",
       "      <th></th>\n",
       "      <th>name</th>\n",
       "      <th>date</th>\n",
       "      <th>Unnamed: 2</th>\n",
       "      <th>Open</th>\n",
       "      <th>High</th>\n",
       "      <th>Low</th>\n",
       "      <th>Close</th>\n",
       "      <th>volume</th>\n",
       "    </tr>\n",
       "  </thead>\n",
       "  <tbody>\n",
       "    <tr>\n",
       "      <th>0</th>\n",
       "      <td>BHP</td>\n",
       "      <td>03-03-2011</td>\n",
       "      <td></td>\n",
       "      <td>95.90</td>\n",
       "      <td>96.11</td>\n",
       "      <td>95.18</td>\n",
       "      <td>96.02</td>\n",
       "      <td>3379400</td>\n",
       "    </tr>\n",
       "    <tr>\n",
       "      <th>1</th>\n",
       "      <td>BHP</td>\n",
       "      <td>04-03-2011</td>\n",
       "      <td></td>\n",
       "      <td>96.12</td>\n",
       "      <td>96.44</td>\n",
       "      <td>95.08</td>\n",
       "      <td>95.76</td>\n",
       "      <td>2463900</td>\n",
       "    </tr>\n",
       "    <tr>\n",
       "      <th>2</th>\n",
       "      <td>BHP</td>\n",
       "      <td>07-03-2011</td>\n",
       "      <td></td>\n",
       "      <td>96.51</td>\n",
       "      <td>96.66</td>\n",
       "      <td>94.03</td>\n",
       "      <td>94.47</td>\n",
       "      <td>3590900</td>\n",
       "    </tr>\n",
       "    <tr>\n",
       "      <th>3</th>\n",
       "      <td>BHP</td>\n",
       "      <td>08-03-2011</td>\n",
       "      <td></td>\n",
       "      <td>93.72</td>\n",
       "      <td>94.47</td>\n",
       "      <td>92.90</td>\n",
       "      <td>94.34</td>\n",
       "      <td>3805000</td>\n",
       "    </tr>\n",
       "    <tr>\n",
       "      <th>4</th>\n",
       "      <td>BHP</td>\n",
       "      <td>09-03-2011</td>\n",
       "      <td></td>\n",
       "      <td>92.94</td>\n",
       "      <td>93.13</td>\n",
       "      <td>91.86</td>\n",
       "      <td>92.22</td>\n",
       "      <td>3271700</td>\n",
       "    </tr>\n",
       "  </tbody>\n",
       "</table>\n",
       "</div>"
      ],
      "text/plain": [
       "  name        date Unnamed: 2   Open   High    Low  Close   volume\n",
       "0  BHP  03-03-2011             95.90  96.11  95.18  96.02  3379400\n",
       "1  BHP  04-03-2011             96.12  96.44  95.08  95.76  2463900\n",
       "2  BHP  07-03-2011             96.51  96.66  94.03  94.47  3590900\n",
       "3  BHP  08-03-2011             93.72  94.47  92.90  94.34  3805000\n",
       "4  BHP  09-03-2011             92.94  93.13  91.86  92.22  3271700"
      ]
     },
     "execution_count": 27,
     "metadata": {},
     "output_type": "execute_result"
    }
   ],
   "source": [
    "BHP2 = pd.read_excel(data_dir + 'BHP2.xlsx')\n",
    "BHP2.head()"
   ]
  },
  {
   "cell_type": "code",
   "execution_count": 28,
   "metadata": {},
   "outputs": [],
   "source": [
    "del BHP2['Unnamed: 2']"
   ]
  },
  {
   "cell_type": "code",
   "execution_count": 30,
   "metadata": {
    "scrolled": false
   },
   "outputs": [],
   "source": [
    "BHP = BHP2.append(df)"
   ]
  },
  {
   "cell_type": "code",
   "execution_count": 31,
   "metadata": {},
   "outputs": [
    {
     "data": {
      "text/html": [
       "<div>\n",
       "<style scoped>\n",
       "    .dataframe tbody tr th:only-of-type {\n",
       "        vertical-align: middle;\n",
       "    }\n",
       "\n",
       "    .dataframe tbody tr th {\n",
       "        vertical-align: top;\n",
       "    }\n",
       "\n",
       "    .dataframe thead th {\n",
       "        text-align: right;\n",
       "    }\n",
       "</style>\n",
       "<table border=\"1\" class=\"dataframe\">\n",
       "  <thead>\n",
       "    <tr style=\"text-align: right;\">\n",
       "      <th></th>\n",
       "      <th>Close</th>\n",
       "      <th>High</th>\n",
       "      <th>Low</th>\n",
       "      <th>Open</th>\n",
       "      <th>date</th>\n",
       "      <th>name</th>\n",
       "      <th>volume</th>\n",
       "    </tr>\n",
       "  </thead>\n",
       "  <tbody>\n",
       "    <tr>\n",
       "      <th>0</th>\n",
       "      <td>96.02</td>\n",
       "      <td>96.11</td>\n",
       "      <td>95.18</td>\n",
       "      <td>95.90</td>\n",
       "      <td>03-03-2011</td>\n",
       "      <td>BHP</td>\n",
       "      <td>3379400.0</td>\n",
       "    </tr>\n",
       "    <tr>\n",
       "      <th>1</th>\n",
       "      <td>95.76</td>\n",
       "      <td>96.44</td>\n",
       "      <td>95.08</td>\n",
       "      <td>96.12</td>\n",
       "      <td>04-03-2011</td>\n",
       "      <td>BHP</td>\n",
       "      <td>2463900.0</td>\n",
       "    </tr>\n",
       "    <tr>\n",
       "      <th>2</th>\n",
       "      <td>94.47</td>\n",
       "      <td>96.66</td>\n",
       "      <td>94.03</td>\n",
       "      <td>96.51</td>\n",
       "      <td>07-03-2011</td>\n",
       "      <td>BHP</td>\n",
       "      <td>3590900.0</td>\n",
       "    </tr>\n",
       "    <tr>\n",
       "      <th>3</th>\n",
       "      <td>94.34</td>\n",
       "      <td>94.47</td>\n",
       "      <td>92.90</td>\n",
       "      <td>93.72</td>\n",
       "      <td>08-03-2011</td>\n",
       "      <td>BHP</td>\n",
       "      <td>3805000.0</td>\n",
       "    </tr>\n",
       "    <tr>\n",
       "      <th>4</th>\n",
       "      <td>92.22</td>\n",
       "      <td>93.13</td>\n",
       "      <td>91.86</td>\n",
       "      <td>92.94</td>\n",
       "      <td>09-03-2011</td>\n",
       "      <td>BHP</td>\n",
       "      <td>3271700.0</td>\n",
       "    </tr>\n",
       "  </tbody>\n",
       "</table>\n",
       "</div>"
      ],
      "text/plain": [
       "   Close   High    Low   Open        date name     volume\n",
       "0  96.02  96.11  95.18  95.90  03-03-2011  BHP  3379400.0\n",
       "1  95.76  96.44  95.08  96.12  04-03-2011  BHP  2463900.0\n",
       "2  94.47  96.66  94.03  96.51  07-03-2011  BHP  3590900.0\n",
       "3  94.34  94.47  92.90  93.72  08-03-2011  BHP  3805000.0\n",
       "4  92.22  93.13  91.86  92.94  09-03-2011  BHP  3271700.0"
      ]
     },
     "execution_count": 31,
     "metadata": {},
     "output_type": "execute_result"
    }
   ],
   "source": [
    "BHP.head()"
   ]
  },
  {
   "cell_type": "markdown",
   "metadata": {},
   "source": [
    "# 4"
   ]
  },
  {
   "cell_type": "code",
   "execution_count": 32,
   "metadata": {},
   "outputs": [
    {
     "name": "stderr",
     "output_type": "stream",
     "text": [
      "/Users/luoyonggui/anaconda3/lib/python3.7/site-packages/ipykernel_launcher.py:6: SettingWithCopyWarning: \n",
      "A value is trying to be set on a copy of a slice from a DataFrame\n",
      "\n",
      "See the caveats in the documentation: http://pandas.pydata.org/pandas-docs/stable/user_guide/indexing.html#returning-a-view-versus-a-copy\n",
      "  \n",
      "/Users/luoyonggui/anaconda3/lib/python3.7/site-packages/pandas/core/indexing.py:205: SettingWithCopyWarning: \n",
      "A value is trying to be set on a copy of a slice from a DataFrame\n",
      "\n",
      "See the caveats in the documentation: http://pandas.pydata.org/pandas-docs/stable/user_guide/indexing.html#returning-a-view-versus-a-copy\n",
      "  self._setitem_with_indexer(indexer, value)\n",
      "/Users/luoyonggui/anaconda3/lib/python3.7/site-packages/ipykernel_launcher.py:10: SettingWithCopyWarning: \n",
      "A value is trying to be set on a copy of a slice from a DataFrame\n",
      "\n",
      "See the caveats in the documentation: http://pandas.pydata.org/pandas-docs/stable/user_guide/indexing.html#returning-a-view-versus-a-copy\n",
      "  # Remove the CWD from sys.path while we load stuff.\n",
      "/Users/luoyonggui/anaconda3/lib/python3.7/site-packages/ipykernel_launcher.py:8: SettingWithCopyWarning: \n",
      "A value is trying to be set on a copy of a slice from a DataFrame\n",
      "\n",
      "See the caveats in the documentation: http://pandas.pydata.org/pandas-docs/stable/user_guide/indexing.html#returning-a-view-versus-a-copy\n",
      "  \n"
     ]
    }
   ],
   "source": [
    "volume = BHP['volume']\n",
    " \n",
    "idx = 0\n",
    "for i in volume:\n",
    "    if i >= 3000000 and i < 4000000:\n",
    "        BHP['volume'][idx] = \"median\"\n",
    "    elif i >= 4000000 :\n",
    "        BHP['volume'][idx] = \"high\"\n",
    "    else: \n",
    "        BHP['volume'][idx] = \"low \"\n",
    "    idx+=1\n",
    "    "
   ]
  },
  {
   "cell_type": "code",
   "execution_count": 33,
   "metadata": {
    "scrolled": false
   },
   "outputs": [
    {
     "data": {
      "text/html": [
       "<div>\n",
       "<style scoped>\n",
       "    .dataframe tbody tr th:only-of-type {\n",
       "        vertical-align: middle;\n",
       "    }\n",
       "\n",
       "    .dataframe tbody tr th {\n",
       "        vertical-align: top;\n",
       "    }\n",
       "\n",
       "    .dataframe thead th {\n",
       "        text-align: right;\n",
       "    }\n",
       "</style>\n",
       "<table border=\"1\" class=\"dataframe\">\n",
       "  <thead>\n",
       "    <tr style=\"text-align: right;\">\n",
       "      <th></th>\n",
       "      <th>Close</th>\n",
       "      <th>High</th>\n",
       "      <th>Low</th>\n",
       "      <th>Open</th>\n",
       "      <th>date</th>\n",
       "      <th>name</th>\n",
       "      <th>volume</th>\n",
       "    </tr>\n",
       "  </thead>\n",
       "  <tbody>\n",
       "    <tr>\n",
       "      <th>0</th>\n",
       "      <td>96.02</td>\n",
       "      <td>96.11</td>\n",
       "      <td>95.18</td>\n",
       "      <td>95.900000</td>\n",
       "      <td>03-03-2011</td>\n",
       "      <td>BHP</td>\n",
       "      <td>median</td>\n",
       "    </tr>\n",
       "    <tr>\n",
       "      <th>1</th>\n",
       "      <td>95.76</td>\n",
       "      <td>96.44</td>\n",
       "      <td>95.08</td>\n",
       "      <td>96.120000</td>\n",
       "      <td>04-03-2011</td>\n",
       "      <td>BHP</td>\n",
       "      <td>low</td>\n",
       "    </tr>\n",
       "    <tr>\n",
       "      <th>2</th>\n",
       "      <td>94.47</td>\n",
       "      <td>96.66</td>\n",
       "      <td>94.03</td>\n",
       "      <td>96.510000</td>\n",
       "      <td>07-03-2011</td>\n",
       "      <td>BHP</td>\n",
       "      <td>median</td>\n",
       "    </tr>\n",
       "    <tr>\n",
       "      <th>3</th>\n",
       "      <td>94.34</td>\n",
       "      <td>94.47</td>\n",
       "      <td>92.90</td>\n",
       "      <td>93.720000</td>\n",
       "      <td>08-03-2011</td>\n",
       "      <td>BHP</td>\n",
       "      <td>median</td>\n",
       "    </tr>\n",
       "    <tr>\n",
       "      <th>4</th>\n",
       "      <td>92.22</td>\n",
       "      <td>93.13</td>\n",
       "      <td>91.86</td>\n",
       "      <td>92.940000</td>\n",
       "      <td>09-03-2011</td>\n",
       "      <td>BHP</td>\n",
       "      <td>median</td>\n",
       "    </tr>\n",
       "    <tr>\n",
       "      <th>5</th>\n",
       "      <td>88.31</td>\n",
       "      <td>89.17</td>\n",
       "      <td>87.93</td>\n",
       "      <td>89.000000</td>\n",
       "      <td>10-03-2011</td>\n",
       "      <td>BHP</td>\n",
       "      <td>high</td>\n",
       "    </tr>\n",
       "    <tr>\n",
       "      <th>6</th>\n",
       "      <td>89.59</td>\n",
       "      <td>89.80</td>\n",
       "      <td>88.16</td>\n",
       "      <td>88.240000</td>\n",
       "      <td>11-03-2011</td>\n",
       "      <td>BHP</td>\n",
       "      <td>low</td>\n",
       "    </tr>\n",
       "    <tr>\n",
       "      <th>7</th>\n",
       "      <td>89.02</td>\n",
       "      <td>89.06</td>\n",
       "      <td>87.82</td>\n",
       "      <td>88.170000</td>\n",
       "      <td>14-03-2011</td>\n",
       "      <td>BHP</td>\n",
       "      <td>median</td>\n",
       "    </tr>\n",
       "    <tr>\n",
       "      <th>8</th>\n",
       "      <td>86.95</td>\n",
       "      <td>87.32</td>\n",
       "      <td>84.35</td>\n",
       "      <td>84.580000</td>\n",
       "      <td>15-03-2011</td>\n",
       "      <td>BHP</td>\n",
       "      <td>high</td>\n",
       "    </tr>\n",
       "    <tr>\n",
       "      <th>9</th>\n",
       "      <td>84.88</td>\n",
       "      <td>87.28</td>\n",
       "      <td>83.85</td>\n",
       "      <td>86.310000</td>\n",
       "      <td>16-03-2011</td>\n",
       "      <td>BHP</td>\n",
       "      <td>high</td>\n",
       "    </tr>\n",
       "    <tr>\n",
       "      <th>10</th>\n",
       "      <td>87.38</td>\n",
       "      <td>88.29</td>\n",
       "      <td>86.89</td>\n",
       "      <td>87.320000</td>\n",
       "      <td>17-03-2011</td>\n",
       "      <td>BHP</td>\n",
       "      <td>median</td>\n",
       "    </tr>\n",
       "    <tr>\n",
       "      <th>11</th>\n",
       "      <td>88.56</td>\n",
       "      <td>89.58</td>\n",
       "      <td>88.05</td>\n",
       "      <td>89.530000</td>\n",
       "      <td>18-03-2011</td>\n",
       "      <td>BHP</td>\n",
       "      <td>median</td>\n",
       "    </tr>\n",
       "    <tr>\n",
       "      <th>12</th>\n",
       "      <td>89.59</td>\n",
       "      <td>90.16</td>\n",
       "      <td>88.88</td>\n",
       "      <td>90.130000</td>\n",
       "      <td>21-03-2011</td>\n",
       "      <td>BHP</td>\n",
       "      <td>median</td>\n",
       "    </tr>\n",
       "    <tr>\n",
       "      <th>13</th>\n",
       "      <td>88.71</td>\n",
       "      <td>89.59</td>\n",
       "      <td>88.42</td>\n",
       "      <td>89.500000</td>\n",
       "      <td>22-03-2011</td>\n",
       "      <td>BHP</td>\n",
       "      <td>median</td>\n",
       "    </tr>\n",
       "    <tr>\n",
       "      <th>14</th>\n",
       "      <td>90.02</td>\n",
       "      <td>90.32</td>\n",
       "      <td>88.85</td>\n",
       "      <td>89.570000</td>\n",
       "      <td>23-03-2011</td>\n",
       "      <td>BHP</td>\n",
       "      <td>high</td>\n",
       "    </tr>\n",
       "    <tr>\n",
       "      <th>15</th>\n",
       "      <td>91.26</td>\n",
       "      <td>91.35</td>\n",
       "      <td>89.70</td>\n",
       "      <td>90.860000</td>\n",
       "      <td>24-03-2011</td>\n",
       "      <td>BHP</td>\n",
       "      <td>median</td>\n",
       "    </tr>\n",
       "    <tr>\n",
       "      <th>16</th>\n",
       "      <td>90.67</td>\n",
       "      <td>91.09</td>\n",
       "      <td>90.07</td>\n",
       "      <td>90.420000</td>\n",
       "      <td>25-03-2011</td>\n",
       "      <td>BHP</td>\n",
       "      <td>median</td>\n",
       "    </tr>\n",
       "    <tr>\n",
       "      <th>0</th>\n",
       "      <td>93.72</td>\n",
       "      <td>94.26</td>\n",
       "      <td>92.90</td>\n",
       "      <td>93.110000</td>\n",
       "      <td>11-02-2011</td>\n",
       "      <td>BHP</td>\n",
       "      <td>median</td>\n",
       "    </tr>\n",
       "    <tr>\n",
       "      <th>1</th>\n",
       "      <td>95.64</td>\n",
       "      <td>96.23</td>\n",
       "      <td>94.39</td>\n",
       "      <td>94.570000</td>\n",
       "      <td>14-02-2011</td>\n",
       "      <td>BHP</td>\n",
       "      <td>low</td>\n",
       "    </tr>\n",
       "    <tr>\n",
       "      <th>2</th>\n",
       "      <td>94.56</td>\n",
       "      <td>95.47</td>\n",
       "      <td>93.91</td>\n",
       "      <td>94.450000</td>\n",
       "      <td>15-02-2011</td>\n",
       "      <td>BHP</td>\n",
       "      <td>median</td>\n",
       "    </tr>\n",
       "    <tr>\n",
       "      <th>3</th>\n",
       "      <td>93.30</td>\n",
       "      <td>93.58</td>\n",
       "      <td>92.56</td>\n",
       "      <td>92.670000</td>\n",
       "      <td>16-02-2011</td>\n",
       "      <td>BHP</td>\n",
       "      <td>median</td>\n",
       "    </tr>\n",
       "    <tr>\n",
       "      <th>4</th>\n",
       "      <td>93.93</td>\n",
       "      <td>93.98</td>\n",
       "      <td>92.58</td>\n",
       "      <td>92.650000</td>\n",
       "      <td>17-02-2011</td>\n",
       "      <td>BHP</td>\n",
       "      <td>median</td>\n",
       "    </tr>\n",
       "    <tr>\n",
       "      <th>5</th>\n",
       "      <td>92.39</td>\n",
       "      <td>93.00</td>\n",
       "      <td>92.00</td>\n",
       "      <td>92.340000</td>\n",
       "      <td>18-02-2011</td>\n",
       "      <td>BHP</td>\n",
       "      <td>high</td>\n",
       "    </tr>\n",
       "    <tr>\n",
       "      <th>6</th>\n",
       "      <td>92.11</td>\n",
       "      <td>93.98</td>\n",
       "      <td>91.75</td>\n",
       "      <td>91.912976</td>\n",
       "      <td>22-02-2011</td>\n",
       "      <td>BHP</td>\n",
       "      <td>low</td>\n",
       "    </tr>\n",
       "    <tr>\n",
       "      <th>7</th>\n",
       "      <td>92.36</td>\n",
       "      <td>92.46</td>\n",
       "      <td>91.05</td>\n",
       "      <td>91.930000</td>\n",
       "      <td>23-02-2011</td>\n",
       "      <td>BHP</td>\n",
       "      <td>median</td>\n",
       "    </tr>\n",
       "    <tr>\n",
       "      <th>8</th>\n",
       "      <td>91.76</td>\n",
       "      <td>92.71</td>\n",
       "      <td>90.93</td>\n",
       "      <td>92.420000</td>\n",
       "      <td>24-02-2011</td>\n",
       "      <td>BHP</td>\n",
       "      <td>high</td>\n",
       "    </tr>\n",
       "    <tr>\n",
       "      <th>9</th>\n",
       "      <td>93.91</td>\n",
       "      <td>94.04</td>\n",
       "      <td>92.44</td>\n",
       "      <td>93.480000</td>\n",
       "      <td>25-02-2011</td>\n",
       "      <td>BHP</td>\n",
       "      <td>high</td>\n",
       "    </tr>\n",
       "    <tr>\n",
       "      <th>10</th>\n",
       "      <td>94.60</td>\n",
       "      <td>95.11</td>\n",
       "      <td>94.10</td>\n",
       "      <td>94.810000</td>\n",
       "      <td>28-02-2011</td>\n",
       "      <td>BHP</td>\n",
       "      <td>median</td>\n",
       "    </tr>\n",
       "    <tr>\n",
       "      <th>11</th>\n",
       "      <td>93.27</td>\n",
       "      <td>95.20</td>\n",
       "      <td>93.13</td>\n",
       "      <td>95.050000</td>\n",
       "      <td>01-03-2011</td>\n",
       "      <td>BHP</td>\n",
       "      <td>median</td>\n",
       "    </tr>\n",
       "    <tr>\n",
       "      <th>12</th>\n",
       "      <td>94.43</td>\n",
       "      <td>94.89</td>\n",
       "      <td>93.54</td>\n",
       "      <td>93.890000</td>\n",
       "      <td>02-03-2011</td>\n",
       "      <td>BHP</td>\n",
       "      <td>median</td>\n",
       "    </tr>\n",
       "  </tbody>\n",
       "</table>\n",
       "</div>"
      ],
      "text/plain": [
       "    Close   High    Low       Open        date name  volume\n",
       "0   96.02  96.11  95.18  95.900000  03-03-2011  BHP  median\n",
       "1   95.76  96.44  95.08  96.120000  04-03-2011  BHP    low \n",
       "2   94.47  96.66  94.03  96.510000  07-03-2011  BHP  median\n",
       "3   94.34  94.47  92.90  93.720000  08-03-2011  BHP  median\n",
       "4   92.22  93.13  91.86  92.940000  09-03-2011  BHP  median\n",
       "5   88.31  89.17  87.93  89.000000  10-03-2011  BHP    high\n",
       "6   89.59  89.80  88.16  88.240000  11-03-2011  BHP    low \n",
       "7   89.02  89.06  87.82  88.170000  14-03-2011  BHP  median\n",
       "8   86.95  87.32  84.35  84.580000  15-03-2011  BHP    high\n",
       "9   84.88  87.28  83.85  86.310000  16-03-2011  BHP    high\n",
       "10  87.38  88.29  86.89  87.320000  17-03-2011  BHP  median\n",
       "11  88.56  89.58  88.05  89.530000  18-03-2011  BHP  median\n",
       "12  89.59  90.16  88.88  90.130000  21-03-2011  BHP  median\n",
       "13  88.71  89.59  88.42  89.500000  22-03-2011  BHP  median\n",
       "14  90.02  90.32  88.85  89.570000  23-03-2011  BHP    high\n",
       "15  91.26  91.35  89.70  90.860000  24-03-2011  BHP  median\n",
       "16  90.67  91.09  90.07  90.420000  25-03-2011  BHP  median\n",
       "0   93.72  94.26  92.90  93.110000  11-02-2011  BHP  median\n",
       "1   95.64  96.23  94.39  94.570000  14-02-2011  BHP    low \n",
       "2   94.56  95.47  93.91  94.450000  15-02-2011  BHP  median\n",
       "3   93.30  93.58  92.56  92.670000  16-02-2011  BHP  median\n",
       "4   93.93  93.98  92.58  92.650000  17-02-2011  BHP  median\n",
       "5   92.39  93.00  92.00  92.340000  18-02-2011  BHP    high\n",
       "6   92.11  93.98  91.75  91.912976  22-02-2011  BHP    low \n",
       "7   92.36  92.46  91.05  91.930000  23-02-2011  BHP  median\n",
       "8   91.76  92.71  90.93  92.420000  24-02-2011  BHP    high\n",
       "9   93.91  94.04  92.44  93.480000  25-02-2011  BHP    high\n",
       "10  94.60  95.11  94.10  94.810000  28-02-2011  BHP  median\n",
       "11  93.27  95.20  93.13  95.050000  01-03-2011  BHP  median\n",
       "12  94.43  94.89  93.54  93.890000  02-03-2011  BHP  median"
      ]
     },
     "execution_count": 33,
     "metadata": {},
     "output_type": "execute_result"
    }
   ],
   "source": [
    "BHP"
   ]
  },
  {
   "cell_type": "code",
   "execution_count": null,
   "metadata": {},
   "outputs": [],
   "source": []
  }
 ],
 "metadata": {
  "kernelspec": {
   "display_name": "Python 3",
   "language": "python",
   "name": "python3"
  },
  "language_info": {
   "codemirror_mode": {
    "name": "ipython",
    "version": 3
   },
   "file_extension": ".py",
   "mimetype": "text/x-python",
   "name": "python",
   "nbconvert_exporter": "python",
   "pygments_lexer": "ipython3",
   "version": "3.7.3"
  },
  "toc": {
   "base_numbering": 1,
   "nav_menu": {},
   "number_sections": true,
   "sideBar": true,
   "skip_h1_title": false,
   "title_cell": "Table of Contents",
   "title_sidebar": "Contents",
   "toc_cell": false,
   "toc_position": {},
   "toc_section_display": true,
   "toc_window_display": false
  }
 },
 "nbformat": 4,
 "nbformat_minor": 2
}

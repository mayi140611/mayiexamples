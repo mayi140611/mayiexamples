{
 "cells": [
  {
   "cell_type": "markdown",
   "metadata": {},
   "source": [
    "# hw11"
   ]
  },
  {
   "cell_type": "markdown",
   "metadata": {},
   "source": [
    "1. data1 是40名癌症病人的一些生存资料，其中，\n",
    " \n",
    " X1表示生活行动能力评分（1~100），\n",
    " \n",
    " X2表示病人的年龄，\n",
    " \n",
    " X3表示由诊断到直入研究时间（月）；\n",
    " \n",
    " X4表示肿瘤类型，\n",
    " \n",
    " X5把ISO两种疗法（“1”是常规，“0”是试验新疗法）；\n",
    " \n",
    " Y表示病人生存时间（“0”表示生存时间小于200天，“1”表示生存时间大于或等于200天）\n",
    "\n",
    "试建立Y关于X1~X5的logistic回归模型\n",
    "\n",
    "\n",
    "2. data2 是关于重伤病人的一些基本资料。\n",
    "\n",
    "自变量X是病人的住院天数，\n",
    "\n",
    "因变量Y是病人出院后长期恢复的预后指数，指数数值越大表示预后结局越好。\n",
    "\n",
    "尝试对数据拟合合适的线性或非线性模型 "
   ]
  },
  {
   "cell_type": "markdown",
   "metadata": {},
   "source": [
    "# 1"
   ]
  },
  {
   "cell_type": "code",
   "execution_count": 15,
   "metadata": {},
   "outputs": [],
   "source": [
    "import pandas as pd\n",
    "import numpy as np\n",
    "import matplotlib.pyplot as plt\n",
    "from sklearn import metrics"
   ]
  },
  {
   "cell_type": "code",
   "execution_count": 19,
   "metadata": {},
   "outputs": [],
   "source": [
    "filename = \"data1.txt\"\n",
    "data1 = pd.read_table(filename, encoding='gbk')\n",
    "x = data1.iloc[:,1:6].values\n",
    "y = data1.iloc[:,6].values"
   ]
  },
  {
   "cell_type": "code",
   "execution_count": 21,
   "metadata": {},
   "outputs": [
    {
     "data": {
      "text/plain": [
       "(array([[70, 64,  5,  1,  1],\n",
       "        [60, 63,  9,  1,  1],\n",
       "        [70, 65, 11,  1,  1],\n",
       "        [40, 69, 10,  1,  1],\n",
       "        [40, 63, 58,  1,  1],\n",
       "        [70, 48,  9,  1,  1],\n",
       "        [70, 48, 11,  1,  1],\n",
       "        [80, 63,  4,  2,  1],\n",
       "        [60, 63, 14,  2,  1],\n",
       "        [30, 53,  4,  2,  1],\n",
       "        [80, 43, 12,  2,  1],\n",
       "        [40, 55,  2,  2,  1],\n",
       "        [60, 66, 25,  2,  1],\n",
       "        [40, 67, 23,  2,  1],\n",
       "        [20, 61, 19,  3,  1],\n",
       "        [50, 63,  4,  3,  1],\n",
       "        [50, 66, 16,  0,  1],\n",
       "        [40, 68, 12,  0,  1],\n",
       "        [80, 41, 12,  0,  1],\n",
       "        [70, 53,  8,  0,  1],\n",
       "        [60, 37, 13,  1,  1],\n",
       "        [90, 54, 12,  1,  0],\n",
       "        [50, 52,  8,  1,  0],\n",
       "        [70, 50,  7,  1,  0],\n",
       "        [20, 65, 21,  1,  0],\n",
       "        [80, 52, 28,  1,  0],\n",
       "        [60, 70, 13,  1,  0],\n",
       "        [50, 40, 13,  1,  0],\n",
       "        [70, 36, 22,  2,  0],\n",
       "        [40, 44, 36,  2,  0],\n",
       "        [30, 54,  9,  2,  0],\n",
       "        [30, 59, 87,  2,  0],\n",
       "        [40, 69,  5,  3,  0],\n",
       "        [60, 50, 22,  3,  0],\n",
       "        [80, 62,  4,  3,  0],\n",
       "        [70, 68, 15,  0,  0],\n",
       "        [30, 39,  4,  0,  0],\n",
       "        [60, 49, 11,  0,  0],\n",
       "        [80, 64, 10,  0,  0],\n",
       "        [70, 67, 18,  0,  0]]),\n",
       " array([1, 0, 0, 0, 0, 0, 0, 0, 0, 0, 0, 0, 1, 0, 0, 0, 0, 0, 1, 1, 0, 1,\n",
       "        1, 1, 0, 1, 0, 0, 0, 0, 0, 0, 0, 0, 0, 0, 0, 0, 1, 1]))"
      ]
     },
     "execution_count": 21,
     "metadata": {},
     "output_type": "execute_result"
    }
   ],
   "source": [
    "x,y"
   ]
  },
  {
   "cell_type": "code",
   "execution_count": 22,
   "metadata": {},
   "outputs": [
    {
     "name": "stdout",
     "output_type": "stream",
     "text": [
      "逻辑回归模型训练结束。\n",
      "模型的平均正确率为：0.875\n"
     ]
    }
   ],
   "source": [
    "from sklearn.linear_model import LogisticRegression as LR\n",
    "\n",
    "lr = LR() #建立逻辑回归模型\n",
    "lr.fit(x, y) #用筛选后的特征数据来训练模型\n",
    "print(u'逻辑回归模型训练结束。')\n",
    "print(u'模型的平均正确率为：%s' % lr.score(x, y)) "
   ]
  },
  {
   "cell_type": "code",
   "execution_count": 23,
   "metadata": {},
   "outputs": [],
   "source": [
    "import statsmodels.api as sm\n",
    "\n",
    "logrB = sm.Logit(y, x)\n",
    "logrB = logrB.fit(disp=0)\n",
    "\n",
    "(pd.Series(logrB.predict(x)).map(round)==pd.Series(y)).mean()"
   ]
  },
  {
   "cell_type": "markdown",
   "metadata": {},
   "source": [
    "# 2"
   ]
  },
  {
   "cell_type": "code",
   "execution_count": 40,
   "metadata": {},
   "outputs": [
    {
     "name": "stderr",
     "output_type": "stream",
     "text": [
      "/Users/luoyonggui/anaconda3/lib/python3.7/site-packages/ipykernel_launcher.py:9: UserWarning: Matplotlib is currently using module://ipykernel.pylab.backend_inline, which is a non-GUI backend, so cannot show the figure.\n",
      "  if __name__ == '__main__':\n"
     ]
    },
    {
     "data": {
      "image/png": "[encoded data removed]",
      "text/plain": [
       "<Figure size 432x288 with 1 Axes>"
      ]
     },
     "metadata": {
      "needs_background": "light"
     },
     "output_type": "display_data"
    }
   ],
   "source": [
    "from sklearn.linear_model import LinearRegression\n",
    "data2=pd.read_table(\"data2.txt\", encoding='gbk')\n",
    "x=data2[['X']]\n",
    "y=data2[['Y']]\n",
    "\n",
    "fig = plt.figure()\n",
    "ax = fig.add_subplot(1, 1, 1)\n",
    "ax.scatter(x,y)\n",
    "fig.show()"
   ]
  },
  {
   "cell_type": "code",
   "execution_count": 41,
   "metadata": {},
   "outputs": [
    {
     "name": "stdout",
     "output_type": "stream",
     "text": [
      "Coefficients: \n",
      " [[-1.71026285  0.01480694]]\n",
      "MSE: 4.822847963169581\n"
     ]
    },
    {
     "name": "stderr",
     "output_type": "stream",
     "text": [
      "/Users/luoyonggui/anaconda3/lib/python3.7/site-packages/ipykernel_launcher.py:4: SettingWithCopyWarning: \n",
      "A value is trying to be set on a copy of a slice from a DataFrame.\n",
      "Try using .loc[row_indexer,col_indexer] = value instead\n",
      "\n",
      "See the caveats in the documentation: http://pandas.pydata.org/pandas-docs/stable/user_guide/indexing.html#returning-a-view-versus-a-copy\n",
      "  after removing the cwd from sys.path.\n"
     ]
    }
   ],
   "source": [
    "#多项式模型\n",
    "x1=x\n",
    "x2=x**2\n",
    "x1['x2']=x2\n",
    "\n",
    "linreg = LinearRegression()\n",
    "linreg.fit(x1,y)\n",
    "\n",
    "# The coefficients\n",
    "print('Coefficients: \\n', linreg.coef_)\n",
    "\n",
    "y_pred = linreg.predict(x)\n",
    "# The mean square error\n",
    "print (\"MSE:\",metrics.mean_squared_error(y,y_pred))"
   ]
  },
  {
   "cell_type": "code",
   "execution_count": 42,
   "metadata": {},
   "outputs": [
    {
     "name": "stdout",
     "output_type": "stream",
     "text": [
      "Coefficients: \n",
      " [[-15.96615346]]\n",
      "MSE: 9.102358628909228\n"
     ]
    }
   ],
   "source": [
    "#对数模型\n",
    "x2=pd.DataFrame(np.log(x['X']))\n",
    "\n",
    "linreg = LinearRegression()\n",
    "linreg.fit(x2,y)\n",
    "\n",
    "# The coefficients\n",
    "print('Coefficients: \\n', linreg.coef_)\n",
    "\n",
    "y_pred = linreg.predict(x2)\n",
    "# The mean square error\n",
    "print (\"MSE:\",metrics.mean_squared_error(y,y_pred))"
   ]
  },
  {
   "cell_type": "code",
   "execution_count": 43,
   "metadata": {},
   "outputs": [
    {
     "name": "stdout",
     "output_type": "stream",
     "text": [
      "Coefficients: \n",
      " [[-0.03797418]]\n",
      "MSE: 0.027886429108232476\n"
     ]
    }
   ],
   "source": [
    "#指数\n",
    "y2=pd.DataFrame(np.log(y))\n",
    "\n",
    "linreg = LinearRegression()\n",
    "linreg.fit(pd.DataFrame(x['X']),y2)\n",
    "\n",
    "# The coefficients\n",
    "print('Coefficients: \\n', linreg.coef_)\n",
    "\n",
    "y_pred = linreg.predict(pd.DataFrame(x['X']))\n",
    "# The mean square error\n",
    "print (\"MSE:\",metrics.mean_squared_error(y2,y_pred))"
   ]
  },
  {
   "cell_type": "code",
   "execution_count": 44,
   "metadata": {},
   "outputs": [
    {
     "name": "stdout",
     "output_type": "stream",
     "text": [
      "Coefficients: \n",
      " [[-0.71910195]]\n",
      "MSE: 0.1059377894544681\n"
     ]
    }
   ],
   "source": [
    "#幂函数\n",
    "\n",
    "linreg = LinearRegression()\n",
    "linreg.fit(x2,y2)\n",
    "\n",
    "# The coefficients\n",
    "print('Coefficients: \\n', linreg.coef_)\n",
    "\n",
    "y_pred = linreg.predict(x2)\n",
    "# The mean square error\n",
    "print (\"MSE:\",metrics.mean_squared_error(y2,y_pred))"
   ]
  },
  {
   "cell_type": "code",
   "execution_count": null,
   "metadata": {},
   "outputs": [],
   "source": []
  }
 ],
 "metadata": {
  "kernelspec": {
   "display_name": "Python 3",
   "language": "python",
   "name": "python3"
  },
  "language_info": {
   "codemirror_mode": {
    "name": "ipython",
    "version": 3
   },
   "file_extension": ".py",
   "mimetype": "text/x-python",
   "name": "python",
   "nbconvert_exporter": "python",
   "pygments_lexer": "ipython3",
   "version": "3.7.3"
  },
  "toc": {
   "base_numbering": 1,
   "nav_menu": {},
   "number_sections": true,
   "sideBar": true,
   "skip_h1_title": false,
   "title_cell": "Table of Contents",
   "title_sidebar": "Contents",
   "toc_cell": false,
   "toc_position": {},
   "toc_section_display": true,
   "toc_window_display": false
  },
  "varInspector": {
   "cols": {
    "lenName": 16,
    "lenType": 16,
    "lenVar": 40
   },
   "kernels_config": {
    "python": {
     "delete_cmd_postfix": "",
     "delete_cmd_prefix": "del ",
     "library": "var_list.py",
     "varRefreshCmd": "print(var_dic_list())"
    },
    "r": {
     "delete_cmd_postfix": ") ",
     "delete_cmd_prefix": "rm(",
     "library": "var_list.r",
     "varRefreshCmd": "cat(var_dic_list()) "
    }
   },
   "types_to_exclude": [
    "module",
    "function",
    "builtin_function_or_method",
    "instance",
    "_Feature"
   ],
   "window_display": false
  }
 },
 "nbformat": 4,
 "nbformat_minor": 2
}

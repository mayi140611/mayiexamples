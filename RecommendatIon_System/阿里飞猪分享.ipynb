{
 "cells": [
  {
   "cell_type": "markdown",
   "metadata": {},
   "source": [
    "# 阿里飞猪排序与召回技术实践 \n",
    "\n",
    "https://appukvkryx45804.h5.xiaoeknow.com/v1/course/alive/l_5ebb5fe1f0f17_Byt4hbxa?type=2&app_id=appukVkRYx45804&is_redirect=1\n",
    "\n",
    "\n"
   ]
  },
  {
   "cell_type": "markdown",
   "metadata": {},
   "source": [
    "# 1. Rank For Traveling：飞猪旅行场景深度排序技术实践\n",
    "分享时间：5月13日(周三)，19:00~20:30\n",
    "\n",
    "分享嘉宾：姜壶、子厓\n",
    "\n",
    "旅行商品推荐和实物商品推荐不管从用户维度还是宝贝维度上都具有较大的差异。针对旅行场景的特殊性，此次分享介绍飞猪全域猜你喜欢在旅行场景排序策略上的技术沉淀，主要包括深度排序模型设计上的技术沉淀。子议题包括：\n",
    "\n",
    "    旅行场景下的推荐算法现状\n",
    "\n",
    "    深度粗排在飞猪猜你喜欢排序上的应用\n",
    "\n",
    "    用户旅行意图识别和用户旅行兴趣建模\n",
    "\n",
    "    稀疏高客单场景下CVR模型的loss优化\n",
    "\n",
    "    全域多场景多用户状态感知排序\n",
    "\n",
    "听众收益：\n",
    "\n",
    "    理解旅行场景下推荐算法设计的主要问题和难点\n",
    "\n",
    "    了解深度排序模型在飞猪全域猜你喜欢上的应用过程\n",
    "\n",
    "新技术/实用技术点：\n",
    "\n",
    "    深度排序模型在旅行场景下的应用过程\n",
    "\n",
    "# 2. 旅行推荐场景下召回 ( Match ) 实践之路\n",
    "分享时间：5月16日(周六)，19:00~20:30\n",
    "\n",
    "分享嘉宾：斯辰、楼溪\n",
    "\n",
    "召回几乎是所有工业界推荐系统的基础，召回的好坏直接决定着上层推荐效果的上界。常见的召回策略有基于 user profile、协同过滤和 embedding 向量的召回。在旅行场景中这些方法都面临着种种挑战。例如：用户行为稀疏，发散导致训练不足，效果差，冷启动用户多，导致召回不足，热门严重。同时特定场景下的召回也需要挖掘。例如：有明确行程的用户如果进行召回。本次分享将介绍在飞猪这个旅行场景下，是如何针对这些问题进行优化并提升效果的。\n",
    "\n",
    "听众收益：\n",
    "\n",
    "    了解工业界推荐系统的基本流程和方法；\n",
    "\n",
    "    了解推荐场景中常用的召回方法；\n",
    "\n",
    "    了解旅行场景下的召回有哪些自己的特点和存在哪些问题；\n",
    "\n",
    "    如何针对特定领域的问题去优化，改进现有的召回模型，提高推荐效果。\n",
    "\n",
    "新技术/实用技术点：\n",
    "\n",
    "    Session based 协同过滤\n",
    "    搭配召回\n",
    "\n",
    "\n"
   ]
  },
  {
   "cell_type": "code",
   "execution_count": null,
   "metadata": {},
   "outputs": [],
   "source": []
  }
 ],
 "metadata": {
  "kernelspec": {
   "display_name": "Python 3",
   "language": "python",
   "name": "python3"
  },
  "language_info": {
   "codemirror_mode": {
    "name": "ipython",
    "version": 3
   },
   "file_extension": ".py",
   "mimetype": "text/x-python",
   "name": "python",
   "nbconvert_exporter": "python",
   "pygments_lexer": "ipython3",
   "version": "3.7.3"
  },
  "toc": {
   "base_numbering": 1,
   "nav_menu": {},
   "number_sections": true,
   "sideBar": true,
   "skip_h1_title": false,
   "title_cell": "Table of Contents",
   "title_sidebar": "Contents",
   "toc_cell": false,
   "toc_position": {},
   "toc_section_display": true,
   "toc_window_display": true
  }
 },
 "nbformat": 4,
 "nbformat_minor": 2
}

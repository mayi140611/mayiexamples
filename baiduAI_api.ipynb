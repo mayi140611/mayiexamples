{
 "cells": [
  {
   "cell_type": "markdown",
   "metadata": {},
   "source": [
    "# 百度AI接入指南\n",
    "接入步骤说明https://ai.baidu.com/ai-doc/REFERENCE/Ck3dwjgn3\n",
    "\n",
    "百度AI开放平台首页https://ai.baidu.com/?track=cp:aipinzhuan|pf:pc|pp:AIpingtai|pu:title|ci:|kw:10005792\n",
    "\n",
    "百度AI应用管理中心https://console.bce.baidu.com/ai/?_=1581405570100&fromai=1#/ai/ocr/overview/index\n"
   ]
  },
  {
   "cell_type": "code",
   "execution_count": 2,
   "metadata": {},
   "outputs": [
    {
     "name": "stdout",
     "output_type": "stream",
     "text": [
      "baidu-aip==2.2.18.0\r\n"
     ]
    }
   ],
   "source": [
    "# !pip install baidu-aip\n",
    "!pip freeze | grep baidu"
   ]
  },
  {
   "cell_type": "markdown",
   "metadata": {},
   "source": [
    "# python调用baidu-aip识别图片中的文字"
   ]
  },
  {
   "cell_type": "markdown",
   "metadata": {},
   "source": [
    "官网示例https://ai.baidu.com/ai-doc/OCR/Dk3h7yf8m"
   ]
  },
  {
   "cell_type": "markdown",
   "metadata": {},
   "source": [
    "## 新建AipOcr"
   ]
  },
  {
   "cell_type": "code",
   "execution_count": 7,
   "metadata": {},
   "outputs": [],
   "source": [
    "from aip import AipOcr\n",
    "\n",
    "\"\"\" 你的 APPID AK SK \"\"\"\n",
    "APP_ID = '18441874'\n",
    "API_KEY = 'x3v8yAvk1ZhSYBfSlu93B224'\n",
    "SECRET_KEY = 'Z5l8W0SahiR9j5UM7GKkTnKsKaZENKFF'\n",
    "\n",
    "client = AipOcr(APP_ID, API_KEY, SECRET_KEY)"
   ]
  },
  {
   "cell_type": "markdown",
   "metadata": {},
   "source": [
    "## 接口说明\n",
    "https://ai.baidu.com/ai-doc/OCR/3k3h7yeqa"
   ]
  },
  {
   "cell_type": "markdown",
   "metadata": {},
   "source": [
    "### 通用文字识别\n",
    "\n",
    "用户向服务请求识别某张图中的所有文字"
   ]
  },
  {
   "cell_type": "code",
   "execution_count": 1,
   "metadata": {},
   "outputs": [],
   "source": [
    "import os"
   ]
  },
  {
   "cell_type": "code",
   "execution_count": 17,
   "metadata": {},
   "outputs": [],
   "source": [
    "\"\"\" 读取图片 \"\"\"\n",
    "def get_file_content(filePath):\n",
    "    with open(filePath, 'rb') as fp:\n",
    "        return fp.read()\n",
    "# 入院记录\n",
    "img_dir = 'img/'\n",
    "image = get_file_content(os.path.join(img_dir, '1.png'))"
   ]
  },
  {
   "cell_type": "code",
   "execution_count": 21,
   "metadata": {},
   "outputs": [
    {
     "name": "stdout",
     "output_type": "stream",
     "text": [
      "{'refresh_token': '25.7315c5da12de5bd8fd62178a3f6d3670.315360000.1933928087.282335-18441874', 'expires_in': 2592000, 'session_key': '9mzdCKdx9WHGyTw6MdoJtIqDOggTd/bWgbyLoJlOYj7i2v7Q5Z3kjIvnMj4XnfI5r6lr3yX/X46uHrZXOSIn6hFTow2ikQ==', 'access_token': '24.3cec720a282dccc82bb48626c6de737a.2592000.1621160087.282335-18441874', 'scope': 'brain_ocr_meter brain_doc_analysis brain_ocr_webimage_loc vis-ocr_机动车购车发票识别 brain_ocr_vehicle_invoice brain_formula public vis-ocr_ocr brain_ocr_scope brain_ocr_general brain_ocr_general_basic vis-ocr_business_license brain_ocr_webimage brain_all_scope brain_ocr_idcard brain_ocr_driving_license brain_ocr_vehicle_license vis-ocr_plate_number brain_solution brain_ocr_plate_number brain_ocr_accurate brain_ocr_accurate_basic brain_ocr_receipt brain_ocr_business_license brain_solution_iocr brain_qrcode brain_ocr_handwriting brain_ocr_passport brain_ocr_vat_invoice brain_numbers brain_ocr_business_card brain_ocr_train_ticket brain_ocr_taxi_receipt vis-ocr_household_register vis-ocr_vis-classify_birth_certificate vis-ocr_台湾通行证 vis-ocr_港澳通行证 vis-ocr_机动车检验合格证识别 vis-ocr_车辆vin码识别 vis-ocr_定额发票识别 vis-ocr_保单识别 vis-ocr_行程单识别 brain_ocr_vin brain_ocr_quota_invoice brain_ocr_birth_certificate brain_ocr_household_register brain_ocr_HK_Macau_pass brain_ocr_taiwan_pass brain_ocr_vehicle_certificate brain_ocr_air_ticket brain_ocr_insurance_doc wise_adapt lebo_resource_base lightservice_public hetu_basic lightcms_map_poi kaidian_kaidian ApsMisTest_Test权限 vis-classify_flower lpq_开放 cop_helloScope ApsMis_fangdi_permission smartapp_snsapi_base smartapp_mapp_dev_manage iop_autocar oauth_tp_app smartapp_smart_game_openapi oauth_sessionkey smartapp_swanid_verify smartapp_opensource_openapi smartapp_opensource_recapi fake_face_detect_开放Scope vis-ocr_虚拟人物助理 idl-video_虚拟人物助理 smartapp_component smartapp_search_plugin avatar_video_test', 'session_secret': '43d331ef80d29fa73bda93b463d85118'}\n"
     ]
    }
   ],
   "source": [
    "# encoding:utf-8\n",
    "import requests \n",
    "\n",
    "# client_id 为官网获取的AK， client_secret 为官网获取的SK\n",
    "host = 'https://aip.baidubce.com/oauth/2.0/token?grant_type=client_credentials&client_id=x3v8yAvk1ZhSYBfSlu93B224&client_secret=Z5l8W0SahiR9j5UM7GKkTnKsKaZENKFF'\n",
    "response = requests.get(host)\n",
    "if response:\n",
    "    print(response.json())"
   ]
  },
  {
   "cell_type": "code",
   "execution_count": 23,
   "metadata": {
    "scrolled": true
   },
   "outputs": [
    {
     "name": "stdout",
     "output_type": "stream",
     "text": [
      "{'words_result': [{'words': '213334820颅内未见异常信号影,弥散扫描未见异常各脑室及脑池形态及信号未见异常,中线结构未见偏移。颅骨信号未见异常。右侧枕部头皮软组颅内未见异常。右侧枕部头皮脂肪瘤。', 'location': {'top': 0, 'left': 7, 'width': 1296, 'height': 34}}, {'words': '8508800', 'location': {'top': 0, 'left': 1686, 'width': 171, 'height': 29}}, {'words': '织内见区见稍长T1、稍长T2信号肿块影,信号不均匀,较大横截面约1.3右侧椎动脉颅内段较对侧稍纤细,多系发育变异;双侧颈至系四脑室区占位,考虑肿瘤性病变可能,请结合头部MRI强检查头部MRA:内大动脉及主要分1', 'location': {'top': 9, 'left': 76, 'width': 1784, 'height': 69}}, {'words': '内段、双侧大脑前、中动脉及左侧椎动脉、基底动脉、双侧大脑后动脉显影清晰,未见狭窄或动脉瘤征象。', 'location': {'top': 65, 'left': 85, 'width': 708, 'height': 26}}, {'words': '27055脑灰白质分界清楚,脑组织形态、结构及信号未见异常脑沟脑池形态及信号未见异常。脑室未见扩张变形,中线结构未见偏移。片中颅骨颅内未见异常。鼻窦炎。', 'location': {'top': 86, 'left': 8, 'width': 1203, 'height': 33}}, {'words': '骨髓信号未见异常。双侧筛窦、上颌窦长T2信号影。', 'location': {'top': 107, 'left': 86, 'width': 359, 'height': 21}}, {'words': '8', 'location': {'top': 97, 'left': 1686, 'width': 26, 'height': 19}}, {'words': '4964714495', 'location': {'top': 85, 'left': 1704, 'width': 154, 'height': 25}}, {'words': '左侧枕叶可见不规则斑班片状稍长T1稍长T2信号影,Flai星高信,弥散未见明显受限,增强明强,可见信号失T白质纤维束', 'location': {'top': 175, 'left': 37, 'width': 1025, 'height': 34}}, {'words': '梗塞并出血', 'location': {'top': 185, 'left': 1345, 'width': 78, 'height': 30}}, {'words': '85960140045219000', 'location': {'top': 194, 'left': 1686, 'width': 171, 'height': 23}}, {'words': '态、大小未见异常中线结构无偏移颅骨信号未见异常所扫', 'location': {'top': 209, 'left': 68, 'width': 452, 'height': 26}}, {'words': '双侧额顶叶散在斑点状长T1长T2信号影,FLAR序列呈高信号。各脑室脑池形态大小未见异常,大脑中线未见偏移,片中颅骨骨髓信号未见', 'location': {'top': 224, 'left': 58, 'width': 1002, 'height': 29}}, {'words': '颅内散在小缺血灶', 'location': {'top': 240, 'left': 1031, 'width': 165, 'height': 31}}, {'words': '848141352756960000', 'location': {'top': 243, 'left': 1687, 'width': 170, 'height': 19}}, {'words': '85029883749870000', 'location': {'top': 262, 'left': 1685, 'width': 172, 'height': 24}}, {'words': '264862双侧额顶叶见斑片状稍长T2信号。脑室、脑池、脑沟未见增宽、受压或移位。中线结构未见偏移。所示颅骨骨髓信号未异常。脑室扩左侧额题顶叶弥散受限灶,系新发脑梗塞灶。颅内发灶、缺血灶,脑白质脱髓鞘改变5328300', 'location': {'top': 279, 'left': 0, 'width': 1861, 'height': 54}}, {'words': '2677589', 'location': {'top': 308, 'left': 6, 'width': 98, 'height': 26}}, {'words': '2大,脑沟增宽,中线结构居中。颅骨骨髓信号未见确切异常。', 'location': {'top': 321, 'left': 21, 'width': 469, 'height': 26}}, {'words': '2682457双侧脑室前后角旁额顶叶皮质下见片状,点状长T12信号灶,FLAR高信号,余脑实质内未见异常信号,各脑室扩张,脑加深,1、脑白质脱髓鞘改变2、脑缩。3、MRA示右侧大脑后动脉1段轻度狭窄;左侧颈内动脉C38580800', 'location': {'top': 339, 'left': 7, 'width': 1847, 'height': 33}}, {'words': '68247中线结构见偏移。双侧上颌窦筛窦内见长T2信号影MRA示右侧大脑后动脉P1段轻度狭窄;左侧颈内动脉C3段、C5段局部轻微狭窄。段、C5段局部轻微狭窄。4、副鼻窦炎', 'location': {'top': 350, 'left': 30, 'width': 1281, 'height': 37}}, {'words': '双侧额顶叶皮层下、左侧小脑、双侧半明中心基底节区及侧脑室周围脑白质、脑干见点状及斑片状稍长T1稍长T2信影,在 FLAIR上呈内发血,随小质脱改变脑蒸统回扇', 'location': {'top': 364, 'left': 27, 'width': 1622, 'height': 44}}, {'words': '2697894高信号,部分中心 FLAIR低信号,增强扫描未见强化,磁敏感序列双侧小脑、左侧顶叶及右侧枕叶见结节状低信号影。双侧侧脑室及外侧裂池颅内多发缺血、腔梗灶,颅内多发陈旧性小出血灶。脑白质脱髓鞘改变。脑萎缩副鼻窦炎000', 'location': {'top': 383, 'left': 9, 'width': 1848, 'height': 36}}, {'words': '269各脑沟稍扩大,中线结构无偏移。颅骨未见明显异常', 'location': {'top': 411, 'left': 20, 'width': 427, 'height': 33}}, {'words': '已写,报告见MRI头部平扫。', 'location': {'top': 430, 'left': 1049, 'width': 185, 'height': 21}}, {'words': '63脑组织内未见异常信号。脑灰白质分界清楚,形态及结构未见异常。脑沟脑池形态及信号未见异常。脑室未见扩张变形,中线结构未见偏移', 'location': {'top': 443, 'left': 48, 'width': 988, 'height': 51}}, {'words': '。各', 'location': {'top': 467, 'left': 673, 'width': 32, 'height': 18}}, {'words': '异常', 'location': {'top': 466, 'left': 943, 'width': 32, 'height': 20}}, {'words': '见异常2、颈胸椎未见异常', 'location': {'top': 466, 'left': 1116, 'width': 190, 'height': 20}}, {'words': '8598056762500', 'location': {'top': 458, 'left': 1686, 'width': 170, 'height': 29}}, {'words': '管内及脊髓内未异常信号推组织见肿胀中及双侧眼球前后径增。各脑室、脑池形态大小见异常,中线结构无偏移。颅小轻', 'location': {'top': 472, 'left': 18, 'width': 1315, 'height': 56}}, {'words': '双侧额顶叶白质内、侧脑室旁多发结节状、片状长T1长T2信号影,AR高信号,增强后未见强化,未见确切弥散受限。脑中线结构未见', 'location': {'top': 524, 'left': 28, 'width': 1003, 'height': 34}}, {'words': '移位,脑池、脑室未见扩张,颅骨骨质信号未见确切异常。', 'location': {'top': 556, 'left': 84, 'width': 391, 'height': 21}}, {'words': '303908双侧额顶叶、基底节区及侧脑室旁见小结节状片状长T2信号影, FLAIR序列呈高信号,内见少许低信号区。各脑室脑池形态大小未见异脑内散在缺血腔梗灶脑白质轻度脱髓鞘改变。枕骨偏右侧小结节影,多系脂肪沉积改变91000', 'location': {'top': 568, 'left': 0, 'width': 1858, 'height': 86}}, {'words': 'MRA:颅内各大动脉未见明显异常。', 'location': {'top': 601, 'left': 1030, 'width': 252, 'height': 24}}, {'words': '吐白反', 'location': {'top': 634, 'left': 173, 'width': 69, 'height': 23}}, {'words': '水抑制序列高信号', 'location': {'top': 629, 'left': 516, 'width': 135, 'height': 32}}, {'words': '已写,见颈椎', 'location': {'top': 628, 'left': 1002, 'width': 154, 'height': 31}}, {'words': '3071684双侧额顶枕叶白质区及侧脑室旁多发小片状长T1长T信号影,水抑制序列呈高信号。脑室扩张,脑沟、脑池明显增宽。中线结构未见偏移。片脑萎缩,脑白质脱髓鞘改变。颅内散在缺血梗塞灶。部分空蝶鞍', 'location': {'top': 645, 'left': 4, 'width': 1478, 'height': 30}}, {'words': '853115871905921000', 'location': {'top': 651, 'left': 1684, 'width': 171, 'height': 24}}, {'words': '8040963689000', 'location': {'top': 681, 'left': 1685, 'width': 171, 'height': 23}}, {'words': '右侧基底节、丘脑、海马及胝体压部右份见斑片较长T1较长T2信号影,FLA较高信号,弥散受限,增强扫描可见少许强化,右侧枕叶见右侧枕叶新近死。右侧叶吸及右脑半900', 'location': {'top': 684, 'left': 72, 'width': 1793, 'height': 75}}, {'words': '31豆,信号,脑池锋宽,右侧小脑半球见点状类似信号。右额叶见少许弥高信号,其余序列未见显示。脑中线居中。脑室见确切扩灶。右侧额叶少许弥散高信号,部份内动脉异常信要,请结 ndows', 'location': {'top': 715, 'left': 7, 'width': 1633, 'height': 70}}, {'words': '叶见大片', 'location': {'top': 719, 'left': 234, 'width': 63, 'height': 18}}, {'words': 'T1长T2信', 'location': {'top': 719, 'left': 308, 'width': 67, 'height': 18}}, {'words': ',FLA大部分为信号,边缘为高信号,弥', 'location': {'top': 718, 'left': 401, 'width': 281, 'height': 19}}, {'words': '限,增强', 'location': {'top': 719, 'left': 729, 'width': 53, 'height': 19}}, {'words': '为影?右侧颈内', 'location': {'top': 737, 'left': 1262, 'width': 100, 'height': 19}}, {'words': '3232195右侧颈内动脉丧失流,各脑室、脑池形态大小及信号未见异常中线结构未见偏移片中颅骨信号未见异常。', 'location': {'top': 744, 'left': 5, 'width': 865, 'height': 49}}, {'words': '空信号,约右侧颈内动脉c7段区域见点状T1高信号。', 'location': {'top': 749, 'left': 265, 'width': 347, 'height': 24}}, {'words': '内未见确切异常', 'location': {'top': 761, 'left': 1061, 'width': 110, 'height': 28}}, {'words': '8491393967957480000', 'location': {'top': 772, 'left': 1685, 'width': 180, 'height': 21}}], 'log_id': 1383001627782283264, 'words_result_num': 52}\n"
     ]
    }
   ],
   "source": [
    "# encoding:utf-8\n",
    "\n",
    "import requests\n",
    "import base64\n",
    "\n",
    "'''\n",
    "通用文字识别（高精度含位置版）\n",
    "'''\n",
    "\n",
    "request_url = \"https://aip.baidubce.com/rest/2.0/ocr/v1/accurate\"\n",
    "# 二进制方式打开图片文件\n",
    "f = open('img/1.png', 'rb')\n",
    "img = base64.b64encode(f.read())\n",
    "\n",
    "params = {\"image\":img}\n",
    "access_token = '24.3cec720a282dccc82bb48626c6de737a.2592000.1621160087.282335-18441874'\n",
    "request_url = request_url + \"?access_token=\" + access_token\n",
    "headers = {'content-type': 'application/x-www-form-urlencoded'}\n",
    "response = requests.post(request_url, data=params, headers=headers)\n",
    "if response:\n",
    "    print (response.json())"
   ]
  },
  {
   "cell_type": "code",
   "execution_count": 27,
   "metadata": {},
   "outputs": [
    {
     "name": "stdout",
     "output_type": "stream",
     "text": [
      "{'result': [{'request_id': '18441874_2578811'}], 'log_id': 1618568943592857}\n"
     ]
    }
   ],
   "source": [
    "# encoding:utf-8\n",
    "\n",
    "import requests\n",
    "import base64\n",
    "\n",
    "'''\n",
    "表格文字识别(异步接口)\n",
    "'''\n",
    "\n",
    "request_url = \"https://aip.baidubce.com/rest/2.0/solution/v1/form_ocr/request\"\n",
    "# 二进制方式打开图片文件\n",
    "f = open('img/1.png', 'rb')\n",
    "img = base64.b64encode(f.read())\n",
    "\n",
    "params = {\"image\":img}\n",
    "access_token = '24.3cec720a282dccc82bb48626c6de737a.2592000.1621160087.282335-18441874'\n",
    "request_url = request_url + \"?access_token=\" + access_token\n",
    "headers = {'content-type': 'application/x-www-form-urlencoded'}\n",
    "response = requests.post(request_url, data=params, headers=headers)\n",
    "if response:\n",
    "    print (response.json())"
   ]
  },
  {
   "cell_type": "code",
   "execution_count": 37,
   "metadata": {},
   "outputs": [],
   "source": [
    "url = 'https://aip.baidubce.com/rest/2.0/solution/v1/form_ocr/get_request_result' + \"?access_token=\" + access_token\n",
    "params = {\"request_id\":\"18441874_2578811\", \"result_type\": \"excel\"}\n",
    "response = requests.post(url, data=params, headers=headers)"
   ]
  },
  {
   "cell_type": "code",
   "execution_count": 38,
   "metadata": {},
   "outputs": [
    {
     "name": "stdout",
     "output_type": "stream",
     "text": [
      "{'result': {'result_data': 'http://bj.bcebos.com/v1/ai-edgecloud/7EC5C9956DA348FDBFF685C85B72BD11.xls?authorization=bce-auth-v1%2Fd9272b4e9a38476db4470c2714e1339a%2F2021-04-16T10%3A29%3A15Z%2F172800%2F%2F690556e491f82dd85139ceaa25aa68b23d9007b9421623031d3b163100134af4', 'ret_msg': '已完成', 'request_id': '18441874_2578811', 'percent': 100, 'ret_code': 3}, 'log_id': 1618569365626529}\n"
     ]
    }
   ],
   "source": [
    "print (response.json())"
   ]
  },
  {
   "cell_type": "code",
   "execution_count": 24,
   "metadata": {},
   "outputs": [],
   "source": [
    "r = response.json()"
   ]
  },
  {
   "cell_type": "code",
   "execution_count": 26,
   "metadata": {},
   "outputs": [
    {
     "name": "stdout",
     "output_type": "stream",
     "text": [
      "213334820颅内未见异常信号影,弥散扫描未见异常各脑室及脑池形态及信号未见异常,中线结构未见偏移。颅骨信号未见异常。右侧枕部头皮软组颅内未见异常。右侧枕部头皮脂肪瘤。\n",
      "8508800\n",
      "织内见区见稍长T1、稍长T2信号肿块影,信号不均匀,较大横截面约1.3右侧椎动脉颅内段较对侧稍纤细,多系发育变异;双侧颈至系四脑室区占位,考虑肿瘤性病变可能,请结合头部MRI强检查头部MRA:内大动脉及主要分1\n",
      "内段、双侧大脑前、中动脉及左侧椎动脉、基底动脉、双侧大脑后动脉显影清晰,未见狭窄或动脉瘤征象。\n",
      "27055脑灰白质分界清楚,脑组织形态、结构及信号未见异常脑沟脑池形态及信号未见异常。脑室未见扩张变形,中线结构未见偏移。片中颅骨颅内未见异常。鼻窦炎。\n",
      "骨髓信号未见异常。双侧筛窦、上颌窦长T2信号影。\n",
      "8\n",
      "4964714495\n",
      "左侧枕叶可见不规则斑班片状稍长T1稍长T2信号影,Flai星高信,弥散未见明显受限,增强明强,可见信号失T白质纤维束\n",
      "梗塞并出血\n",
      "85960140045219000\n",
      "态、大小未见异常中线结构无偏移颅骨信号未见异常所扫\n",
      "双侧额顶叶散在斑点状长T1长T2信号影,FLAR序列呈高信号。各脑室脑池形态大小未见异常,大脑中线未见偏移,片中颅骨骨髓信号未见\n",
      "颅内散在小缺血灶\n",
      "848141352756960000\n",
      "85029883749870000\n",
      "264862双侧额顶叶见斑片状稍长T2信号。脑室、脑池、脑沟未见增宽、受压或移位。中线结构未见偏移。所示颅骨骨髓信号未异常。脑室扩左侧额题顶叶弥散受限灶,系新发脑梗塞灶。颅内发灶、缺血灶,脑白质脱髓鞘改变5328300\n",
      "2677589\n",
      "2大,脑沟增宽,中线结构居中。颅骨骨髓信号未见确切异常。\n",
      "2682457双侧脑室前后角旁额顶叶皮质下见片状,点状长T12信号灶,FLAR高信号,余脑实质内未见异常信号,各脑室扩张,脑加深,1、脑白质脱髓鞘改变2、脑缩。3、MRA示右侧大脑后动脉1段轻度狭窄;左侧颈内动脉C38580800\n",
      "68247中线结构见偏移。双侧上颌窦筛窦内见长T2信号影MRA示右侧大脑后动脉P1段轻度狭窄;左侧颈内动脉C3段、C5段局部轻微狭窄。段、C5段局部轻微狭窄。4、副鼻窦炎\n",
      "双侧额顶叶皮层下、左侧小脑、双侧半明中心基底节区及侧脑室周围脑白质、脑干见点状及斑片状稍长T1稍长T2信影,在 FLAIR上呈内发血,随小质脱改变脑蒸统回扇\n",
      "2697894高信号,部分中心 FLAIR低信号,增强扫描未见强化,磁敏感序列双侧小脑、左侧顶叶及右侧枕叶见结节状低信号影。双侧侧脑室及外侧裂池颅内多发缺血、腔梗灶,颅内多发陈旧性小出血灶。脑白质脱髓鞘改变。脑萎缩副鼻窦炎000\n",
      "269各脑沟稍扩大,中线结构无偏移。颅骨未见明显异常\n",
      "已写,报告见MRI头部平扫。\n",
      "63脑组织内未见异常信号。脑灰白质分界清楚,形态及结构未见异常。脑沟脑池形态及信号未见异常。脑室未见扩张变形,中线结构未见偏移\n",
      "。各\n",
      "异常\n",
      "见异常2、颈胸椎未见异常\n",
      "8598056762500\n",
      "管内及脊髓内未异常信号推组织见肿胀中及双侧眼球前后径增。各脑室、脑池形态大小见异常,中线结构无偏移。颅小轻\n",
      "双侧额顶叶白质内、侧脑室旁多发结节状、片状长T1长T2信号影,AR高信号,增强后未见强化,未见确切弥散受限。脑中线结构未见\n",
      "移位,脑池、脑室未见扩张,颅骨骨质信号未见确切异常。\n",
      "303908双侧额顶叶、基底节区及侧脑室旁见小结节状片状长T2信号影, FLAIR序列呈高信号,内见少许低信号区。各脑室脑池形态大小未见异脑内散在缺血腔梗灶脑白质轻度脱髓鞘改变。枕骨偏右侧小结节影,多系脂肪沉积改变91000\n",
      "MRA:颅内各大动脉未见明显异常。\n",
      "吐白反\n",
      "水抑制序列高信号\n",
      "已写,见颈椎\n",
      "3071684双侧额顶枕叶白质区及侧脑室旁多发小片状长T1长T信号影,水抑制序列呈高信号。脑室扩张,脑沟、脑池明显增宽。中线结构未见偏移。片脑萎缩,脑白质脱髓鞘改变。颅内散在缺血梗塞灶。部分空蝶鞍\n",
      "853115871905921000\n",
      "8040963689000\n",
      "右侧基底节、丘脑、海马及胝体压部右份见斑片较长T1较长T2信号影,FLA较高信号,弥散受限,增强扫描可见少许强化,右侧枕叶见右侧枕叶新近死。右侧叶吸及右脑半900\n",
      "31豆,信号,脑池锋宽,右侧小脑半球见点状类似信号。右额叶见少许弥高信号,其余序列未见显示。脑中线居中。脑室见确切扩灶。右侧额叶少许弥散高信号,部份内动脉异常信要,请结 ndows\n",
      "叶见大片\n",
      "T1长T2信\n",
      ",FLA大部分为信号,边缘为高信号,弥\n",
      "限,增强\n",
      "为影?右侧颈内\n",
      "3232195右侧颈内动脉丧失流,各脑室、脑池形态大小及信号未见异常中线结构未见偏移片中颅骨信号未见异常。\n",
      "空信号,约右侧颈内动脉c7段区域见点状T1高信号。\n",
      "内未见确切异常\n",
      "8491393967957480000\n"
     ]
    }
   ],
   "source": [
    "for i in r['words_result']:\n",
    "    print(i['words'])"
   ]
  },
  {
   "cell_type": "code",
   "execution_count": 22,
   "metadata": {},
   "outputs": [
    {
     "name": "stdout",
     "output_type": "stream",
     "text": [
      "{'words_result': [{'words': '受压或移位。中线结构'}, {'words': '脑内少许缺血灶。鼻窦炎'}, {'words': '片妆'}, {'words': '3039087'}, {'words': '已写,见至'}, {'words': '地'}], 'log_id': 1383001276333162496, 'words_result_num': 6}\n"
     ]
    }
   ],
   "source": [
    "# encoding:utf-8\n",
    "\n",
    "import requests\n",
    "import base64\n",
    "\n",
    "'''\n",
    "通用文字识别\n",
    "'''\n",
    "\n",
    "request_url = \"https://aip.baidubce.com/rest/2.0/ocr/v1/general_basic\"\n",
    "# 二进制方式打开图片文件\n",
    "f = open('img/1.png', 'rb')\n",
    "img = base64.b64encode(f.read())\n",
    "\n",
    "params = {\"image\":img}\n",
    "access_token = '[调用鉴权接口获取的token]'\n",
    "request_url = request_url + \"?access_token=\" + '\n",
    "headers = {'content-type': 'application/x-www-form-urlencoded'}\n",
    "response = requests.post(request_url, data=params, headers=headers)\n",
    "if response:\n",
    "    print (response.json())"
   ]
  },
  {
   "cell_type": "code",
   "execution_count": 18,
   "metadata": {},
   "outputs": [],
   "source": [
    "\"\"\" 调用通用文字识别, 图片参数为本地图片 \"\"\"\n",
    "message = client.basicGeneral(image)"
   ]
  },
  {
   "cell_type": "code",
   "execution_count": 19,
   "metadata": {},
   "outputs": [
    {
     "data": {
      "text/plain": [
       "dict"
      ]
     },
     "execution_count": 19,
     "metadata": {},
     "output_type": "execute_result"
    }
   ],
   "source": [
    "type(message)"
   ]
  },
  {
   "cell_type": "code",
   "execution_count": 20,
   "metadata": {},
   "outputs": [
    {
     "data": {
      "text/plain": [
       "{'words_result': [{'words': '受压或移位。中线结构'},\n",
       "  {'words': '脑内少许缺血灶。鼻窦炎'},\n",
       "  {'words': '片妆'},\n",
       "  {'words': '3039087'},\n",
       "  {'words': '已写,见至'},\n",
       "  {'words': '地'}],\n",
       " 'log_id': 1382998966114713600,\n",
       " 'words_result_num': 6}"
      ]
     },
     "execution_count": 20,
     "metadata": {},
     "output_type": "execute_result"
    }
   ],
   "source": [
    "message"
   ]
  },
  {
   "cell_type": "code",
   "execution_count": 10,
   "metadata": {},
   "outputs": [
    {
     "data": {
      "text/plain": [
       "['入院记录',\n",
       " '医',\n",
       " '科别:儿三科姓名:张润楷一性别男年龄:4岁床号:22住院号,000',\n",
       " '姓名:张润楷',\n",
       " '出生地:邯郸市',\n",
       " '性别:男',\n",
       " '现住址:河北省邯郸市永年区南沿村',\n",
       " '年龄:4岁',\n",
       " '入院时间:2019-10-2308:30',\n",
       " '民族:汉族',\n",
       " '记录时间:2019-102310:36',\n",
       " '病史叙述者:焦甜甜',\n",
       " '家长姓名父亲:张栋',\n",
       " '与患者关系:母亲',\n",
       " '母亲:焦甜甜',\n",
       " '主诉:发热10天,咳嗽5天。',\n",
       " '现病史:患儿于入院前10天无明显诱因出现发热,热型不规则,体温最高39.4℃伴有咳嗷,',\n",
       " '呈阵发性非痉挛性,有痰不易咳出,无喘息。无呕吐,无腹泻,无皮疹,无盗汗,否认结核接触及',\n",
       " '异物呛咳史。于当地医院给予静点“头孢哌酮舒巴坦,喜炎平”(具体剂量不详)治疗3天,患儿',\n",
       " '仍发热,咳嗽,现为求进一步诊治来我院,门诊以“大叶性肺炎”收入院。',\n",
       " '患儿自发病以来,精神反应欠佳,食欲、睡眠欠佳,大小便正常。',\n",
       " '个人史:出生及发育史:第1胎,第1产,妊娠40周产,顺产邯郸市生产地点医院消毒,母亲',\n",
       " '妊娠时的健康情况健康,初生体重2.6kg,新生儿期状况健康,前囟门未闭一,已闭16月',\n",
       " '2月开始抬头,6月坐,8月爬,13月走路,6月开始出牙,现有牙数20颗,换牙情况未换牙,说',\n",
       " '话与智力情况正常,不良习惯无',\n",
       " '喂养史:乳儿期母乳喂养√',\n",
       " '人工喂养一,混合喂养一,辅食添加开始月龄5月,维生素C9月,水果汁6月,蛋黄7月,粥',\n",
       " '7月,菜泥9月。幼儿期喂养方法及种类幼儿饮食,现在喂养幼儿饮食,食欲欠隹,择食无。',\n",
       " '预防接种史:(日期、结果、次数)卡介苗、乙肝疫苗、麻疹、脊髓灰质炎疫苗、百白破疫苗,',\n",
       " '乙脑疫苗及其他:疫苗均按计划接种,具体情况不详。',\n",
       " '既往史:过去健康状况健康,否认外伤、手术及输血史。过去曾患过哪些急性传染病(何',\n",
       " '时、经过、并发症)麻疹、猩红热、水痘、肝炎、结核病及其他:无,过去曾患过哪些其他疾病',\n",
       " '(何时、经过、并发症)佝偻病、肠寄生虫病、出血性素质、痉孪性素质及其他:无',\n",
       " '过敏史:无',\n",
       " '家族史:父亲年龄28岁,文化程度高中,职业个体,健康状况健康。母亲年龄29岁,文化程',\n",
       " '度大专,职业个体,健康状况健康,母亲妊娠次数及结局孕2产2。',\n",
       " '兄弟姐妺健康状况:其妹4月体健。',\n",
       " '家族中其他成员健康状况:健康',\n",
       " '家族中的遗传性及传染性疾病:无',\n",
       " '家庭经济情况及生活条件:良好',\n",
       " '我提供以上信息真实可信,病史陈述者签字',\n",
       " '1页']"
      ]
     },
     "execution_count": 10,
     "metadata": {},
     "output_type": "execute_result"
    }
   ],
   "source": [
    "[i['words'] for i in message['words_result']]"
   ]
  },
  {
   "cell_type": "markdown",
   "metadata": {},
   "source": [
    "### 通用文字识别（含位置信息版）\n",
    "\n",
    "用户向服务请求识别某张图中的所有文字，并返回文字在图中的位置信息。"
   ]
  },
  {
   "cell_type": "code",
   "execution_count": 15,
   "metadata": {},
   "outputs": [],
   "source": [
    "\"\"\" 调用通用文字识别（含位置信息版）, 图片参数为本地图片 \"\"\"\n",
    "message = client.general(image);"
   ]
  },
  {
   "cell_type": "code",
   "execution_count": 16,
   "metadata": {},
   "outputs": [
    {
     "data": {
      "text/plain": [
       "{'words_result': [{'words': '见异常。各脑室及脑池形态及信号未见异常,中线结构未见偏移',\n",
       "   'location': {'top': 0, 'left': 341, 'width': 423, 'height': 16}},\n",
       "  {'words': '未见异常。右侧枕部头皮软组',\n",
       "   'location': {'top': 0, 'left': 836, 'width': 198, 'height': 16}},\n",
       "  {'words': '内见一3×1.3cm丘状短T1信',\n",
       "   'location': {'top': 17, 'left': 100, 'width': 186, 'height': 18}},\n",
       "  {'words': '压脂T2呈低信',\n",
       "   'location': {'top': 17, 'left': 329, 'width': 93, 'height': 17}},\n",
       "  {'words': '颅内未见异常。右侧枕部头皮脂肪瘤',\n",
       "   'location': {'top': 7, 'left': 1046, 'width': 243, 'height': 18}},\n",
       "  {'words': '85',\n",
       "   'location': {'top': 11, 'left': 1700, 'width': 19, 'height': 13}},\n",
       "  {'words': '226230统未见扩张积水。中线结构未见偏',\n",
       "   'location': {'top': 53, 'left': 31, 'width': 280, 'height': 17}},\n",
       "  {'words': 'MRA:右侧椎动脉颅内段较对侧稍纤细,多系发育变异;双侧颈内动脉颅四脑室区占位,考虑肿瘤性病变可能,请结合头部MR增强检查。头部RA:颅内大动脉及主要分8522443',\n",
       "   'location': {'top': 41, 'left': 563, 'width': 1197, 'height': 33}},\n",
       "  {'words': '动脉及左侧椎动脉、基底动脉',\n",
       "   'location': {'top': 71, 'left': 233, 'width': 200, 'height': 18}},\n",
       "  {'words': '大脑后动脉显影清晰,未见狭窄或动脉瘤征',\n",
       "   'location': {'top': 71, 'left': 481, 'width': 282, 'height': 19}},\n",
       "  {'words': '脑动脉未见异常',\n",
       "   'location': {'top': 61, 'left': 1061, 'width': 109, 'height': 18}},\n",
       "  {'words': '灰白质分界清楚,脑组织形态、结构及信号未',\n",
       "   'location': {'top': 88, 'left': 130, 'width': 305, 'height': 18}},\n",
       "  {'words': '脑沟脑池形态及信号',\n",
       "   'location': {'top': 88, 'left': 492, 'width': 137, 'height': 18}},\n",
       "  {'words': '450000',\n",
       "   'location': {'top': 102, 'left': 1796, 'width': 50, 'height': 12}},\n",
       "  {'words': '斑',\n",
       "   'location': {'top': 115, 'left': 397, 'width': 25, 'height': 29}},\n",
       "  {'words': '及邻近的海马旁回见长',\n",
       "   'location': {'top': 142, 'left': 83, 'width': 154, 'height': 18}},\n",
       "  {'words': '信号影,FAR呈低',\n",
       "   'location': {'top': 142, 'left': 295, 'width': 134, 'height': 18}},\n",
       "  {'words': '未见弥散受限。各脑室稍扩大,部分脑池、脑沟增宽,中线结构未见偏移。左侧额部头',\n",
       "   'location': {'top': 142, 'left': 471, 'width': 574, 'height': 18}},\n",
       "  {'words': '861912428160484000',\n",
       "   'location': {'top': 146, 'left': 1700, 'width': 145, 'height': 12}},\n",
       "  {'words': '序列为低',\n",
       "   'location': {'top': 161, 'left': 282, 'width': 62, 'height': 16}},\n",
       "  {'words': '侧中耳乳突内见长T2信号影',\n",
       "   'location': {'top': 161, 'left': 400, 'width': 185, 'height': 19}},\n",
       "  {'words': '脑萎缩;白质脱髓鞘改变。左侧额部头皮脂肪瘤?左侧中耳乳突',\n",
       "   'location': {'top': 151, 'left': 1060, 'width': 425, 'height': 18}},\n",
       "  {'words': '左侧枕叶可见不规则斑片状稍长T1稍长T2信号影',\n",
       "   'location': {'top': 178, 'left': 83, 'width': 322, 'height': 18}},\n",
       "  {'words': '高信号,弥散未见明显受限,增强明显强化,SWI可见信号缺失区',\n",
       "   'location': {'top': 178, 'left': 471, 'width': 432, 'height': 18}},\n",
       "  {'words': '质纤维束',\n",
       "   'location': {'top': 178, 'left': 969, 'width': 64, 'height': 18}},\n",
       "  {'words': '见后循环MT',\n",
       "   'location': {'top': 197, 'left': 156, 'width': 73, 'height': 17}},\n",
       "  {'words': 'MRS未见明显异常。其余脑实质未见明显异常。颅内中线结构居中,脑室及脑池未见扩大及缩小。各脑室、脑池形左侧枕叶不规则斑',\n",
       "   'location': {'top': 197, 'left': 295, 'width': 875, 'height': 17}},\n",
       "  {'words': '信号,考虑小片皮层梗塞并出血可能,请结合临床',\n",
       "   'location': {'top': 197, 'left': 1210, 'width': 334, 'height': 17}},\n",
       "  {'words': '未见异常。中线结构无偏移。颅骨信号未见异常。所扫',\n",
       "   'location': {'top': 214, 'left': 144, 'width': 359, 'height': 20}},\n",
       "  {'words': '双侧额顶叶散在斑点状长T1长T2信号影, FLAIR序列呈高信号。各脑室脑池形态大小未见异常,大脑中线未见偏移,片中颅骨骨髓信号未见',\n",
       "   'location': {'top': 232, 'left': 115, 'width': 917, 'height': 18}},\n",
       "  {'words': '24',\n",
       "   'location': {'top': 245, 'left': 18, 'width': 26, 'height': 22}},\n",
       "  {'words': '颅内散在小缺血',\n",
       "   'location': {'top': 241, 'left': 1046, 'width': 109, 'height': 18}},\n",
       "  {'words': '8481413527569960',\n",
       "   'location': {'top': 245, 'left': 1700, 'width': 131, 'height': 13}},\n",
       "  {'words': 'MRI颈椎',\n",
       "   'location': {'top': 270, 'left': 176, 'width': 55, 'height': 15}},\n",
       "  {'words': '850298837498070000',\n",
       "   'location': {'top': 267, 'left': 1699, 'width': 165, 'height': 20}},\n",
       "  {'words': '2648623双侧额顶叶见斑片状稍长T2信号。脑室、脑池',\n",
       "   'location': {'top': 285, 'left': 22, 'width': 399, 'height': 19}},\n",
       "  {'words': '未见增宽、受压或移位。中线结构未见偏移。所示颅骨骨髓信号未见异常',\n",
       "   'location': {'top': 285, 'left': 461, 'width': 483, 'height': 19}},\n",
       "  {'words': '脑内少许缺血灶。鼻窦炎。',\n",
       "   'location': {'top': 285, 'left': 1046, 'width': 183, 'height': 19}},\n",
       "  {'words': '双侧额顶岛叶',\n",
       "   'location': {'top': 305, 'left': 310, 'width': 94, 'height': 18}},\n",
       "  {'words': '及基底节区见片状、斑片状长T1、长T2',\n",
       "   'location': {'top': 305, 'left': 490, 'width': 262, 'height': 18}},\n",
       "  {'words': ' FLAIR呈高信号。双侧侧脑室扩',\n",
       "   'location': {'top': 305, 'left': 806, 'width': 211, 'height': 18}},\n",
       "  {'words': '侧额颞顶叶弥散受限灶,系新发脑梗塞灶。颅内多发腔梗灶、缺血灶,脑白质脱髓鞘改变',\n",
       "   'location': {'top': 305, 'left': 1060, 'width': 590, 'height': 18}},\n",
       "  {'words': '脑沟增宽,中线结构居中。颅骨骨髓信号',\n",
       "   'location': {'top': 322, 'left': 114, 'width': 273, 'height': 18}},\n",
       "  {'words': '双侧脑室前后角旁、额顶叶皮质下见斑片状、点状长T1、T',\n",
       "   'location': {'top': 341, 'left': 115, 'width': 389, 'height': 17}},\n",
       "  {'words': '682457',\n",
       "   'location': {'top': 353, 'left': 32, 'width': 50, 'height': 12}},\n",
       "  {'words': '余内动沟加深,、、',\n",
       "   'location': {'top': 337, 'left': 679, 'width': 1187, 'height': 41}},\n",
       "  {'words': '双侧额顶叶皮',\n",
       "   'location': {'top': 376, 'left': 116, 'width': 93, 'height': 18}},\n",
       "  {'words': '底节区及侧脑室周围脑白质、脑干见点状及斑片状稍长T1稍长T2信号影,在 FLATR上呈',\n",
       "   'location': {'top': 376, 'left': 460, 'width': 571, 'height': 18}},\n",
       "  {'words': '48042480000',\n",
       "   'location': {'top': 398, 'left': 1764, 'width': 91, 'height': 12}},\n",
       "  {'words': '各脑沟稍扩大,中线结构无偏移。颅骨未见明显异常',\n",
       "   'location': {'top': 412, 'left': 98, 'width': 350, 'height': 18}},\n",
       "  {'words': '已写,报告见MR头部平扫。',\n",
       "   'location': {'top': 429, 'left': 1042, 'width': 199, 'height': 19}},\n",
       "  {'words': '脑组织内未见异常信号。脑灰白质分界清楚,形态及结构未见异常。脑沟脑池形态及信号未见异常。脑室未见扩张变形,中线结构未见偏移',\n",
       "   'location': {'top': 449, 'left': 121, 'width': 913, 'height': 16}},\n",
       "  {'words': '2795863。片中颅内大动脉未见异常',\n",
       "   'location': {'top': 466, 'left': 22, 'width': 246, 'height': 18}},\n",
       "  {'words': '颅骨骨髓信号未见异常',\n",
       "   'location': {'top': 466, 'left': 308, 'width': 154, 'height': 18}},\n",
       "  {'words': '片中脊柱序列线未',\n",
       "   'location': {'top': 466, 'left': 506, 'width': 123, 'height': 18}},\n",
       "  {'words': '颈胸椎椎体、椎间盘形态及信号未见异常',\n",
       "   'location': {'top': 466, 'left': 700, 'width': 273, 'height': 18}},\n",
       "  {'words': '椎1、颅内未见异常。2、颈胸椎未见异常',\n",
       "   'location': {'top': 466, 'left': 1016, 'width': 290, 'height': 18}},\n",
       "  {'words': '椎旁软组织未见肿胀',\n",
       "   'location': {'top': 485, 'left': 279, 'width': 138, 'height': 17}},\n",
       "  {'words': '片中扫及双侧眼球前后径增大',\n",
       "   'location': {'top': 483, 'left': 460, 'width': 200, 'height': 21}},\n",
       "  {'words': '双侧额顶叶白质内、侧脑室旁多发结节状、斑片状长T1长T2信号影,F',\n",
       "   'location': {'top': 539, 'left': 100, 'width': 462, 'height': 16}},\n",
       "  {'words': '强化,未见确切弥散受限。脑中线结构未',\n",
       "   'location': {'top': 539, 'left': 741, 'width': 274, 'height': 16}},\n",
       "  {'words': '扩张,颅骨骨质信',\n",
       "   'location': {'top': 556, 'left': 233, 'width': 124, 'height': 18}},\n",
       "  {'words': '确切异常',\n",
       "   'location': {'top': 556, 'left': 398, 'width': 64, 'height': 18}},\n",
       "  {'words': '颅内脑白质多发异常信',\n",
       "   'location': {'top': 547, 'left': 1046, 'width': 153, 'height': 18}},\n",
       "  {'words': '性脱髓鞘病变?缺血灶或其它?请结合临床',\n",
       "   'location': {'top': 547, 'left': 1243, 'width': 286, 'height': 18}},\n",
       "  {'words': '双侧额顶叶、基底节区及侧脑室旁见小结节状、片状长T2信号影,FL',\n",
       "   'location': {'top': 574, 'left': 116, 'width': 458, 'height': 18}},\n",
       "  {'words': '07692常,中线结构无偏移。枕骨偏右侧',\n",
       "   'location': {'top': 592, 'left': 29, 'width': 284, 'height': 25}},\n",
       "  {'words': '约1.8×0.8cm结节状短T1、短T2信',\n",
       "   'location': {'top': 593, 'left': 339, 'width': 234, 'height': 16}},\n",
       "  {'words': '明显强化。MRA:双侧颈内动脉及椎动脉颅内段、基底脑内散在缺血腔梗',\n",
       "   'location': {'top': 582, 'left': 649, 'width': 521, 'height': 28}},\n",
       "  {'words': '脑白质轻度脱髓鞘改变。枕骨偏右侧小结节影,多系脂肪沉积改变',\n",
       "   'location': {'top': 583, 'left': 1196, 'width': 438, 'height': 18}},\n",
       "  {'words': '后动脉走行未见异常,管腔未见明显狭窄或局限性',\n",
       "   'location': {'top': 610, 'left': 250, 'width': 333, 'height': 19}},\n",
       "  {'words': '颅内各大动脉未见明显',\n",
       "   'location': {'top': 601, 'left': 1091, 'width': 148, 'height': 18}},\n",
       "  {'words': '4799914930906100',\n",
       "   'location': {'top': 595, 'left': 1708, 'width': 130, 'height': 14}},\n",
       "  {'words': '3039087',\n",
       "   'location': {'top': 626, 'left': 0, 'width': 87, 'height': 20}},\n",
       "  {'words': '顶枕叶白质区及侧脑室旁多',\n",
       "   'location': {'top': 646, 'left': 152, 'width': 184, 'height': 18}},\n",
       "  {'words': '中颅骨骨髓信号未见异常。垂体变扁,垂',\n",
       "   'location': {'top': 664, 'left': 84, 'width': 273, 'height': 18}},\n",
       "  {'words': '长T2信号影,水抑制序列呈高信号。脑室扩张,脑沟、脑池明显增宽。中线结构未见偏移。片脑萎缩,脑白质脱髓鞘改变。颅内散在缺血梗塞灶。部分空蝶鞍',\n",
       "   'location': {'top': 638, 'left': 422, 'width': 1049, 'height': 42}},\n",
       "  {'words': '脊液信号影充填',\n",
       "   'location': {'top': 664, 'left': 413, 'width': 110, 'height': 18}},\n",
       "  {'words': '16000',\n",
       "   'location': {'top': 642, 'left': 1594, 'width': 271, 'height': 38}},\n",
       "  {'words': '3153589颅内未见异常信号影,各脑室、脑池形态大小未见异常,中线结构无偏移。颅骨信号未见明显异常。',\n",
       "   'location': {'top': 680, 'left': 0, 'width': 773, 'height': 21}},\n",
       "  {'words': '限',\n",
       "   'location': {'top': 689, 'left': 760, 'width': 24, 'height': 29}},\n",
       "  {'words': '脑实质未见异常。空泡蝶鞍改变',\n",
       "   'location': {'top': 680, 'left': 1042, 'width': 218, 'height': 21}},\n",
       "  {'words': '50409333660000',\n",
       "   'location': {'top': 680, 'left': 1707, 'width': 156, 'height': 21}},\n",
       "  {'words': '许强化,右侧枕叶见',\n",
       "   'location': {'top': 700, 'left': 900, 'width': 139, 'height': 18}},\n",
       "  {'words': '点状类似信号。右侧叶见大片长T1长T2信号影, FLAIR大部为信号,边缘为高信号,弥散不受限,增强扫描',\n",
       "   'location': {'top': 709, 'left': 84, 'width': 736, 'height': 28}},\n",
       "  {'words': '侧枕叶新近梗死。右侧颞叶及右侧小脑半球软化',\n",
       "   'location': {'top': 718, 'left': 1361, 'width': 319, 'height': 18}},\n",
       "  {'words': '侧小脑半球见点状类似',\n",
       "   'location': {'top': 736, 'left': 308, 'width': 155, 'height': 17}},\n",
       "  {'words': '余序列未见显示。脑中线居中。脑室未见确切扩灶。右',\n",
       "   'location': {'top': 736, 'left': 713, 'width': 382, 'height': 17}},\n",
       "  {'words': '颈内动脉异常信号,请结合CTA',\n",
       "   'location': {'top': 736, 'left': 1330, 'width': 209, 'height': 22}},\n",
       "  {'words': '中线结构未见偏移。片中颅骨信号未见异常。',\n",
       "   'location': {'top': 771, 'left': 573, 'width': 293, 'height': 21}},\n",
       "  {'words': '颅内未见确切异常。',\n",
       "   'location': {'top': 771, 'left': 1045, 'width': 139, 'height': 21}}],\n",
       " 'log_id': 1382996140365971456,\n",
       " 'words_result_num': 91}"
      ]
     },
     "execution_count": 16,
     "metadata": {},
     "output_type": "execute_result"
    }
   ],
   "source": [
    "message"
   ]
  },
  {
   "cell_type": "markdown",
   "metadata": {},
   "source": [
    "### 自定义模板文字识别"
   ]
  },
  {
   "cell_type": "code",
   "execution_count": 3,
   "metadata": {},
   "outputs": [
    {
     "name": "stdout",
     "output_type": "stream",
     "text": [
      "{'data': {'ret': [{'probability': {'average': 0.999384, 'min': 0.995589, 'variance': 2e-06}, 'location': {'height': 43, 'left': 153, 'top': 451, 'width': 236}, 'word_name': 'date', 'word': '04/15/2020'}, {'probability': {'average': 1.0, 'min': 1.0, 'variance': 0.0}, 'location': {'height': 47, 'left': 477, 'top': 593, 'width': 193}, 'word_name': 'indays', 'word': 'two days'}, {'probability': {'average': 1.0, 'min': 1.0, 'variance': 0.0}, 'location': {'height': 42, 'left': 97, 'top': 85, 'width': 300}, 'word_name': 'name', 'word': 'Chan Tai Man'}, {'probability': {'average': 1.0, 'min': 1.0, 'variance': 0.0}, 'location': {'height': 50, 'left': 70, 'top': 225, 'width': 577}, 'word_name': 'Hname', 'word': 'Tung Wah Group Hospital'}], 'templateSign': '9d2272d87f3e55fc22bab17bbf8869e3', 'templateName': 't', 'scores': 1.0, 'isStructured': True, 'logId': '158788123790565', 'templateMatchDegree': 0.9994736842591243, 'clockwiseAngle': 0.0}, 'error_code': 0, 'error_msg': '', 'log_id': '158788123790565'}\n"
     ]
    }
   ],
   "source": [
    "# 读取图片\n",
    "def get_file_content(filePath):\n",
    "    with open(filePath, 'rb') as fp:\n",
    "        return fp.read()\n",
    "image = get_file_content('img/t.png')\n",
    "\n",
    "# 额外的参数\n",
    "options = {}\n",
    "# key固定为templateSign 后面给页面提供的 模板ID（templateSign） 的值即可\n",
    "options[\"templateSign\"] = \"9d2272d87f3e55fc22bab17bbf8869e3\"\n",
    "# 调用自定义模板文字识别\n",
    "result = client.custom(image, options);\n",
    "print(result)"
   ]
  },
  {
   "cell_type": "code",
   "execution_count": null,
   "metadata": {},
   "outputs": [],
   "source": [
    "{\n",
    "\t'data': {\n",
    "\t\t'ret': [{\n",
    "\t\t\t'probability': {\n",
    "\t\t\t\t'average': 0.999384,\n",
    "\t\t\t\t'min': 0.995589,\n",
    "\t\t\t\t'variance': 2e-06\n",
    "\t\t\t},\n",
    "\t\t\t'location': {\n",
    "\t\t\t\t'height': 43,\n",
    "\t\t\t\t'left': 153,\n",
    "\t\t\t\t'top': 451,\n",
    "\t\t\t\t'width': 236\n",
    "\t\t\t},\n",
    "\t\t\t'word_name': 'date',\n",
    "\t\t\t'word': '04/15/2020'\n",
    "\t\t}, {\n",
    "\t\t\t'probability': {\n",
    "\t\t\t\t'average': 1.0,\n",
    "\t\t\t\t'min': 1.0,\n",
    "\t\t\t\t'variance': 0.0\n",
    "\t\t\t},\n",
    "\t\t\t'location': {\n",
    "\t\t\t\t'height': 47,\n",
    "\t\t\t\t'left': 477,\n",
    "\t\t\t\t'top': 593,\n",
    "\t\t\t\t'width': 193\n",
    "\t\t\t},\n",
    "\t\t\t'word_name': 'indays',\n",
    "\t\t\t'word': 'two days'\n",
    "\t\t}, {\n",
    "\t\t\t'probability': {\n",
    "\t\t\t\t'average': 1.0,\n",
    "\t\t\t\t'min': 1.0,\n",
    "\t\t\t\t'variance': 0.0\n",
    "\t\t\t},\n",
    "\t\t\t'location': {\n",
    "\t\t\t\t'height': 42,\n",
    "\t\t\t\t'left': 97,\n",
    "\t\t\t\t'top': 85,\n",
    "\t\t\t\t'width': 300\n",
    "\t\t\t},\n",
    "\t\t\t'word_name': 'name',\n",
    "\t\t\t'word': 'Chan Tai Man'\n",
    "\t\t}, {\n",
    "\t\t\t'probability': {\n",
    "\t\t\t\t'average': 1.0,\n",
    "\t\t\t\t'min': 1.0,\n",
    "\t\t\t\t'variance': 0.0\n",
    "\t\t\t},\n",
    "\t\t\t'location': {\n",
    "\t\t\t\t'height': 50,\n",
    "\t\t\t\t'left': 70,\n",
    "\t\t\t\t'top': 225,\n",
    "\t\t\t\t'width': 577\n",
    "\t\t\t},\n",
    "\t\t\t'word_name': 'Hname',\n",
    "\t\t\t'word': 'Tung Wah Group Hospital'\n",
    "\t\t}],\n",
    "\t\t'templateSign': '9d2272d87f3e55fc22bab17bbf8869e3',\n",
    "\t\t'templateName': 't',\n",
    "\t\t'scores': 1.0,\n",
    "\t\t'isStructured': True,\n",
    "\t\t'logId': '158788123790565',\n",
    "\t\t'templateMatchDegree': 0.9994736842591243,\n",
    "\t\t'clockwiseAngle': 0.0\n",
    "\t},\n",
    "\t'error_code': 0,\n",
    "\t'error_msg': '',\n",
    "\t'log_id': '158788123790565'\n",
    "}"
   ]
  }
 ],
 "metadata": {
  "kernelspec": {
   "display_name": "Python 3",
   "language": "python",
   "name": "python3"
  },
  "language_info": {
   "codemirror_mode": {
    "name": "ipython",
    "version": 3
   },
   "file_extension": ".py",
   "mimetype": "text/x-python",
   "name": "python",
   "nbconvert_exporter": "python",
   "pygments_lexer": "ipython3",
   "version": "3.7.4"
  },
  "toc": {
   "base_numbering": 1,
   "nav_menu": {},
   "number_sections": true,
   "sideBar": true,
   "skip_h1_title": false,
   "title_cell": "Table of Contents",
   "title_sidebar": "Contents",
   "toc_cell": false,
   "toc_position": {},
   "toc_section_display": true,
   "toc_window_display": true
  },
  "varInspector": {
   "cols": {
    "lenName": 16,
    "lenType": 16,
    "lenVar": 40
   },
   "kernels_config": {
    "python": {
     "delete_cmd_postfix": "",
     "delete_cmd_prefix": "del ",
     "library": "var_list.py",
     "varRefreshCmd": "print(var_dic_list())"
    },
    "r": {
     "delete_cmd_postfix": ") ",
     "delete_cmd_prefix": "rm(",
     "library": "var_list.r",
     "varRefreshCmd": "cat(var_dic_list()) "
    }
   },
   "types_to_exclude": [
    "module",
    "function",
    "builtin_function_or_method",
    "instance",
    "_Feature"
   ],
   "window_display": false
  }
 },
 "nbformat": 4,
 "nbformat_minor": 2
}

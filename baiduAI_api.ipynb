{
 "cells": [
  {
   "cell_type": "markdown",
   "metadata": {},
   "source": [
    "# 百度AI接入指南\n",
    "接入步骤说明https://ai.baidu.com/ai-doc/REFERENCE/Ck3dwjgn3\n",
    "\n",
    "百度AI开放平台首页https://ai.baidu.com/?track=cp:aipinzhuan|pf:pc|pp:AIpingtai|pu:title|ci:|kw:10005792\n",
    "\n",
    "百度AI应用管理中心https://console.bce.baidu.com/ai/?_=1581405570100&fromai=1#/ai/ocr/overview/index\n"
   ]
  },
  {
   "cell_type": "code",
   "execution_count": 2,
   "metadata": {},
   "outputs": [
    {
     "name": "stdout",
     "output_type": "stream",
     "text": [
      "baidu-aip==2.2.18.0\r\n"
     ]
    }
   ],
   "source": [
    "# !pip install baidu-aip\n",
    "!pip freeze | grep baidu"
   ]
  },
  {
   "cell_type": "markdown",
   "metadata": {},
   "source": [
    "# python调用baidu-aip识别图片中的文字"
   ]
  },
  {
   "cell_type": "markdown",
   "metadata": {},
   "source": [
    "官网示例https://ai.baidu.com/ai-doc/OCR/Dk3h7yf8m"
   ]
  },
  {
   "cell_type": "markdown",
   "metadata": {},
   "source": [
    "## 新建AipOcr"
   ]
  },
  {
   "cell_type": "code",
   "execution_count": 1,
   "metadata": {},
   "outputs": [],
   "source": [
    "from aip import AipOcr\n",
    "\n",
    "\"\"\" 你的 APPID AK SK \"\"\"\n",
    "APP_ID = '18441874'\n",
    "API_KEY = 'x3v8yAvk1ZhSYBfSlu93B224'\n",
    "SECRET_KEY = 'Z5l8W0SahiR9j5UM7GKkTnKsKaZENKFF'\n",
    "\n",
    "client = AipOcr(APP_ID, API_KEY, SECRET_KEY)"
   ]
  },
  {
   "cell_type": "markdown",
   "metadata": {},
   "source": [
    "## 接口说明\n",
    "https://ai.baidu.com/ai-doc/OCR/3k3h7yeqa"
   ]
  },
  {
   "cell_type": "markdown",
   "metadata": {},
   "source": [
    "### 通用文字识别\n",
    "\n",
    "用户向服务请求识别某张图中的所有文字"
   ]
  },
  {
   "cell_type": "code",
   "execution_count": 4,
   "metadata": {},
   "outputs": [],
   "source": [
    "import os"
   ]
  },
  {
   "cell_type": "code",
   "execution_count": 6,
   "metadata": {},
   "outputs": [],
   "source": [
    "\"\"\" 读取图片 \"\"\"\n",
    "def get_file_content(filePath):\n",
    "    with open(filePath, 'rb') as fp:\n",
    "        return fp.read()\n",
    "# 入院记录\n",
    "img_dir = '/Users/luoyonggui/PycharmProjects/iansprojs/proj8_既往症模型/data_origin/img_admissions_records/'\n",
    "image = get_file_content(os.path.join(img_dir, '12.jpg'))"
   ]
  },
  {
   "cell_type": "code",
   "execution_count": 7,
   "metadata": {},
   "outputs": [],
   "source": [
    "\"\"\" 调用通用文字识别, 图片参数为本地图片 \"\"\"\n",
    "message = client.basicGeneral(image)"
   ]
  },
  {
   "cell_type": "code",
   "execution_count": 8,
   "metadata": {},
   "outputs": [
    {
     "data": {
      "text/plain": [
       "dict"
      ]
     },
     "execution_count": 8,
     "metadata": {},
     "output_type": "execute_result"
    }
   ],
   "source": [
    "type(message)"
   ]
  },
  {
   "cell_type": "code",
   "execution_count": 9,
   "metadata": {},
   "outputs": [
    {
     "data": {
      "text/plain": [
       "{'log_id': 3464740351108522731,\n",
       " 'words_result_num': 42,\n",
       " 'words_result': [{'words': '入院记录'},\n",
       "  {'words': '医'},\n",
       "  {'words': '科别:儿三科姓名:张润楷一性别男年龄:4岁床号:22住院号,000'},\n",
       "  {'words': '姓名:张润楷'},\n",
       "  {'words': '出生地:邯郸市'},\n",
       "  {'words': '性别:男'},\n",
       "  {'words': '现住址:河北省邯郸市永年区南沿村'},\n",
       "  {'words': '年龄:4岁'},\n",
       "  {'words': '入院时间:2019-10-2308:30'},\n",
       "  {'words': '民族:汉族'},\n",
       "  {'words': '记录时间:2019-102310:36'},\n",
       "  {'words': '病史叙述者:焦甜甜'},\n",
       "  {'words': '家长姓名父亲:张栋'},\n",
       "  {'words': '与患者关系:母亲'},\n",
       "  {'words': '母亲:焦甜甜'},\n",
       "  {'words': '主诉:发热10天,咳嗽5天。'},\n",
       "  {'words': '现病史:患儿于入院前10天无明显诱因出现发热,热型不规则,体温最高39.4℃伴有咳嗷,'},\n",
       "  {'words': '呈阵发性非痉挛性,有痰不易咳出,无喘息。无呕吐,无腹泻,无皮疹,无盗汗,否认结核接触及'},\n",
       "  {'words': '异物呛咳史。于当地医院给予静点“头孢哌酮舒巴坦,喜炎平”(具体剂量不详)治疗3天,患儿'},\n",
       "  {'words': '仍发热,咳嗽,现为求进一步诊治来我院,门诊以“大叶性肺炎”收入院。'},\n",
       "  {'words': '患儿自发病以来,精神反应欠佳,食欲、睡眠欠佳,大小便正常。'},\n",
       "  {'words': '个人史:出生及发育史:第1胎,第1产,妊娠40周产,顺产邯郸市生产地点医院消毒,母亲'},\n",
       "  {'words': '妊娠时的健康情况健康,初生体重2.6kg,新生儿期状况健康,前囟门未闭一,已闭16月'},\n",
       "  {'words': '2月开始抬头,6月坐,8月爬,13月走路,6月开始出牙,现有牙数20颗,换牙情况未换牙,说'},\n",
       "  {'words': '话与智力情况正常,不良习惯无'},\n",
       "  {'words': '喂养史:乳儿期母乳喂养√'},\n",
       "  {'words': '人工喂养一,混合喂养一,辅食添加开始月龄5月,维生素C9月,水果汁6月,蛋黄7月,粥'},\n",
       "  {'words': '7月,菜泥9月。幼儿期喂养方法及种类幼儿饮食,现在喂养幼儿饮食,食欲欠隹,择食无。'},\n",
       "  {'words': '预防接种史:(日期、结果、次数)卡介苗、乙肝疫苗、麻疹、脊髓灰质炎疫苗、百白破疫苗,'},\n",
       "  {'words': '乙脑疫苗及其他:疫苗均按计划接种,具体情况不详。'},\n",
       "  {'words': '既往史:过去健康状况健康,否认外伤、手术及输血史。过去曾患过哪些急性传染病(何'},\n",
       "  {'words': '时、经过、并发症)麻疹、猩红热、水痘、肝炎、结核病及其他:无,过去曾患过哪些其他疾病'},\n",
       "  {'words': '(何时、经过、并发症)佝偻病、肠寄生虫病、出血性素质、痉孪性素质及其他:无'},\n",
       "  {'words': '过敏史:无'},\n",
       "  {'words': '家族史:父亲年龄28岁,文化程度高中,职业个体,健康状况健康。母亲年龄29岁,文化程'},\n",
       "  {'words': '度大专,职业个体,健康状况健康,母亲妊娠次数及结局孕2产2。'},\n",
       "  {'words': '兄弟姐妺健康状况:其妹4月体健。'},\n",
       "  {'words': '家族中其他成员健康状况:健康'},\n",
       "  {'words': '家族中的遗传性及传染性疾病:无'},\n",
       "  {'words': '家庭经济情况及生活条件:良好'},\n",
       "  {'words': '我提供以上信息真实可信,病史陈述者签字'},\n",
       "  {'words': '1页'}]}"
      ]
     },
     "execution_count": 9,
     "metadata": {},
     "output_type": "execute_result"
    }
   ],
   "source": [
    "message"
   ]
  },
  {
   "cell_type": "code",
   "execution_count": 10,
   "metadata": {},
   "outputs": [
    {
     "data": {
      "text/plain": [
       "['入院记录',\n",
       " '医',\n",
       " '科别:儿三科姓名:张润楷一性别男年龄:4岁床号:22住院号,000',\n",
       " '姓名:张润楷',\n",
       " '出生地:邯郸市',\n",
       " '性别:男',\n",
       " '现住址:河北省邯郸市永年区南沿村',\n",
       " '年龄:4岁',\n",
       " '入院时间:2019-10-2308:30',\n",
       " '民族:汉族',\n",
       " '记录时间:2019-102310:36',\n",
       " '病史叙述者:焦甜甜',\n",
       " '家长姓名父亲:张栋',\n",
       " '与患者关系:母亲',\n",
       " '母亲:焦甜甜',\n",
       " '主诉:发热10天,咳嗽5天。',\n",
       " '现病史:患儿于入院前10天无明显诱因出现发热,热型不规则,体温最高39.4℃伴有咳嗷,',\n",
       " '呈阵发性非痉挛性,有痰不易咳出,无喘息。无呕吐,无腹泻,无皮疹,无盗汗,否认结核接触及',\n",
       " '异物呛咳史。于当地医院给予静点“头孢哌酮舒巴坦,喜炎平”(具体剂量不详)治疗3天,患儿',\n",
       " '仍发热,咳嗽,现为求进一步诊治来我院,门诊以“大叶性肺炎”收入院。',\n",
       " '患儿自发病以来,精神反应欠佳,食欲、睡眠欠佳,大小便正常。',\n",
       " '个人史:出生及发育史:第1胎,第1产,妊娠40周产,顺产邯郸市生产地点医院消毒,母亲',\n",
       " '妊娠时的健康情况健康,初生体重2.6kg,新生儿期状况健康,前囟门未闭一,已闭16月',\n",
       " '2月开始抬头,6月坐,8月爬,13月走路,6月开始出牙,现有牙数20颗,换牙情况未换牙,说',\n",
       " '话与智力情况正常,不良习惯无',\n",
       " '喂养史:乳儿期母乳喂养√',\n",
       " '人工喂养一,混合喂养一,辅食添加开始月龄5月,维生素C9月,水果汁6月,蛋黄7月,粥',\n",
       " '7月,菜泥9月。幼儿期喂养方法及种类幼儿饮食,现在喂养幼儿饮食,食欲欠隹,择食无。',\n",
       " '预防接种史:(日期、结果、次数)卡介苗、乙肝疫苗、麻疹、脊髓灰质炎疫苗、百白破疫苗,',\n",
       " '乙脑疫苗及其他:疫苗均按计划接种,具体情况不详。',\n",
       " '既往史:过去健康状况健康,否认外伤、手术及输血史。过去曾患过哪些急性传染病(何',\n",
       " '时、经过、并发症)麻疹、猩红热、水痘、肝炎、结核病及其他:无,过去曾患过哪些其他疾病',\n",
       " '(何时、经过、并发症)佝偻病、肠寄生虫病、出血性素质、痉孪性素质及其他:无',\n",
       " '过敏史:无',\n",
       " '家族史:父亲年龄28岁,文化程度高中,职业个体,健康状况健康。母亲年龄29岁,文化程',\n",
       " '度大专,职业个体,健康状况健康,母亲妊娠次数及结局孕2产2。',\n",
       " '兄弟姐妺健康状况:其妹4月体健。',\n",
       " '家族中其他成员健康状况:健康',\n",
       " '家族中的遗传性及传染性疾病:无',\n",
       " '家庭经济情况及生活条件:良好',\n",
       " '我提供以上信息真实可信,病史陈述者签字',\n",
       " '1页']"
      ]
     },
     "execution_count": 10,
     "metadata": {},
     "output_type": "execute_result"
    }
   ],
   "source": [
    "[i['words'] for i in message['words_result']]"
   ]
  },
  {
   "cell_type": "markdown",
   "metadata": {},
   "source": [
    "### 通用文字识别（含位置信息版）\n",
    "\n",
    "用户向服务请求识别某张图中的所有文字，并返回文字在图中的位置信息。"
   ]
  },
  {
   "cell_type": "code",
   "execution_count": 9,
   "metadata": {},
   "outputs": [],
   "source": [
    "\"\"\" 调用通用文字识别（含位置信息版）, 图片参数为本地图片 \"\"\"\n",
    "message = client.general(image);"
   ]
  },
  {
   "cell_type": "code",
   "execution_count": 10,
   "metadata": {},
   "outputs": [
    {
     "data": {
      "text/plain": [
       "{'log_id': 3137320462462409867,\n",
       " 'words_result_num': 42,\n",
       " 'words_result': [{'location': {'width': 211,\n",
       "    'top': 74,\n",
       "    'left': 417,\n",
       "    'height': 73},\n",
       "   'words': '入院记录'},\n",
       "  {'location': {'width': 30, 'top': 76, 'left': 588, 'height': 26},\n",
       "   'words': '医'},\n",
       "  {'location': {'width': 670, 'top': 108, 'left': 124, 'height': 89},\n",
       "   'words': '科别:儿三科姓名:张润楷一性别男年龄:4岁床号:22住院号,000'},\n",
       "  {'location': {'width': 124, 'top': 147, 'left': 129, 'height': 22},\n",
       "   'words': '姓名:张润楷'},\n",
       "  {'location': {'width': 143, 'top': 145, 'left': 393, 'height': 30},\n",
       "   'words': '出生地:邯郸市'},\n",
       "  {'location': {'width': 84, 'top': 181, 'left': 129, 'height': 26},\n",
       "   'words': '性别:男'},\n",
       "  {'location': {'width': 320, 'top': 172, 'left': 389, 'height': 59},\n",
       "   'words': '现住址:河北省邯郸市永年区南沿村'},\n",
       "  {'location': {'width': 100, 'top': 216, 'left': 127, 'height': 26},\n",
       "   'words': '年龄:4岁'},\n",
       "  {'location': {'width': 261, 'top': 208, 'left': 389, 'height': 46},\n",
       "   'words': '入院时间:2019-10-2308:30'},\n",
       "  {'location': {'width': 105, 'top': 253, 'left': 128, 'height': 25},\n",
       "   'words': '民族:汉族'},\n",
       "  {'location': {'width': 263, 'top': 243, 'left': 389, 'height': 41},\n",
       "   'words': '记录时间:2019-102310:36'},\n",
       "  {'location': {'width': 187, 'top': 285, 'left': 126, 'height': 27},\n",
       "   'words': '病史叙述者:焦甜甜'},\n",
       "  {'location': {'width': 210, 'top': 279, 'left': 389, 'height': 33},\n",
       "   'words': '家长姓名父亲:张栋'},\n",
       "  {'location': {'width': 166, 'top': 320, 'left': 125, 'height': 26},\n",
       "   'words': '与患者关系:母亲'},\n",
       "  {'location': {'width': 128, 'top': 317, 'left': 491, 'height': 29},\n",
       "   'words': '母亲:焦甜甜'},\n",
       "  {'location': {'width': 285, 'top': 356, 'left': 160, 'height': 28},\n",
       "   'words': '主诉:发热10天,咳嗽5天。'},\n",
       "  {'location': {'width': 762, 'top': 387, 'left': 159, 'height': 55},\n",
       "   'words': '现病史:患儿于入院前10天无明显诱因出现发热,热型不规则,体温最高39.4℃伴有咳嗷,'},\n",
       "  {'location': {'width': 796, 'top': 421, 'left': 118, 'height': 50},\n",
       "   'words': '呈阵发性非痉挛性,有痰不易咳出,无喘息。无呕吐,无腹泻,无皮疹,无盗汗,否认结核接触及'},\n",
       "  {'location': {'width': 802, 'top': 454, 'left': 116, 'height': 47},\n",
       "   'words': '异物呛咳史。于当地医院给予静点“头孢哌酮舒巴坦,喜炎平”(具体剂量不详)治疗3天,患儿'},\n",
       "  {'location': {'width': 666, 'top': 485, 'left': 114, 'height': 33},\n",
       "   'words': '仍发热,咳嗽,现为求进一步诊治来我院,门诊以“大叶性肺炎”收入院。'},\n",
       "  {'location': {'width': 586, 'top': 523, 'left': 155, 'height': 29},\n",
       "   'words': '患儿自发病以来,精神反应欠佳,食欲、睡眠欠佳,大小便正常。'},\n",
       "  {'location': {'width': 769, 'top': 557, 'left': 153, 'height': 32},\n",
       "   'words': '个人史:出生及发育史:第1胎,第1产,妊娠40周产,顺产邯郸市生产地点医院消毒,母亲'},\n",
       "  {'location': {'width': 793, 'top': 591, 'left': 110, 'height': 30},\n",
       "   'words': '妊娠时的健康情况健康,初生体重2.6kg,新生儿期状况健康,前囟门未闭一,已闭16月'},\n",
       "  {'location': {'width': 821, 'top': 625, 'left': 108, 'height': 33},\n",
       "   'words': '2月开始抬头,6月坐,8月爬,13月走路,6月开始出牙,现有牙数20颗,换牙情况未换牙,说'},\n",
       "  {'location': {'width': 303, 'top': 661, 'left': 108, 'height': 29},\n",
       "   'words': '话与智力情况正常,不良习惯无'},\n",
       "  {'location': {'width': 267, 'top': 698, 'left': 108, 'height': 28},\n",
       "   'words': '喂养史:乳儿期母乳喂养√'},\n",
       "  {'location': {'width': 828, 'top': 730, 'left': 106, 'height': 32},\n",
       "   'words': '人工喂养一,混合喂养一,辅食添加开始月龄5月,维生素C9月,水果汁6月,蛋黄7月,粥'},\n",
       "  {'location': {'width': 829, 'top': 764, 'left': 105, 'height': 37},\n",
       "   'words': '7月,菜泥9月。幼儿期喂养方法及种类幼儿饮食,现在喂养幼儿饮食,食欲欠隹,择食无。'},\n",
       "  {'location': {'width': 802, 'top': 798, 'left': 144, 'height': 39},\n",
       "   'words': '预防接种史:(日期、结果、次数)卡介苗、乙肝疫苗、麻疹、脊髓灰质炎疫苗、百白破疫苗,'},\n",
       "  {'location': {'width': 501, 'top': 837, 'left': 103, 'height': 37},\n",
       "   'words': '乙脑疫苗及其他:疫苗均按计划接种,具体情况不详。'},\n",
       "  {'location': {'width': 803, 'top': 868, 'left': 143, 'height': 42},\n",
       "   'words': '既往史:过去健康状况健康,否认外伤、手术及输血史。过去曾患过哪些急性传染病(何'},\n",
       "  {'location': {'width': 846, 'top': 902, 'left': 99, 'height': 46},\n",
       "   'words': '时、经过、并发症)麻疹、猩红热、水痘、肝炎、结核病及其他:无,过去曾患过哪些其他疾病'},\n",
       "  {'location': {'width': 778, 'top': 940, 'left': 107, 'height': 42},\n",
       "   'words': '(何时、经过、并发症)佝偻病、肠寄生虫病、出血性素质、痉孪性素质及其他:无'},\n",
       "  {'location': {'width': 113, 'top': 989, 'left': 140, 'height': 27},\n",
       "   'words': '过敏史:无'},\n",
       "  {'location': {'width': 811, 'top': 1009, 'left': 138, 'height': 47},\n",
       "   'words': '家族史:父亲年龄28岁,文化程度高中,职业个体,健康状况健康。母亲年龄29岁,文化程'},\n",
       "  {'location': {'width': 630, 'top': 1050, 'left': 94, 'height': 45},\n",
       "   'words': '度大专,职业个体,健康状况健康,母亲妊娠次数及结局孕2产2。'},\n",
       "  {'location': {'width': 350, 'top': 1093, 'left': 137, 'height': 38},\n",
       "   'words': '兄弟姐妺健康状况:其妹4月体健。'},\n",
       "  {'location': {'width': 312, 'top': 1130, 'left': 138, 'height': 38},\n",
       "   'words': '家族中其他成员健康状况:健康'},\n",
       "  {'location': {'width': 333, 'top': 1165, 'left': 137, 'height': 41},\n",
       "   'words': '家族中的遗传性及传染性疾病:无'},\n",
       "  {'location': {'width': 311, 'top': 1202, 'left': 138, 'height': 40},\n",
       "   'words': '家庭经济情况及生活条件:良好'},\n",
       "  {'location': {'width': 420, 'top': 1272, 'left': 91, 'height': 47},\n",
       "   'words': '我提供以上信息真实可信,病史陈述者签字'},\n",
       "  {'location': {'width': 73, 'top': 1344, 'left': 492, 'height': 23},\n",
       "   'words': '1页'}]}"
      ]
     },
     "execution_count": 10,
     "metadata": {},
     "output_type": "execute_result"
    }
   ],
   "source": [
    "message"
   ]
  },
  {
   "cell_type": "markdown",
   "metadata": {},
   "source": [
    "### 自定义模板文字识别"
   ]
  },
  {
   "cell_type": "code",
   "execution_count": 3,
   "metadata": {},
   "outputs": [
    {
     "name": "stdout",
     "output_type": "stream",
     "text": [
      "{'data': {'ret': [{'probability': {'average': 0.999384, 'min': 0.995589, 'variance': 2e-06}, 'location': {'height': 43, 'left': 153, 'top': 451, 'width': 236}, 'word_name': 'date', 'word': '04/15/2020'}, {'probability': {'average': 1.0, 'min': 1.0, 'variance': 0.0}, 'location': {'height': 47, 'left': 477, 'top': 593, 'width': 193}, 'word_name': 'indays', 'word': 'two days'}, {'probability': {'average': 1.0, 'min': 1.0, 'variance': 0.0}, 'location': {'height': 42, 'left': 97, 'top': 85, 'width': 300}, 'word_name': 'name', 'word': 'Chan Tai Man'}, {'probability': {'average': 1.0, 'min': 1.0, 'variance': 0.0}, 'location': {'height': 50, 'left': 70, 'top': 225, 'width': 577}, 'word_name': 'Hname', 'word': 'Tung Wah Group Hospital'}], 'templateSign': '9d2272d87f3e55fc22bab17bbf8869e3', 'templateName': 't', 'scores': 1.0, 'isStructured': True, 'logId': '158788123790565', 'templateMatchDegree': 0.9994736842591243, 'clockwiseAngle': 0.0}, 'error_code': 0, 'error_msg': '', 'log_id': '158788123790565'}\n"
     ]
    }
   ],
   "source": [
    "# 读取图片\n",
    "def get_file_content(filePath):\n",
    "    with open(filePath, 'rb') as fp:\n",
    "        return fp.read()\n",
    "image = get_file_content('img/t.png')\n",
    "\n",
    "# 额外的参数\n",
    "options = {}\n",
    "# key固定为templateSign 后面给页面提供的 模板ID（templateSign） 的值即可\n",
    "options[\"templateSign\"] = \"9d2272d87f3e55fc22bab17bbf8869e3\"\n",
    "# 调用自定义模板文字识别\n",
    "result = client.custom(image, options);\n",
    "print(result)"
   ]
  },
  {
   "cell_type": "code",
   "execution_count": null,
   "metadata": {},
   "outputs": [],
   "source": [
    "{\n",
    "\t'data': {\n",
    "\t\t'ret': [{\n",
    "\t\t\t'probability': {\n",
    "\t\t\t\t'average': 0.999384,\n",
    "\t\t\t\t'min': 0.995589,\n",
    "\t\t\t\t'variance': 2e-06\n",
    "\t\t\t},\n",
    "\t\t\t'location': {\n",
    "\t\t\t\t'height': 43,\n",
    "\t\t\t\t'left': 153,\n",
    "\t\t\t\t'top': 451,\n",
    "\t\t\t\t'width': 236\n",
    "\t\t\t},\n",
    "\t\t\t'word_name': 'date',\n",
    "\t\t\t'word': '04/15/2020'\n",
    "\t\t}, {\n",
    "\t\t\t'probability': {\n",
    "\t\t\t\t'average': 1.0,\n",
    "\t\t\t\t'min': 1.0,\n",
    "\t\t\t\t'variance': 0.0\n",
    "\t\t\t},\n",
    "\t\t\t'location': {\n",
    "\t\t\t\t'height': 47,\n",
    "\t\t\t\t'left': 477,\n",
    "\t\t\t\t'top': 593,\n",
    "\t\t\t\t'width': 193\n",
    "\t\t\t},\n",
    "\t\t\t'word_name': 'indays',\n",
    "\t\t\t'word': 'two days'\n",
    "\t\t}, {\n",
    "\t\t\t'probability': {\n",
    "\t\t\t\t'average': 1.0,\n",
    "\t\t\t\t'min': 1.0,\n",
    "\t\t\t\t'variance': 0.0\n",
    "\t\t\t},\n",
    "\t\t\t'location': {\n",
    "\t\t\t\t'height': 42,\n",
    "\t\t\t\t'left': 97,\n",
    "\t\t\t\t'top': 85,\n",
    "\t\t\t\t'width': 300\n",
    "\t\t\t},\n",
    "\t\t\t'word_name': 'name',\n",
    "\t\t\t'word': 'Chan Tai Man'\n",
    "\t\t}, {\n",
    "\t\t\t'probability': {\n",
    "\t\t\t\t'average': 1.0,\n",
    "\t\t\t\t'min': 1.0,\n",
    "\t\t\t\t'variance': 0.0\n",
    "\t\t\t},\n",
    "\t\t\t'location': {\n",
    "\t\t\t\t'height': 50,\n",
    "\t\t\t\t'left': 70,\n",
    "\t\t\t\t'top': 225,\n",
    "\t\t\t\t'width': 577\n",
    "\t\t\t},\n",
    "\t\t\t'word_name': 'Hname',\n",
    "\t\t\t'word': 'Tung Wah Group Hospital'\n",
    "\t\t}],\n",
    "\t\t'templateSign': '9d2272d87f3e55fc22bab17bbf8869e3',\n",
    "\t\t'templateName': 't',\n",
    "\t\t'scores': 1.0,\n",
    "\t\t'isStructured': True,\n",
    "\t\t'logId': '158788123790565',\n",
    "\t\t'templateMatchDegree': 0.9994736842591243,\n",
    "\t\t'clockwiseAngle': 0.0\n",
    "\t},\n",
    "\t'error_code': 0,\n",
    "\t'error_msg': '',\n",
    "\t'log_id': '158788123790565'\n",
    "}"
   ]
  }
 ],
 "metadata": {
  "kernelspec": {
   "display_name": "Python 3",
   "language": "python",
   "name": "python3"
  },
  "language_info": {
   "codemirror_mode": {
    "name": "ipython",
    "version": 3
   },
   "file_extension": ".py",
   "mimetype": "text/x-python",
   "name": "python",
   "nbconvert_exporter": "python",
   "pygments_lexer": "ipython3",
   "version": "3.7.3"
  },
  "toc": {
   "base_numbering": 1,
   "nav_menu": {},
   "number_sections": true,
   "sideBar": true,
   "skip_h1_title": false,
   "title_cell": "Table of Contents",
   "title_sidebar": "Contents",
   "toc_cell": false,
   "toc_position": {},
   "toc_section_display": true,
   "toc_window_display": true
  }
 },
 "nbformat": 4,
 "nbformat_minor": 2
}

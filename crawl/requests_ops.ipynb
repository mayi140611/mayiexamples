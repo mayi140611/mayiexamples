{
 "cells": [
  {
   "cell_type": "code",
   "execution_count": 1,
   "metadata": {},
   "outputs": [
    {
     "name": "stdout",
     "output_type": "stream",
     "text": [
      "requests==2.22.0\r\n"
     ]
    }
   ],
   "source": [
    "# !pip install requests -U\n",
    "!pip freeze | grep requests"
   ]
  },
  {
   "cell_type": "markdown",
   "metadata": {},
   "source": [
    "[Requests: HTTP for Humans™](https://2.python-requests.org//en/latest/index.html)"
   ]
  },
  {
   "cell_type": "code",
   "execution_count": 1,
   "metadata": {},
   "outputs": [],
   "source": [
    "import requests"
   ]
  },
  {
   "cell_type": "markdown",
   "metadata": {},
   "source": [
    "# quickstart\n",
    "https://2.python-requests.org//en/latest/user/quickstart/"
   ]
  },
  {
   "cell_type": "markdown",
   "metadata": {},
   "source": [
    "## head"
   ]
  },
  {
   "cell_type": "code",
   "execution_count": 18,
   "metadata": {},
   "outputs": [],
   "source": [
    "r = requests.head('http://httpbin.org/get')"
   ]
  },
  {
   "cell_type": "code",
   "execution_count": 20,
   "metadata": {},
   "outputs": [
    {
     "data": {
      "text/plain": [
       "{'Access-Control-Allow-Credentials': 'true', 'Access-Control-Allow-Origin': '*', 'Content-Encoding': 'gzip', 'Content-Type': 'application/json', 'Date': 'Thu, 25 Jul 2019 03:57:58 GMT', 'Referrer-Policy': 'no-referrer-when-downgrade', 'Server': 'nginx', 'X-Content-Type-Options': 'nosniff', 'X-Frame-Options': 'DENY', 'X-XSS-Protection': '1; mode=block', 'Connection': 'keep-alive'}"
      ]
     },
     "execution_count": 20,
     "metadata": {},
     "output_type": "execute_result"
    }
   ],
   "source": [
    "r.headers"
   ]
  },
  {
   "cell_type": "markdown",
   "metadata": {},
   "source": [
    "## put"
   ]
  },
  {
   "cell_type": "code",
   "execution_count": 21,
   "metadata": {},
   "outputs": [],
   "source": [
    "r = requests.put('http://httpbin.org/put', data = {'key':'value'})"
   ]
  },
  {
   "cell_type": "code",
   "execution_count": 23,
   "metadata": {},
   "outputs": [
    {
     "data": {
      "text/plain": [
       "{'args': {},\n",
       " 'data': '',\n",
       " 'files': {},\n",
       " 'form': {'key': 'value'},\n",
       " 'headers': {'Accept': '*/*',\n",
       "  'Accept-Encoding': 'gzip, deflate',\n",
       "  'Content-Length': '9',\n",
       "  'Content-Type': 'application/x-www-form-urlencoded',\n",
       "  'Host': 'httpbin.org',\n",
       "  'User-Agent': 'python-requests/2.22.0'},\n",
       " 'json': None,\n",
       " 'origin': '180.167.88.42, 180.167.88.42',\n",
       " 'url': 'https://httpbin.org/put'}"
      ]
     },
     "execution_count": 23,
     "metadata": {},
     "output_type": "execute_result"
    }
   ],
   "source": [
    "r.json()"
   ]
  },
  {
   "cell_type": "markdown",
   "metadata": {},
   "source": [
    "## delete"
   ]
  },
  {
   "cell_type": "code",
   "execution_count": 24,
   "metadata": {},
   "outputs": [
    {
     "data": {
      "text/plain": [
       "{'args': {},\n",
       " 'data': '',\n",
       " 'files': {},\n",
       " 'form': {},\n",
       " 'headers': {'Accept': '*/*',\n",
       "  'Accept-Encoding': 'gzip, deflate',\n",
       "  'Host': 'httpbin.org',\n",
       "  'User-Agent': 'python-requests/2.22.0'},\n",
       " 'json': None,\n",
       " 'origin': '180.167.88.42, 180.167.88.42',\n",
       " 'url': 'https://httpbin.org/delete'}"
      ]
     },
     "execution_count": 24,
     "metadata": {},
     "output_type": "execute_result"
    }
   ],
   "source": [
    "r = requests.delete('http://httpbin.org/delete')\n",
    "r.json()"
   ]
  },
  {
   "cell_type": "markdown",
   "metadata": {},
   "source": [
    "## options"
   ]
  },
  {
   "cell_type": "code",
   "execution_count": 26,
   "metadata": {},
   "outputs": [],
   "source": [
    "r = requests.options('http://httpbin.org/get')"
   ]
  },
  {
   "cell_type": "code",
   "execution_count": 27,
   "metadata": {},
   "outputs": [
    {
     "data": {
      "text/plain": [
       "{'Access-Control-Allow-Credentials': 'true', 'Access-Control-Allow-Methods': 'GET, POST, PUT, DELETE, PATCH, OPTIONS', 'Access-Control-Allow-Origin': '*', 'Access-Control-Max-Age': '3600', 'Allow': 'OPTIONS, HEAD, GET', 'Content-Type': 'text/html; charset=utf-8', 'Date': 'Thu, 25 Jul 2019 04:00:57 GMT', 'Referrer-Policy': 'no-referrer-when-downgrade', 'Server': 'nginx', 'X-Content-Type-Options': 'nosniff', 'X-Frame-Options': 'DENY', 'X-XSS-Protection': '1; mode=block', 'Content-Length': '0', 'Connection': 'keep-alive'}"
      ]
     },
     "execution_count": 27,
     "metadata": {},
     "output_type": "execute_result"
    }
   ],
   "source": [
    "r.headers"
   ]
  },
  {
   "cell_type": "code",
   "execution_count": 37,
   "metadata": {},
   "outputs": [
    {
     "data": {
      "text/plain": [
       "'application/json; charset=utf-8'"
      ]
     },
     "execution_count": 37,
     "metadata": {},
     "output_type": "execute_result"
    }
   ],
   "source": [
    "r.headers['Content-Type']"
   ]
  },
  {
   "cell_type": "code",
   "execution_count": 38,
   "metadata": {},
   "outputs": [
    {
     "data": {
      "text/plain": [
       "'application/json; charset=utf-8'"
      ]
     },
     "execution_count": 38,
     "metadata": {},
     "output_type": "execute_result"
    }
   ],
   "source": [
    "r.headers.get('content-type')"
   ]
  },
  {
   "cell_type": "code",
   "execution_count": 28,
   "metadata": {},
   "outputs": [
    {
     "data": {
      "text/plain": [
       "''"
      ]
     },
     "execution_count": 28,
     "metadata": {},
     "output_type": "execute_result"
    }
   ],
   "source": [
    "r.text"
   ]
  },
  {
   "cell_type": "markdown",
   "metadata": {},
   "source": [
    "## Passing Parameters In URLs"
   ]
  },
  {
   "cell_type": "code",
   "execution_count": 5,
   "metadata": {},
   "outputs": [
    {
     "data": {
      "text/plain": [
       "'http://httpbin.org/get?key1=value1&key2=value2'"
      ]
     },
     "execution_count": 5,
     "metadata": {},
     "output_type": "execute_result"
    }
   ],
   "source": [
    "payload = {'key1': 'value1', 'key2': 'value2'}\n",
    "r = requests.get('http://httpbin.org/get', params=payload)\n",
    "r.url"
   ]
  },
  {
   "cell_type": "code",
   "execution_count": 16,
   "metadata": {},
   "outputs": [
    {
     "data": {
      "text/plain": [
       "'http://httpbin.org/get?key1=value1&key2=value2&key2=value3'"
      ]
     },
     "execution_count": 16,
     "metadata": {},
     "output_type": "execute_result"
    }
   ],
   "source": [
    "payload = {'key1': 'value1', 'key2': ['value2', 'value3']}\n",
    "r = requests.get('http://httpbin.org/get', params=payload)\n",
    "r.url"
   ]
  },
  {
   "cell_type": "markdown",
   "metadata": {},
   "source": [
    "## Response Content"
   ]
  },
  {
   "cell_type": "code",
   "execution_count": 29,
   "metadata": {},
   "outputs": [],
   "source": [
    "r = requests.get('https://api.github.com/events')"
   ]
  },
  {
   "cell_type": "code",
   "execution_count": 30,
   "metadata": {},
   "outputs": [
    {
     "data": {
      "text/plain": [
       "'[{\"id\":\"10080042952\",\"type\":\"PushEvent\",\"actor\":{\"id\":18415433,\"login\":\"goldenbili\",\"display_login\":\"goldenbili\",\"gravatar_id\":\"\",\"url\":\"https://api.github.com/users/goldenbili\",\"avatar_url\":\"https://avatars.githubusercontent.com/u/18415433?\"},\"repo\":{\"id\":174492544,\"name\":\"goldenbili/Bert_Test2\",\"url\":\"https://api.github.com/repos/goldenbili/Bert_Test2\"},\"payload\":{\"push_id\":3853469076,\"size\":1,\"distinct_size\":1,\"ref\":\"refs/heads/master\",\"head\":\"f3e2576e7b377c12b7d5ad92909be28eebad1741\",\"before\":\"69b685c9e65bebd3af0189ec14b38dce921b8cb3\",\"commits\":[{\"sha\":\"f3e2576e7b377c12b7d5ad92909be28eebad1741\",\"author\":{\"email\":\"waeechang@gmail.com\",\"name\":\"partydog\"},\"message\":\"Update run_squad_coding.py\",\"distinct\":true,\"url\":\"https://api.github.com/repos/goldenbili/Bert_Test2/commits/f3e2576e7b377c12b7d5ad92909be28eebad1741\"}]},\"public\":true,\"created_at\":\"2019-07-25T04:03:39Z\"},{\"id\":\"10080042950\",\"type\":\"WatchEvent\",\"actor\":{\"id\":43257139,\"login\":\"thomasjlsn\",\"display_login\":\"thomasjlsn\",\"gravatar_id\":\"\",\"url\":\"https://api.github.com/users/thomasjlsn\",\"avatar_url\":\"https://avatars.githubusercontent.com/u/43257139?\"},\"repo\":{\"id\":5724223,\"name\":\"tomnomnom/gron\",\"url\":\"https://api.github.com/repos/tomnomnom/gron\"},\"payload\":{\"action\":\"started\"},\"public\":true,\"created_at\":\"2019-07-25T04:03:39Z\"},{\"id\":\"10080042949\",\"type\":\"WatchEvent\",\"actor\":{\"id\":8077772,\"login\":\"v5anyexiuluo\",\"display_login\":\"v5anyexiuluo\",\"gravatar_id\":\"\",\"url\":\"https://api.github.com/users/v5anyexiuluo\",\"avatar_url\":\"https://avatars.githubusercontent.com/u/8077772?\"},\"repo\":{\"id\":93289532,\"name\":\"notedit/rtp-streamer\",\"url\":\"https://api.github.com/repos/notedit/rtp-streamer\"},\"payload\":{\"action\":\"started\"},\"public\":true,\"created_at\":\"2019-07-25T04:03:39Z\"},{\"id\":\"10080042946\",\"type\":\"PushEvent\",\"actor\":{\"id\":28830147,\"login\":\"Shubham-SK\",\"display_login\":\"Shubham-SK\",\"gravatar_id\":\"\",\"url\":\"https://api.github.com/users/Shubham-SK\",\"avatar_url\":\"https://avatars.githubusercontent.com/u/28830147?\"},\"repo\":{\"id\":198479021,\"name\":\"Shubham-SK/DL-models-numpy\",\"url\":\"https://api.github.com/repos/Shubham-SK/DL-models-numpy\"},\"payload\":{\"push_id\":3853469072,\"size\":1,\"distinct_size\":1,\"ref\":\"refs/heads/master\",\"head\":\"381801b5421aa0ff304b56fb32b169876ad96e28\",\"before\":\"fb0d3cca22f2b7d168ff3ec7f7041399fc1e2a87\",\"commits\":[{\"sha\":\"381801b5421aa0ff304b56fb32b169876ad96e28\",\"author\":{\"email\":\"kumar.shubham5504@gmail.com\",\"name\":\"Shubham Kumar\"},\"message\":\"First Commit\",\"distinct\":true,\"url\":\"https://api.github.com/repos/Shubham-SK/DL-models-numpy/commits/381801b5421aa0ff304b56fb32b169876ad96e28\"}]},\"public\":true,\"created_at\":\"2019-07-25T04:03:39Z\"},{\"id\":\"10080042943\",\"type\":\"PushEvent\",\"actor\":{\"id\":355907,\"login\":\"sahuguet\",\"display_login\":\"sahuguet\",\"gravatar_id\":\"\",\"url\":\"https://api.github.com/users/sahuguet\",\"avatar_url\":\"https://avatars.githubusercontent.com/u/355907?\"},\"repo\":{\"id\":171554852,\"name\":\"ct-studio-buildboard/ST19-18\",\"url\":\"https://api.github.com/repos/ct-studio-buildboard/ST19-18\"},\"payload\":{\"push_id\":3853469068,\"size\":1,\"distinct_size\":1,\"ref\":\"refs/heads/master\",\"head\":\"921bd451dcb5bf11e8426aa1f6bdc7fe96303dd5\",\"before\":\"7e22b4cdefca23a3d9dd69e600d8fe289bb4b80e\",\"commits\":[{\"sha\":\"921bd451dcb5bf11e8426aa1f6bdc7fe96303dd5\",\"author\":{\"email\":\"sahuguet@users.noreply.github.com\",\"name\":\"Arnaud Sahuguet\"},\"message\":\"Messages from Buildboard daemon.\",\"distinct\":true,\"url\":\"https://api.github.com/repos/ct-studio-buildboard/ST19-18/commits/921bd451dcb5bf11e8426aa1f6bdc7fe96303dd5\"}]},\"public\":true,\"created_at\":\"2019-07-25T04:03:39Z\",\"org\":{\"id\":47397550,\"login\":\"ct-studio-buildboard\",\"gravatar_id\":\"\",\"url\":\"https://api.github.com/orgs/ct-studio-buildboard\",\"avatar_url\":\"https://avatars.githubusercontent.com/u/47397550?\"}},{\"id\":\"10080042947\",\"type\":\"WatchEvent\",\"actor\":{\"id\":14356126,\"login\":\"JoouA\",\"display_login\":\"JoouA\",\"gravatar_id\":\"\",\"url\":\"https://api.github.com/users/JoouA\",\"avatar_url\":\"https://avatars.githubusercontent.com/u/14356126?\"},\"repo\":{\"id\":130644624,\"name\":\"b3log/baidu-netdisk-downloaderx\",\"url\":\"https://api.github.com/repos/b3log/baidu-netdisk-downloaderx\"},\"payload\":{\"action\":\"started\"},\"public\":true,\"created_at\":\"2019-07-25T04:03:39Z\",\"org\":{\"id\":1627618,\"login\":\"b3log\",\"gravatar_id\":\"\",\"url\":\"https://api.github.com/orgs/b3log\",\"avatar_url\":\"https://avatars.githubusercontent.com/u/1627618?\"}},{\"id\":\"10080042941\",\"type\":\"CreateEvent\",\"actor\":{\"id\":6539267,\"login\":\"jfcarocota\",\"display_login\":\"jfcarocota\",\"gravatar_id\":\"\",\"url\":\"https://api.github.com/users/jfcarocota\",\"avatar_url\":\"https://avatars.githubusercontent.com/u/6539267?\"},\"repo\":{\"id\":198753476,\"name\":\"jfcarocota/dsc-udavinci\",\"url\":\"https://api.github.com/repos/jfcarocota/dsc-udavinci\"},\"payload\":{\"ref\":\"add-license-1\",\"ref_type\":\"branch\",\"master_branch\":\"master\",\"description\":\"Repositorio con prácticas e información del programa de doctorado de Universidad Da Vinci A. C. 2019 - 2022\",\"pusher_type\":\"user\"},\"public\":true,\"created_at\":\"2019-07-25T04:03:39Z\"},{\"id\":\"10080042935\",\"type\":\"CreateEvent\",\"actor\":{\"id\":41179777,\"login\":\"Justin-Singh125125\",\"display_login\":\"Justin-Singh125125\",\"gravatar_id\":\"\",\"url\":\"https://api.github.com/users/Justin-Singh125125\",\"avatar_url\":\"https://avatars.githubusercontent.com/u/41179777?\"},\"repo\":{\"id\":198754471,\"name\":\"Justin-Singh125125/heroku-test\",\"url\":\"https://api.github.com/repos/Justin-Singh125125/heroku-test\"},\"payload\":{\"ref\":\"master\",\"ref_type\":\"branch\",\"master_branch\":\"master\",\"description\":null,\"pusher_type\":\"user\"},\"public\":true,\"created_at\":\"2019-07-25T04:03:39Z\"},{\"id\":\"10080042933\",\"type\":\"CreateEvent\",\"actor\":{\"id\":28508438,\"login\":\"yuhongherald\",\"display_login\":\"yuhongherald\",\"gravatar_id\":\"\",\"url\":\"https://api.github.com/users/yuhongherald\",\"avatar_url\":\"https://avatars.githubusercontent.com/u/28508438?\"},\"repo\":{\"id\":161479118,\"name\":\"yuhongherald/PowerPointLabs\",\"url\":\"https://api.github.com/repos/yuhongherald/PowerPointLabs\"},\"payload\":{\"ref\":\"1971-EffectsLab-undo-exception\",\"ref_type\":\"branch\",\"master_branch\":\"master\",\"description\":\"This is the project for PowerPointLabs, a productivity add-in for PowerPoint\",\"pusher_type\":\"user\"},\"public\":true,\"created_at\":\"2019-07-25T04:03:39Z\"},{\"id\":\"10080042932\",\"type\":\"DeleteEvent\",\"actor\":{\"id\":53002629,\"login\":\"dungeon-slayer\",\"display_login\":\"dungeon-slayer\",\"gravatar_id\":\"\",\"url\":\"https://api.github.com/users/dungeon-slayer\",\"avatar_url\":\"https://avatars.githubusercontent.com/u/53002629?\"},\"repo\":{\"id\":197373878,\"name\":\"dungeon-slayer/dungeon-slayer.github.io\",\"url\":\"https://api.github.com/repos/dungeon-slayer/dungeon-slayer.github.io\"},\"payload\":{\"ref\":\"0.3.1-dev\",\"ref_type\":\"branch\",\"pusher_type\":\"user\"},\"public\":true,\"created_at\":\"2019-07-25T04:03:39Z\"},{\"id\":\"10080042922\",\"type\":\"PushEvent\",\"actor\":{\"id\":4562546,\"login\":\"osnipezzini\",\"display_login\":\"osnipezzini\",\"gravatar_id\":\"\",\"url\":\"https://api.github.com/users/osnipezzini\",\"avatar_url\":\"https://avatars.githubusercontent.com/u/4562546?\"},\"repo\":{\"id\":198311549,\"name\":\"osnipezzini/ElliteMobile\",\"url\":\"https://api.github.com/repos/osnipezzini/ElliteMobile\"},\"payload\":{\"push_id\":3853469059,\"size\":1,\"distinct_size\":1,\"ref\":\"refs/heads/master\",\"head\":\"339f8658d4cc2313ab2d7a79dc72c4caec8e0987\",\"before\":\"dab63c8bc6e2e502d3cbbfc52fd899b88f26eef0\",\"commits\":[{\"sha\":\"339f8658d4cc2313ab2d7a79dc72c4caec8e0987\",\"author\":{\"email\":\"osni.pezzini@gmail.com\",\"name\":\"osni.pezzini@gmail.com\"},\"message\":\"Improved authentication usage ...\",\"distinct\":true,\"url\":\"https://api.github.com/repos/osnipezzini/ElliteMobile/commits/339f8658d4cc2313ab2d7a79dc72c4caec8e0987\"}]},\"public\":true,\"created_at\":\"2019-07-25T04:03:39Z\"},{\"id\":\"10080042920\",\"type\":\"PushEvent\",\"actor\":{\"id\":42781255,\"login\":\"ThomasUtsey\",\"display_login\":\"ThomasUtsey\",\"gravatar_id\":\"\",\"url\":\"https://api.github.com/users/ThomasUtsey\",\"avatar_url\":\"https://avatars.githubusercontent.com/u/42781255?\"},\"repo\":{\"id\":185896674,\"name\":\"labslibrarypt3/LabsLibraryPT3_BE\",\"url\":\"https://api.github.com/repos/labslibrarypt3/LabsLibraryPT3_BE\"},\"payload\":{\"push_id\":3853469058,\"size\":6,\"distinct_size\":1,\"ref\":\"refs/heads/development\",\"head\":\"37df678fd295dae223729a0c764dede72a93f47d\",\"before\":\"8d4d67598afcf4f5fb672a354192a131c3a54b9d\",\"commits\":[{\"sha\":\"d42b8cd30be90ecf1ae049b61be5e25b6f72d18d\",\"author\":{\"email\":\"ira.d.sanchez@gmail.com\",\"name\":\"iradsanchez\"},\"message\":\"map backend\",\"distinct\":false,\"url\":\"https://api.github.com/repos/labslibrarypt3/LabsLibraryPT3_BE/commits/d42b8cd30be90ecf1ae049b61be5e25b6f72d18d\"},{\"sha\":\"40d450b3ee0af819e5fb5feeffcf54317ca91810\",\"author\":{\"email\":\"ira.d.sanchez@gmail.com\",\"name\":\"iradsanchez\"},\"message\":\"merge conflicts\",\"distinct\":false,\"url\":\"https://api.github.com/repos/labslibrarypt3/LabsLibraryPT3_BE/commits/40d450b3ee0af819e5fb5feeffcf54317ca91810\"},{\"sha\":\"5ca08cadad6d404de26605347884ca41d3620ab3\",\"author\":{\"email\":\"ira.d.sanchez@gmail.com\",\"name\":\"iradsanchez\"},\"message\":\"merge conflict\",\"distinct\":false,\"url\":\"https://api.github.com/repos/labslibrarypt3/LabsLibraryPT3_BE/commits/5ca08cadad6d404de26605347884ca41d3620ab3\"},{\"sha\":\"0e01b79913579c8ecf638b111cb27ca816c07a03\",\"author\":{\"email\":\"ira.d.sanchez@gmail.com\",\"name\":\"iradsanchez\"},\"message\":\"replace localhost urls with env variable\",\"distinct\":false,\"url\":\"https://api.github.com/repos/labslibrarypt3/LabsLibraryPT3_BE/commits/0e01b79913579c8ecf638b111cb27ca816c07a03\"},{\"sha\":\"b60b3f559c1796e92d9dde5763a31d159dddc94a\",\"author\":{\"email\":\"ira.d.sanchez@gmail.com\",\"name\":\"iradsanchez\"},\"message\":\"just in case I forgot to save something from last time\",\"distinct\":false,\"url\":\"https://api.github.com/repos/labslibrarypt3/LabsLibraryPT3_BE/commits/b60b3f559c1796e92d9dde5763a31d159dddc94a\"},{\"sha\":\"37df678fd295dae223729a0c764dede72a93f47d\",\"author\":{\"email\":\"42781255+ThomasUtsey@users.noreply.github.com\",\"name\":\"ThomasUtsey\"},\"message\":\"Merge pull request #102 from labslibrarypt3/ira-sanchez\\\\n\\\\nIra sanchez\",\"distinct\":true,\"url\":\"https://api.github.com/repos/labslibrarypt3/LabsLibraryPT3_BE/commits/37df678fd295dae223729a0c764dede72a93f47d\"}]},\"public\":true,\"created_at\":\"2019-07-25T04:03:39Z\",\"org\":{\"id\":50470163,\"login\":\"labslibrarypt3\",\"gravatar_id\":\"\",\"url\":\"https://api.github.com/orgs/labslibrarypt3\",\"avatar_url\":\"https://avatars.githubusercontent.com/u/50470163?\"}},{\"id\":\"10080042921\",\"type\":\"CreateEvent\",\"actor\":{\"id\":49300935,\"login\":\"kendim297\",\"display_login\":\"kendim297\",\"gravatar_id\":\"\",\"url\":\"https://api.github.com/users/kendim297\",\"avatar_url\":\"https://avatars.githubusercontent.com/u/49300935?\"},\"repo\":{\"id\":198754806,\"name\":\"kendim297/MyKeyboard\",\"url\":\"https://api.github.com/repos/kendim297/MyKeyboard\"},\"payload\":{\"ref\":null,\"ref_type\":\"repository\",\"master_branch\":\"master\",\"description\":null,\"pusher_type\":\"user\"},\"public\":true,\"created_at\":\"2019-07-25T04:03:39Z\"},{\"id\":\"10080042915\",\"type\":\"PushEvent\",\"actor\":{\"id\":52219703,\"login\":\"CalebMigosi\",\"display_login\":\"CalebMigosi\",\"gravatar_id\":\"\",\"url\":\"https://api.github.com/users/CalebMigosi\",\"avatar_url\":\"https://avatars.githubusercontent.com/u/52219703?\"},\"repo\":{\"id\":198468154,\"name\":\"CalebMigosi/Clustering-Analysis-for-Portfolio-Management\",\"url\":\"https://api.github.com/repos/CalebMigosi/Clustering-Analysis-for-Portfolio-Management\"},\"payload\":{\"push_id\":3853469053,\"size\":1,\"distinct_size\":1,\"ref\":\"refs/heads/master\",\"head\":\"9c5b00d8763b309417170467e571bfd88fbaf485\",\"before\":\"e661fd01f572b6ef50c09466cd70f7dbdeb55701\",\"commits\":[{\"sha\":\"9c5b00d8763b309417170467e571bfd88fbaf485\",\"author\":{\"email\":\"52219703+CalebMigosi@users.noreply.github.com\",\"name\":\"CalebMigosi\"},\"message\":\"Update 02 - Clustering des données actions.R\",\"distinct\":true,\"url\":\"https://api.github.com/repos/CalebMigosi/Clustering-Analysis-for-Portfolio-Management/commits/9c5b00d8763b309417170467e571bfd88fbaf485\"}]},\"public\":true,\"created_at\":\"2019-07-25T04:03:38Z\"},{\"id\":\"10080042914\",\"type\":\"PushEvent\",\"actor\":{\"id\":15026413,\"login\":\"lwood54\",\"display_login\":\"lwood54\",\"gravatar_id\":\"\",\"url\":\"https://api.github.com/users/lwood54\",\"avatar_url\":\"https://avatars.githubusercontent.com/u/15026413?\"},\"repo\":{\"id\":196497289,\"name\":\"lwood54/snow-buddy\",\"url\":\"https://api.github.com/repos/lwood54/snow-buddy\"},\"payload\":{\"push_id\":3853469051,\"size\":1,\"distinct_size\":1,\"ref\":\"refs/heads/master\",\"head\":\"3502a2e07b8fed135f3ee42dca81afd15023421f\",\"before\":\"a7c104b568c02fdf1745bce28713e732f687459b\",\"commits\":[{\"sha\":\"3502a2e07b8fed135f3ee42dca81afd15023421f\",\"author\":{\"email\":\"lwood3499@gmail.com\",\"name\":\"Logan Wood\"},\"message\":\"wip protected actions with login\",\"distinct\":true,\"url\":\"https://api.github.com/repos/lwood54/snow-buddy/commits/3502a2e07b8fed135f3ee42dca81afd15023421f\"}]},\"public\":true,\"created_at\":\"2019-07-25T04:03:38Z\"},{\"id\":\"10080042913\",\"type\":\"PushEvent\",\"actor\":{\"id\":29721243,\"login\":\"chengming9731\",\"display_login\":\"chengming9731\",\"gravatar_id\":\"\",\"url\":\"https://api.github.com/users/chengming9731\",\"avatar_url\":\"https://avatars.githubusercontent.com/u/29721243?\"},\"repo\":{\"id\":163672192,\"name\":\"hcmzhzx/db_admin\",\"url\":\"https://api.github.com/repos/hcmzhzx/db_admin\"},\"payload\":{\"push_id\":3853469052,\"size\":1,\"distinct_size\":1,\"ref\":\"refs/heads/master\",\"head\":\"70bc96e3f041460be5588348d5348c6cdee0a025\",\"before\":\"f2e912b63f4b0dda67d9b2de32089537478c20fe\",\"commits\":[{\"sha\":\"70bc96e3f041460be5588348d5348c6cdee0a025\",\"author\":{\"email\":\"793538930@qq.com\",\"name\":\"chengming9731\"},\"message\":\"\\'订单列表新增学期\\'\",\"distinct\":true,\"url\":\"https://api.github.com/repos/hcmzhzx/db_admin/commits/70bc96e3f041460be5588348d5348c6cdee0a025\"}]},\"public\":true,\"created_at\":\"2019-07-25T04:03:38Z\",\"org\":{\"id\":32352811,\"login\":\"hcmzhzx\",\"gravatar_id\":\"\",\"url\":\"https://api.github.com/orgs/hcmzhzx\",\"avatar_url\":\"https://avatars.githubusercontent.com/u/32352811?\"}},{\"id\":\"10080042912\",\"type\":\"WatchEvent\",\"actor\":{\"id\":21528728,\"login\":\"Android-MI\",\"display_login\":\"Android-MI\",\"gravatar_id\":\"\",\"url\":\"https://api.github.com/users/Android-MI\",\"avatar_url\":\"https://avatars.githubusercontent.com/u/21528728?\"},\"repo\":{\"id\":164813811,\"name\":\"Tendy-Lau/biometricdemo\",\"url\":\"https://api.github.com/repos/Tendy-Lau/biometricdemo\"},\"payload\":{\"action\":\"started\"},\"public\":true,\"created_at\":\"2019-07-25T04:03:38Z\"},{\"id\":\"10080042910\",\"type\":\"PushEvent\",\"actor\":{\"id\":47196066,\"login\":\"tfx-copybara\",\"display_login\":\"tfx-copybara\",\"gravatar_id\":\"\",\"url\":\"https://api.github.com/users/tfx-copybara\",\"avatar_url\":\"https://avatars.githubusercontent.com/u/47196066?\"},\"repo\":{\"id\":169116405,\"name\":\"tensorflow/tfx\",\"url\":\"https://api.github.com/repos/tensorflow/tfx\"},\"payload\":{\"push_id\":3853469050,\"size\":1,\"distinct_size\":1,\"ref\":\"refs/heads/test_256893935\",\"head\":\"30698b57003304fdca2fb56b36f0744eb7fa8624\",\"before\":\"5a4f595e7c018efd39081b121cce7dbbcd109234\",\"commits\":[{\"sha\":\"30698b57003304fdca2fb56b36f0744eb7fa8624\",\"author\":{\"email\":\"tensorflow-extended-nonhuman@googlegroups.com\",\"name\":\"tfx-team\"},\"message\":\"Add end to end tests for Kubeflow.\\\\n\\\\nPiperOrigin-RevId: 256893935\",\"distinct\":true,\"url\":\"https://api.github.com/repos/tensorflow/tfx/commits/30698b57003304fdca2fb56b36f0744eb7fa8624\"}]},\"public\":true,\"created_at\":\"2019-07-25T04:03:38Z\",\"org\":{\"id\":15658638,\"login\":\"tensorflow\",\"gravatar_id\":\"\",\"url\":\"https://api.github.com/orgs/tensorflow\",\"avatar_url\":\"https://avatars.githubusercontent.com/u/15658638?\"}},{\"id\":\"10080042905\",\"type\":\"PushEvent\",\"actor\":{\"id\":8265780,\"login\":\"charitylaw\",\"display_login\":\"charitylaw\",\"gravatar_id\":\"\",\"url\":\"https://api.github.com/users/charitylaw\",\"avatar_url\":\"https://avatars.githubusercontent.com/u/8265780?\"},\"repo\":{\"id\":193811463,\"name\":\"charitylaw/Intron-reads\",\"url\":\"https://api.github.com/repos/charitylaw/Intron-reads\"},\"payload\":{\"push_id\":3853469047,\"size\":1,\"distinct_size\":1,\"ref\":\"refs/heads/master\",\"head\":\"1e9d3aea17dcf979ce02e0989d8f16bb7a7b0549\",\"before\":\"5f5093038cbf79dd2d6e3dc22dda9acbe80850ae\",\"commits\":[{\"sha\":\"1e9d3aea17dcf979ce02e0989d8f16bb7a7b0549\",\"author\":{\"email\":\"law@wehi.edu.au\",\"name\":\"Charity W Law\"},\"message\":\"Remove sup fig after rename\",\"distinct\":true,\"url\":\"https://api.github.com/repos/charitylaw/Intron-reads/commits/1e9d3aea17dcf979ce02e0989d8f16bb7a7b0549\"}]},\"public\":true,\"created_at\":\"2019-07-25T04:03:38Z\"},{\"id\":\"10080042901\",\"type\":\"PushEvent\",\"actor\":{\"id\":26514588,\"login\":\"FLYFLY-H\",\"display_login\":\"FLYFLY-H\",\"gravatar_id\":\"\",\"url\":\"https://api.github.com/users/FLYFLY-H\",\"avatar_url\":\"https://avatars.githubusercontent.com/u/26514588?\"},\"repo\":{\"id\":196343541,\"name\":\"tctfidoki/idoki\",\"url\":\"https://api.github.com/repos/tctfidoki/idoki\"},\"payload\":{\"push_id\":3853469044,\"size\":1,\"distinct_size\":1,\"ref\":\"refs/heads/Buildit\",\"head\":\"2caf0684adcfb7c95fcaebc6fef072fce10d41b0\",\"before\":\"05f45d41d3d915f638b249e31032e1f1d2600d6f\",\"commits\":[{\"sha\":\"2caf0684adcfb7c95fcaebc6fef072fce10d41b0\",\"author\":{\"email\":\"1481175102@qq.com\",\"name\":\"FlyFly_H\"},\"message\":\"delete\",\"distinct\":true,\"url\":\"https://api.github.com/repos/tctfidoki/idoki/commits/2caf0684adcfb7c95fcaebc6fef072fce10d41b0\"}]},\"public\":true,\"created_at\":\"2019-07-25T04:03:38Z\",\"org\":{\"id\":52734249,\"login\":\"tctfidoki\",\"gravatar_id\":\"\",\"url\":\"https://api.github.com/orgs/tctfidoki\",\"avatar_url\":\"https://avatars.githubusercontent.com/u/52734249?\"}},{\"id\":\"10080042898\",\"type\":\"ForkEvent\",\"actor\":{\"id\":5120581,\"login\":\"cc8848\",\"display_login\":\"cc8848\",\"gravatar_id\":\"\",\"url\":\"https://api.github.com/users/cc8848\",\"avatar_url\":\"https://avatars.githubusercontent.com/u/5120581?\"},\"repo\":{\"id\":26206359,\"name\":\"rockdai/haixiu\",\"url\":\"https://api.github.com/repos/rockdai/haixiu\"},\"payload\":{\"forkee\":{\"id\":198754805,\"node_id\":\"MDEwOlJlcG9zaXRvcnkxOTg3NTQ4MDU=\",\"name\":\"haixiu\",\"full_name\":\"cc8848/haixiu\",\"private\":false,\"owner\":{\"login\":\"cc8848\",\"id\":5120581,\"node_id\":\"MDQ6VXNlcjUxMjA1ODE=\",\"avatar_url\":\"https://avatars3.githubusercontent.com/u/5120581?v=4\",\"gravatar_id\":\"\",\"url\":\"https://api.github.com/users/cc8848\",\"html_url\":\"https://github.com/cc8848\",\"followers_url\":\"https://api.github.com/users/cc8848/followers\",\"following_url\":\"https://api.github.com/users/cc8848/following{/other_user}\",\"gists_url\":\"https://api.github.com/users/cc8848/gists{/gist_id}\",\"starred_url\":\"https://api.github.com/users/cc8848/starred{/owner}{/repo}\",\"subscriptions_url\":\"https://api.github.com/users/cc8848/subscriptions\",\"organizations_url\":\"https://api.github.com/users/cc8848/orgs\",\"repos_url\":\"https://api.github.com/users/cc8848/repos\",\"events_url\":\"https://api.github.com/users/cc8848/events{/privacy}\",\"received_events_url\":\"https://api.github.com/users/cc8848/received_events\",\"type\":\"User\",\"site_admin\":false},\"html_url\":\"https://github.com/cc8848/haixiu\",\"description\":\"豆瓣害羞组爬虫\",\"fork\":true,\"url\":\"https://api.github.com/repos/cc8848/haixiu\",\"forks_url\":\"https://api.github.com/repos/cc8848/haixiu/forks\",\"keys_url\":\"https://api.github.com/repos/cc8848/haixiu/keys{/key_id}\",\"collaborators_url\":\"https://api.github.com/repos/cc8848/haixiu/collaborators{/collaborator}\",\"teams_url\":\"https://api.github.com/repos/cc8848/haixiu/teams\",\"hooks_url\":\"https://api.github.com/repos/cc8848/haixiu/hooks\",\"issue_events_url\":\"https://api.github.com/repos/cc8848/haixiu/issues/events{/number}\",\"events_url\":\"https://api.github.com/repos/cc8848/haixiu/events\",\"assignees_url\":\"https://api.github.com/repos/cc8848/haixiu/assignees{/user}\",\"branches_url\":\"https://api.github.com/repos/cc8848/haixiu/branches{/branch}\",\"tags_url\":\"https://api.github.com/repos/cc8848/haixiu/tags\",\"blobs_url\":\"https://api.github.com/repos/cc8848/haixiu/git/blobs{/sha}\",\"git_tags_url\":\"https://api.github.com/repos/cc8848/haixiu/git/tags{/sha}\",\"git_refs_url\":\"https://api.github.com/repos/cc8848/haixiu/git/refs{/sha}\",\"trees_url\":\"https://api.github.com/repos/cc8848/haixiu/git/trees{/sha}\",\"statuses_url\":\"https://api.github.com/repos/cc8848/haixiu/statuses/{sha}\",\"languages_url\":\"https://api.github.com/repos/cc8848/haixiu/languages\",\"stargazers_url\":\"https://api.github.com/repos/cc8848/haixiu/stargazers\",\"contributors_url\":\"https://api.github.com/repos/cc8848/haixiu/contributors\",\"subscribers_url\":\"https://api.github.com/repos/cc8848/haixiu/subscribers\",\"subscription_url\":\"https://api.github.com/repos/cc8848/haixiu/subscription\",\"commits_url\":\"https://api.github.com/repos/cc8848/haixiu/commits{/sha}\",\"git_commits_url\":\"https://api.github.com/repos/cc8848/haixiu/git/commits{/sha}\",\"comments_url\":\"https://api.github.com/repos/cc8848/haixiu/comments{/number}\",\"issue_comment_url\":\"https://api.github.com/repos/cc8848/haixiu/issues/comments{/number}\",\"contents_url\":\"https://api.github.com/repos/cc8848/haixiu/contents/{+path}\",\"compare_url\":\"https://api.github.com/repos/cc8848/haixiu/compare/{base}...{head}\",\"merges_url\":\"https://api.github.com/repos/cc8848/haixiu/merges\",\"archive_url\":\"https://api.github.com/repos/cc8848/haixiu/{archive_format}{/ref}\",\"downloads_url\":\"https://api.github.com/repos/cc8848/haixiu/downloads\",\"issues_url\":\"https://api.github.com/repos/cc8848/haixiu/issues{/number}\",\"pulls_url\":\"https://api.github.com/repos/cc8848/haixiu/pulls{/number}\",\"milestones_url\":\"https://api.github.com/repos/cc8848/haixiu/milestones{/number}\",\"notifications_url\":\"https://api.github.com/repos/cc8848/haixiu/notifications{?since,all,participating}\",\"labels_url\":\"https://api.github.com/repos/cc8848/haixiu/labels{/name}\",\"releases_url\":\"https://api.github.com/repos/cc8848/haixiu/releases{/id}\",\"deployments_url\":\"https://api.github.com/repos/cc8848/haixiu/deployments\",\"created_at\":\"2019-07-25T04:03:38Z\",\"updated_at\":\"2019-07-21T04:40:35Z\",\"pushed_at\":\"2016-05-27T03:40:44Z\",\"git_url\":\"git://github.com/cc8848/haixiu.git\",\"ssh_url\":\"git@github.com:cc8848/haixiu.git\",\"clone_url\":\"https://github.com/cc8848/haixiu.git\",\"svn_url\":\"https://github.com/cc8848/haixiu\",\"homepage\":\"\",\"size\":22,\"stargazers_count\":0,\"watchers_count\":0,\"language\":null,\"has_issues\":false,\"has_projects\":true,\"has_downloads\":true,\"has_wiki\":true,\"has_pages\":false,\"forks_count\":0,\"mirror_url\":null,\"archived\":false,\"disabled\":false,\"open_issues_count\":0,\"license\":null,\"forks\":0,\"open_issues\":0,\"watchers\":0,\"default_branch\":\"master\",\"public\":true}},\"public\":true,\"created_at\":\"2019-07-25T04:03:38Z\"},{\"id\":\"10080042897\",\"type\":\"PullRequestEvent\",\"actor\":{\"id\":12777137,\"login\":\"dalekube\",\"display_login\":\"dalekube\",\"gravatar_id\":\"\",\"url\":\"https://api.github.com/users/dalekube\",\"avatar_url\":\"https://avatars.githubusercontent.com/u/12777137?\"},\"repo\":{\"id\":112129160,\"name\":\"dalekube/hR\",\"url\":\"https://api.github.com/repos/dalekube/hR\"},\"payload\":{\"action\":\"opened\",\"number\":10,\"pull_request\":{\"url\":\"https://api.github.com/repos/dalekube/hR/pulls/10\",\"id\":300972921,\"node_id\":\"MDExOlB1bGxSZXF1ZXN0MzAwOTcyOTIx\",\"html_url\":\"https://github.com/dalekube/hR/pull/10\",\"diff_url\":\"https://github.com/dalekube/hR/pull/10.diff\",\"patch_url\":\"https://github.com/dalekube/hR/pull/10.patch\",\"issue_url\":\"https://api.github.com/repos/dalekube/hR/issues/10\",\"number\":10,\"state\":\"open\",\"locked\":false,\"title\":\"V0.2.0\",\"user\":{\"login\":\"dalekube\",\"id\":12777137,\"node_id\":\"MDQ6VXNlcjEyNzc3MTM3\",\"avatar_url\":\"https://avatars1.githubusercontent.com/u/12777137?v=4\",\"gravatar_id\":\"\",\"url\":\"https://api.github.com/users/dalekube\",\"html_url\":\"https://github.com/dalekube\",\"followers_url\":\"https://api.github.com/users/dalekube/followers\",\"following_url\":\"https://api.github.com/users/dalekube/following{/other_user}\",\"gists_url\":\"https://api.github.com/users/dalekube/gists{/gist_id}\",\"starred_url\":\"https://api.github.com/users/dalekube/starred{/owner}{/repo}\",\"subscriptions_url\":\"https://api.github.com/users/dalekube/subscriptions\",\"organizations_url\":\"https://api.github.com/users/dalekube/orgs\",\"repos_url\":\"https://api.github.com/users/dalekube/repos\",\"events_url\":\"https://api.github.com/users/dalekube/events{/privacy}\",\"received_events_url\":\"https://api.github.com/users/dalekube/received_events\",\"type\":\"User\",\"site_admin\":false},\"body\":\"CRAN upload version 0.2.0.\",\"created_at\":\"2019-07-25T04:03:38Z\",\"updated_at\":\"2019-07-25T04:03:38Z\",\"closed_at\":null,\"merged_at\":null,\"merge_commit_sha\":null,\"assignee\":null,\"assignees\":[],\"requested_reviewers\":[],\"requested_teams\":[],\"labels\":[],\"milestone\":null,\"commits_url\":\"https://api.github.com/repos/dalekube/hR/pulls/10/commits\",\"review_comments_url\":\"https://api.github.com/repos/dalekube/hR/pulls/10/comments\",\"review_comment_url\":\"https://api.github.com/repos/dalekube/hR/pulls/comments{/number}\",\"comments_url\":\"https://api.github.com/repos/dalekube/hR/issues/10/comments\",\"statuses_url\":\"https://api.github.com/repos/dalekube/hR/statuses/ff169363a42e549b14a69f2b49b7c082e071be8f\",\"head\":{\"label\":\"dalekube:v0.2.0\",\"ref\":\"v0.2.0\",\"sha\":\"ff169363a42e549b14a69f2b49b7c082e071be8f\",\"user\":{\"login\":\"dalekube\",\"id\":12777137,\"node_id\":\"MDQ6VXNlcjEyNzc3MTM3\",\"avatar_url\":\"https://avatars1.githubusercontent.com/u/12777137?v=4\",\"gravatar_id\":\"\",\"url\":\"https://api.github.com/users/dalekube\",\"html_url\":\"https://github.com/dalekube\",\"followers_url\":\"https://api.github.com/users/dalekube/followers\",\"following_url\":\"https://api.github.com/users/dalekube/following{/other_user}\",\"gists_url\":\"https://api.github.com/users/dalekube/gists{/gist_id}\",\"starred_url\":\"https://api.github.com/users/dalekube/starred{/owner}{/repo}\",\"subscriptions_url\":\"https://api.github.com/users/dalekube/subscriptions\",\"organizations_url\":\"https://api.github.com/users/dalekube/orgs\",\"repos_url\":\"https://api.github.com/users/dalekube/repos\",\"events_url\":\"https://api.github.com/users/dalekube/events{/privacy}\",\"received_events_url\":\"https://api.github.com/users/dalekube/received_events\",\"type\":\"User\",\"site_admin\":false},\"repo\":{\"id\":112129160,\"node_id\":\"MDEwOlJlcG9zaXRvcnkxMTIxMjkxNjA=\",\"name\":\"hR\",\"full_name\":\"dalekube/hR\",\"private\":false,\"owner\":{\"login\":\"dalekube\",\"id\":12777137,\"node_id\":\"MDQ6VXNlcjEyNzc3MTM3\",\"avatar_url\":\"https://avatars1.githubusercontent.com/u/12777137?v=4\",\"gravatar_id\":\"\",\"url\":\"https://api.github.com/users/dalekube\",\"html_url\":\"https://github.com/dalekube\",\"followers_url\":\"https://api.github.com/users/dalekube/followers\",\"following_url\":\"https://api.github.com/users/dalekube/following{/other_user}\",\"gists_url\":\"https://api.github.com/users/dalekube/gists{/gist_id}\",\"starred_url\":\"https://api.github.com/users/dalekube/starred{/owner}{/repo}\",\"subscriptions_url\":\"https://api.github.com/users/dalekube/subscriptions\",\"organizations_url\":\"https://api.github.com/users/dalekube/orgs\",\"repos_url\":\"https://api.github.com/users/dalekube/repos\",\"events_url\":\"https://api.github.com/users/dalekube/events{/privacy}\",\"received_events_url\":\"https://api.github.com/users/dalekube/received_events\",\"type\":\"User\",\"site_admin\":false},\"html_url\":\"https://github.com/dalekube/hR\",\"description\":\"Toolkit for Data Analytics in Human Resources\",\"fork\":false,\"url\":\"https://api.github.com/repos/dalekube/hR\",\"forks_url\":\"https://api.github.com/repos/dalekube/hR/forks\",\"keys_url\":\"https://api.github.com/repos/dalekube/hR/keys{/key_id}\",\"collaborators_url\":\"https://api.github.com/repos/dalekube/hR/collaborators{/collaborator}\",\"teams_url\":\"https://api.github.com/repos/dalekube/hR/teams\",\"hooks_url\":\"https://api.github.com/repos/dalekube/hR/hooks\",\"issue_events_url\":\"https://api.github.com/repos/dalekube/hR/issues/events{/number}\",\"events_url\":\"https://api.github.com/repos/dalekube/hR/events\",\"assignees_url\":\"https://api.github.com/repos/dalekube/hR/assignees{/user}\",\"branches_url\":\"https://api.github.com/repos/dalekube/hR/branches{/branch}\",\"tags_url\":\"https://api.github.com/repos/dalekube/hR/tags\",\"blobs_url\":\"https://api.github.com/repos/dalekube/hR/git/blobs{/sha}\",\"git_tags_url\":\"https://api.github.com/repos/dalekube/hR/git/tags{/sha}\",\"git_refs_url\":\"https://api.github.com/repos/dalekube/hR/git/refs{/sha}\",\"trees_url\":\"https://api.github.com/repos/dalekube/hR/git/trees{/sha}\",\"statuses_url\":\"https://api.github.com/repos/dalekube/hR/statuses/{sha}\",\"languages_url\":\"https://api.github.com/repos/dalekube/hR/languages\",\"stargazers_url\":\"https://api.github.com/repos/dalekube/hR/stargazers\",\"contributors_url\":\"https://api.github.com/repos/dalekube/hR/contributors\",\"subscribers_url\":\"https://api.github.com/repos/dalekube/hR/subscribers\",\"subscription_url\":\"https://api.github.com/repos/dalekube/hR/subscription\",\"commits_url\":\"https://api.github.com/repos/dalekube/hR/commits{/sha}\",\"git_commits_url\":\"https://api.github.com/repos/dalekube/hR/git/commits{/sha}\",\"comments_url\":\"https://api.github.com/repos/dalekube/hR/comments{/number}\",\"issue_comment_url\":\"https://api.github.com/repos/dalekube/hR/issues/comments{/number}\",\"contents_url\":\"https://api.github.com/repos/dalekube/hR/contents/{+path}\",\"compare_url\":\"https://api.github.com/repos/dalekube/hR/compare/{base}...{head}\",\"merges_url\":\"https://api.github.com/repos/dalekube/hR/merges\",\"archive_url\":\"https://api.github.com/repos/dalekube/hR/{archive_format}{/ref}\",\"downloads_url\":\"https://api.github.com/repos/dalekube/hR/downloads\",\"issues_url\":\"https://api.github.com/repos/dalekube/hR/issues{/number}\",\"pulls_url\":\"https://api.github.com/repos/dalekube/hR/pulls{/number}\",\"milestones_url\":\"https://api.github.com/repos/dalekube/hR/milestones{/number}\",\"notifications_url\":\"https://api.github.com/repos/dalekube/hR/notifications{?since,all,participating}\",\"labels_url\":\"https://api.github.com/repos/dalekube/hR/labels{/name}\",\"releases_url\":\"https://api.github.com/repos/dalekube/hR/releases{/id}\",\"deployments_url\":\"https://api.github.com/repos/dalekube/hR/deployments\",\"created_at\":\"2017-11-27T00:44:36Z\",\"updated_at\":\"2019-05-18T14:59:16Z\",\"pushed_at\":\"2019-06-23T18:30:57Z\",\"git_url\":\"git://github.com/dalekube/hR.git\",\"ssh_url\":\"git@github.com:dalekube/hR.git\",\"clone_url\":\"https://github.com/dalekube/hR.git\",\"svn_url\":\"https://github.com/dalekube/hR\",\"homepage\":\"http://rpubs.com/dalekube/hR\",\"size\":476,\"stargazers_count\":2,\"watchers_count\":2,\"language\":\"R\",\"has_issues\":true,\"has_projects\":true,\"has_downloads\":true,\"has_wiki\":true,\"has_pages\":false,\"forks_count\":1,\"mirror_url\":null,\"archived\":false,\"disabled\":false,\"open_issues_count\":2,\"license\":null,\"forks\":1,\"open_issues\":2,\"watchers\":2,\"default_branch\":\"master\"}},\"base\":{\"label\":\"dalekube:master\",\"ref\":\"master\",\"sha\":\"a9b2b67f5c053c96d6f45bbc19f408c5628e7d6a\",\"user\":{\"login\":\"dalekube\",\"id\":12777137,\"node_id\":\"MDQ6VXNlcjEyNzc3MTM3\",\"avatar_url\":\"https://avatars1.githubusercontent.com/u/12777137?v=4\",\"gravatar_id\":\"\",\"url\":\"https://api.github.com/users/dalekube\",\"html_url\":\"https://github.com/dalekube\",\"followers_url\":\"https://api.github.com/users/dalekube/followers\",\"following_url\":\"https://api.github.com/users/dalekube/following{/other_user}\",\"gists_url\":\"https://api.github.com/users/dalekube/gists{/gist_id}\",\"starred_url\":\"https://api.github.com/users/dalekube/starred{/owner}{/repo}\",\"subscriptions_url\":\"https://api.github.com/users/dalekube/subscriptions\",\"organizations_url\":\"https://api.github.com/users/dalekube/orgs\",\"repos_url\":\"https://api.github.com/users/dalekube/repos\",\"events_url\":\"https://api.github.com/users/dalekube/events{/privacy}\",\"received_events_url\":\"https://api.github.com/users/dalekube/received_events\",\"type\":\"User\",\"site_admin\":false},\"repo\":{\"id\":112129160,\"node_id\":\"MDEwOlJlcG9zaXRvcnkxMTIxMjkxNjA=\",\"name\":\"hR\",\"full_name\":\"dalekube/hR\",\"private\":false,\"owner\":{\"login\":\"dalekube\",\"id\":12777137,\"node_id\":\"MDQ6VXNlcjEyNzc3MTM3\",\"avatar_url\":\"https://avatars1.githubusercontent.com/u/12777137?v=4\",\"gravatar_id\":\"\",\"url\":\"https://api.github.com/users/dalekube\",\"html_url\":\"https://github.com/dalekube\",\"followers_url\":\"https://api.github.com/users/dalekube/followers\",\"following_url\":\"https://api.github.com/users/dalekube/following{/other_user}\",\"gists_url\":\"https://api.github.com/users/dalekube/gists{/gist_id}\",\"starred_url\":\"https://api.github.com/users/dalekube/starred{/owner}{/repo}\",\"subscriptions_url\":\"https://api.github.com/users/dalekube/subscriptions\",\"organizations_url\":\"https://api.github.com/users/dalekube/orgs\",\"repos_url\":\"https://api.github.com/users/dalekube/repos\",\"events_url\":\"https://api.github.com/users/dalekube/events{/privacy}\",\"received_events_url\":\"https://api.github.com/users/dalekube/received_events\",\"type\":\"User\",\"site_admin\":false},\"html_url\":\"https://github.com/dalekube/hR\",\"description\":\"Toolkit for Data Analytics in Human Resources\",\"fork\":false,\"url\":\"https://api.github.com/repos/dalekube/hR\",\"forks_url\":\"https://api.github.com/repos/dalekube/hR/forks\",\"keys_url\":\"https://api.github.com/repos/dalekube/hR/keys{/key_id}\",\"collaborators_url\":\"https://api.github.com/repos/dalekube/hR/collaborators{/collaborator}\",\"teams_url\":\"https://api.github.com/repos/dalekube/hR/teams\",\"hooks_url\":\"https://api.github.com/repos/dalekube/hR/hooks\",\"issue_events_url\":\"https://api.github.com/repos/dalekube/hR/issues/events{/number}\",\"events_url\":\"https://api.github.com/repos/dalekube/hR/events\",\"assignees_url\":\"https://api.github.com/repos/dalekube/hR/assignees{/user}\",\"branches_url\":\"https://api.github.com/repos/dalekube/hR/branches{/branch}\",\"tags_url\":\"https://api.github.com/repos/dalekube/hR/tags\",\"blobs_url\":\"https://api.github.com/repos/dalekube/hR/git/blobs{/sha}\",\"git_tags_url\":\"https://api.github.com/repos/dalekube/hR/git/tags{/sha}\",\"git_refs_url\":\"https://api.github.com/repos/dalekube/hR/git/refs{/sha}\",\"trees_url\":\"https://api.github.com/repos/dalekube/hR/git/trees{/sha}\",\"statuses_url\":\"https://api.github.com/repos/dalekube/hR/statuses/{sha}\",\"languages_url\":\"https://api.github.com/repos/dalekube/hR/languages\",\"stargazers_url\":\"https://api.github.com/repos/dalekube/hR/stargazers\",\"contributors_url\":\"https://api.github.com/repos/dalekube/hR/contributors\",\"subscribers_url\":\"https://api.github.com/repos/dalekube/hR/subscribers\",\"subscription_url\":\"https://api.github.com/repos/dalekube/hR/subscription\",\"commits_url\":\"https://api.github.com/repos/dalekube/hR/commits{/sha}\",\"git_commits_url\":\"https://api.github.com/repos/dalekube/hR/git/commits{/sha}\",\"comments_url\":\"https://api.github.com/repos/dalekube/hR/comments{/number}\",\"issue_comment_url\":\"https://api.github.com/repos/dalekube/hR/issues/comments{/number}\",\"contents_url\":\"https://api.github.com/repos/dalekube/hR/contents/{+path}\",\"compare_url\":\"https://api.github.com/repos/dalekube/hR/compare/{base}...{head}\",\"merges_url\":\"https://api.github.com/repos/dalekube/hR/merges\",\"archive_url\":\"https://api.github.com/repos/dalekube/hR/{archive_format}{/ref}\",\"downloads_url\":\"https://api.github.com/repos/dalekube/hR/downloads\",\"issues_url\":\"https://api.github.com/repos/dalekube/hR/issues{/number}\",\"pulls_url\":\"https://api.github.com/repos/dalekube/hR/pulls{/number}\",\"milestones_url\":\"https://api.github.com/repos/dalekube/hR/milestones{/number}\",\"notifications_url\":\"https://api.github.com/repos/dalekube/hR/notifications{?since,all,participating}\",\"labels_url\":\"https://api.github.com/repos/dalekube/hR/labels{/name}\",\"releases_url\":\"https://api.github.com/repos/dalekube/hR/releases{/id}\",\"deployments_url\":\"https://api.github.com/repos/dalekube/hR/deployments\",\"created_at\":\"2017-11-27T00:44:36Z\",\"updated_at\":\"2019-05-18T14:59:16Z\",\"pushed_at\":\"2019-06-23T18:30:57Z\",\"git_url\":\"git://github.com/dalekube/hR.git\",\"ssh_url\":\"git@github.com:dalekube/hR.git\",\"clone_url\":\"https://github.com/dalekube/hR.git\",\"svn_url\":\"https://github.com/dalekube/hR\",\"homepage\":\"http://rpubs.com/dalekube/hR\",\"size\":476,\"stargazers_count\":2,\"watchers_count\":2,\"language\":\"R\",\"has_issues\":true,\"has_projects\":true,\"has_downloads\":true,\"has_wiki\":true,\"has_pages\":false,\"forks_count\":1,\"mirror_url\":null,\"archived\":false,\"disabled\":false,\"open_issues_count\":2,\"license\":null,\"forks\":1,\"open_issues\":2,\"watchers\":2,\"default_branch\":\"master\"}},\"_links\":{\"self\":{\"href\":\"https://api.github.com/repos/dalekube/hR/pulls/10\"},\"html\":{\"href\":\"https://github.com/dalekube/hR/pull/10\"},\"issue\":{\"href\":\"https://api.github.com/repos/dalekube/hR/issues/10\"},\"comments\":{\"href\":\"https://api.github.com/repos/dalekube/hR/issues/10/comments\"},\"review_comments\":{\"href\":\"https://api.github.com/repos/dalekube/hR/pulls/10/comments\"},\"review_comment\":{\"href\":\"https://api.github.com/repos/dalekube/hR/pulls/comments{/number}\"},\"commits\":{\"href\":\"https://api.github.com/repos/dalekube/hR/pulls/10/commits\"},\"statuses\":{\"href\":\"https://api.github.com/repos/dalekube/hR/statuses/ff169363a42e549b14a69f2b49b7c082e071be8f\"}},\"author_association\":\"OWNER\",\"merged\":false,\"mergeable\":null,\"rebaseable\":null,\"mergeable_state\":\"unknown\",\"merged_by\":null,\"comments\":0,\"review_comments\":0,\"maintainer_can_modify\":false,\"commits\":8,\"additions\":172,\"deletions\":103,\"changed_files\":9}},\"public\":true,\"created_at\":\"2019-07-25T04:03:38Z\"},{\"id\":\"10080042896\",\"type\":\"PushEvent\",\"actor\":{\"id\":53285366,\"login\":\"ketnoim2m\",\"display_login\":\"ketnoim2m\",\"gravatar_id\":\"\",\"url\":\"https://api.github.com/users/ketnoim2m\",\"avatar_url\":\"https://avatars.githubusercontent.com/u/53285366?\"},\"repo\":{\"id\":198746215,\"name\":\"ketnoim2m/fonts\",\"url\":\"https://api.github.com/repos/ketnoim2m/fonts\"},\"payload\":{\"push_id\":3853469042,\"size\":1,\"distinct_size\":1,\"ref\":\"refs/heads/master\",\"head\":\"dbb7371e3080be31f9efdd02993e928dde281b51\",\"before\":\"0eb4fe67755861dcdd9b27ec72651e8a591a9f28\",\"commits\":[{\"sha\":\"dbb7371e3080be31f9efdd02993e928dde281b51\",\"author\":{\"email\":\"53285366+ketnoim2m@users.noreply.github.com\",\"name\":\"ketnoim2m\"},\"message\":\"Add files via upload\",\"distinct\":true,\"url\":\"https://api.github.com/repos/ketnoim2m/fonts/commits/dbb7371e3080be31f9efdd02993e928dde281b51\"}]},\"public\":true,\"created_at\":\"2019-07-25T04:03:38Z\"},{\"id\":\"10080042890\",\"type\":\"PushEvent\",\"actor\":{\"id\":16645289,\"login\":\"torrentdu64\",\"display_login\":\"torrentdu64\",\"gravatar_id\":\"\",\"url\":\"https://api.github.com/users/torrentdu64\",\"avatar_url\":\"https://avatars.githubusercontent.com/u/16645289?\"},\"repo\":{\"id\":198296720,\"name\":\"torrentdu64/streams\",\"url\":\"https://api.github.com/repos/torrentdu64/streams\"},\"payload\":{\"push_id\":3853469028,\"size\":1,\"distinct_size\":1,\"ref\":\"refs/heads/master\",\"head\":\"76e2d910db4ccb3927a9b11e24ff8afb5e46f66e\",\"before\":\"1b40c6481d5a47daa756e8c1af58d155ba978370\",\"commits\":[{\"sha\":\"76e2d910db4ccb3927a9b11e24ff8afb5e46f66e\",\"author\":{\"email\":\"torrentdu64@gmail.com\",\"name\":\"torrent benoit\"},\"message\":\"streams server\",\"distinct\":true,\"url\":\"https://api.github.com/repos/torrentdu64/streams/commits/76e2d910db4ccb3927a9b11e24ff8afb5e46f66e\"}]},\"public\":true,\"created_at\":\"2019-07-25T04:03:38Z\"},{\"id\":\"10080042891\",\"type\":\"IssuesEvent\",\"actor\":{\"id\":51396981,\"login\":\"houke4743\",\"display_login\":\"houke4743\",\"gravatar_id\":\"\",\"url\":\"https://api.github.com/users/houke4743\",\"avatar_url\":\"https://avatars.githubusercontent.com/u/51396981?\"},\"repo\":{\"id\":145678415,\"name\":\"ISID/iPLAss\",\"url\":\"https://api.github.com/repos/ISID/iPLAss\"},\"payload\":{\"action\":\"closed\",\"issue\":{\"url\":\"https://api.github.com/repos/ISID/iPLAss/issues/260\",\"repository_url\":\"https://api.github.com/repos/ISID/iPLAss\",\"labels_url\":\"https://api.github.com/repos/ISID/iPLAss/issues/260/labels{/name}\",\"comments_url\":\"https://api.github.com/repos/ISID/iPLAss/issues/260/comments\",\"events_url\":\"https://api.github.com/repos/ISID/iPLAss/issues/260/events\",\"html_url\":\"https://github.com/ISID/iPLAss/issues/260\",\"id\":465693483,\"node_id\":\"MDU6SXNzdWU0NjU2OTM0ODM=\",\"number\":260,\"title\":\"gem、一括削除および一括更新のコミット件数を設定可能にする\",\"user\":{\"login\":\"HiguchiKiyoshi\",\"id\":22016554,\"node_id\":\"MDQ6VXNlcjIyMDE2NTU0\",\"avatar_url\":\"https://avatars2.githubusercontent.com/u/22016554?v=4\",\"gravatar_id\":\"\",\"url\":\"https://api.github.com/users/HiguchiKiyoshi\",\"html_url\":\"https://github.com/HiguchiKiyoshi\",\"followers_url\":\"https://api.github.com/users/HiguchiKiyoshi/followers\",\"following_url\":\"https://api.github.com/users/HiguchiKiyoshi/following{/other_user}\",\"gists_url\":\"https://api.github.com/users/HiguchiKiyoshi/gists{/gist_id}\",\"starred_url\":\"https://api.github.com/users/HiguchiKiyoshi/starred{/owner}{/repo}\",\"subscriptions_url\":\"https://api.github.com/users/HiguchiKiyoshi/subscriptions\",\"organizations_url\":\"https://api.github.com/users/HiguchiKiyoshi/orgs\",\"repos_url\":\"https://api.github.com/users/HiguchiKiyoshi/repos\",\"events_url\":\"https://api.github.com/users/HiguchiKiyoshi/events{/privacy}\",\"received_events_url\":\"https://api.github.com/users/HiguchiKiyoshi/received_events\",\"type\":\"User\",\"site_admin\":false},\"labels\":[{\"id\":1031765883,\"node_id\":\"MDU6TGFiZWwxMDMxNzY1ODgz\",\"url\":\"https://api.github.com/repos/ISID/iPLAss/labels/enhancement\",\"name\":\"enhancement\",\"color\":\"a2eeef\",\"default\":true}],\"state\":\"closed\",\"locked\":false,\"assignee\":{\"login\":\"houke4743\",\"id\":51396981,\"node_id\":\"MDQ6VXNlcjUxMzk2OTgx\",\"avatar_url\":\"https://avatars1.githubusercontent.com/u/51396981?v=4\",\"gravatar_id\":\"\",\"url\":\"https://api.github.com/users/houke4743\",\"html_url\":\"https://github.com/houke4743\",\"followers_url\":\"https://api.github.com/users/houke4743/followers\",\"following_url\":\"https://api.github.com/users/houke4743/following{/other_user}\",\"gists_url\":\"https://api.github.com/users/houke4743/gists{/gist_id}\",\"starred_url\":\"https://api.github.com/users/houke4743/starred{/owner}{/repo}\",\"subscriptions_url\":\"https://api.github.com/users/houke4743/subscriptions\",\"organizations_url\":\"https://api.github.com/users/houke4743/orgs\",\"repos_url\":\"https://api.github.com/users/houke4743/repos\",\"events_url\":\"https://api.github.com/users/houke4743/events{/privacy}\",\"received_events_url\":\"https://api.github.com/users/houke4743/received_events\",\"type\":\"User\",\"site_admin\":false},\"assignees\":[{\"login\":\"houke4743\",\"id\":51396981,\"node_id\":\"MDQ6VXNlcjUxMzk2OTgx\",\"avatar_url\":\"https://avatars1.githubusercontent.com/u/51396981?v=4\",\"gravatar_id\":\"\",\"url\":\"https://api.github.com/users/houke4743\",\"html_url\":\"https://github.com/houke4743\",\"followers_url\":\"https://api.github.com/users/houke4743/followers\",\"following_url\":\"https://api.github.com/users/houke4743/following{/other_user}\",\"gists_url\":\"https://api.github.com/users/houke4743/gists{/gist_id}\",\"starred_url\":\"https://api.github.com/users/houke4743/starred{/owner}{/repo}\",\"subscriptions_url\":\"https://api.github.com/users/houke4743/subscriptions\",\"organizations_url\":\"https://api.github.com/users/houke4743/orgs\",\"repos_url\":\"https://api.github.com/users/houke4743/repos\",\"events_url\":\"https://api.github.com/users/houke4743/events{/privacy}\",\"received_events_url\":\"https://api.github.com/users/houke4743/received_events\",\"type\":\"User\",\"site_admin\":false}],\"milestone\":{\"url\":\"https://api.github.com/repos/ISID/iPLAss/milestones/12\",\"html_url\":\"https://github.com/ISID/iPLAss/milestone/12\",\"labels_url\":\"https://api.github.com/repos/ISID/iPLAss/milestones/12/labels\",\"id\":4448163,\"node_id\":\"MDk6TWlsZXN0b25lNDQ0ODE2Mw==\",\"number\":12,\"title\":\"3.0.12\",\"description\":\"\",\"creator\":{\"login\":\"HiguchiKiyoshi\",\"id\":22016554,\"node_id\":\"MDQ6VXNlcjIyMDE2NTU0\",\"avatar_url\":\"https://avatars2.githubusercontent.com/u/22016554?v=4\",\"gravatar_id\":\"\",\"url\":\"https://api.github.com/users/HiguchiKiyoshi\",\"html_url\":\"https://github.com/HiguchiKiyoshi\",\"followers_url\":\"https://api.github.com/users/HiguchiKiyoshi/followers\",\"following_url\":\"https://api.github.com/users/HiguchiKiyoshi/following{/other_user}\",\"gists_url\":\"https://api.github.com/users/HiguchiKiyoshi/gists{/gist_id}\",\"starred_url\":\"https://api.github.com/users/HiguchiKiyoshi/starred{/owner}{/repo}\",\"subscriptions_url\":\"https://api.github.com/users/HiguchiKiyoshi/subscriptions\",\"organizations_url\":\"https://api.github.com/users/HiguchiKiyoshi/orgs\",\"repos_url\":\"https://api.github.com/users/HiguchiKiyoshi/repos\",\"events_url\":\"https://api.github.com/users/HiguchiKiyoshi/events{/privacy}\",\"received_events_url\":\"https://api.github.com/users/HiguchiKiyoshi/received_events\",\"type\":\"User\",\"site_admin\":false},\"open_issues\":0,\"closed_issues\":32,\"state\":\"open\",\"created_at\":\"2019-06-28T07:20:34Z\",\"updated_at\":\"2019-07-25T04:03:38Z\",\"due_on\":null,\"closed_at\":null},\"comments\":1,\"created_at\":\"2019-07-09T10:11:58Z\",\"updated_at\":\"2019-07-25T04:03:37Z\",\"closed_at\":\"2019-07-25T04:03:37Z\",\"author_association\":\"MEMBER\",\"body\":\"gem、一括削除および一括更新のコミット件数をそれぞれ設定可能にする。\\\\r\\\\n現状、100件単位でコミットしているが、この件数を設定可能なようにする。\\\\r\\\\n（CSVアップロード時と同様のコミット制御をおこなう）\\\\r\\\\n\\\\r\\\\n具体的な対応\\\\r\\\\n一括削除、一括更新それぞれの処理に対して、\\\\r\\\\n* EntityView定義に処理時のトランザクション制御タイプ（一括コミット、分割コミット）を指定可能に\\\\r\\\\n* GemConfigServiceに分割コミット時の件数を指定可能に\\\\r\\\\n\"}},\"public\":true,\"created_at\":\"2019-07-25T04:03:38Z\",\"org\":{\"id\":17040292,\"login\":\"ISID\",\"gravatar_id\":\"\",\"url\":\"https://api.github.com/orgs/ISID\",\"avatar_url\":\"https://avatars.githubusercontent.com/u/17040292?\"}},{\"id\":\"10080042889\",\"type\":\"PullRequestEvent\",\"actor\":{\"id\":42781255,\"login\":\"ThomasUtsey\",\"display_login\":\"ThomasUtsey\",\"gravatar_id\":\"\",\"url\":\"https://api.github.com/users/ThomasUtsey\",\"avatar_url\":\"https://avatars.githubusercontent.com/u/42781255?\"},\"repo\":{\"id\":185896674,\"name\":\"labslibrarypt3/LabsLibraryPT3_BE\",\"url\":\"https://api.github.com/repos/labslibrarypt3/LabsLibraryPT3_BE\"},\"payload\":{\"action\":\"closed\",\"number\":102,\"pull_request\":{\"url\":\"https://api.github.com/repos/labslibrarypt3/LabsLibraryPT3_BE/pulls/102\",\"id\":300972839,\"node_id\":\"MDExOlB1bGxSZXF1ZXN0MzAwOTcyODM5\",\"html_url\":\"https://github.com/labslibrarypt3/LabsLibraryPT3_BE/pull/102\",\"diff_url\":\"https://github.com/labslibrarypt3/LabsLibraryPT3_BE/pull/102.diff\",\"patch_url\":\"https://github.com/labslibrarypt3/LabsLibraryPT3_BE/pull/102.patch\",\"issue_url\":\"https://api.github.com/repos/labslibrarypt3/LabsLibraryPT3_BE/issues/102\",\"number\":102,\"state\":\"closed\",\"locked\":false,\"title\":\"Ira sanchez\",\"user\":{\"login\":\"ThomasUtsey\",\"id\":42781255,\"node_id\":\"MDQ6VXNlcjQyNzgxMjU1\",\"avatar_url\":\"https://avatars3.githubusercontent.com/u/42781255?v=4\",\"gravatar_id\":\"\",\"url\":\"https://api.github.com/users/ThomasUtsey\",\"html_url\":\"https://github.com/ThomasUtsey\",\"followers_url\":\"https://api.github.com/users/ThomasUtsey/followers\",\"following_url\":\"https://api.github.com/users/ThomasUtsey/following{/other_user}\",\"gists_url\":\"https://api.github.com/users/ThomasUtsey/gists{/gist_id}\",\"starred_url\":\"https://api.github.com/users/ThomasUtsey/starred{/owner}{/repo}\",\"subscriptions_url\":\"https://api.github.com/users/ThomasUtsey/subscriptions\",\"organizations_url\":\"https://api.github.com/users/ThomasUtsey/orgs\",\"repos_url\":\"https://api.github.com/users/ThomasUtsey/repos\",\"events_url\":\"https://api.github.com/users/ThomasUtsey/events{/privacy}\",\"received_events_url\":\"https://api.github.com/users/ThomasUtsey/received_events\",\"type\":\"User\",\"site_admin\":false},\"body\":\"\",\"created_at\":\"2019-07-25T04:03:03Z\",\"updated_at\":\"2019-07-25T04:03:37Z\",\"closed_at\":\"2019-07-25T04:03:37Z\",\"merged_at\":\"2019-07-25T04:03:37Z\",\"merge_commit_sha\":\"37df678fd295dae223729a0c764dede72a93f47d\",\"assignee\":null,\"assignees\":[],\"requested_reviewers\":[],\"requested_teams\":[],\"labels\":[],\"milestone\":null,\"commits_url\":\"https://api.github.com/repos/labslibrarypt3/LabsLibraryPT3_BE/pulls/102/commits\",\"review_comments_url\":\"https://api.github.com/repos/labslibrarypt3/LabsLibraryPT3_BE/pulls/102/comments\",\"review_comment_url\":\"https://api.github.com/repos/labslibrarypt3/LabsLibraryPT3_BE/pulls/comments{/number}\",\"comments_url\":\"https://api.github.com/repos/labslibrarypt3/LabsLibraryPT3_BE/issues/102/comments\",\"statuses_url\":\"https://api.github.com/repos/labslibrarypt3/LabsLibraryPT3_BE/statuses/b60b3f559c1796e92d9dde5763a31d159dddc94a\",\"head\":{\"label\":\"labslibrarypt3:ira-sanchez\",\"ref\":\"ira-sanchez\",\"sha\":\"b60b3f559c1796e92d9dde5763a31d159dddc94a\",\"user\":{\"login\":\"labslibrarypt3\",\"id\":50470163,\"node_id\":\"MDEyOk9yZ2FuaXphdGlvbjUwNDcwMTYz\",\"avatar_url\":\"https://avatars2.githubusercontent.com/u/50470163?v=4\",\"gravatar_id\":\"\",\"url\":\"https://api.github.com/users/labslibrarypt3\",\"html_url\":\"https://github.com/labslibrarypt3\",\"followers_url\":\"https://api.github.com/users/labslibrarypt3/followers\",\"following_url\":\"https://api.github.com/users/labslibrarypt3/following{/other_user}\",\"gists_url\":\"https://api.github.com/users/labslibrarypt3/gists{/gist_id}\",\"starred_url\":\"https://api.github.com/users/labslibrarypt3/starred{/owner}{/repo}\",\"subscriptions_url\":\"https://api.github.com/users/labslibrarypt3/subscriptions\",\"organizations_url\":\"https://api.github.com/users/labslibrarypt3/orgs\",\"repos_url\":\"https://api.github.com/users/labslibrarypt3/repos\",\"events_url\":\"https://api.github.com/users/labslibrarypt3/events{/privacy}\",\"received_events_url\":\"https://api.github.com/users/labslibrarypt3/received_events\",\"type\":\"Organization\",\"site_admin\":false},\"repo\":{\"id\":185896674,\"node_id\":\"MDEwOlJlcG9zaXRvcnkxODU4OTY2NzQ=\",\"name\":\"LabsLibraryPT3_BE\",\"full_name\":\"labslibrarypt3/LabsLibraryPT3_BE\",\"private\":false,\"owner\":{\"login\":\"labslibrarypt3\",\"id\":50470163,\"node_id\":\"MDEyOk9yZ2FuaXphdGlvbjUwNDcwMTYz\",\"avatar_url\":\"https://avatars2.githubusercontent.com/u/50470163?v=4\",\"gravatar_id\":\"\",\"url\":\"https://api.github.com/users/labslibrarypt3\",\"html_url\":\"https://github.com/labslibrarypt3\",\"followers_url\":\"https://api.github.com/users/labslibrarypt3/followers\",\"following_url\":\"https://api.github.com/users/labslibrarypt3/following{/other_user}\",\"gists_url\":\"https://api.github.com/users/labslibrarypt3/gists{/gist_id}\",\"starred_url\":\"https://api.github.com/users/labslibrarypt3/starred{/owner}{/repo}\",\"subscriptions_url\":\"https://api.github.com/users/labslibrarypt3/subscriptions\",\"organizations_url\":\"https://api.github.com/users/labslibrarypt3/orgs\",\"repos_url\":\"https://api.github.com/users/labslibrarypt3/repos\",\"events_url\":\"https://api.github.com/users/labslibrarypt3/events{/privacy}\",\"received_events_url\":\"https://api.github.com/users/labslibrarypt3/received_events\",\"type\":\"Organization\",\"site_admin\":false},\"html_url\":\"https://github.com/labslibrarypt3/LabsLibraryPT3_BE\",\"description\":\"BE\",\"fork\":false,\"url\":\"https://api.github.com/repos/labslibrarypt3/LabsLibraryPT3_BE\",\"forks_url\":\"https://api.github.com/repos/labslibrarypt3/LabsLibraryPT3_BE/forks\",\"keys_url\":\"https://api.github.com/repos/labslibrarypt3/LabsLibraryPT3_BE/keys{/key_id}\",\"collaborators_url\":\"https://api.github.com/repos/labslibrarypt3/LabsLibraryPT3_BE/collaborators{/collaborator}\",\"teams_url\":\"https://api.github.com/repos/labslibrarypt3/LabsLibraryPT3_BE/teams\",\"hooks_url\":\"https://api.github.com/repos/labslibrarypt3/LabsLibraryPT3_BE/hooks\",\"issue_events_url\":\"https://api.github.com/repos/labslibrarypt3/LabsLibraryPT3_BE/issues/events{/number}\",\"events_url\":\"https://api.github.com/repos/labslibrarypt3/LabsLibraryPT3_BE/events\",\"assignees_url\":\"https://api.github.com/repos/labslibrarypt3/LabsLibraryPT3_BE/assignees{/user}\",\"branches_url\":\"https://api.github.com/repos/labslibrarypt3/LabsLibraryPT3_BE/branches{/branch}\",\"tags_url\":\"https://api.github.com/repos/labslibrarypt3/LabsLibraryPT3_BE/tags\",\"blobs_url\":\"https://api.github.com/repos/labslibrarypt3/LabsLibraryPT3_BE/git/blobs{/sha}\",\"git_tags_url\":\"https://api.github.com/repos/labslibrarypt3/LabsLibraryPT3_BE/git/tags{/sha}\",\"git_refs_url\":\"https://api.github.com/repos/labslibrarypt3/LabsLibraryPT3_BE/git/refs{/sha}\",\"trees_url\":\"https://api.github.com/repos/labslibrarypt3/LabsLibraryPT3_BE/git/trees{/sha}\",\"statuses_url\":\"https://api.github.com/repos/labslibrarypt3/LabsLibraryPT3_BE/statuses/{sha}\",\"languages_url\":\"https://api.github.com/repos/labslibrarypt3/LabsLibraryPT3_BE/languages\",\"stargazers_url\":\"https://api.github.com/repos/labslibrarypt3/LabsLibraryPT3_BE/stargazers\",\"contributors_url\":\"https://api.github.com/repos/labslibrarypt3/LabsLibraryPT3_BE/contributors\",\"subscribers_url\":\"https://api.github.com/repos/labslibrarypt3/LabsLibraryPT3_BE/subscribers\",\"subscription_url\":\"https://api.github.com/repos/labslibrarypt3/LabsLibraryPT3_BE/subscription\",\"commits_url\":\"https://api.github.com/repos/labslibrarypt3/LabsLibraryPT3_BE/commits{/sha}\",\"git_commits_url\":\"https://api.github.com/repos/labslibrarypt3/LabsLibraryPT3_BE/git/commits{/sha}\",\"comments_url\":\"https://api.github.com/repos/labslibrarypt3/LabsLibraryPT3_BE/comments{/number}\",\"issue_comment_url\":\"https://api.github.com/repos/labslibrarypt3/LabsLibraryPT3_BE/issues/comments{/number}\",\"contents_url\":\"https://api.github.com/repos/labslibrarypt3/LabsLibraryPT3_BE/contents/{+path}\",\"compare_url\":\"https://api.github.com/repos/labslibrarypt3/LabsLibraryPT3_BE/compare/{base}...{head}\",\"merges_url\":\"https://api.github.com/repos/labslibrarypt3/LabsLibraryPT3_BE/merges\",\"archive_url\":\"https://api.github.com/repos/labslibrarypt3/LabsLibraryPT3_BE/{archive_format}{/ref}\",\"downloads_url\":\"https://api.github.com/repos/labslibrarypt3/LabsLibraryPT3_BE/downloads\",\"issues_url\":\"https://api.github.com/repos/labslibrarypt3/LabsLibraryPT3_BE/issues{/number}\",\"pulls_url\":\"https://api.github.com/repos/labslibrarypt3/LabsLibraryPT3_BE/pulls{/number}\",\"milestones_url\":\"https://api.github.com/repos/labslibrarypt3/LabsLibraryPT3_BE/milestones{/number}\",\"notifications_url\":\"https://api.github.com/repos/labslibrarypt3/LabsLibraryPT3_BE/notifications{?since,all,participating}\",\"labels_url\":\"https://api.github.com/repos/labslibrarypt3/LabsLibraryPT3_BE/labels{/name}\",\"releases_url\":\"https://api.github.com/repos/labslibrarypt3/LabsLibraryPT3_BE/releases{/id}\",\"deployments_url\":\"https://api.github.com/repos/labslibrarypt3/LabsLibraryPT3_BE/deployments\",\"created_at\":\"2019-05-10T01:26:33Z\",\"updated_at\":\"2019-07-19T03:53:52Z\",\"pushed_at\":\"2019-07-25T04:03:37Z\",\"git_url\":\"git://github.com/labslibrarypt3/LabsLibraryPT3_BE.git\",\"ssh_url\":\"git@github.com:labslibrarypt3/LabsLibraryPT3_BE.git\",\"clone_url\":\"https://github.com/labslibrarypt3/LabsLibraryPT3_BE.git\",\"svn_url\":\"https://github.com/labslibrarypt3/LabsLibraryPT3_BE\",\"homepage\":null,\"size\":445,\"stargazers_count\":0,\"watchers_count\":0,\"language\":\"JavaScript\",\"has_issues\":true,\"has_projects\":true,\"has_downloads\":true,\"has_wiki\":true,\"has_pages\":false,\"forks_count\":1,\"mirror_url\":null,\"archived\":false,\"disabled\":false,\"open_issues_count\":0,\"license\":{\"key\":\"mit\",\"name\":\"MIT License\",\"spdx_id\":\"MIT\",\"url\":\"https://api.github.com/licenses/mit\",\"node_id\":\"MDc6TGljZW5zZTEz\"},\"forks\":1,\"open_issues\":0,\"watchers\":0,\"default_branch\":\"master\"}},\"base\":{\"label\":\"labslibrarypt3:development\",\"ref\":\"development\",\"sha\":\"8d4d67598afcf4f5fb672a354192a131c3a54b9d\",\"user\":{\"login\":\"labslibrarypt3\",\"id\":50470163,\"node_id\":\"MDEyOk9yZ2FuaXphdGlvbjUwNDcwMTYz\",\"avatar_url\":\"https://avatars2.githubusercontent.com/u/50470163?v=4\",\"gravatar_id\":\"\",\"url\":\"https://api.github.com/users/labslibrarypt3\",\"html_url\":\"https://github.com/labslibrarypt3\",\"followers_url\":\"https://api.github.com/users/labslibrarypt3/followers\",\"following_url\":\"https://api.github.com/users/labslibrarypt3/following{/other_user}\",\"gists_url\":\"https://api.github.com/users/labslibrarypt3/gists{/gist_id}\",\"starred_url\":\"https://api.github.com/users/labslibrarypt3/starred{/owner}{/repo}\",\"subscriptions_url\":\"https://api.github.com/users/labslibrarypt3/subscriptions\",\"organizations_url\":\"https://api.github.com/users/labslibrarypt3/orgs\",\"repos_url\":\"https://api.github.com/users/labslibrarypt3/repos\",\"events_url\":\"https://api.github.com/users/labslibrarypt3/events{/privacy}\",\"received_events_url\":\"https://api.github.com/users/labslibrarypt3/received_events\",\"type\":\"Organization\",\"site_admin\":false},\"repo\":{\"id\":185896674,\"node_id\":\"MDEwOlJlcG9zaXRvcnkxODU4OTY2NzQ=\",\"name\":\"LabsLibraryPT3_BE\",\"full_name\":\"labslibrarypt3/LabsLibraryPT3_BE\",\"private\":false,\"owner\":{\"login\":\"labslibrarypt3\",\"id\":50470163,\"node_id\":\"MDEyOk9yZ2FuaXphdGlvbjUwNDcwMTYz\",\"avatar_url\":\"https://avatars2.githubusercontent.com/u/50470163?v=4\",\"gravatar_id\":\"\",\"url\":\"https://api.github.com/users/labslibrarypt3\",\"html_url\":\"https://github.com/labslibrarypt3\",\"followers_url\":\"https://api.github.com/users/labslibrarypt3/followers\",\"following_url\":\"https://api.github.com/users/labslibrarypt3/following{/other_user}\",\"gists_url\":\"https://api.github.com/users/labslibrarypt3/gists{/gist_id}\",\"starred_url\":\"https://api.github.com/users/labslibrarypt3/starred{/owner}{/repo}\",\"subscriptions_url\":\"https://api.github.com/users/labslibrarypt3/subscriptions\",\"organizations_url\":\"https://api.github.com/users/labslibrarypt3/orgs\",\"repos_url\":\"https://api.github.com/users/labslibrarypt3/repos\",\"events_url\":\"https://api.github.com/users/labslibrarypt3/events{/privacy}\",\"received_events_url\":\"https://api.github.com/users/labslibrarypt3/received_events\",\"type\":\"Organization\",\"site_admin\":false},\"html_url\":\"https://github.com/labslibrarypt3/LabsLibraryPT3_BE\",\"description\":\"BE\",\"fork\":false,\"url\":\"https://api.github.com/repos/labslibrarypt3/LabsLibraryPT3_BE\",\"forks_url\":\"https://api.github.com/repos/labslibrarypt3/LabsLibraryPT3_BE/forks\",\"keys_url\":\"https://api.github.com/repos/labslibrarypt3/LabsLibraryPT3_BE/keys{/key_id}\",\"collaborators_url\":\"https://api.github.com/repos/labslibrarypt3/LabsLibraryPT3_BE/collaborators{/collaborator}\",\"teams_url\":\"https://api.github.com/repos/labslibrarypt3/LabsLibraryPT3_BE/teams\",\"hooks_url\":\"https://api.github.com/repos/labslibrarypt3/LabsLibraryPT3_BE/hooks\",\"issue_events_url\":\"https://api.github.com/repos/labslibrarypt3/LabsLibraryPT3_BE/issues/events{/number}\",\"events_url\":\"https://api.github.com/repos/labslibrarypt3/LabsLibraryPT3_BE/events\",\"assignees_url\":\"https://api.github.com/repos/labslibrarypt3/LabsLibraryPT3_BE/assignees{/user}\",\"branches_url\":\"https://api.github.com/repos/labslibrarypt3/LabsLibraryPT3_BE/branches{/branch}\",\"tags_url\":\"https://api.github.com/repos/labslibrarypt3/LabsLibraryPT3_BE/tags\",\"blobs_url\":\"https://api.github.com/repos/labslibrarypt3/LabsLibraryPT3_BE/git/blobs{/sha}\",\"git_tags_url\":\"https://api.github.com/repos/labslibrarypt3/LabsLibraryPT3_BE/git/tags{/sha}\",\"git_refs_url\":\"https://api.github.com/repos/labslibrarypt3/LabsLibraryPT3_BE/git/refs{/sha}\",\"trees_url\":\"https://api.github.com/repos/labslibrarypt3/LabsLibraryPT3_BE/git/trees{/sha}\",\"statuses_url\":\"https://api.github.com/repos/labslibrarypt3/LabsLibraryPT3_BE/statuses/{sha}\",\"languages_url\":\"https://api.github.com/repos/labslibrarypt3/LabsLibraryPT3_BE/languages\",\"stargazers_url\":\"https://api.github.com/repos/labslibrarypt3/LabsLibraryPT3_BE/stargazers\",\"contributors_url\":\"https://api.github.com/repos/labslibrarypt3/LabsLibraryPT3_BE/contributors\",\"subscribers_url\":\"https://api.github.com/repos/labslibrarypt3/LabsLibraryPT3_BE/subscribers\",\"subscription_url\":\"https://api.github.com/repos/labslibrarypt3/LabsLibraryPT3_BE/subscription\",\"commits_url\":\"https://api.github.com/repos/labslibrarypt3/LabsLibraryPT3_BE/commits{/sha}\",\"git_commits_url\":\"https://api.github.com/repos/labslibrarypt3/LabsLibraryPT3_BE/git/commits{/sha}\",\"comments_url\":\"https://api.github.com/repos/labslibrarypt3/LabsLibraryPT3_BE/comments{/number}\",\"issue_comment_url\":\"https://api.github.com/repos/labslibrarypt3/LabsLibraryPT3_BE/issues/comments{/number}\",\"contents_url\":\"https://api.github.com/repos/labslibrarypt3/LabsLibraryPT3_BE/contents/{+path}\",\"compare_url\":\"https://api.github.com/repos/labslibrarypt3/LabsLibraryPT3_BE/compare/{base}...{head}\",\"merges_url\":\"https://api.github.com/repos/labslibrarypt3/LabsLibraryPT3_BE/merges\",\"archive_url\":\"https://api.github.com/repos/labslibrarypt3/LabsLibraryPT3_BE/{archive_format}{/ref}\",\"downloads_url\":\"https://api.github.com/repos/labslibrarypt3/LabsLibraryPT3_BE/downloads\",\"issues_url\":\"https://api.github.com/repos/labslibrarypt3/LabsLibraryPT3_BE/issues{/number}\",\"pulls_url\":\"https://api.github.com/repos/labslibrarypt3/LabsLibraryPT3_BE/pulls{/number}\",\"milestones_url\":\"https://api.github.com/repos/labslibrarypt3/LabsLibraryPT3_BE/milestones{/number}\",\"notifications_url\":\"https://api.github.com/repos/labslibrarypt3/LabsLibraryPT3_BE/notifications{?since,all,participating}\",\"labels_url\":\"https://api.github.com/repos/labslibrarypt3/LabsLibraryPT3_BE/labels{/name}\",\"releases_url\":\"https://api.github.com/repos/labslibrarypt3/LabsLibraryPT3_BE/releases{/id}\",\"deployments_url\":\"https://api.github.com/repos/labslibrarypt3/LabsLibraryPT3_BE/deployments\",\"created_at\":\"2019-05-10T01:26:33Z\",\"updated_at\":\"2019-07-19T03:53:52Z\",\"pushed_at\":\"2019-07-25T04:03:37Z\",\"git_url\":\"git://github.com/labslibrarypt3/LabsLibraryPT3_BE.git\",\"ssh_url\":\"git@github.com:labslibrarypt3/LabsLibraryPT3_BE.git\",\"clone_url\":\"https://github.com/labslibrarypt3/LabsLibraryPT3_BE.git\",\"svn_url\":\"https://github.com/labslibrarypt3/LabsLibraryPT3_BE\",\"homepage\":null,\"size\":445,\"stargazers_count\":0,\"watchers_count\":0,\"language\":\"JavaScript\",\"has_issues\":true,\"has_projects\":true,\"has_downloads\":true,\"has_wiki\":true,\"has_pages\":false,\"forks_count\":1,\"mirror_url\":null,\"archived\":false,\"disabled\":false,\"open_issues_count\":0,\"license\":{\"key\":\"mit\",\"name\":\"MIT License\",\"spdx_id\":\"MIT\",\"url\":\"https://api.github.com/licenses/mit\",\"node_id\":\"MDc6TGljZW5zZTEz\"},\"forks\":1,\"open_issues\":0,\"watchers\":0,\"default_branch\":\"master\"}},\"_links\":{\"self\":{\"href\":\"https://api.github.com/repos/labslibrarypt3/LabsLibraryPT3_BE/pulls/102\"},\"html\":{\"href\":\"https://github.com/labslibrarypt3/LabsLibraryPT3_BE/pull/102\"},\"issue\":{\"href\":\"https://api.github.com/repos/labslibrarypt3/LabsLibraryPT3_BE/issues/102\"},\"comments\":{\"href\":\"https://api.github.com/repos/labslibrarypt3/LabsLibraryPT3_BE/issues/102/comments\"},\"review_comments\":{\"href\":\"https://api.github.com/repos/labslibrarypt3/LabsLibraryPT3_BE/pulls/102/comments\"},\"review_comment\":{\"href\":\"https://api.github.com/repos/labslibrarypt3/LabsLibraryPT3_BE/pulls/comments{/number}\"},\"commits\":{\"href\":\"https://api.github.com/repos/labslibrarypt3/LabsLibraryPT3_BE/pulls/102/commits\"},\"statuses\":{\"href\":\"https://api.github.com/repos/labslibrarypt3/LabsLibraryPT3_BE/statuses/b60b3f559c1796e92d9dde5763a31d159dddc94a\"}},\"author_association\":\"COLLABORATOR\",\"merged\":true,\"mergeable\":null,\"rebaseable\":null,\"mergeable_state\":\"unknown\",\"merged_by\":{\"login\":\"ThomasUtsey\",\"id\":42781255,\"node_id\":\"MDQ6VXNlcjQyNzgxMjU1\",\"avatar_url\":\"https://avatars3.githubusercontent.com/u/42781255?v=4\",\"gravatar_id\":\"\",\"url\":\"https://api.github.com/users/ThomasUtsey\",\"html_url\":\"https://github.com/ThomasUtsey\",\"followers_url\":\"https://api.github.com/users/ThomasUtsey/followers\",\"following_url\":\"https://api.github.com/users/ThomasUtsey/following{/other_user}\",\"gists_url\":\"https://api.github.com/users/ThomasUtsey/gists{/gist_id}\",\"starred_url\":\"https://api.github.com/users/ThomasUtsey/starred{/owner}{/repo}\",\"subscriptions_url\":\"https://api.github.com/users/ThomasUtsey/subscriptions\",\"organizations_url\":\"https://api.github.com/users/ThomasUtsey/orgs\",\"repos_url\":\"https://api.github.com/users/ThomasUtsey/repos\",\"events_url\":\"https://api.github.com/users/ThomasUtsey/events{/privacy}\",\"received_events_url\":\"https://api.github.com/users/ThomasUtsey/received_events\",\"type\":\"User\",\"site_admin\":false},\"comments\":0,\"review_comments\":0,\"maintainer_can_modify\":false,\"commits\":5,\"additions\":44,\"deletions\":14,\"changed_files\":6}},\"public\":true,\"created_at\":\"2019-07-25T04:03:38Z\",\"org\":{\"id\":50470163,\"login\":\"labslibrarypt3\",\"gravatar_id\":\"\",\"url\":\"https://api.github.com/orgs/labslibrarypt3\",\"avatar_url\":\"https://avatars.githubusercontent.com/u/50470163?\"}},{\"id\":\"10080042887\",\"type\":\"PushEvent\",\"actor\":{\"id\":19522656,\"login\":\"Crowbrammer\",\"display_login\":\"Crowbrammer\",\"gravatar_id\":\"\",\"url\":\"https://api.github.com/users/Crowbrammer\",\"avatar_url\":\"https://avatars.githubusercontent.com/u/19522656?\"},\"repo\":{\"id\":198747768,\"name\":\"Crowbrammer/ModulePractice\",\"url\":\"https://api.github.com/repos/Crowbrammer/ModulePractice\"},\"payload\":{\"push_id\":3853469040,\"size\":1,\"distinct_size\":1,\"ref\":\"refs/heads/new_feature\",\"head\":\"2dd047f49ddc17acf26cd7d68c3cf234cd6c56a2\",\"before\":\"f05625d58b901b9090cdae2c53d47ea444efec14\",\"commits\":[{\"sha\":\"2dd047f49ddc17acf26cd7d68c3cf234cd6c56a2\",\"author\":{\"email\":\"aaronb@onyxut.com\",\"name\":\"Aaron Bell\"},\"message\":\"Tests completed\",\"distinct\":true,\"url\":\"https://api.github.com/repos/Crowbrammer/ModulePractice/commits/2dd047f49ddc17acf26cd7d68c3cf234cd6c56a2\"}]},\"public\":true,\"created_at\":\"2019-07-25T04:03:38Z\"},{\"id\":\"10080042886\",\"type\":\"PushEvent\",\"actor\":{\"id\":11254896,\"login\":\"Wei18\",\"display_login\":\"Wei18\",\"gravatar_id\":\"\",\"url\":\"https://api.github.com/users/Wei18\",\"avatar_url\":\"https://avatars.githubusercontent.com/u/11254896?\"},\"repo\":{\"id\":198754430,\"name\":\"Wei18/CodeTask\",\"url\":\"https://api.github.com/repos/Wei18/CodeTask\"},\"payload\":{\"push_id\":3853469035,\"size\":1,\"distinct_size\":1,\"ref\":\"refs/heads/master\",\"head\":\"dc2f05001900d91d46f1382cca33cb09f631e78f\",\"before\":\"f94de25a328d552948f2c08b678d2ae217637829\",\"commits\":[{\"sha\":\"dc2f05001900d91d46f1382cca33cb09f631e78f\",\"author\":{\"email\":\"41205mw@gmail.com\",\"name\":\"Wei\"},\"message\":\"Added pods, due to note: This app should run on Simulators without an error.\",\"distinct\":true,\"url\":\"https://api.github.com/repos/Wei18/CodeTask/commits/dc2f05001900d91d46f1382cca33cb09f631e78f\"}]},\"public\":true,\"created_at\":\"2019-07-25T04:03:38Z\"},{\"id\":\"10080042877\",\"type\":\"DeleteEvent\",\"actor\":{\"id\":76639,\"login\":\"ccrisan\",\"display_login\":\"ccrisan\",\"gravatar_id\":\"\",\"url\":\"https://api.github.com/users/ccrisan\",\"avatar_url\":\"https://avatars.githubusercontent.com/u/76639?\"},\"repo\":{\"id\":43636412,\"name\":\"ccrisan/motioneyeos\",\"url\":\"https://api.github.com/repos/ccrisan/motioneyeos\"},\"payload\":{\"ref\":\"nightly-dev\",\"ref_type\":\"tag\",\"pusher_type\":\"user\"},\"public\":true,\"created_at\":\"2019-07-25T04:03:38Z\"},{\"id\":\"10080042879\",\"type\":\"WatchEvent\",\"actor\":{\"id\":11253143,\"login\":\"ShaswatPrabhat\",\"display_login\":\"ShaswatPrabhat\",\"gravatar_id\":\"\",\"url\":\"https://api.github.com/users/ShaswatPrabhat\",\"avatar_url\":\"https://avatars.githubusercontent.com/u/11253143?\"},\"repo\":{\"id\":69193081,\"name\":\"freeCodeCamp/how-to-contribute-to-open-source\",\"url\":\"https://api.github.com/repos/freeCodeCamp/how-to-contribute-to-open-source\"},\"payload\":{\"action\":\"started\"},\"public\":true,\"created_at\":\"2019-07-25T04:03:38Z\",\"org\":{\"id\":9892522,\"login\":\"freeCodeCamp\",\"gravatar_id\":\"\",\"url\":\"https://api.github.com/orgs/freeCodeCamp\",\"avatar_url\":\"https://avatars.githubusercontent.com/u/9892522?\"}}]'"
      ]
     },
     "execution_count": 30,
     "metadata": {},
     "output_type": "execute_result"
    }
   ],
   "source": [
    "r.text"
   ]
  },
  {
   "cell_type": "code",
   "execution_count": 31,
   "metadata": {},
   "outputs": [
    {
     "data": {
      "text/plain": [
       "'utf-8'"
      ]
     },
     "execution_count": 31,
     "metadata": {},
     "output_type": "execute_result"
    }
   ],
   "source": [
    "r.encoding"
   ]
  },
  {
   "cell_type": "code",
   "execution_count": 32,
   "metadata": {},
   "outputs": [],
   "source": [
    "r.encoding = 'ISO-8859-1'"
   ]
  },
  {
   "cell_type": "code",
   "execution_count": 36,
   "metadata": {},
   "outputs": [
    {
     "data": {
      "text/plain": [
       "200"
      ]
     },
     "execution_count": 36,
     "metadata": {},
     "output_type": "execute_result"
    }
   ],
   "source": [
    "r.status_code"
   ]
  },
  {
   "cell_type": "markdown",
   "metadata": {},
   "source": [
    "### Binary Response Content"
   ]
  },
  {
   "cell_type": "code",
   "execution_count": 10,
   "metadata": {},
   "outputs": [
    {
     "data": {
      "text/plain": [
       "b'{\\n  \"args\": {\\n    \"key1\": \"value1\", \\n    \"key2\": [\\n      \"value2\", \\n      \"value3\"\\n    ]\\n  }, \\n  \"headers\": {\\n    \"Accept\": \"*/*\", \\n    \"Accept-Encoding\": \"gzip, deflate\", \\n    \"Host\": \"httpbin.org\", \\n    \"User-Agent\": \"python-requests/2.22.0\"\\n  }, \\n  \"origin\": \"180.167.88.42, 180.167.88.42\", \\n  \"url\": \"https://httpbin.org/get?key1=value1&key2=value2&key2=value3\"\\n}\\n'"
      ]
     },
     "execution_count": 10,
     "metadata": {},
     "output_type": "execute_result"
    }
   ],
   "source": [
    "r.content"
   ]
  },
  {
   "cell_type": "markdown",
   "metadata": {},
   "source": [
    "### JSON Response Content"
   ]
  },
  {
   "cell_type": "code",
   "execution_count": 14,
   "metadata": {},
   "outputs": [
    {
     "data": {
      "text/plain": [
       "{'args': {'key1': 'value1', 'key2': ['value2', 'value3']},\n",
       " 'headers': {'Accept': '*/*',\n",
       "  'Accept-Encoding': 'gzip, deflate',\n",
       "  'Host': 'httpbin.org',\n",
       "  'User-Agent': 'python-requests/2.22.0'},\n",
       " 'origin': '180.167.88.42, 180.167.88.42',\n",
       " 'url': 'https://httpbin.org/get?key1=value1&key2=value2&key2=value3'}"
      ]
     },
     "execution_count": 14,
     "metadata": {},
     "output_type": "execute_result"
    }
   ],
   "source": [
    "r.json()"
   ]
  },
  {
   "cell_type": "markdown",
   "metadata": {},
   "source": [
    "### Raw Response Content\n",
    "在极少数情况下，您希望从服务器获得原始套接字响应，您可以访问r.raw。如果希望这样做，请确保在初始请求中设置stream=True。"
   ]
  },
  {
   "cell_type": "code",
   "execution_count": 33,
   "metadata": {},
   "outputs": [],
   "source": [
    "r = requests.get('https://api.github.com/events', stream=True)"
   ]
  },
  {
   "cell_type": "code",
   "execution_count": 34,
   "metadata": {},
   "outputs": [
    {
     "data": {
      "text/plain": [
       "<urllib3.response.HTTPResponse at 0x1079adef0>"
      ]
     },
     "execution_count": 34,
     "metadata": {},
     "output_type": "execute_result"
    }
   ],
   "source": [
    "r.raw"
   ]
  },
  {
   "cell_type": "code",
   "execution_count": 35,
   "metadata": {},
   "outputs": [
    {
     "data": {
      "text/plain": [
       "b'\\x1f\\x8b\\x08\\x00\\x00\\x00\\x00\\x00\\x00\\x03'"
      ]
     },
     "execution_count": 35,
     "metadata": {},
     "output_type": "execute_result"
    }
   ],
   "source": [
    "r.raw.read(10)"
   ]
  },
  {
   "cell_type": "markdown",
   "metadata": {},
   "source": [
    "## POST a Multipart-Encoded File"
   ]
  },
  {
   "cell_type": "code",
   "execution_count": null,
   "metadata": {},
   "outputs": [],
   "source": [
    ">>> url = 'https://httpbin.org/post'\n",
    ">>> files = {'file': open('report.xls', 'rb')}\n",
    "\n",
    ">>> r = requests.post(url, files=files)\n",
    ">>> r.text\n",
    "{\n",
    "  ...\n",
    "  \"files\": {\n",
    "    \"file\": \"<censored...binary...data>\"\n",
    "  },\n",
    "  ...\n",
    "}"
   ]
  },
  {
   "cell_type": "markdown",
   "metadata": {},
   "source": [
    "## Redirection and History"
   ]
  },
  {
   "cell_type": "markdown",
   "metadata": {},
   "source": [
    "By default Requests will perform location redirection for all verbs except HEAD.\n",
    "\n",
    "We can use the history property of the Response object to track redirection.\n",
    "\n",
    "The Response.history list contains the Response objects that were created in order to complete the request. The list is sorted from the oldest to the most recent response."
   ]
  },
  {
   "cell_type": "code",
   "execution_count": 39,
   "metadata": {},
   "outputs": [],
   "source": [
    "r = requests.get('http://github.com/')"
   ]
  },
  {
   "cell_type": "code",
   "execution_count": 40,
   "metadata": {},
   "outputs": [
    {
     "data": {
      "text/plain": [
       "'https://github.com/'"
      ]
     },
     "execution_count": 40,
     "metadata": {},
     "output_type": "execute_result"
    }
   ],
   "source": [
    "r.url"
   ]
  },
  {
   "cell_type": "code",
   "execution_count": 41,
   "metadata": {},
   "outputs": [
    {
     "data": {
      "text/plain": [
       "[<Response [301]>]"
      ]
     },
     "execution_count": 41,
     "metadata": {},
     "output_type": "execute_result"
    }
   ],
   "source": [
    "r.history"
   ]
  },
  {
   "cell_type": "code",
   "execution_count": 42,
   "metadata": {},
   "outputs": [],
   "source": [
    "r = requests.get('http://github.com/', allow_redirects=False)"
   ]
  },
  {
   "cell_type": "code",
   "execution_count": 43,
   "metadata": {},
   "outputs": [
    {
     "data": {
      "text/plain": [
       "301"
      ]
     },
     "execution_count": 43,
     "metadata": {},
     "output_type": "execute_result"
    }
   ],
   "source": [
    "r.status_code"
   ]
  },
  {
   "cell_type": "markdown",
   "metadata": {},
   "source": [
    "## Timeouts"
   ]
  },
  {
   "cell_type": "markdown",
   "metadata": {},
   "source": [
    "You can tell Requests to stop waiting for a response after a given number of seconds with the timeout parameter. Nearly all production code should use this parameter in nearly all requests. Failure to do so can cause your program to hang indefinitely:"
   ]
  },
  {
   "cell_type": "code",
   "execution_count": 44,
   "metadata": {},
   "outputs": [
    {
     "ename": "ConnectTimeout",
     "evalue": "HTTPSConnectionPool(host='github.com', port=443): Max retries exceeded with url: / (Caused by ConnectTimeoutError(<urllib3.connection.VerifiedHTTPSConnection object at 0x1079abe10>, 'Connection to github.com timed out. (connect timeout=0.001)'))",
     "output_type": "error",
     "traceback": [
      "\u001b[0;31m---------------------------------------------------------------------------\u001b[0m",
      "\u001b[0;31mtimeout\u001b[0m                                   Traceback (most recent call last)",
      "\u001b[0;32m~/anaconda3/lib/python3.7/site-packages/urllib3/connection.py\u001b[0m in \u001b[0;36m_new_conn\u001b[0;34m(self)\u001b[0m\n\u001b[1;32m    158\u001b[0m             conn = connection.create_connection(\n\u001b[0;32m--> 159\u001b[0;31m                 (self._dns_host, self.port), self.timeout, **extra_kw)\n\u001b[0m\u001b[1;32m    160\u001b[0m \u001b[0;34m\u001b[0m\u001b[0m\n",
      "\u001b[0;32m~/anaconda3/lib/python3.7/site-packages/urllib3/util/connection.py\u001b[0m in \u001b[0;36mcreate_connection\u001b[0;34m(address, timeout, source_address, socket_options)\u001b[0m\n\u001b[1;32m     79\u001b[0m     \u001b[0;32mif\u001b[0m \u001b[0merr\u001b[0m \u001b[0;32mis\u001b[0m \u001b[0;32mnot\u001b[0m \u001b[0;32mNone\u001b[0m\u001b[0;34m:\u001b[0m\u001b[0;34m\u001b[0m\u001b[0;34m\u001b[0m\u001b[0m\n\u001b[0;32m---> 80\u001b[0;31m         \u001b[0;32mraise\u001b[0m \u001b[0merr\u001b[0m\u001b[0;34m\u001b[0m\u001b[0;34m\u001b[0m\u001b[0m\n\u001b[0m\u001b[1;32m     81\u001b[0m \u001b[0;34m\u001b[0m\u001b[0m\n",
      "\u001b[0;32m~/anaconda3/lib/python3.7/site-packages/urllib3/util/connection.py\u001b[0m in \u001b[0;36mcreate_connection\u001b[0;34m(address, timeout, source_address, socket_options)\u001b[0m\n\u001b[1;32m     69\u001b[0m                 \u001b[0msock\u001b[0m\u001b[0;34m.\u001b[0m\u001b[0mbind\u001b[0m\u001b[0;34m(\u001b[0m\u001b[0msource_address\u001b[0m\u001b[0;34m)\u001b[0m\u001b[0;34m\u001b[0m\u001b[0;34m\u001b[0m\u001b[0m\n\u001b[0;32m---> 70\u001b[0;31m             \u001b[0msock\u001b[0m\u001b[0;34m.\u001b[0m\u001b[0mconnect\u001b[0m\u001b[0;34m(\u001b[0m\u001b[0msa\u001b[0m\u001b[0;34m)\u001b[0m\u001b[0;34m\u001b[0m\u001b[0;34m\u001b[0m\u001b[0m\n\u001b[0m\u001b[1;32m     71\u001b[0m             \u001b[0;32mreturn\u001b[0m \u001b[0msock\u001b[0m\u001b[0;34m\u001b[0m\u001b[0;34m\u001b[0m\u001b[0m\n",
      "\u001b[0;31mtimeout\u001b[0m: timed out",
      "\nDuring handling of the above exception, another exception occurred:\n",
      "\u001b[0;31mConnectTimeoutError\u001b[0m                       Traceback (most recent call last)",
      "\u001b[0;32m~/anaconda3/lib/python3.7/site-packages/urllib3/connectionpool.py\u001b[0m in \u001b[0;36murlopen\u001b[0;34m(self, method, url, body, headers, retries, redirect, assert_same_host, timeout, pool_timeout, release_conn, chunked, body_pos, **response_kw)\u001b[0m\n\u001b[1;32m    599\u001b[0m                                                   \u001b[0mbody\u001b[0m\u001b[0;34m=\u001b[0m\u001b[0mbody\u001b[0m\u001b[0;34m,\u001b[0m \u001b[0mheaders\u001b[0m\u001b[0;34m=\u001b[0m\u001b[0mheaders\u001b[0m\u001b[0;34m,\u001b[0m\u001b[0;34m\u001b[0m\u001b[0;34m\u001b[0m\u001b[0m\n\u001b[0;32m--> 600\u001b[0;31m                                                   chunked=chunked)\n\u001b[0m\u001b[1;32m    601\u001b[0m \u001b[0;34m\u001b[0m\u001b[0m\n",
      "\u001b[0;32m~/anaconda3/lib/python3.7/site-packages/urllib3/connectionpool.py\u001b[0m in \u001b[0;36m_make_request\u001b[0;34m(self, conn, method, url, timeout, chunked, **httplib_request_kw)\u001b[0m\n\u001b[1;32m    342\u001b[0m         \u001b[0;32mtry\u001b[0m\u001b[0;34m:\u001b[0m\u001b[0;34m\u001b[0m\u001b[0;34m\u001b[0m\u001b[0m\n\u001b[0;32m--> 343\u001b[0;31m             \u001b[0mself\u001b[0m\u001b[0;34m.\u001b[0m\u001b[0m_validate_conn\u001b[0m\u001b[0;34m(\u001b[0m\u001b[0mconn\u001b[0m\u001b[0;34m)\u001b[0m\u001b[0;34m\u001b[0m\u001b[0;34m\u001b[0m\u001b[0m\n\u001b[0m\u001b[1;32m    344\u001b[0m         \u001b[0;32mexcept\u001b[0m \u001b[0;34m(\u001b[0m\u001b[0mSocketTimeout\u001b[0m\u001b[0;34m,\u001b[0m \u001b[0mBaseSSLError\u001b[0m\u001b[0;34m)\u001b[0m \u001b[0;32mas\u001b[0m \u001b[0me\u001b[0m\u001b[0;34m:\u001b[0m\u001b[0;34m\u001b[0m\u001b[0;34m\u001b[0m\u001b[0m\n",
      "\u001b[0;32m~/anaconda3/lib/python3.7/site-packages/urllib3/connectionpool.py\u001b[0m in \u001b[0;36m_validate_conn\u001b[0;34m(self, conn)\u001b[0m\n\u001b[1;32m    838\u001b[0m         \u001b[0;32mif\u001b[0m \u001b[0;32mnot\u001b[0m \u001b[0mgetattr\u001b[0m\u001b[0;34m(\u001b[0m\u001b[0mconn\u001b[0m\u001b[0;34m,\u001b[0m \u001b[0;34m'sock'\u001b[0m\u001b[0;34m,\u001b[0m \u001b[0;32mNone\u001b[0m\u001b[0;34m)\u001b[0m\u001b[0;34m:\u001b[0m  \u001b[0;31m# AppEngine might not have  `.sock`\u001b[0m\u001b[0;34m\u001b[0m\u001b[0;34m\u001b[0m\u001b[0m\n\u001b[0;32m--> 839\u001b[0;31m             \u001b[0mconn\u001b[0m\u001b[0;34m.\u001b[0m\u001b[0mconnect\u001b[0m\u001b[0;34m(\u001b[0m\u001b[0;34m)\u001b[0m\u001b[0;34m\u001b[0m\u001b[0;34m\u001b[0m\u001b[0m\n\u001b[0m\u001b[1;32m    840\u001b[0m \u001b[0;34m\u001b[0m\u001b[0m\n",
      "\u001b[0;32m~/anaconda3/lib/python3.7/site-packages/urllib3/connection.py\u001b[0m in \u001b[0;36mconnect\u001b[0;34m(self)\u001b[0m\n\u001b[1;32m    300\u001b[0m         \u001b[0;31m# Add certificate verification\u001b[0m\u001b[0;34m\u001b[0m\u001b[0;34m\u001b[0m\u001b[0;34m\u001b[0m\u001b[0m\n\u001b[0;32m--> 301\u001b[0;31m         \u001b[0mconn\u001b[0m \u001b[0;34m=\u001b[0m \u001b[0mself\u001b[0m\u001b[0;34m.\u001b[0m\u001b[0m_new_conn\u001b[0m\u001b[0;34m(\u001b[0m\u001b[0;34m)\u001b[0m\u001b[0;34m\u001b[0m\u001b[0;34m\u001b[0m\u001b[0m\n\u001b[0m\u001b[1;32m    302\u001b[0m         \u001b[0mhostname\u001b[0m \u001b[0;34m=\u001b[0m \u001b[0mself\u001b[0m\u001b[0;34m.\u001b[0m\u001b[0mhost\u001b[0m\u001b[0;34m\u001b[0m\u001b[0;34m\u001b[0m\u001b[0m\n",
      "\u001b[0;32m~/anaconda3/lib/python3.7/site-packages/urllib3/connection.py\u001b[0m in \u001b[0;36m_new_conn\u001b[0;34m(self)\u001b[0m\n\u001b[1;32m    163\u001b[0m                 \u001b[0mself\u001b[0m\u001b[0;34m,\u001b[0m \u001b[0;34m\"Connection to %s timed out. (connect timeout=%s)\"\u001b[0m \u001b[0;34m%\u001b[0m\u001b[0;34m\u001b[0m\u001b[0;34m\u001b[0m\u001b[0m\n\u001b[0;32m--> 164\u001b[0;31m                 (self.host, self.timeout))\n\u001b[0m\u001b[1;32m    165\u001b[0m \u001b[0;34m\u001b[0m\u001b[0m\n",
      "\u001b[0;31mConnectTimeoutError\u001b[0m: (<urllib3.connection.VerifiedHTTPSConnection object at 0x1079abe10>, 'Connection to github.com timed out. (connect timeout=0.001)')",
      "\nDuring handling of the above exception, another exception occurred:\n",
      "\u001b[0;31mMaxRetryError\u001b[0m                             Traceback (most recent call last)",
      "\u001b[0;32m~/anaconda3/lib/python3.7/site-packages/requests/adapters.py\u001b[0m in \u001b[0;36msend\u001b[0;34m(self, request, stream, timeout, verify, cert, proxies)\u001b[0m\n\u001b[1;32m    448\u001b[0m                     \u001b[0mretries\u001b[0m\u001b[0;34m=\u001b[0m\u001b[0mself\u001b[0m\u001b[0;34m.\u001b[0m\u001b[0mmax_retries\u001b[0m\u001b[0;34m,\u001b[0m\u001b[0;34m\u001b[0m\u001b[0;34m\u001b[0m\u001b[0m\n\u001b[0;32m--> 449\u001b[0;31m                     \u001b[0mtimeout\u001b[0m\u001b[0;34m=\u001b[0m\u001b[0mtimeout\u001b[0m\u001b[0;34m\u001b[0m\u001b[0;34m\u001b[0m\u001b[0m\n\u001b[0m\u001b[1;32m    450\u001b[0m                 )\n",
      "\u001b[0;32m~/anaconda3/lib/python3.7/site-packages/urllib3/connectionpool.py\u001b[0m in \u001b[0;36murlopen\u001b[0;34m(self, method, url, body, headers, retries, redirect, assert_same_host, timeout, pool_timeout, release_conn, chunked, body_pos, **response_kw)\u001b[0m\n\u001b[1;32m    637\u001b[0m             retries = retries.increment(method, url, error=e, _pool=self,\n\u001b[0;32m--> 638\u001b[0;31m                                         _stacktrace=sys.exc_info()[2])\n\u001b[0m\u001b[1;32m    639\u001b[0m             \u001b[0mretries\u001b[0m\u001b[0;34m.\u001b[0m\u001b[0msleep\u001b[0m\u001b[0;34m(\u001b[0m\u001b[0;34m)\u001b[0m\u001b[0;34m\u001b[0m\u001b[0;34m\u001b[0m\u001b[0m\n",
      "\u001b[0;32m~/anaconda3/lib/python3.7/site-packages/urllib3/util/retry.py\u001b[0m in \u001b[0;36mincrement\u001b[0;34m(self, method, url, response, error, _pool, _stacktrace)\u001b[0m\n\u001b[1;32m    398\u001b[0m         \u001b[0;32mif\u001b[0m \u001b[0mnew_retry\u001b[0m\u001b[0;34m.\u001b[0m\u001b[0mis_exhausted\u001b[0m\u001b[0;34m(\u001b[0m\u001b[0;34m)\u001b[0m\u001b[0;34m:\u001b[0m\u001b[0;34m\u001b[0m\u001b[0;34m\u001b[0m\u001b[0m\n\u001b[0;32m--> 399\u001b[0;31m             \u001b[0;32mraise\u001b[0m \u001b[0mMaxRetryError\u001b[0m\u001b[0;34m(\u001b[0m\u001b[0m_pool\u001b[0m\u001b[0;34m,\u001b[0m \u001b[0murl\u001b[0m\u001b[0;34m,\u001b[0m \u001b[0merror\u001b[0m \u001b[0;32mor\u001b[0m \u001b[0mResponseError\u001b[0m\u001b[0;34m(\u001b[0m\u001b[0mcause\u001b[0m\u001b[0;34m)\u001b[0m\u001b[0;34m)\u001b[0m\u001b[0;34m\u001b[0m\u001b[0;34m\u001b[0m\u001b[0m\n\u001b[0m\u001b[1;32m    400\u001b[0m \u001b[0;34m\u001b[0m\u001b[0m\n",
      "\u001b[0;31mMaxRetryError\u001b[0m: HTTPSConnectionPool(host='github.com', port=443): Max retries exceeded with url: / (Caused by ConnectTimeoutError(<urllib3.connection.VerifiedHTTPSConnection object at 0x1079abe10>, 'Connection to github.com timed out. (connect timeout=0.001)'))",
      "\nDuring handling of the above exception, another exception occurred:\n",
      "\u001b[0;31mConnectTimeout\u001b[0m                            Traceback (most recent call last)",
      "\u001b[0;32m<ipython-input-44-ca3d38ff1f1d>\u001b[0m in \u001b[0;36m<module>\u001b[0;34m\u001b[0m\n\u001b[0;32m----> 1\u001b[0;31m \u001b[0mrequests\u001b[0m\u001b[0;34m.\u001b[0m\u001b[0mget\u001b[0m\u001b[0;34m(\u001b[0m\u001b[0;34m'https://github.com/'\u001b[0m\u001b[0;34m,\u001b[0m \u001b[0mtimeout\u001b[0m\u001b[0;34m=\u001b[0m\u001b[0;36m0.001\u001b[0m\u001b[0;34m)\u001b[0m\u001b[0;34m\u001b[0m\u001b[0;34m\u001b[0m\u001b[0m\n\u001b[0m",
      "\u001b[0;32m~/anaconda3/lib/python3.7/site-packages/requests/api.py\u001b[0m in \u001b[0;36mget\u001b[0;34m(url, params, **kwargs)\u001b[0m\n\u001b[1;32m     73\u001b[0m \u001b[0;34m\u001b[0m\u001b[0m\n\u001b[1;32m     74\u001b[0m     \u001b[0mkwargs\u001b[0m\u001b[0;34m.\u001b[0m\u001b[0msetdefault\u001b[0m\u001b[0;34m(\u001b[0m\u001b[0;34m'allow_redirects'\u001b[0m\u001b[0;34m,\u001b[0m \u001b[0;32mTrue\u001b[0m\u001b[0;34m)\u001b[0m\u001b[0;34m\u001b[0m\u001b[0;34m\u001b[0m\u001b[0m\n\u001b[0;32m---> 75\u001b[0;31m     \u001b[0;32mreturn\u001b[0m \u001b[0mrequest\u001b[0m\u001b[0;34m(\u001b[0m\u001b[0;34m'get'\u001b[0m\u001b[0;34m,\u001b[0m \u001b[0murl\u001b[0m\u001b[0;34m,\u001b[0m \u001b[0mparams\u001b[0m\u001b[0;34m=\u001b[0m\u001b[0mparams\u001b[0m\u001b[0;34m,\u001b[0m \u001b[0;34m**\u001b[0m\u001b[0mkwargs\u001b[0m\u001b[0;34m)\u001b[0m\u001b[0;34m\u001b[0m\u001b[0;34m\u001b[0m\u001b[0m\n\u001b[0m\u001b[1;32m     76\u001b[0m \u001b[0;34m\u001b[0m\u001b[0m\n\u001b[1;32m     77\u001b[0m \u001b[0;34m\u001b[0m\u001b[0m\n",
      "\u001b[0;32m~/anaconda3/lib/python3.7/site-packages/requests/api.py\u001b[0m in \u001b[0;36mrequest\u001b[0;34m(method, url, **kwargs)\u001b[0m\n\u001b[1;32m     58\u001b[0m     \u001b[0;31m# cases, and look like a memory leak in others.\u001b[0m\u001b[0;34m\u001b[0m\u001b[0;34m\u001b[0m\u001b[0;34m\u001b[0m\u001b[0m\n\u001b[1;32m     59\u001b[0m     \u001b[0;32mwith\u001b[0m \u001b[0msessions\u001b[0m\u001b[0;34m.\u001b[0m\u001b[0mSession\u001b[0m\u001b[0;34m(\u001b[0m\u001b[0;34m)\u001b[0m \u001b[0;32mas\u001b[0m \u001b[0msession\u001b[0m\u001b[0;34m:\u001b[0m\u001b[0;34m\u001b[0m\u001b[0;34m\u001b[0m\u001b[0m\n\u001b[0;32m---> 60\u001b[0;31m         \u001b[0;32mreturn\u001b[0m \u001b[0msession\u001b[0m\u001b[0;34m.\u001b[0m\u001b[0mrequest\u001b[0m\u001b[0;34m(\u001b[0m\u001b[0mmethod\u001b[0m\u001b[0;34m=\u001b[0m\u001b[0mmethod\u001b[0m\u001b[0;34m,\u001b[0m \u001b[0murl\u001b[0m\u001b[0;34m=\u001b[0m\u001b[0murl\u001b[0m\u001b[0;34m,\u001b[0m \u001b[0;34m**\u001b[0m\u001b[0mkwargs\u001b[0m\u001b[0;34m)\u001b[0m\u001b[0;34m\u001b[0m\u001b[0;34m\u001b[0m\u001b[0m\n\u001b[0m\u001b[1;32m     61\u001b[0m \u001b[0;34m\u001b[0m\u001b[0m\n\u001b[1;32m     62\u001b[0m \u001b[0;34m\u001b[0m\u001b[0m\n",
      "\u001b[0;32m~/anaconda3/lib/python3.7/site-packages/requests/sessions.py\u001b[0m in \u001b[0;36mrequest\u001b[0;34m(self, method, url, params, data, headers, cookies, files, auth, timeout, allow_redirects, proxies, hooks, stream, verify, cert, json)\u001b[0m\n\u001b[1;32m    531\u001b[0m         }\n\u001b[1;32m    532\u001b[0m         \u001b[0msend_kwargs\u001b[0m\u001b[0;34m.\u001b[0m\u001b[0mupdate\u001b[0m\u001b[0;34m(\u001b[0m\u001b[0msettings\u001b[0m\u001b[0;34m)\u001b[0m\u001b[0;34m\u001b[0m\u001b[0;34m\u001b[0m\u001b[0m\n\u001b[0;32m--> 533\u001b[0;31m         \u001b[0mresp\u001b[0m \u001b[0;34m=\u001b[0m \u001b[0mself\u001b[0m\u001b[0;34m.\u001b[0m\u001b[0msend\u001b[0m\u001b[0;34m(\u001b[0m\u001b[0mprep\u001b[0m\u001b[0;34m,\u001b[0m \u001b[0;34m**\u001b[0m\u001b[0msend_kwargs\u001b[0m\u001b[0;34m)\u001b[0m\u001b[0;34m\u001b[0m\u001b[0;34m\u001b[0m\u001b[0m\n\u001b[0m\u001b[1;32m    534\u001b[0m \u001b[0;34m\u001b[0m\u001b[0m\n\u001b[1;32m    535\u001b[0m         \u001b[0;32mreturn\u001b[0m \u001b[0mresp\u001b[0m\u001b[0;34m\u001b[0m\u001b[0;34m\u001b[0m\u001b[0m\n",
      "\u001b[0;32m~/anaconda3/lib/python3.7/site-packages/requests/sessions.py\u001b[0m in \u001b[0;36msend\u001b[0;34m(self, request, **kwargs)\u001b[0m\n\u001b[1;32m    644\u001b[0m \u001b[0;34m\u001b[0m\u001b[0m\n\u001b[1;32m    645\u001b[0m         \u001b[0;31m# Send the request\u001b[0m\u001b[0;34m\u001b[0m\u001b[0;34m\u001b[0m\u001b[0;34m\u001b[0m\u001b[0m\n\u001b[0;32m--> 646\u001b[0;31m         \u001b[0mr\u001b[0m \u001b[0;34m=\u001b[0m \u001b[0madapter\u001b[0m\u001b[0;34m.\u001b[0m\u001b[0msend\u001b[0m\u001b[0;34m(\u001b[0m\u001b[0mrequest\u001b[0m\u001b[0;34m,\u001b[0m \u001b[0;34m**\u001b[0m\u001b[0mkwargs\u001b[0m\u001b[0;34m)\u001b[0m\u001b[0;34m\u001b[0m\u001b[0;34m\u001b[0m\u001b[0m\n\u001b[0m\u001b[1;32m    647\u001b[0m \u001b[0;34m\u001b[0m\u001b[0m\n\u001b[1;32m    648\u001b[0m         \u001b[0;31m# Total elapsed time of the request (approximately)\u001b[0m\u001b[0;34m\u001b[0m\u001b[0;34m\u001b[0m\u001b[0;34m\u001b[0m\u001b[0m\n",
      "\u001b[0;32m~/anaconda3/lib/python3.7/site-packages/requests/adapters.py\u001b[0m in \u001b[0;36msend\u001b[0;34m(self, request, stream, timeout, verify, cert, proxies)\u001b[0m\n\u001b[1;32m    502\u001b[0m                 \u001b[0;31m# TODO: Remove this in 3.0.0: see #2811\u001b[0m\u001b[0;34m\u001b[0m\u001b[0;34m\u001b[0m\u001b[0;34m\u001b[0m\u001b[0m\n\u001b[1;32m    503\u001b[0m                 \u001b[0;32mif\u001b[0m \u001b[0;32mnot\u001b[0m \u001b[0misinstance\u001b[0m\u001b[0;34m(\u001b[0m\u001b[0me\u001b[0m\u001b[0;34m.\u001b[0m\u001b[0mreason\u001b[0m\u001b[0;34m,\u001b[0m \u001b[0mNewConnectionError\u001b[0m\u001b[0;34m)\u001b[0m\u001b[0;34m:\u001b[0m\u001b[0;34m\u001b[0m\u001b[0;34m\u001b[0m\u001b[0m\n\u001b[0;32m--> 504\u001b[0;31m                     \u001b[0;32mraise\u001b[0m \u001b[0mConnectTimeout\u001b[0m\u001b[0;34m(\u001b[0m\u001b[0me\u001b[0m\u001b[0;34m,\u001b[0m \u001b[0mrequest\u001b[0m\u001b[0;34m=\u001b[0m\u001b[0mrequest\u001b[0m\u001b[0;34m)\u001b[0m\u001b[0;34m\u001b[0m\u001b[0;34m\u001b[0m\u001b[0m\n\u001b[0m\u001b[1;32m    505\u001b[0m \u001b[0;34m\u001b[0m\u001b[0m\n\u001b[1;32m    506\u001b[0m             \u001b[0;32mif\u001b[0m \u001b[0misinstance\u001b[0m\u001b[0;34m(\u001b[0m\u001b[0me\u001b[0m\u001b[0;34m.\u001b[0m\u001b[0mreason\u001b[0m\u001b[0;34m,\u001b[0m \u001b[0mResponseError\u001b[0m\u001b[0;34m)\u001b[0m\u001b[0;34m:\u001b[0m\u001b[0;34m\u001b[0m\u001b[0;34m\u001b[0m\u001b[0m\n",
      "\u001b[0;31mConnectTimeout\u001b[0m: HTTPSConnectionPool(host='github.com', port=443): Max retries exceeded with url: / (Caused by ConnectTimeoutError(<urllib3.connection.VerifiedHTTPSConnection object at 0x1079abe10>, 'Connection to github.com timed out. (connect timeout=0.001)'))"
     ]
    }
   ],
   "source": [
    "requests.get('https://github.com/', timeout=0.001)"
   ]
  },
  {
   "cell_type": "markdown",
   "metadata": {},
   "source": [
    "## post"
   ]
  },
  {
   "cell_type": "markdown",
   "metadata": {},
   "source": [
    "### Custom Headers"
   ]
  },
  {
   "cell_type": "code",
   "execution_count": 7,
   "metadata": {},
   "outputs": [],
   "source": [
    "headers = {\n",
    "    'user-agent': 'Mozilla/5.0 (Windows NT 10.0; WOW64) AppleWebKit/537.36 (KHTML, like Gecko) Chrome/61.0.3163.79 Safari/537.36 Maxthon/5.2.1.6000',\n",
    "    'Content-Type': 'application/json'\n",
    "}"
   ]
  },
  {
   "cell_type": "code",
   "execution_count": 2,
   "metadata": {},
   "outputs": [],
   "source": [
    "data = {\n",
    "  \"createdAtMs\": 1279957897000\n",
    "}"
   ]
  },
  {
   "cell_type": "markdown",
   "metadata": {},
   "source": [
    "### 和Swagger界面进行调试时的post参数传递方式相同！！！"
   ]
  },
  {
   "cell_type": "code",
   "execution_count": 11,
   "metadata": {},
   "outputs": [],
   "source": [
    "r = requests.post('http://rc-dev.leapstack.cn:10318/model/feedback/claim', headers=headers, json=data)"
   ]
  },
  {
   "cell_type": "code",
   "execution_count": 12,
   "metadata": {},
   "outputs": [
    {
     "data": {
      "text/plain": [
       "'{\"code\":\"000000\",\"message\":\"成功\",\"data\":[{\"companyCode\":\"000179\",\"claimId\":\"2019072401001\",\"hit\":0}]}'"
      ]
     },
     "execution_count": 12,
     "metadata": {},
     "output_type": "execute_result"
    }
   ],
   "source": [
    "r.text"
   ]
  },
  {
   "cell_type": "code",
   "execution_count": 15,
   "metadata": {},
   "outputs": [
    {
     "data": {
      "text/plain": [
       "dict"
      ]
     },
     "execution_count": 15,
     "metadata": {},
     "output_type": "execute_result"
    }
   ],
   "source": [
    "type(r.json())"
   ]
  },
  {
   "cell_type": "code",
   "execution_count": 16,
   "metadata": {},
   "outputs": [
    {
     "data": {
      "text/plain": [
       "{'code': '000000',\n",
       " 'message': '成功',\n",
       " 'data': [{'companyCode': '000179', 'claimId': '2019072401001', 'hit': 0}]}"
      ]
     },
     "execution_count": 16,
     "metadata": {},
     "output_type": "execute_result"
    }
   ],
   "source": [
    "r.json()"
   ]
  },
  {
   "cell_type": "markdown",
   "metadata": {},
   "source": [
    "# 爬取天天基金指定基金净值"
   ]
  },
  {
   "cell_type": "code",
   "execution_count": 12,
   "metadata": {},
   "outputs": [],
   "source": [
    "import requests"
   ]
  },
  {
   "cell_type": "code",
   "execution_count": 13,
   "metadata": {},
   "outputs": [],
   "source": [
    "Y='000968 001052 110027 000478 100032 001180 519977 000614 162411 003376 001064'.split()\n",
    "L='000478 100038 100032 100033 340001 004752 001064 502010 001469  161017 001180 000614 270048 001051 162411 002903 003765 110027 050027'.split()"
   ]
  },
  {
   "cell_type": "code",
   "execution_count": 14,
   "metadata": {},
   "outputs": [
    {
     "data": {
      "text/plain": [
       "['000968',\n",
       " '001052',\n",
       " '110027',\n",
       " '000478',\n",
       " '100032',\n",
       " '001180',\n",
       " '519977',\n",
       " '000614',\n",
       " '162411',\n",
       " '003376',\n",
       " '001064']"
      ]
     },
     "execution_count": 14,
     "metadata": {},
     "output_type": "execute_result"
    }
   ],
   "source": [
    "Y"
   ]
  },
  {
   "cell_type": "code",
   "execution_count": 15,
   "metadata": {},
   "outputs": [],
   "source": [
    "import json"
   ]
  },
  {
   "cell_type": "code",
   "execution_count": 16,
   "metadata": {},
   "outputs": [
    {
     "name": "stdout",
     "output_type": "stream",
     "text": [
      "Expecting value: line 1 column 1 (char 0)\n",
      "000614 jsonpgz();\n"
     ]
    }
   ],
   "source": [
    "# 制作dict\n",
    "ll = []\n",
    "headers = {\n",
    "    'user-agent': 'Mozilla/5.0 (Windows NT 10.0; WOW64) AppleWebKit/537.36 (KHTML, like Gecko) Chrome/61.0.3163.79 Safari/537.36 Maxthon/5.2.1.6000',\n",
    "}\n",
    "for i in set(Y+L):\n",
    "    try:\n",
    "#         print(i)\n",
    "        if i == '100033': continue\n",
    "        r = requests.get(f'http://fundgz.1234567.com.cn/js/{i}.js', headers=headers)\n",
    "        s = r.text\n",
    "#         print(s)\n",
    "        ll.append(json.loads(s[s.find('{'):(s.find('}')+1)]))\n",
    "    except Exception as e:\n",
    "        print(str(e))\n",
    "        print(i, s)"
   ]
  },
  {
   "cell_type": "code",
   "execution_count": 17,
   "metadata": {},
   "outputs": [],
   "source": [
    "d = dict()\n",
    "\n",
    "for i in ll:\n",
    "    dd = dict()\n",
    "    d[i['name']] = i['fundcode']\n",
    "    dd['trade_date'] = i['jzrq']\n",
    "    dd['close'] = i['dwjz']\n",
    "    "
   ]
  },
  {
   "cell_type": "code",
   "execution_count": 48,
   "metadata": {},
   "outputs": [
    {
     "data": {
      "text/plain": [
       "{'trade_date': '2019-08-26', 'close': '0.7223'}"
      ]
     },
     "execution_count": 48,
     "metadata": {},
     "output_type": "execute_result"
    }
   ],
   "source": [
    "dd"
   ]
  },
  {
   "cell_type": "code",
   "execution_count": 55,
   "metadata": {},
   "outputs": [],
   "source": [
    "from datetime import datetime"
   ]
  },
  {
   "cell_type": "code",
   "execution_count": 59,
   "metadata": {},
   "outputs": [
    {
     "data": {
      "text/plain": [
       "datetime.datetime(2019, 8, 26, 0, 0)"
      ]
     },
     "execution_count": 59,
     "metadata": {},
     "output_type": "execute_result"
    }
   ],
   "source": [
    "datetime.strptime(dd['trade_date'], '%Y-%m-%d')"
   ]
  },
  {
   "cell_type": "code",
   "execution_count": 60,
   "metadata": {},
   "outputs": [
    {
     "data": {
      "text/html": [
       "<div>\n",
       "<style scoped>\n",
       "    .dataframe tbody tr th:only-of-type {\n",
       "        vertical-align: middle;\n",
       "    }\n",
       "\n",
       "    .dataframe tbody tr th {\n",
       "        vertical-align: top;\n",
       "    }\n",
       "\n",
       "    .dataframe thead th {\n",
       "        text-align: right;\n",
       "    }\n",
       "</style>\n",
       "<table border=\"1\" class=\"dataframe\">\n",
       "  <thead>\n",
       "    <tr style=\"text-align: right;\">\n",
       "      <th></th>\n",
       "      <th>trade_date</th>\n",
       "      <th>close</th>\n",
       "    </tr>\n",
       "  </thead>\n",
       "  <tbody>\n",
       "    <tr>\n",
       "      <th>0</th>\n",
       "      <td>2019-08-26</td>\n",
       "      <td>0.7223</td>\n",
       "    </tr>\n",
       "  </tbody>\n",
       "</table>\n",
       "</div>"
      ],
      "text/plain": [
       "   trade_date   close\n",
       "0  2019-08-26  0.7223"
      ]
     },
     "execution_count": 60,
     "metadata": {},
     "output_type": "execute_result"
    }
   ],
   "source": [
    "df = pd.DataFrame(columns=['trade_date', 'close'])\n",
    "\n",
    "df.append(dd, ignore_index=True)"
   ]
  },
  {
   "cell_type": "code",
   "execution_count": 61,
   "metadata": {},
   "outputs": [
    {
     "data": {
      "text/html": [
       "<div>\n",
       "<style scoped>\n",
       "    .dataframe tbody tr th:only-of-type {\n",
       "        vertical-align: middle;\n",
       "    }\n",
       "\n",
       "    .dataframe tbody tr th {\n",
       "        vertical-align: top;\n",
       "    }\n",
       "\n",
       "    .dataframe thead th {\n",
       "        text-align: right;\n",
       "    }\n",
       "</style>\n",
       "<table border=\"1\" class=\"dataframe\">\n",
       "  <thead>\n",
       "    <tr style=\"text-align: right;\">\n",
       "      <th></th>\n",
       "      <th>trade_date</th>\n",
       "      <th>close</th>\n",
       "    </tr>\n",
       "  </thead>\n",
       "  <tbody>\n",
       "  </tbody>\n",
       "</table>\n",
       "</div>"
      ],
      "text/plain": [
       "Empty DataFrame\n",
       "Columns: [trade_date, close]\n",
       "Index: []"
      ]
     },
     "execution_count": 61,
     "metadata": {},
     "output_type": "execute_result"
    }
   ],
   "source": [
    "df"
   ]
  },
  {
   "cell_type": "code",
   "execution_count": 18,
   "metadata": {},
   "outputs": [],
   "source": [
    "import pandas as pd"
   ]
  },
  {
   "cell_type": "code",
   "execution_count": 20,
   "metadata": {},
   "outputs": [],
   "source": [
    "d['华安德国30(DAX)联接'] = '000614'"
   ]
  },
  {
   "cell_type": "code",
   "execution_count": 21,
   "metadata": {},
   "outputs": [
    {
     "data": {
      "text/plain": [
       "{'广发中债7-10年国开债指数A': '003376',\n",
       " '富国沪深300指数增强': '100038',\n",
       " '广发中证500ETF联接C': '002903',\n",
       " '富国中证500指数(LOF)': '161017',\n",
       " '华夏中证500ETF联接A': '001052',\n",
       " '长信可转债债券A': '519977',\n",
       " '广发养老指数A': '000968',\n",
       " '广发中证环保ETF联接A': '001064',\n",
       " '建信中证500指数增强A': '000478',\n",
       " '华宝标普油气上游股票': '162411',\n",
       " '广发中证全指金融地产联接A': '001469',\n",
       " '易方达安心回报债券A': '110027',\n",
       " '博时信用债纯债债券A': '050027',\n",
       " '富国中证红利指数增强': '100032',\n",
       " '华夏上证50ETF联接A': '001051',\n",
       " '广发纯债债券A': '270048',\n",
       " '广发创业板ETF联接A': '003765',\n",
       " '广发医药卫生联接A': '001180',\n",
       " '广发中证传媒ETF联接A': '004752',\n",
       " '兴全可转债混合': '340001',\n",
       " '易方达证券公司分级': '502010',\n",
       " '华安德国30(DAX)联接': '000614'}"
      ]
     },
     "execution_count": 21,
     "metadata": {},
     "output_type": "execute_result"
    }
   ],
   "source": [
    "d"
   ]
  },
  {
   "cell_type": "code",
   "execution_count": 22,
   "metadata": {},
   "outputs": [],
   "source": [
    "pd.Series(d).to_pickle('fund_otc_series.pkl')"
   ]
  },
  {
   "cell_type": "code",
   "execution_count": 62,
   "metadata": {},
   "outputs": [
    {
     "data": {
      "text/plain": [
       "dict_keys(['易方达证券公司分级', '广发纯债债券A', '兴全可转债混合', '博时信用债纯债债券A', '广发中债7-10年国开债指数A', '华夏中证500ETF联接A', '富国中证红利指数增强', '广发医药卫生联接A', '华夏上证50ETF联接A', '建信中证500指数增强A', '广发养老指数A', '华宝标普油气上游股票', '广发创业板ETF联接A', '长信可转债债券A', '易方达安心回报债券A', '广发中证500ETF联接C', '广发中证全指金融地产联接A', '富国中证500指数(LOF)', '广发中证环保ETF联接A', '富国沪深300指数增强', '广发中证传媒ETF联接A'])"
      ]
     },
     "execution_count": 62,
     "metadata": {},
     "output_type": "execute_result"
    }
   ],
   "source": [
    "d.keys()"
   ]
  },
  {
   "cell_type": "code",
   "execution_count": 44,
   "metadata": {},
   "outputs": [
    {
     "data": {
      "text/plain": [
       "{'易方达证券公司分级': '502010',\n",
       " '广发纯债债券A': '270048',\n",
       " '兴全可转债混合': '340001',\n",
       " '博时信用债纯债债券A': '050027',\n",
       " '广发中债7-10年国开债指数A': '003376',\n",
       " '华夏中证500ETF联接A': '001052',\n",
       " '富国中证红利指数增强': '100032',\n",
       " '广发医药卫生联接A': '001180',\n",
       " '华夏上证50ETF联接A': '001051',\n",
       " '建信中证500指数增强A': '000478',\n",
       " '广发养老指数A': '000968',\n",
       " '华宝标普油气上游股票': '162411',\n",
       " '广发创业板ETF联接A': '003765',\n",
       " '长信可转债债券A': '519977',\n",
       " '易方达安心回报债券A': '110027',\n",
       " '广发中证500ETF联接C': '002903',\n",
       " '广发中证全指金融地产联接A': '001469',\n",
       " '富国中证500指数(LOF)': '161017',\n",
       " '广发中证环保ETF联接A': '001064',\n",
       " '富国沪深300指数增强': '100038',\n",
       " '广发中证传媒ETF联接A': '004752'}"
      ]
     },
     "execution_count": 44,
     "metadata": {},
     "output_type": "execute_result"
    }
   ],
   "source": [
    "d"
   ]
  },
  {
   "cell_type": "code",
   "execution_count": 101,
   "metadata": {},
   "outputs": [
    {
     "data": {
      "text/plain": [
       "'jsonpgz();'"
      ]
     },
     "execution_count": 101,
     "metadata": {},
     "output_type": "execute_result"
    }
   ],
   "source": [
    "r = requests.get('http://fundgz.1234567.com.cn/js/000614.js')\n",
    "\n",
    "r.text"
   ]
  },
  {
   "cell_type": "code",
   "execution_count": 42,
   "metadata": {},
   "outputs": [
    {
     "data": {
      "text/plain": [
       "'jsonpgz({\"fundcode\":\"100032\",\"name\":\"富国中证红利指数增强\",\"jzrq\":\"2019-08-26\",\"dwjz\":\"1.0870\",\"gsz\":\"1.0991\",\"gszzl\":\"1.11\",\"gztime\":\"2019-08-27 14:05\"});'"
      ]
     },
     "execution_count": 42,
     "metadata": {},
     "output_type": "execute_result"
    }
   ],
   "source": [
    "r = requests.get('http://fundgz.1234567.com.cn/js/100032.js')\n",
    "\n",
    "r.text"
   ]
  },
  {
   "cell_type": "code",
   "execution_count": 11,
   "metadata": {},
   "outputs": [
    {
     "data": {
      "text/plain": [
       "'jsonpgz({\"fundcode\":\"004752\",\"name\":\"广发中证传媒ETF联接A\",\"jzrq\":\"2019-08-26\",\"dwjz\":\"0.7223\",\"gsz\":\"0.7390\",\"gszzl\":\"2.32\",\"gztime\":\"2019-08-27 13:11\"});'"
      ]
     },
     "execution_count": 11,
     "metadata": {},
     "output_type": "execute_result"
    }
   ],
   "source": [
    "r = requests.get('http://fundgz.1234567.com.cn/js/004752.js')\n",
    "\n",
    "r.text"
   ]
  },
  {
   "cell_type": "code",
   "execution_count": 14,
   "metadata": {},
   "outputs": [],
   "source": [
    "s = r.text"
   ]
  },
  {
   "cell_type": "code",
   "execution_count": 22,
   "metadata": {},
   "outputs": [
    {
     "data": {
      "text/plain": [
       "'{\"fundcode\":\"004752\",\"name\":\"广发中证传媒ETF联接A\",\"jzrq\":\"2019-08-26\",\"dwjz\":\"0.7223\",\"gsz\":\"0.7390\",\"gszzl\":\"2.32\",\"gztime\":\"2019-08-27 13:11\"}'"
      ]
     },
     "execution_count": 22,
     "metadata": {},
     "output_type": "execute_result"
    }
   ],
   "source": [
    "s[s.find('{'):(s.find('}')+1)]"
   ]
  },
  {
   "cell_type": "code",
   "execution_count": 19,
   "metadata": {},
   "outputs": [
    {
     "data": {
      "text/plain": [
       "');'"
      ]
     },
     "execution_count": 19,
     "metadata": {},
     "output_type": "execute_result"
    }
   ],
   "source": [
    "s[(s.find('}')+1):]"
   ]
  },
  {
   "cell_type": "code",
   "execution_count": 23,
   "metadata": {},
   "outputs": [
    {
     "data": {
      "text/plain": [
       "{'fundcode': '004752',\n",
       " 'name': '广发中证传媒ETF联接A',\n",
       " 'jzrq': '2019-08-26',\n",
       " 'dwjz': '0.7223',\n",
       " 'gsz': '0.7390',\n",
       " 'gszzl': '2.32',\n",
       " 'gztime': '2019-08-27 13:11'}"
      ]
     },
     "execution_count": 23,
     "metadata": {},
     "output_type": "execute_result"
    }
   ],
   "source": [
    "json.loads(s[s.find('{'):(s.find('}')+1)])"
   ]
  },
  {
   "cell_type": "code",
   "execution_count": 27,
   "metadata": {},
   "outputs": [],
   "source": [
    "from time import time"
   ]
  },
  {
   "cell_type": "code",
   "execution_count": 29,
   "metadata": {},
   "outputs": [],
   "source": [
    "import time"
   ]
  },
  {
   "cell_type": "code",
   "execution_count": 30,
   "metadata": {},
   "outputs": [],
   "source": [
    "import datetime"
   ]
  },
  {
   "cell_type": "code",
   "execution_count": 33,
   "metadata": {},
   "outputs": [],
   "source": [
    "r = requests.get(url)"
   ]
  },
  {
   "cell_type": "code",
   "execution_count": 34,
   "metadata": {},
   "outputs": [
    {
     "data": {
      "text/plain": [
       "'jQuery18304503428367324065_1566884690626({\"Data\":\"\",\"ErrCode\":-999,\"ErrMsg\":\"\",\"TotalCount\":0,\"Expansion\":null,\"PageSize\":0,\"PageIndex\":0})'"
      ]
     },
     "execution_count": 34,
     "metadata": {},
     "output_type": "execute_result"
    }
   ],
   "source": [
    "r.text"
   ]
  },
  {
   "cell_type": "markdown",
   "metadata": {},
   "source": [
    "## 直接从网页解析"
   ]
  },
  {
   "cell_type": "code",
   "execution_count": 2,
   "metadata": {},
   "outputs": [],
   "source": [
    "r = requests.get('http://fund.eastmoney.com/162411.html')"
   ]
  },
  {
   "cell_type": "code",
   "execution_count": 2,
   "metadata": {},
   "outputs": [],
   "source": [
    "r = requests.get('http://fund.eastmoney.com/000478.html')"
   ]
  },
  {
   "cell_type": "code",
   "execution_count": 23,
   "metadata": {},
   "outputs": [],
   "source": [
    "r = requests.get('http://fund.eastmoney.com/000614.html')"
   ]
  },
  {
   "cell_type": "code",
   "execution_count": 24,
   "metadata": {},
   "outputs": [],
   "source": [
    "from pyquery import PyQuery as pq\n",
    "\n",
    "r.encoding='utf8'\n",
    "\n",
    "root = pq(r.text)"
   ]
  },
  {
   "cell_type": "markdown",
   "metadata": {},
   "source": [
    "#body > div:nth-child(12) > div > div > div.fundDetail-main > div.fundInfoItem > div.dataOfFund > dl.dataItem02 > dd.dataNums > span.ui-font-middle.ui-color-red.ui-num"
   ]
  },
  {
   "cell_type": "markdown",
   "metadata": {},
   "source": [
    "#body > div:nth-child(12) > div > div > div.fundDetail-main > div.fundInfoItem > div.dataOfFund > dl.dataItem02 > dd.dataNums > span.ui-font-middle.ui-color-green.ui-num"
   ]
  },
  {
   "cell_type": "code",
   "execution_count": 27,
   "metadata": {},
   "outputs": [],
   "source": [
    "d = root('#body > div:nth-child(12) > div > div > div.fundDetail-main > div.fundInfoItem > div.dataOfFund > dl.dataItem02 > dd.dataNums > span.ui-font-middle.ui-num')"
   ]
  },
  {
   "cell_type": "code",
   "execution_count": 28,
   "metadata": {},
   "outputs": [
    {
     "data": {
      "text/plain": [
       "'-0.54%'"
      ]
     },
     "execution_count": 28,
     "metadata": {},
     "output_type": "execute_result"
    }
   ],
   "source": [
    "d.text()"
   ]
  },
  {
   "cell_type": "code",
   "execution_count": 29,
   "metadata": {},
   "outputs": [],
   "source": [
    "d = root('#body > div:nth-child(12) > div > div > div.fundDetail-main > div.fundInfoItem > div.dataOfFund > dl.dataItem02 > dd.dataNums > span.ui-font-large.ui-num')"
   ]
  },
  {
   "cell_type": "code",
   "execution_count": 30,
   "metadata": {},
   "outputs": [
    {
     "data": {
      "text/plain": [
       "'1.1030'"
      ]
     },
     "execution_count": 30,
     "metadata": {},
     "output_type": "execute_result"
    }
   ],
   "source": [
    "d.text()"
   ]
  },
  {
   "cell_type": "code",
   "execution_count": 31,
   "metadata": {},
   "outputs": [],
   "source": [
    "d = root('#body > div:nth-child(12) > div > div > div.fundDetail-main > div.fundInfoItem > div.dataOfFund > dl.dataItem02 > dt > p'\n",
    "        )"
   ]
  },
  {
   "cell_type": "code",
   "execution_count": 32,
   "metadata": {},
   "outputs": [
    {
     "data": {
      "text/plain": [
       "'2019-09-03'"
      ]
     },
     "execution_count": 32,
     "metadata": {},
     "output_type": "execute_result"
    }
   ],
   "source": [
    "d.text()[-11:-1]"
   ]
  },
  {
   "cell_type": "code",
   "execution_count": 91,
   "metadata": {},
   "outputs": [
    {
     "data": {
      "text/plain": [
       "-0.43"
      ]
     },
     "execution_count": 91,
     "metadata": {},
     "output_type": "execute_result"
    }
   ],
   "source": [
    "float(d.text()[:-1])"
   ]
  },
  {
   "cell_type": "markdown",
   "metadata": {},
   "source": [
    "# 爬取同花顺板块概念成分股\n",
    "http://q.10jqka.com.cn/gn/"
   ]
  },
  {
   "cell_type": "code",
   "execution_count": 100,
   "metadata": {},
   "outputs": [],
   "source": [
    "import time"
   ]
  },
  {
   "cell_type": "code",
   "execution_count": 107,
   "metadata": {},
   "outputs": [],
   "source": [
    "def t():\n",
    "    \n",
    "    from pyquery import PyQuery as pq\n",
    "    la = []\n",
    "    headers = {\n",
    "        'user-agent': 'Mozilla/5.0 (Windows NT 10.0; WOW64) AppleWebKit/537.36 (KHTML, like Gecko) Chrome/61.0.3163.79 Safari/537.36 Maxthon/5.2.1.6000',\n",
    "        'Cookie': 'v=AqsTXYKWco_gqq7bwt5h9vnBPMSWwLsgOdGD9h0ohdBDw8WypZBPkkmkE2cu'\n",
    "    }\n",
    "    for i in range(1, 27):\n",
    "        print(i)\n",
    "        url=f'http://q.10jqka.com.cn/gn/index/field/addtime/order/desc/page/{i}/ajax/1/'\n",
    "        r = requests.get(url, headers = headers)\n",
    "        r.encoding='gbk'\n",
    "#         print(r.text)\n",
    "        root = pq(r.text)\n",
    "        d1 = root('table > tbody > tr')\n",
    "        \n",
    "        for i in range(len(d1)):\n",
    "            date = d1.eq(i)('td:nth-child(1)').text()\n",
    "            name = d1.eq(i)('td:nth-child(2) > a').text()\n",
    "            link = d1.eq(i)('td:nth-child(2) > a').attr.href\n",
    "            la.append([date, name, link])\n",
    "        time.sleep(0.5)\n",
    "    return la"
   ]
  },
  {
   "cell_type": "code",
   "execution_count": 108,
   "metadata": {},
   "outputs": [
    {
     "name": "stdout",
     "output_type": "stream",
     "text": [
      "1\n",
      "2\n",
      "3\n",
      "4\n",
      "5\n",
      "6\n",
      "7\n",
      "8\n",
      "9\n",
      "10\n",
      "11\n",
      "12\n",
      "13\n",
      "14\n",
      "15\n",
      "16\n",
      "17\n",
      "18\n",
      "19\n",
      "20\n",
      "21\n",
      "22\n",
      "23\n",
      "24\n",
      "25\n",
      "26\n"
     ]
    },
    {
     "data": {
      "text/plain": [
       "[['2019-07-31', '新零售', 'http://q.10jqka.com.cn/gn/detail/code/302436/'],\n",
       " ['2019-07-17', '光刻胶', 'http://q.10jqka.com.cn/gn/detail/code/308582/'],\n",
       " ['2019-06-24', '仿制药一致性评价', 'http://q.10jqka.com.cn/gn/detail/code/308572/'],\n",
       " ['2019-06-20', '垃圾分类', 'http://q.10jqka.com.cn/gn/detail/code/308566/'],\n",
       " ['2019-06-20', '创业板重组松绑', 'http://q.10jqka.com.cn/gn/detail/code/308568/'],\n",
       " ['2019-06-17', '沪伦通概念', 'http://q.10jqka.com.cn/gn/detail/code/308564/'],\n",
       " ['2019-06-14', '烟草', 'http://q.10jqka.com.cn/gn/detail/code/308560/'],\n",
       " ['2019-06-05', 'ETC', 'http://q.10jqka.com.cn/gn/detail/code/308555/'],\n",
       " ['2019-06-04', '黑龙江自贸区', 'http://q.10jqka.com.cn/gn/detail/code/308547/'],\n",
       " ['2019-05-28', '富时罗素概念股', 'http://q.10jqka.com.cn/gn/detail/code/308539/'],\n",
       " ['2019-05-24', '动物疫苗', 'http://q.10jqka.com.cn/gn/detail/code/308537/'],\n",
       " ['2019-05-20', '国产操作系统', 'http://q.10jqka.com.cn/gn/detail/code/308531/'],\n",
       " ['2019-05-17', '华为海思概念股', 'http://q.10jqka.com.cn/gn/detail/code/308527/'],\n",
       " ['2019-05-16', '数字乡村', 'http://q.10jqka.com.cn/gn/detail/code/308525/'],\n",
       " ['2019-05-16', '草地贪夜蛾防治', 'http://q.10jqka.com.cn/gn/detail/code/308523/'],\n",
       " ['2019-05-06', '人造肉', 'http://q.10jqka.com.cn/gn/detail/code/308517/'],\n",
       " ['2019-04-17', '台湾概念股', 'http://q.10jqka.com.cn/gn/detail/code/308513/'],\n",
       " ['2019-04-11', '黑洞概念', 'http://q.10jqka.com.cn/gn/detail/code/308505/'],\n",
       " ['2019-04-10', '超级真菌', 'http://q.10jqka.com.cn/gn/detail/code/308501/'],\n",
       " ['2019-04-08', '透明工厂', 'http://q.10jqka.com.cn/gn/detail/code/308499/'],\n",
       " ['2019-04-03', '融媒体', 'http://q.10jqka.com.cn/gn/detail/code/308497/'],\n",
       " ['2019-04-01', '外资券商影子股', 'http://q.10jqka.com.cn/gn/detail/code/308495/'],\n",
       " ['2019-03-18', '氢能源', 'http://q.10jqka.com.cn/gn/detail/code/308491/'],\n",
       " ['2019-03-13', '太空互联网', 'http://q.10jqka.com.cn/gn/detail/code/308483/'],\n",
       " ['2019-03-12', '网络切片', 'http://q.10jqka.com.cn/gn/detail/code/308481/'],\n",
       " ['2019-03-12', '数字孪生', 'http://q.10jqka.com.cn/gn/detail/code/308479/'],\n",
       " ['2019-03-11', '电力物联网', 'http://q.10jqka.com.cn/gn/detail/code/308477/'],\n",
       " ['2019-03-04', '超清视频', 'http://q.10jqka.com.cn/gn/detail/code/308473/'],\n",
       " ['2019-03-01', 'MSCI预期', 'http://q.10jqka.com.cn/gn/detail/code/308471/'],\n",
       " ['2019-02-13', '柔性屏', 'http://q.10jqka.com.cn/gn/detail/code/308467/'],\n",
       " ['2019-02-11', '养鸡', 'http://q.10jqka.com.cn/gn/detail/code/301576/'],\n",
       " ['2019-01-31', '商誉减值', 'http://q.10jqka.com.cn/gn/detail/code/308463/'],\n",
       " ['2018-12-03', '芬太尼', 'http://q.10jqka.com.cn/gn/detail/code/308438/'],\n",
       " ['2018-11-09', '高送转预期', 'http://q.10jqka.com.cn/gn/detail/code/308436/'],\n",
       " ['2018-11-05', '长三角一体化', 'http://q.10jqka.com.cn/gn/detail/code/308432/'],\n",
       " ['2018-10-14', '国资驰援', 'http://q.10jqka.com.cn/gn/detail/code/300091/'],\n",
       " ['2018-08-29', '消费电子', 'http://q.10jqka.com.cn/gn/detail/code/308384/'],\n",
       " ['2018-06-27', '北汽新能源', 'http://q.10jqka.com.cn/gn/detail/code/308332/'],\n",
       " ['2018-05-10', '送转填权', 'http://q.10jqka.com.cn/gn/detail/code/308296/'],\n",
       " ['2018-04-28', '氢氟酸', 'http://q.10jqka.com.cn/gn/detail/code/308290/'],\n",
       " ['2018-04-12', '数字中国', 'http://q.10jqka.com.cn/gn/detail/code/308176/'],\n",
       " ['2018-04-10', '知识产权保护', 'http://q.10jqka.com.cn/gn/detail/code/308172/'],\n",
       " ['2018-03-07', '农业种植', 'http://q.10jqka.com.cn/gn/detail/code/308016/'],\n",
       " ['2018-03-02', '独角兽概念', 'http://q.10jqka.com.cn/gn/detail/code/308002/'],\n",
       " ['2018-02-12', '富士康概念', 'http://q.10jqka.com.cn/gn/detail/code/307954/'],\n",
       " ['2018-01-08', '水泥', 'http://q.10jqka.com.cn/gn/detail/code/307826/'],\n",
       " ['2017-12-11', '冰雪产业', 'http://q.10jqka.com.cn/gn/detail/code/307550/'],\n",
       " ['2017-12-08', '石墨电极', 'http://q.10jqka.com.cn/gn/detail/code/307512/'],\n",
       " ['2017-12-01', '边缘计算', 'http://q.10jqka.com.cn/gn/detail/code/307408/'],\n",
       " ['2017-11-24', '空铁WIFI', 'http://q.10jqka.com.cn/gn/detail/code/307264/']]"
      ]
     },
     "execution_count": 108,
     "metadata": {},
     "output_type": "execute_result"
    }
   ],
   "source": [
    "t()"
   ]
  },
  {
   "cell_type": "code",
   "execution_count": 38,
   "metadata": {},
   "outputs": [],
   "source": []
  },
  {
   "cell_type": "code",
   "execution_count": 39,
   "metadata": {},
   "outputs": [
    {
     "data": {
      "text/plain": [
       "'新零售'"
      ]
     },
     "execution_count": 39,
     "metadata": {},
     "output_type": "execute_result"
    }
   ],
   "source": [
    "d.text()"
   ]
  },
  {
   "cell_type": "code",
   "execution_count": 40,
   "metadata": {},
   "outputs": [
    {
     "data": {
      "text/plain": [
       "'http://q.10jqka.com.cn/gn/detail/code/302436/'"
      ]
     },
     "execution_count": 40,
     "metadata": {},
     "output_type": "execute_result"
    }
   ],
   "source": [
    "d.attr.href"
   ]
  },
  {
   "cell_type": "code",
   "execution_count": 41,
   "metadata": {},
   "outputs": [],
   "source": [
    "headers = {\n",
    "    'user-agent': 'Mozilla/5.0 (Windows NT 10.0; WOW64) AppleWebKit/537.36 (KHTML, like Gecko) Chrome/61.0.3163.79 Safari/537.36 Maxthon/5.2.1.6000',\n",
    "    'Cookie': 'v=Asd_CYaaViNeZNKvMiXF6qUVUHCSzJqO9aEfIpm04Zt_ZulmoZwr_gVwr3Gq'\n",
    "}\n",
    "r1 = requests.get(d.attr.href, headers = headers)"
   ]
  },
  {
   "cell_type": "code",
   "execution_count": 44,
   "metadata": {},
   "outputs": [],
   "source": [
    "r1.encoding='gbk'\n",
    "\n",
    "root1 = pq(r1.text)"
   ]
  },
  {
   "cell_type": "code",
   "execution_count": 45,
   "metadata": {},
   "outputs": [],
   "source": [
    "d1 = root1('#maincont > table > tbody > tr:nth-child(1) > td:nth-child(2)')"
   ]
  },
  {
   "cell_type": "code",
   "execution_count": 46,
   "metadata": {},
   "outputs": [
    {
     "data": {
      "text/plain": [
       "'600729'"
      ]
     },
     "execution_count": 46,
     "metadata": {},
     "output_type": "execute_result"
    }
   ],
   "source": [
    "d1.text()"
   ]
  },
  {
   "cell_type": "code",
   "execution_count": 47,
   "metadata": {},
   "outputs": [
    {
     "data": {
      "text/plain": [
       "10"
      ]
     },
     "execution_count": 47,
     "metadata": {},
     "output_type": "execute_result"
    }
   ],
   "source": [
    "len(root1('#maincont > table > tbody > tr'))"
   ]
  },
  {
   "cell_type": "code",
   "execution_count": 51,
   "metadata": {},
   "outputs": [
    {
     "name": "stdout",
     "output_type": "stream",
     "text": [
      "重庆百货\n",
      "华致酒行\n",
      "北京城乡\n",
      "石基信息\n",
      "鲍斯股份\n",
      "汇纳科技\n",
      "大商股份\n",
      "青岛啤酒\n",
      "步步高\n",
      "津劝业\n"
     ]
    }
   ],
   "source": [
    "for i in range(len(root1('#maincont > table > tbody > tr'))):\n",
    "    dtcode = root1('#maincont > table > tbody > tr').eq(i)('td:nth-child(2)').text()\n",
    "    dtname = root1('#maincont > table > tbody > tr').eq(i)('td:nth-child(3)').text()\n",
    "    print(dtname)"
   ]
  },
  {
   "cell_type": "code",
   "execution_count": 66,
   "metadata": {},
   "outputs": [],
   "source": [
    "headers = {\n",
    "    'user-agent': 'Mozilla/5.0 (Windows NT 10.0; WOW64) AppleWebKit/537.36 (KHTML, like Gecko) Chrome/61.0.3163.79 Safari/537.36 Maxthon/5.2.1.6000',\n",
    "    'Cookie': 'v=Asd_CYaaViNeZNKvMiXF6qUVUHCSzJqO9aEfIpm04Zt_ZulmoZwr_gVwr3Gq'\n",
    "}\n",
    "r2 = requests.get('http://q.10jqka.com.cn/gn/detail/field/264648/order/desc/page/2/ajax/1/code/302436', headers = headers)"
   ]
  },
  {
   "cell_type": "code",
   "execution_count": 65,
   "metadata": {},
   "outputs": [
    {
     "data": {
      "text/plain": [
       "'  \\r\\n            <table class=\"m-table m-pager-table\">\\r\\n            <thead>\\r\\n            <tr>\\r\\n                <th style=\"width:4%;\">序号</th>\\r\\n                <th style=\"width:6%;\">代码</th>\\r\\n                <th style=\"width:8%;\">名称</th>\\r\\n                <th style=\"width:6%;\" ><a href=\"javascript:void(0)\" field=\"10\" >现价<i>&nbsp;</i></a></th>\\r\\n                <th style=\"width:8%;\" ><a href=\"javascript:void(0)\" field=\"199112\" >涨跌幅(%)<i>&nbsp;</i></a></th>\\r\\n                <th style=\"width:6%\"  class=\"cur\"><a href=\"javascript:void(0)\" field=\"264648\" order=\"desc\"  class=\"desc\">涨跌<i>&nbsp;</i></a></th>\\r\\n                <th style=\"width:6%;\" ><a href=\"javascript:void(0)\" field=\"48\" >涨速(%)<i>&nbsp;</i></a></th>\\r\\n                <th style=\"width:6%;\" ><a href=\"javascript:void(0)\" field=\"1968584\" >换手(%)<i>&nbsp;</i></a></th>\\r\\n                <th style=\"width:6%;\" ><a href=\"javascript:void(0)\" field=\"1771976\" >量比<i>&nbsp;</i></a></th>\\r\\n                <th style=\"width:8%;\" ><a href=\"javascript:void(0)\" field=\"526792\" >振幅(%)<i>&nbsp;</i></a></th>\\r\\n                <th style=\"width:8%;\" ><a href=\"javascript:void(0)\" field=\"19\" >成交额<i>&nbsp;</i></a></th>\\r\\n                <th style=\"width:8%;\" ><a href=\"javascript:void(0)\" field=\"407\" >流通股<i>&nbsp;</i></a></th>\\r\\n                <th style=\"width:10%;\" ><a href=\"javascript:void(0)\" field=\"3475914\" >流通市值<i>&nbsp;</i></a></th>\\r\\n                <th style=\"width:6%;\" ><a href=\"javascript:void(0)\" field=\"2034120\" >市盈率<i>&nbsp;</i></a></th>\\r\\n                <th style=\"width:4%;\">加自选</th>\\r\\n            </tr>\\r\\n            </thead>\\r\\n            <tbody>\\r\\n                                    <tr>\\r\\n                <td>21</td>\\r\\n                <td><a href=\"http://stockpage.10jqka.com.cn/300128/\" target=\"_blank\">300128</a></td>\\r\\n                <td><a href=\"http://stockpage.10jqka.com.cn/300128\" target=\"_blank\">锦富技术</a></td>\\r\\n                <td class=\"c-rise\">4.31</td>\\r\\n                <td class=\"c-rise\">3.36</td>\\r\\n                <td class=\"c-rise\">0.14</td>\\r\\n                <td class=\"\">0.00</td>\\r\\n                <td>5.13</td>\\r\\n                <td class=\"c-rise\">1.34</td>\\r\\n                <td class=\"c-rise\">4.80</td>\\r\\n                <td>2.35亿</td>\\r\\n                <td>10.72亿</td>\\r\\n                <td>46.21亿</td>\\r\\n                <td>124.99</td>\\r\\n                <td><a class=\"j_addStock\" title=\"加自选\" href=\"javascript:void(0);\"><img src=\"http://i.thsi.cn/images/q/plus_logo.png\" alt=\"\"></a></td>\\r\\n            </tr>\\r\\n                        <tr>\\r\\n                <td>22</td>\\r\\n                <td><a href=\"http://stockpage.10jqka.com.cn/002403/\" target=\"_blank\">002403</a></td>\\r\\n                <td><a href=\"http://stockpage.10jqka.com.cn/002403\" target=\"_blank\">爱仕达</a></td>\\r\\n                <td class=\"c-rise\">8.50</td>\\r\\n                <td class=\"c-rise\">1.55</td>\\r\\n                <td class=\"c-rise\">0.13</td>\\r\\n                <td class=\"c-fall\">-0.12</td>\\r\\n                <td>0.59</td>\\r\\n                <td class=\"c-rise\">1.15</td>\\r\\n                <td class=\"c-rise\">2.27</td>\\r\\n                <td>0.16亿</td>\\r\\n                <td>3.16亿</td>\\r\\n                <td>26.83亿</td>\\r\\n                <td>18.53</td>\\r\\n                <td><a class=\"j_addStock\" title=\"加自选\" href=\"javascript:void(0);\"><img src=\"http://i.thsi.cn/images/q/plus_logo.png\" alt=\"\"></a></td>\\r\\n            </tr>\\r\\n                        <tr>\\r\\n                <td>23</td>\\r\\n                <td><a href=\"http://stockpage.10jqka.com.cn/002336/\" target=\"_blank\">002336</a></td>\\r\\n                <td><a href=\"http://stockpage.10jqka.com.cn/002336\" target=\"_blank\">*ST人乐</a></td>\\r\\n                <td class=\"c-rise\">5.65</td>\\r\\n                <td class=\"c-rise\">2.35</td>\\r\\n                <td class=\"c-rise\">0.13</td>\\r\\n                <td class=\"c-rise\">0.18</td>\\r\\n                <td>0.67</td>\\r\\n                <td class=\"c-rise\">2.23</td>\\r\\n                <td class=\"c-rise\">2.72</td>\\r\\n                <td>0.14亿</td>\\r\\n                <td>3.73亿</td>\\r\\n                <td>21.08亿</td>\\r\\n                <td>--</td>\\r\\n                <td><a class=\"j_addStock\" title=\"加自选\" href=\"javascript:void(0);\"><img src=\"http://i.thsi.cn/images/q/plus_logo.png\" alt=\"\"></a></td>\\r\\n            </tr>\\r\\n                        <tr>\\r\\n                <td>24</td>\\r\\n                <td><a href=\"http://stockpage.10jqka.com.cn/000560/\" target=\"_blank\">000560</a></td>\\r\\n                <td><a href=\"http://stockpage.10jqka.com.cn/000560\" target=\"_blank\">我爱我家</a></td>\\r\\n                <td class=\"c-rise\">4.81</td>\\r\\n                <td class=\"c-rise\">2.78</td>\\r\\n                <td class=\"c-rise\">0.13</td>\\r\\n                <td class=\"c-rise\">0.21</td>\\r\\n                <td>0.70</td>\\r\\n                <td class=\"c-rise\">1.11</td>\\r\\n                <td class=\"c-rise\">2.78</td>\\r\\n                <td>0.60亿</td>\\r\\n                <td>17.98亿</td>\\r\\n                <td>86.47亿</td>\\r\\n                <td>14.87</td>\\r\\n                <td><a class=\"j_addStock\" title=\"加自选\" href=\"javascript:void(0);\"><img src=\"http://i.thsi.cn/images/q/plus_logo.png\" alt=\"\"></a></td>\\r\\n            </tr>\\r\\n                        <tr>\\r\\n                <td>25</td>\\r\\n                <td><a href=\"http://stockpage.10jqka.com.cn/000759/\" target=\"_blank\">000759</a></td>\\r\\n                <td><a href=\"http://stockpage.10jqka.com.cn/000759\" target=\"_blank\">中百集团</a></td>\\r\\n                <td class=\"c-rise\">7.42</td>\\r\\n                <td class=\"c-rise\">1.64</td>\\r\\n                <td class=\"c-rise\">0.12</td>\\r\\n                <td class=\"c-rise\">0.14</td>\\r\\n                <td>0.27</td>\\r\\n                <td class=\"c-rise\">0.81</td>\\r\\n                <td class=\"c-rise\">1.92</td>\\r\\n                <td>0.14亿</td>\\r\\n                <td>6.81亿</td>\\r\\n                <td>50.50亿</td>\\r\\n                <td>69.46</td>\\r\\n                <td><a class=\"j_addStock\" title=\"加自选\" href=\"javascript:void(0);\"><img src=\"http://i.thsi.cn/images/q/plus_logo.png\" alt=\"\"></a></td>\\r\\n            </tr>\\r\\n                        <tr>\\r\\n                <td>26</td>\\r\\n                <td><a href=\"http://stockpage.10jqka.com.cn/603877/\" target=\"_blank\">603877</a></td>\\r\\n                <td><a href=\"http://stockpage.10jqka.com.cn/603877\" target=\"_blank\">太平鸟</a></td>\\r\\n                <td class=\"c-rise\">14.33</td>\\r\\n                <td class=\"c-rise\">0.77</td>\\r\\n                <td class=\"c-rise\">0.11</td>\\r\\n                <td class=\"c-fall\">-0.07</td>\\r\\n                <td>0.38</td>\\r\\n                <td class=\"c-rise\">0.78</td>\\r\\n                <td class=\"c-rise\">1.90</td>\\r\\n                <td>0.11亿</td>\\r\\n                <td>2.00亿</td>\\r\\n                <td>28.73亿</td>\\r\\n                <td>26.10</td>\\r\\n                <td><a class=\"j_addStock\" title=\"加自选\" href=\"javascript:void(0);\"><img src=\"http://i.thsi.cn/images/q/plus_logo.png\" alt=\"\"></a></td>\\r\\n            </tr>\\r\\n                        <tr>\\r\\n                <td>27</td>\\r\\n                <td><a href=\"http://stockpage.10jqka.com.cn/603101/\" target=\"_blank\">603101</a></td>\\r\\n                <td><a href=\"http://stockpage.10jqka.com.cn/603101\" target=\"_blank\">汇嘉时代</a></td>\\r\\n                <td class=\"c-rise\">6.63</td>\\r\\n                <td class=\"c-rise\">1.53</td>\\r\\n                <td class=\"c-rise\">0.10</td>\\r\\n                <td class=\"c-rise\">0.15</td>\\r\\n                <td>0.67</td>\\r\\n                <td class=\"c-rise\">1.04</td>\\r\\n                <td class=\"c-rise\">2.91</td>\\r\\n                <td>0.15亿</td>\\r\\n                <td>3.36亿</td>\\r\\n                <td>22.28亿</td>\\r\\n                <td>43.29</td>\\r\\n                <td><a class=\"j_addStock\" title=\"加自选\" href=\"javascript:void(0);\"><img src=\"http://i.thsi.cn/images/q/plus_logo.png\" alt=\"\"></a></td>\\r\\n            </tr>\\r\\n                        <tr>\\r\\n                <td>28</td>\\r\\n                <td><a href=\"http://stockpage.10jqka.com.cn/002761/\" target=\"_blank\">002761</a></td>\\r\\n                <td><a href=\"http://stockpage.10jqka.com.cn/002761\" target=\"_blank\">多喜爱</a></td>\\r\\n                <td class=\"c-rise\">9.91</td>\\r\\n                <td class=\"c-rise\">1.02</td>\\r\\n                <td class=\"c-rise\">0.10</td>\\r\\n                <td class=\"c-rise\">0.10</td>\\r\\n                <td>7.36</td>\\r\\n                <td class=\"c-rise\">3.67</td>\\r\\n                <td class=\"c-rise\">5.71</td>\\r\\n                <td>2.57亿</td>\\r\\n                <td>3.45亿</td>\\r\\n                <td>34.23亿</td>\\r\\n                <td>--</td>\\r\\n                <td><a class=\"j_addStock\" title=\"加自选\" href=\"javascript:void(0);\"><img src=\"http://i.thsi.cn/images/q/plus_logo.png\" alt=\"\"></a></td>\\r\\n            </tr>\\r\\n                        <tr>\\r\\n                <td>29</td>\\r\\n                <td><a href=\"http://stockpage.10jqka.com.cn/002024/\" target=\"_blank\">002024</a></td>\\r\\n                <td><a href=\"http://stockpage.10jqka.com.cn/002024\" target=\"_blank\">苏宁易购</a></td>\\r\\n                <td class=\"c-rise\">11.02</td>\\r\\n                <td class=\"c-rise\">0.82</td>\\r\\n                <td class=\"c-rise\">0.09</td>\\r\\n                <td class=\"c-rise\">0.18</td>\\r\\n                <td>0.54</td>\\r\\n                <td class=\"c-rise\">0.92</td>\\r\\n                <td class=\"c-rise\">1.19</td>\\r\\n                <td>4.64亿</td>\\r\\n                <td>77.75亿</td>\\r\\n                <td>856.83亿</td>\\r\\n                <td>23.98</td>\\r\\n                <td><a class=\"j_addStock\" title=\"加自选\" href=\"javascript:void(0);\"><img src=\"http://i.thsi.cn/images/q/plus_logo.png\" alt=\"\"></a></td>\\r\\n            </tr>\\r\\n                        <tr>\\r\\n                <td>30</td>\\r\\n                <td><a href=\"http://stockpage.10jqka.com.cn/603708/\" target=\"_blank\">603708</a></td>\\r\\n                <td><a href=\"http://stockpage.10jqka.com.cn/603708\" target=\"_blank\">家家悦</a></td>\\r\\n                <td class=\"c-rise\">25.24</td>\\r\\n                <td class=\"c-rise\">0.36</td>\\r\\n                <td class=\"c-rise\">0.09</td>\\r\\n                <td class=\"c-rise\">0.12</td>\\r\\n                <td>0.89</td>\\r\\n                <td class=\"c-rise\">0.71</td>\\r\\n                <td class=\"c-rise\">2.03</td>\\r\\n                <td>0.45亿</td>\\r\\n                <td>2.04亿</td>\\r\\n                <td>51.51亿</td>\\r\\n                <td>33.92</td>\\r\\n                <td><a class=\"j_addStock\" title=\"加自选\" href=\"javascript:void(0);\"><img src=\"http://i.thsi.cn/images/q/plus_logo.png\" alt=\"\"></a></td>\\r\\n            </tr>\\r\\n                                    </tbody>\\r\\n            </table>\\r\\n              <input type=\"hidden\" id=\"request\" value=\\'[]\\' />\\r\\n            <input type=\"hidden\" id=\"baseUrl\" value=\\'gn/detail\\'>\\r\\n            <input type=\"hidden\" id=\"requestQuery\" value=\\'code/302436\\'/>\\r\\n            <div class=\"m-pager\" id=\"m-page\">\\r\\n                &nbsp;<a class=\"changePage\" page=\"1\" href=\"javascript:void(0);\">首页</a>&nbsp;<a class=\"changePage\" page=\"2\" href=\"javascript:void(0);\">上一页</a>&nbsp;&nbsp;<a class=\"changePage\" page=\"1\" href=\"javascript:void(0);\">1</a>&nbsp;&nbsp;<a class=\"changePage\" page=\"2\" href=\"javascript:void(0);\">2</a>&nbsp;&nbsp;<a class=\"cur\" page=\"3\" href=\"javascript:void(0)\">3</a>&nbsp;&nbsp;<a class=\"changePage\" page=\"4\" href=\"javascript:void(0);\">4</a>&nbsp;&nbsp;<a class=\"changePage\" page=\"5\" href=\"javascript:void(0);\">5</a>&nbsp;&nbsp;<a class=\"changePage\" page=\"4\" href=\"javascript:void(0);\">下一页</a><a class=\"changePage\" page=\"9\" href=\"javascript:void(0);\">尾页</a><span class=\"page_info\">3/9</span>\\r\\n            </div>\\r\\n            '"
      ]
     },
     "execution_count": 65,
     "metadata": {},
     "output_type": "execute_result"
    }
   ],
   "source": [
    "from pyquery import PyQuery as pq\n",
    "\n",
    "r2.encoding='gbk'\n",
    "r2.text"
   ]
  },
  {
   "cell_type": "code",
   "execution_count": 54,
   "metadata": {},
   "outputs": [
    {
     "ename": "ParserError",
     "evalue": "Document is empty",
     "output_type": "error",
     "traceback": [
      "\u001b[0;31m---------------------------------------------------------------------------\u001b[0m",
      "\u001b[0;31mXMLSyntaxError\u001b[0m                            Traceback (most recent call last)",
      "\u001b[0;32m~/anaconda3/lib/python3.7/site-packages/pyquery/pyquery.py\u001b[0m in \u001b[0;36mfromstring\u001b[0;34m(context, parser, custom_parser)\u001b[0m\n\u001b[1;32m     94\u001b[0m             \u001b[0;32mtry\u001b[0m\u001b[0;34m:\u001b[0m\u001b[0;34m\u001b[0m\u001b[0;34m\u001b[0m\u001b[0m\n\u001b[0;32m---> 95\u001b[0;31m                 \u001b[0mresult\u001b[0m \u001b[0;34m=\u001b[0m \u001b[0mgetattr\u001b[0m\u001b[0;34m(\u001b[0m\u001b[0metree\u001b[0m\u001b[0;34m,\u001b[0m \u001b[0mmeth\u001b[0m\u001b[0;34m)\u001b[0m\u001b[0;34m(\u001b[0m\u001b[0mcontext\u001b[0m\u001b[0;34m)\u001b[0m\u001b[0;34m\u001b[0m\u001b[0;34m\u001b[0m\u001b[0m\n\u001b[0m\u001b[1;32m     96\u001b[0m             \u001b[0;32mexcept\u001b[0m \u001b[0metree\u001b[0m\u001b[0;34m.\u001b[0m\u001b[0mXMLSyntaxError\u001b[0m\u001b[0;34m:\u001b[0m\u001b[0;34m\u001b[0m\u001b[0;34m\u001b[0m\u001b[0m\n",
      "\u001b[0;32msrc/lxml/etree.pyx\u001b[0m in \u001b[0;36mlxml.etree.fromstring\u001b[0;34m()\u001b[0m\n",
      "\u001b[0;32msrc/lxml/parser.pxi\u001b[0m in \u001b[0;36mlxml.etree._parseMemoryDocument\u001b[0;34m()\u001b[0m\n",
      "\u001b[0;32msrc/lxml/parser.pxi\u001b[0m in \u001b[0;36mlxml.etree._parseDoc\u001b[0;34m()\u001b[0m\n",
      "\u001b[0;32msrc/lxml/parser.pxi\u001b[0m in \u001b[0;36mlxml.etree._BaseParser._parseUnicodeDoc\u001b[0;34m()\u001b[0m\n",
      "\u001b[0;32msrc/lxml/parser.pxi\u001b[0m in \u001b[0;36mlxml.etree._ParserContext._handleParseResultDoc\u001b[0;34m()\u001b[0m\n",
      "\u001b[0;32msrc/lxml/parser.pxi\u001b[0m in \u001b[0;36mlxml.etree._handleParseResult\u001b[0;34m()\u001b[0m\n",
      "\u001b[0;32msrc/lxml/parser.pxi\u001b[0m in \u001b[0;36mlxml.etree._raiseParseError\u001b[0;34m()\u001b[0m\n",
      "\u001b[0;31mXMLSyntaxError\u001b[0m: Document is empty, line 1, column 1 (<string>, line 1)",
      "\nDuring handling of the above exception, another exception occurred:\n",
      "\u001b[0;31mParserError\u001b[0m                               Traceback (most recent call last)",
      "\u001b[0;32m<ipython-input-54-824c8f94ceab>\u001b[0m in \u001b[0;36m<module>\u001b[0;34m\u001b[0m\n\u001b[1;32m      3\u001b[0m \u001b[0mr2\u001b[0m\u001b[0;34m.\u001b[0m\u001b[0mencoding\u001b[0m\u001b[0;34m=\u001b[0m\u001b[0;34m'gbk'\u001b[0m\u001b[0;34m\u001b[0m\u001b[0;34m\u001b[0m\u001b[0m\n\u001b[1;32m      4\u001b[0m \u001b[0;34m\u001b[0m\u001b[0m\n\u001b[0;32m----> 5\u001b[0;31m \u001b[0mroot\u001b[0m \u001b[0;34m=\u001b[0m \u001b[0mpq\u001b[0m\u001b[0;34m(\u001b[0m\u001b[0mr2\u001b[0m\u001b[0;34m.\u001b[0m\u001b[0mtext\u001b[0m\u001b[0;34m)\u001b[0m\u001b[0;34m\u001b[0m\u001b[0;34m\u001b[0m\u001b[0m\n\u001b[0m",
      "\u001b[0;32m~/anaconda3/lib/python3.7/site-packages/pyquery/pyquery.py\u001b[0m in \u001b[0;36m__init__\u001b[0;34m(self, *args, **kwargs)\u001b[0m\n\u001b[1;32m    253\u001b[0m             \u001b[0;32mif\u001b[0m \u001b[0misinstance\u001b[0m\u001b[0;34m(\u001b[0m\u001b[0mcontext\u001b[0m\u001b[0;34m,\u001b[0m \u001b[0mbasestring\u001b[0m\u001b[0;34m)\u001b[0m\u001b[0;34m:\u001b[0m\u001b[0;34m\u001b[0m\u001b[0;34m\u001b[0m\u001b[0m\n\u001b[1;32m    254\u001b[0m                 \u001b[0;32mtry\u001b[0m\u001b[0;34m:\u001b[0m\u001b[0;34m\u001b[0m\u001b[0;34m\u001b[0m\u001b[0m\n\u001b[0;32m--> 255\u001b[0;31m                     \u001b[0melements\u001b[0m \u001b[0;34m=\u001b[0m \u001b[0mfromstring\u001b[0m\u001b[0;34m(\u001b[0m\u001b[0mcontext\u001b[0m\u001b[0;34m,\u001b[0m \u001b[0mself\u001b[0m\u001b[0;34m.\u001b[0m\u001b[0mparser\u001b[0m\u001b[0;34m)\u001b[0m\u001b[0;34m\u001b[0m\u001b[0;34m\u001b[0m\u001b[0m\n\u001b[0m\u001b[1;32m    256\u001b[0m                 \u001b[0;32mexcept\u001b[0m \u001b[0mException\u001b[0m\u001b[0;34m:\u001b[0m\u001b[0;34m\u001b[0m\u001b[0;34m\u001b[0m\u001b[0m\n\u001b[1;32m    257\u001b[0m                     \u001b[0;32mraise\u001b[0m\u001b[0;34m\u001b[0m\u001b[0;34m\u001b[0m\u001b[0m\n",
      "\u001b[0;32m~/anaconda3/lib/python3.7/site-packages/pyquery/pyquery.py\u001b[0m in \u001b[0;36mfromstring\u001b[0;34m(context, parser, custom_parser)\u001b[0m\n\u001b[1;32m     97\u001b[0m                 \u001b[0;32mif\u001b[0m \u001b[0mhasattr\u001b[0m\u001b[0;34m(\u001b[0m\u001b[0mcontext\u001b[0m\u001b[0;34m,\u001b[0m \u001b[0;34m'seek'\u001b[0m\u001b[0;34m)\u001b[0m\u001b[0;34m:\u001b[0m\u001b[0;34m\u001b[0m\u001b[0;34m\u001b[0m\u001b[0m\n\u001b[1;32m     98\u001b[0m                     \u001b[0mcontext\u001b[0m\u001b[0;34m.\u001b[0m\u001b[0mseek\u001b[0m\u001b[0;34m(\u001b[0m\u001b[0;36m0\u001b[0m\u001b[0;34m)\u001b[0m\u001b[0;34m\u001b[0m\u001b[0;34m\u001b[0m\u001b[0m\n\u001b[0;32m---> 99\u001b[0;31m                 \u001b[0mresult\u001b[0m \u001b[0;34m=\u001b[0m \u001b[0mgetattr\u001b[0m\u001b[0;34m(\u001b[0m\u001b[0mlxml\u001b[0m\u001b[0;34m.\u001b[0m\u001b[0mhtml\u001b[0m\u001b[0;34m,\u001b[0m \u001b[0mmeth\u001b[0m\u001b[0;34m)\u001b[0m\u001b[0;34m(\u001b[0m\u001b[0mcontext\u001b[0m\u001b[0;34m)\u001b[0m\u001b[0;34m\u001b[0m\u001b[0;34m\u001b[0m\u001b[0m\n\u001b[0m\u001b[1;32m    100\u001b[0m             \u001b[0;32mif\u001b[0m \u001b[0misinstance\u001b[0m\u001b[0;34m(\u001b[0m\u001b[0mresult\u001b[0m\u001b[0;34m,\u001b[0m \u001b[0metree\u001b[0m\u001b[0;34m.\u001b[0m\u001b[0m_ElementTree\u001b[0m\u001b[0;34m)\u001b[0m\u001b[0;34m:\u001b[0m\u001b[0;34m\u001b[0m\u001b[0;34m\u001b[0m\u001b[0m\n\u001b[1;32m    101\u001b[0m                 \u001b[0;32mreturn\u001b[0m \u001b[0;34m[\u001b[0m\u001b[0mresult\u001b[0m\u001b[0;34m.\u001b[0m\u001b[0mgetroot\u001b[0m\u001b[0;34m(\u001b[0m\u001b[0;34m)\u001b[0m\u001b[0;34m]\u001b[0m\u001b[0;34m\u001b[0m\u001b[0;34m\u001b[0m\u001b[0m\n",
      "\u001b[0;32m~/anaconda3/lib/python3.7/site-packages/lxml/html/__init__.py\u001b[0m in \u001b[0;36mfromstring\u001b[0;34m(html, base_url, parser, **kw)\u001b[0m\n\u001b[1;32m    873\u001b[0m         \u001b[0mis_full_html\u001b[0m \u001b[0;34m=\u001b[0m \u001b[0m_looks_like_full_html_bytes\u001b[0m\u001b[0;34m(\u001b[0m\u001b[0mhtml\u001b[0m\u001b[0;34m)\u001b[0m\u001b[0;34m\u001b[0m\u001b[0;34m\u001b[0m\u001b[0m\n\u001b[1;32m    874\u001b[0m     \u001b[0;32melse\u001b[0m\u001b[0;34m:\u001b[0m\u001b[0;34m\u001b[0m\u001b[0;34m\u001b[0m\u001b[0m\n\u001b[0;32m--> 875\u001b[0;31m         \u001b[0mis_full_html\u001b[0m \u001b[0;34m=\u001b[0m \u001b[0m_looks_like_full_html_unicode\u001b[0m\u001b[0;34m(\u001b[0m\u001b[0mhtml\u001b[0m\u001b[0;34m)\u001b[0m\u001b[0;34m\u001b[0m\u001b[0;34m\u001b[0m\u001b[0m\n\u001b[0m\u001b[1;32m    876\u001b[0m     \u001b[0mdoc\u001b[0m \u001b[0;34m=\u001b[0m \u001b[0mdocument_fromstring\u001b[0m\u001b[0;34m(\u001b[0m\u001b[0mhtml\u001b[0m\u001b[0;34m,\u001b[0m \u001b[0mparser\u001b[0m\u001b[0;34m=\u001b[0m\u001b[0mparser\u001b[0m\u001b[0;34m,\u001b[0m \u001b[0mbase_url\u001b[0m\u001b[0;34m=\u001b[0m\u001b[0mbase_url\u001b[0m\u001b[0;34m,\u001b[0m \u001b[0;34m**\u001b[0m\u001b[0mkw\u001b[0m\u001b[0;34m)\u001b[0m\u001b[0;34m\u001b[0m\u001b[0;34m\u001b[0m\u001b[0m\n\u001b[1;32m    877\u001b[0m     \u001b[0;32mif\u001b[0m \u001b[0mis_full_html\u001b[0m\u001b[0;34m:\u001b[0m\u001b[0;34m\u001b[0m\u001b[0;34m\u001b[0m\u001b[0m\n",
      "\u001b[0;32m~/anaconda3/lib/python3.7/site-packages/lxml/html/__init__.py\u001b[0m in \u001b[0;36mdocument_fromstring\u001b[0;34m(html, parser, ensure_head_body, **kw)\u001b[0m\n\u001b[1;32m    762\u001b[0m     \u001b[0mvalue\u001b[0m \u001b[0;34m=\u001b[0m \u001b[0metree\u001b[0m\u001b[0;34m.\u001b[0m\u001b[0mfromstring\u001b[0m\u001b[0;34m(\u001b[0m\u001b[0mhtml\u001b[0m\u001b[0;34m,\u001b[0m \u001b[0mparser\u001b[0m\u001b[0;34m,\u001b[0m \u001b[0;34m**\u001b[0m\u001b[0mkw\u001b[0m\u001b[0;34m)\u001b[0m\u001b[0;34m\u001b[0m\u001b[0;34m\u001b[0m\u001b[0m\n\u001b[1;32m    763\u001b[0m     \u001b[0;32mif\u001b[0m \u001b[0mvalue\u001b[0m \u001b[0;32mis\u001b[0m \u001b[0;32mNone\u001b[0m\u001b[0;34m:\u001b[0m\u001b[0;34m\u001b[0m\u001b[0;34m\u001b[0m\u001b[0m\n\u001b[0;32m--> 764\u001b[0;31m         raise etree.ParserError(\n\u001b[0m\u001b[1;32m    765\u001b[0m             \"Document is empty\")\n\u001b[1;32m    766\u001b[0m     \u001b[0;32mif\u001b[0m \u001b[0mensure_head_body\u001b[0m \u001b[0;32mand\u001b[0m \u001b[0mvalue\u001b[0m\u001b[0;34m.\u001b[0m\u001b[0mfind\u001b[0m\u001b[0;34m(\u001b[0m\u001b[0;34m'head'\u001b[0m\u001b[0;34m)\u001b[0m \u001b[0;32mis\u001b[0m \u001b[0;32mNone\u001b[0m\u001b[0;34m:\u001b[0m\u001b[0;34m\u001b[0m\u001b[0;34m\u001b[0m\u001b[0m\n",
      "\u001b[0;31mParserError\u001b[0m: Document is empty"
     ]
    }
   ],
   "source": [
    "from pyquery import PyQuery as pq\n",
    "\n",
    "r2.encoding='gbk'\n",
    "\n",
    "root = pq(r2.text)"
   ]
  },
  {
   "cell_type": "code",
   "execution_count": null,
   "metadata": {},
   "outputs": [],
   "source": []
  }
 ],
 "metadata": {
  "kernelspec": {
   "display_name": "Python 3",
   "language": "python",
   "name": "python3"
  },
  "language_info": {
   "codemirror_mode": {
    "name": "ipython",
    "version": 3
   },
   "file_extension": ".py",
   "mimetype": "text/x-python",
   "name": "python",
   "nbconvert_exporter": "python",
   "pygments_lexer": "ipython3",
   "version": "3.7.4"
  },
  "toc": {
   "base_numbering": 1,
   "nav_menu": {},
   "number_sections": true,
   "sideBar": true,
   "skip_h1_title": false,
   "title_cell": "Table of Contents",
   "title_sidebar": "Contents",
   "toc_cell": false,
   "toc_position": {
    "height": "calc(100% - 180px)",
    "left": "10px",
    "top": "150px",
    "width": "288px"
   },
   "toc_section_display": true,
   "toc_window_display": true
  },
  "varInspector": {
   "cols": {
    "lenName": 16,
    "lenType": 16,
    "lenVar": 40
   },
   "kernels_config": {
    "python": {
     "delete_cmd_postfix": "",
     "delete_cmd_prefix": "del ",
     "library": "var_list.py",
     "varRefreshCmd": "print(var_dic_list())"
    },
    "r": {
     "delete_cmd_postfix": ") ",
     "delete_cmd_prefix": "rm(",
     "library": "var_list.r",
     "varRefreshCmd": "cat(var_dic_list()) "
    }
   },
   "types_to_exclude": [
    "module",
    "function",
    "builtin_function_or_method",
    "instance",
    "_Feature"
   ],
   "window_display": false
  }
 },
 "nbformat": 4,
 "nbformat_minor": 2
}

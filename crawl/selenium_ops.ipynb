{
 "cells": [
  {
   "cell_type": "markdown",
   "metadata": {},
   "source": [
    "# selenium\n",
    "selenium适用于爬取少量的页面和数据，\n",
    "\n",
    "优点是简单，不用分析数据是由哪个请求产生的\n",
    "\n",
    "缺点是慢，如果要爬取大量页面和数据，那得慢死。。。"
   ]
  },
  {
   "cell_type": "markdown",
   "metadata": {},
   "source": [
    "https://selenium-python.readthedocs.io/"
   ]
  },
  {
   "cell_type": "code",
   "execution_count": 2,
   "metadata": {},
   "outputs": [
    {
     "name": "stdout",
     "output_type": "stream",
     "text": [
      "Collecting selenium\n",
      "  Downloading selenium-3.141.0-py2.py3-none-any.whl (904 kB)\n",
      "\u001b[K     |████████████████████████████████| 904 kB 709 kB/s eta 0:00:01     |██████████████▉                 | 419 kB 283 kB/s eta 0:00:02\n",
      "\u001b[?25hRequirement already satisfied: urllib3 in /Users/ian/anaconda3/lib/python3.8/site-packages (from selenium) (1.25.9)\n",
      "Installing collected packages: selenium\n",
      "Successfully installed selenium-3.141.0\n",
      "selenium==3.141.0\n"
     ]
    }
   ],
   "source": [
    "!pip install selenium\n",
    "!pip freeze | grep selenium"
   ]
  },
  {
   "cell_type": "code",
   "execution_count": 3,
   "metadata": {},
   "outputs": [
    {
     "name": "stdout",
     "output_type": "stream",
     "text": [
      "selenium==3.141.0\r\n",
      "snapshot-selenium==0.0.2\r\n"
     ]
    }
   ],
   "source": [
    "# !pip install selenium\n",
    "!pip freeze | grep selenium"
   ]
  },
  {
   "cell_type": "markdown",
   "metadata": {},
   "source": [
    "## selenium自动化_如何启动safari浏览器\n",
    "https://www.cnblogs.com/mini-monkey/p/12189290.html"
   ]
  },
  {
   "cell_type": "code",
   "execution_count": 9,
   "metadata": {},
   "outputs": [],
   "source": [
    "# 启动safari\n",
    "from selenium import webdriver\n",
    "from time import sleep\n",
    "\n",
    "driver = webdriver.Safari()  # 启动safari\n",
    "# 最大化浏览器\n",
    "driver.maximize_window()\n",
    "sleep(3)\n",
    "\n",
    "driver.get('http://moni.51hupai.org/')  # 打开51沪牌模拟拍牌系统\n",
    "sleep(3)\n",
    "\n",
    "driver.find_element_by_css_selector('.whcusraiseinput').send_keys('1000')\n",
    "sleep(3)\n",
    "driver.find_element_by_css_selector('.whcusraisebtn').click()\n",
    "\n",
    "# driver.quit()  # 关掉safari进程"
   ]
  },
  {
   "cell_type": "markdown",
   "metadata": {},
   "source": [
    "## Drivers\n",
    "Selenium requires a driver to interface with the chosen browser. \n",
    "\n",
    "Make sure it’s in your PATH, e. g., place it in /usr/bin or /usr/local/bin.\n",
    "\n",
    "Chrome:\thttps://sites.google.com/a/chromium.org/chromedriver/downloads"
   ]
  },
  {
   "cell_type": "markdown",
   "metadata": {},
   "source": [
    "# Getting Started\n",
    "https://selenium-python.readthedocs.io/getting-started.html"
   ]
  },
  {
   "cell_type": "markdown",
   "metadata": {},
   "source": [
    "## Simple Usage"
   ]
  },
  {
   "cell_type": "code",
   "execution_count": 4,
   "metadata": {},
   "outputs": [],
   "source": [
    "from selenium import webdriver\n",
    "from selenium.webdriver.common.keys import Keys"
   ]
  },
  {
   "cell_type": "code",
   "execution_count": 5,
   "metadata": {},
   "outputs": [],
   "source": [
    "driver = webdriver.Chrome()"
   ]
  },
  {
   "cell_type": "code",
   "execution_count": 6,
   "metadata": {},
   "outputs": [],
   "source": [
    "driver.get(\"http://www.python.org\")"
   ]
  },
  {
   "cell_type": "code",
   "execution_count": 7,
   "metadata": {},
   "outputs": [
    {
     "data": {
      "text/plain": [
       "'Welcome to Python.org'"
      ]
     },
     "execution_count": 7,
     "metadata": {},
     "output_type": "execute_result"
    }
   ],
   "source": [
    "driver.title"
   ]
  },
  {
   "cell_type": "code",
   "execution_count": 8,
   "metadata": {},
   "outputs": [],
   "source": [
    "assert \"Python\" in driver.title"
   ]
  },
  {
   "cell_type": "code",
   "execution_count": 9,
   "metadata": {},
   "outputs": [
    {
     "data": {
      "text/plain": [
       "<selenium.webdriver.remote.webelement.WebElement (session=\"cf207d82035ffd892c4c441bee023c7b\", element=\"6e0b9d6b-a220-4728-b241-1f4e1e81517c\")>"
      ]
     },
     "execution_count": 9,
     "metadata": {},
     "output_type": "execute_result"
    }
   ],
   "source": [
    "elem = driver.find_element_by_name(\"q\")\n",
    "elem"
   ]
  },
  {
   "cell_type": "code",
   "execution_count": 10,
   "metadata": {},
   "outputs": [
    {
     "data": {
      "text/plain": [
       "''"
      ]
     },
     "execution_count": 10,
     "metadata": {},
     "output_type": "execute_result"
    }
   ],
   "source": [
    "elem.text"
   ]
  },
  {
   "cell_type": "code",
   "execution_count": 11,
   "metadata": {},
   "outputs": [],
   "source": [
    "elem.clear()"
   ]
  },
  {
   "cell_type": "code",
   "execution_count": 12,
   "metadata": {},
   "outputs": [],
   "source": [
    "elem.send_keys(\"pycon\")"
   ]
  },
  {
   "cell_type": "code",
   "execution_count": 13,
   "metadata": {},
   "outputs": [],
   "source": [
    "elem.send_keys(Keys.RETURN)"
   ]
  },
  {
   "cell_type": "code",
   "execution_count": 15,
   "metadata": {},
   "outputs": [
    {
     "data": {
      "text/plain": [
       "'<html class=\"js no-touch geolocation fontface generatedcontent svg formvalidation placeholder boxsizing retina\" lang=\"en\" dir=\"ltr\" style=\"\"><!--<![endif]--><head>\\n    <meta charset=\"utf-8\">\\n    <meta http-equiv=\"X-UA-Compatible\" content=\"IE=edge\">\\n\\n    <link rel=\"prefetch\" href=\"//ajax.googleapis.com/ajax/libs/jquery/1.8.2/jquery.min.js\">\\n\\n    <meta name=\"application-name\" content=\"Python.org\">\\n    <meta name=\"msapplication-tooltip\" content=\"The official home of the Python Programming Language\">\\n    <meta name=\"apple-mobile-web-app-title\" content=\"Python.org\">\\n    <meta name=\"apple-mobile-web-app-capable\" content=\"yes\">\\n    <meta name=\"apple-mobile-web-app-status-bar-style\" content=\"black\">\\n\\n    <meta name=\"viewport\" content=\"width=device-width, initial-scale=1.0\">\\n    <meta name=\"HandheldFriendly\" content=\"True\">\\n    <meta name=\"format-detection\" content=\"telephone=no\">\\n    <meta http-equiv=\"cleartype\" content=\"on\">\\n    <meta http-equiv=\"imagetoolbar\" content=\"false\">\\n\\n    <script type=\"text/javascript\" async=\"\" src=\"https://ssl.google-analytics.com/ga.js\"></script><script src=\"/static/js/libs/modernizr.js\"></script>\\n\\n    <link href=\"/static/stylesheets/style.67f4b30f7483.css\" rel=\"stylesheet\" type=\"text/css\" title=\"default\">\\n    <link href=\"/static/stylesheets/mq.3ae8e02ece5b.css\" rel=\"stylesheet\" type=\"text/css\" media=\"not print, braille, embossed, speech, tty\">\\n    \\n\\n    <!--[if (lte IE 8)&(!IEMobile)]>\\n    <link href=\"/static/stylesheets/no-mq.fcf414dc68a3.css\" rel=\"stylesheet\" type=\"text/css\" media=\"screen\" />\\n    \\n    \\n    <![endif]-->\\n\\n    \\n    <link rel=\"icon\" type=\"image/x-icon\" href=\"/static/favicon.ico\">\\n    <link rel=\"apple-touch-icon-precomposed\" sizes=\"144x144\" href=\"/static/apple-touch-icon-144x144-precomposed.png\">\\n    <link rel=\"apple-touch-icon-precomposed\" sizes=\"114x114\" href=\"/static/apple-touch-icon-114x114-precomposed.png\">\\n    <link rel=\"apple-touch-icon-precomposed\" sizes=\"72x72\" href=\"/static/apple-touch-icon-72x72-precomposed.png\">\\n    <link rel=\"apple-touch-icon-precomposed\" href=\"/static/apple-touch-icon-precomposed.png\">\\n    <link rel=\"apple-touch-icon\" href=\"/static/apple-touch-icon-precomposed.png\">\\n\\n    \\n    <meta name=\"msapplication-TileImage\" content=\"/static/metro-icon-144x144-precomposed.png\"><!-- white shape -->\\n    <meta name=\"msapplication-TileColor\" content=\"#3673a5\"><!-- python blue -->\\n    <meta name=\"msapplication-navbutton-color\" content=\"#3673a5\">\\n\\n    <title>Welcome to Python.org</title>\\n\\n    <meta name=\"description\" content=\"The official home of the Python Programming Language\">\\n    <meta name=\"keywords\" content=\"Python programming language object oriented web free open source software license documentation download community\">\\n\\n    \\n    <meta property=\"og:type\" content=\"website\">\\n    <meta property=\"og:site_name\" content=\"Python.org\">\\n    <meta property=\"og:title\" content=\"Welcome to Python.org\">\\n    <meta property=\"og:description\" content=\"The official home of the Python Programming Language\">\\n    \\n    <meta property=\"og:image\" content=\"https://www.python.org/static/opengraph-icon-200x200.png\">\\n    <meta property=\"og:image:secure_url\" content=\"https://www.python.org/static/opengraph-icon-200x200.png\">\\n    \\n    <meta property=\"og:url\" content=\"https://www.python.org/search/?q=pycon&amp;submit=\">\\n\\n    <link rel=\"author\" href=\"/static/humans.txt\">\\n\\n    <link rel=\"alternate\" type=\"application/rss+xml\" title=\"Python Enhancement Proposals\" href=\"https://www.python.org/dev/peps/peps.rss/\">\\n    <link rel=\"alternate\" type=\"application/rss+xml\" title=\"Python Job Opportunities\" href=\"https://www.python.org/jobs/feed/rss/\">\\n    <link rel=\"alternate\" type=\"application/rss+xml\" title=\"Python Software Foundation News\" href=\"https://feeds.feedburner.com/PythonSoftwareFoundationNews\">\\n    <link rel=\"alternate\" type=\"application/rss+xml\" title=\"Python Insider\" href=\"https://feeds.feedburner.com/PythonInsider\">\\n\\n    \\n\\n    \\n    <script type=\"application/ld+json\">\\n     {\\n       \"@context\": \"https://schema.org\",\\n       \"@type\": \"WebSite\",\\n       \"url\": \"https://www.python.org/\",\\n       \"potentialAction\": {\\n         \"@type\": \"SearchAction\",\\n         \"target\": \"https://www.python.org/search/?q={search_term_string}\",\\n         \"query-input\": \"required name=search_term_string\"\\n       }\\n     }\\n    </script>\\n\\n    \\n    <script type=\"text/javascript\">\\n    var _gaq = _gaq || [];\\n    _gaq.push([\\'_setAccount\\', \\'UA-39055973-1\\']);\\n    _gaq.push([\\'_trackPageview\\']);\\n\\n    (function() {\\n        var ga = document.createElement(\\'script\\'); ga.type = \\'text/javascript\\'; ga.async = true;\\n        ga.src = (\\'https:\\' == document.location.protocol ? \\'https://ssl\\' : \\'http://www\\') + \\'.google-analytics.com/ga.js\\';\\n        var s = document.getElementsByTagName(\\'script\\')[0]; s.parentNode.insertBefore(ga, s);\\n    })();\\n    </script>\\n    \\n</head>\\n\\n<body>\\n\\n    <div id=\"touchnav-wrapper\">\\n\\n        <div id=\"nojs\" class=\"do-not-print\">\\n            <p><strong>Notice:</strong> While Javascript is not essential for this website, your interaction with the content will be limited. Please turn Javascript on for the full experience. </p>\\n        </div>\\n\\n        <!--[if lte IE 8]>\\n        <div id=\"oldie-warning\" class=\"do-not-print\">\\n            <p>\\n                <strong>Notice:</strong> Your browser is <em>ancient</em>. Please\\n                <a href=\"http://browsehappy.com/\">upgrade to a different browser</a> to experience a better web.\\n            </p>\\n        </div>\\n        <![endif]-->\\n\\n        <!-- Sister Site Links -->\\n        <div id=\"top\" class=\"top-bar do-not-print\">\\n\\n            <nav class=\"meta-navigation container\" role=\"navigation\">\\n\\n                \\n                <div class=\"skip-link screen-reader-text\">\\n                    <a href=\"#content\" title=\"Skip to content\">Skip to content</a>\\n                </div>\\n\\n                \\n                <a id=\"close-python-network\" class=\"jump-link\" href=\"#python-network\" aria-hidden=\"true\">\\n                    <span aria-hidden=\"true\" class=\"icon-arrow-down\"><span>▼</span></span> Close\\n                </a>\\n\\n                \\n\\n<ul class=\"menu\" role=\"tree\">\\n    \\n    <li class=\"python-meta \">\\n        <a href=\"/\" title=\"The Python Programming Language\">Python</a>\\n    </li>\\n    \\n    <li class=\"psf-meta \">\\n        <a href=\"/psf-landing/\" title=\"The Python Software Foundation\">PSF</a>\\n    </li>\\n    \\n    <li class=\"docs-meta \">\\n        <a href=\"https://docs.python.org\" title=\"Python Documentation\">Docs</a>\\n    </li>\\n    \\n    <li class=\"pypi-meta \">\\n        <a href=\"https://pypi.python.org/\" title=\"Python Package Index\">PyPI</a>\\n    </li>\\n    \\n    <li class=\"jobs-meta \">\\n        <a href=\"/jobs/\" title=\"Python Job Board\">Jobs</a>\\n    </li>\\n    \\n    <li class=\"shop-meta \">\\n        <a href=\"/community/\" title=\"Python Community\">Community</a>\\n    </li>\\n    \\n</ul>\\n\\n\\n                <a id=\"python-network\" class=\"jump-link\" href=\"#top\" aria-hidden=\"true\">\\n                    <span aria-hidden=\"true\" class=\"icon-arrow-up\"><span>▲</span></span> The Python Network\\n                </a>\\n\\n            </nav>\\n\\n        </div>\\n\\n        <!-- Header elements -->\\n        <header class=\"main-header\" role=\"banner\">\\n            <div class=\"container\">\\n\\n                <h1 class=\"site-headline\">\\n                    <a href=\"/\"><img class=\"python-logo\" src=\"/static/img/python-logo@2x.png\" alt=\"python™\" width=\"290\" height=\"82\"></a>\\n                </h1>\\n\\n                <div class=\"options-bar-container do-not-print\">\\n                    <a href=\"/psf/donations/\" class=\"donate-button\">Donate</a>\\n                    <div class=\"options-bar\">\\n                        \\n                        <a id=\"site-map-link\" class=\"jump-to-menu\" href=\"#site-map\"><span class=\"menu-icon\">≡</span> Menu</a><form class=\"search-the-site\" action=\"/search/\" method=\"get\">\\n                            <fieldset title=\"Search Python.org\">\\n\\n                                <span aria-hidden=\"true\" class=\"icon-search\"></span>\\n\\n                                <label class=\"screen-reader-text\" for=\"id-search-field\">Search This Site</label>\\n                                <input id=\"id-search-field\" name=\"q\" type=\"search\" role=\"textbox\" class=\"search-field\" placeholder=\"Search\" value=\"pycon\" tabindex=\"1\">\\n\\n                                <button type=\"submit\" name=\"submit\" id=\"submit\" class=\"search-button\" title=\"Submit this Search\" tabindex=\"3\">\\n                                    GO\\n                                </button>\\n\\n                                \\n                                <!--[if IE]><input type=\"text\" style=\"display: none;\" disabled=\"disabled\" size=\"1\" tabindex=\"4\"><![endif]-->\\n\\n                            </fieldset>\\n                        </form><span class=\"breaker\"></span><div class=\"adjust-font-size\" aria-hidden=\"true\">\\n                            <ul class=\"navigation menu\" aria-label=\"Adjust Text Size on Page\">\\n                                <li class=\"tier-1 last\" aria-haspopup=\"true\">\\n                                    <a href=\"#\" class=\"action-trigger\"><strong><small>A</small> A</strong></a>\\n                                    <ul class=\"subnav menu\">\\n                                        <li class=\"tier-2 element-1\" role=\"treeitem\"><a class=\"text-shrink\" title=\"Make Text Smaller\" href=\"javascript:;\">Smaller</a></li>\\n                                        <li class=\"tier-2 element-2\" role=\"treeitem\"><a class=\"text-grow\" title=\"Make Text Larger\" href=\"javascript:;\">Larger</a></li>\\n                                        <li class=\"tier-2 element-3\" role=\"treeitem\"><a class=\"text-reset\" title=\"Reset any font size changes I have made\" href=\"javascript:;\">Reset</a></li>\\n                                    </ul>\\n                                </li>\\n                            </ul>\\n                        </div><div class=\"winkwink-nudgenudge\">\\n                            <ul class=\"navigation menu\" aria-label=\"Social Media Navigation\">\\n                                <li class=\"tier-1 last\" aria-haspopup=\"true\">\\n                                    <a href=\"#\" class=\"action-trigger\">Socialize</a>\\n                                    <ul class=\"subnav menu\">\\n                                        <li class=\"tier-2 element-1\" role=\"treeitem\"><a href=\"https://www.facebook.com/pythonlang?fref=ts\"><span aria-hidden=\"true\" class=\"icon-facebook\"></span>Facebook</a></li>\\n                                        <li class=\"tier-2 element-2\" role=\"treeitem\"><a href=\"https://twitter.com/ThePSF\"><span aria-hidden=\"true\" class=\"icon-twitter\"></span>Twitter</a></li>\\n                                        <li class=\"tier-2 element-3\" role=\"treeitem\"><a href=\"/community/irc/\"><span aria-hidden=\"true\" class=\"icon-freenode\"></span>Chat on IRC</a></li>\\n                                    </ul>\\n                                </li>\\n                            </ul>\\n                        </div>\\n                        <span data-html-include=\"/authenticated\"><div class=\"account-signin\">\\n    <ul class=\"navigation menu\" aria-label=\"Social Media Navigation\">\\n        <li class=\"tier-1 last\" aria-haspopup=\"true\">\\n            \\n            <a href=\"/accounts/login/\" title=\"Sign Up or Sign In to Python.org\">Sign In</a>\\n            <ul class=\"subnav menu\">\\n                <li class=\"tier-2 element-1\" role=\"treeitem\"><a href=\"/accounts/signup/\">Sign Up / Register</a></li>\\n                <li class=\"tier-2 element-2\" role=\"treeitem\"><a href=\"/accounts/login/\">Sign In</a></li>\\n            </ul>\\n            \\n        </li>\\n    </ul>\\n</div>\\n\\n</span>\\n                    </div><!-- end options-bar -->\\n                </div>\\n\\n                <nav id=\"mainnav\" class=\"python-navigation main-navigation do-not-print\" role=\"navigation\">\\n                    \\n                        \\n<ul class=\"navigation menu\" role=\"menubar\" aria-label=\"Main Navigation\">\\n  \\n    \\n    \\n    <li id=\"about\" class=\"tier-1 element-1   with-supernav\" aria-haspopup=\"true\">\\n        <a href=\"/about/\" title=\"\" class=\"\">About</a>\\n        \\n            \\n\\n<ul class=\"subnav menu\" role=\"menu\" aria-hidden=\"true\">\\n    \\n        <li class=\"tier-2 element-1\" role=\"treeitem\"><a href=\"/about/apps/\" title=\"\">Applications</a></li>\\n    \\n        <li class=\"tier-2 element-2\" role=\"treeitem\"><a href=\"/about/quotes/\" title=\"\">Quotes</a></li>\\n    \\n        <li class=\"tier-2 element-3\" role=\"treeitem\"><a href=\"/about/gettingstarted/\" title=\"\">Getting Started</a></li>\\n    \\n        <li class=\"tier-2 element-4\" role=\"treeitem\"><a href=\"/about/help/\" title=\"\">Help</a></li>\\n    \\n        <li class=\"tier-2 element-5\" role=\"treeitem\"><a href=\"http://brochure.getpython.info/\" title=\"\">Python Brochure</a></li>\\n    \\n\\n                            <li class=\"tier-2 super-navigation\">\\n                                <h4>Python is a programming language that lets you work more quickly and integrate your systems more effectively.</h4>\\n                                <p>You can learn to use Python and see almost immediate gains in productivity and lower maintenance costs.  <a href=\"/about\">Learn more about Python.</a>.\\n                            </p></li></ul>\\n\\n        \\n    </li>\\n    \\n    \\n    \\n    <li id=\"downloads\" class=\"tier-1 element-2   with-supernav\" aria-haspopup=\"true\">\\n        <a href=\"/downloads/\" title=\"\" class=\"\">Downloads</a>\\n        \\n            \\n\\n<ul class=\"subnav menu\" role=\"menu\" aria-hidden=\"true\">\\n    \\n        <li class=\"tier-2 element-1\" role=\"treeitem\"><a href=\"/downloads/\" title=\"\">All releases</a></li>\\n    \\n        <li class=\"tier-2 element-2\" role=\"treeitem\"><a href=\"/downloads/source/\" title=\"\">Source code</a></li>\\n    \\n        <li class=\"tier-2 element-3\" role=\"treeitem\"><a href=\"/downloads/windows/\" title=\"\">Windows</a></li>\\n    \\n        <li class=\"tier-2 element-4\" role=\"treeitem\"><a href=\"/downloads/mac-osx/\" title=\"\">Mac OS X</a></li>\\n    \\n        <li class=\"tier-2 element-5\" role=\"treeitem\"><a href=\"/download/other/\" title=\"\">Other Platforms</a></li>\\n    \\n        <li class=\"tier-2 element-6\" role=\"treeitem\"><a href=\"https://docs.python.org/3/license.html\" title=\"\">License</a></li>\\n    \\n        <li class=\"tier-2 element-7\" role=\"treeitem\"><a href=\"/download/alternatives\" title=\"\">Alternative Implementations</a></li>\\n    \\n<!-- Download supernav from templates/downloads/supernav.html - Last updated at Sept. 12, 2019, 11:37 a.m. -->\\n<li class=\"tier-2 super-navigation\">\\n    \\n    <div class=\"download-os-mac-osx\" style=\"\">\\n        \\n        <h4>Download for Mac OS X</h4>\\n        \\n        <p>\\n            <a class=\"button\" href=\"https://www.python.org/ftp/python/3.7.4/python-3.7.4-macosx10.9.pkg\">Python 3.7.4</a>\\n        </p>\\n        \\n        <p>Not the OS you are looking for? Python can be used on many operating systems and environments. <a href=\"/downloads/\">View the full list of downloads</a>.</p>\\n    </div>\\n    \\n    <div class=\"download-os-source\" style=\"display: none;\">\\n        \\n        <h3>Python Source</h3>\\n        \\n        <p>\\n            <a class=\"button\" href=\"https://www.python.org/ftp/python/3.7.4/Python-3.7.4.tar.xz\">Python 3.7.4</a>\\n        </p>\\n        \\n        <p>Not the OS you are looking for? Python can be used on many operating systems and environments. <a href=\"/downloads/\">View the full list of downloads</a>.</p>\\n    </div>\\n    \\n    <div class=\"download-os-windows\" style=\"display: none;\">\\n        \\n        <h4>Download for Windows</h4>\\n        \\n        <p>\\n            <a class=\"button\" href=\"https://www.python.org/ftp/python/3.7.4/python-3.7.4.exe\">Python 3.7.4</a>\\n        </p>\\n        <p><strong>Note that Python 3.5+ <em>cannot</em> be used on Windows XP or earlier.</strong></p>\\n        <p>Not the OS you are looking for? Python can be used on many operating systems and environments. <a href=\"/downloads/\">View the full list of downloads</a>.</p>\\n    </div>\\n    \\n    <div class=\"download-unknown\" style=\"display: none;\">\\n        <h4>Download Python for Any OS</h4>\\n        <p>Python can be used on many operating systems and environments.</p>\\n        <p>\\n            <a class=\"button\" href=\"/downloads/operating-systems/\">View the full list of downloads</a>\\n        </p>\\n    </div>\\n</li>\\n</ul>\\n\\n        \\n    </li>\\n    \\n    \\n    \\n    <li id=\"documentation\" class=\"tier-1 element-3   with-supernav\" aria-haspopup=\"true\">\\n        <a href=\"/doc/\" title=\"\" class=\"\">Documentation</a>\\n        \\n            \\n\\n<ul class=\"subnav menu\" role=\"menu\" aria-hidden=\"true\">\\n    \\n        <li class=\"tier-2 element-1\" role=\"treeitem\"><a href=\"/doc/\" title=\"\">Docs</a></li>\\n    \\n        <li class=\"tier-2 element-2\" role=\"treeitem\"><a href=\"/doc/av\" title=\"\">Audio/Visual Talks</a></li>\\n    \\n        <li class=\"tier-2 element-3\" role=\"treeitem\"><a href=\"https://wiki.python.org/moin/BeginnersGuide\" title=\"\">Beginner\\'s Guide</a></li>\\n    \\n        <li class=\"tier-2 element-4\" role=\"treeitem\"><a href=\"https://devguide.python.org/\" title=\"\">Developer\\'s Guide</a></li>\\n    \\n        <li class=\"tier-2 element-5\" role=\"treeitem\"><a href=\"https://docs.python.org/faq/\" title=\"\">FAQ</a></li>\\n    \\n        <li class=\"tier-2 element-6\" role=\"treeitem\"><a href=\"http://wiki.python.org/moin/Languages\" title=\"\">Non-English Docs</a></li>\\n    \\n        <li class=\"tier-2 element-7\" role=\"treeitem\"><a href=\"http://python.org/dev/peps/\" title=\"\">PEP Index</a></li>\\n    \\n        <li class=\"tier-2 element-8\" role=\"treeitem\"><a href=\"https://wiki.python.org/moin/PythonBooks\" title=\"\">Python Books</a></li>\\n    \\n        <li class=\"tier-2 element-9\" role=\"treeitem\"><a href=\"/doc/essays/\" title=\"\">Python Essays</a></li>\\n    \\n                            <li class=\"tier-2 super-navigation\">\\n                                <h4>Python’s standard documentation: download, browse or watch a tutorial.</h4>\\n                                <p>Get started below, or visit the <a href=\"/doc/versions/\">Documentation page to browse by version</a>. </p>\\n                                <br>\\n                                <p class=\"download-buttons\">\\n                                    <a class=\"button\" style=\"background-color: #ffd343;\" href=\"http://docs.python.org/3/\">Python 3.x Docs</a> \\n                                    <a class=\"button\" href=\"http://docs.python.org/2/\">Python 2.x Docs</a>\\n                                </p>\\n                            </li></ul>\\n\\n        \\n    </li>\\n    \\n    \\n    \\n    <li id=\"community\" class=\"tier-1 element-4   with-supernav\" aria-haspopup=\"true\">\\n        <a href=\"/community/\" title=\"\" class=\"\">Community</a>\\n        \\n            \\n\\n<ul class=\"subnav menu\" role=\"menu\" aria-hidden=\"true\">\\n    \\n        <li class=\"tier-2 element-1\" role=\"treeitem\"><a href=\"/community/survey\" title=\"\">Community Survey</a></li>\\n    \\n        <li class=\"tier-2 element-2\" role=\"treeitem\"><a href=\"/community/diversity/\" title=\"\">Diversity</a></li>\\n    \\n        <li class=\"tier-2 element-3\" role=\"treeitem\"><a href=\"/community/lists/\" title=\"\">Mailing Lists</a></li>\\n    \\n        <li class=\"tier-2 element-4\" role=\"treeitem\"><a href=\"/community/irc/\" title=\"\">IRC</a></li>\\n    \\n        <li class=\"tier-2 element-5\" role=\"treeitem\"><a href=\"/community/forums/\" title=\"\">Forums</a></li>\\n    \\n        <li class=\"tier-2 element-6\" role=\"treeitem\"><a href=\"/psf/annual-report/2019/\" title=\"\">PSF Annual Impact Report</a></li>\\n    \\n        <li class=\"tier-2 element-7\" role=\"treeitem\"><a href=\"/community/workshops/\" title=\"\">Python Conferences</a></li>\\n    \\n        <li class=\"tier-2 element-8\" role=\"treeitem\"><a href=\"/community/sigs/\" title=\"\">Special Interest Groups</a></li>\\n    \\n        <li class=\"tier-2 element-9\" role=\"treeitem\"><a href=\"/community/logos/\" title=\"\">Python Logo</a></li>\\n    \\n        <li class=\"tier-2 element-10\" role=\"treeitem\"><a href=\"https://wiki.python.org/moin/\" title=\"\">Python Wiki</a></li>\\n    \\n        <li class=\"tier-2 element-11\" role=\"treeitem\"><a href=\"/community/merchandise/\" title=\"\">Merchandise</a></li>\\n    \\n        <li class=\"tier-2 element-12\" role=\"treeitem\"><a href=\"/community/awards\" title=\"\">Community Awards</a></li>\\n    \\n        <li class=\"tier-2 element-13\" role=\"treeitem\"><a href=\"https://www.python.org/psf/codeofconduct/\" title=\"\">Code of Conduct</a></li>\\n    \\n                            <li class=\"tier-2 super-navigation\">\\n                                <h4>The Python Community</h4>\\n<p>Great software is supported by great people. Our user base is enthusiastic, dedicated to encouraging use of the language, and committed to being diverse and friendly.</p>\\n\\n<!--\\n                                <p>Here are some events and groups in your area.</p>\\n                                <ul class=\"menu\">\\n                                    <li><time datetime=\"\">9/30<span class=\"say-no-more\">/2012</span></time> <a href=\"#\">Royal Python Society Meetup, Providence RI</a></li>\\n                                    <li><time datetime=\"\">10/4<span class=\"say-no-more\">/2012</span></time> <a href=\"#\">Python Users Group, Boston MA</a></li>\\n                                    <li><time datetime=\"\">10/5<span class=\"say-no-more\">/2012</span></time> <a href=\"#\">Python Enthusiasts, Cambridge MA</a></li>\\n                            </ul>\\n                            </li>--></li></ul>\\n\\n        \\n    </li>\\n    \\n    \\n    \\n    <li id=\"success-stories\" class=\"tier-1 element-5   with-supernav\" aria-haspopup=\"true\">\\n        <a href=\"/success-stories/\" title=\"success-stories\" class=\"\">Success Stories</a>\\n        \\n            \\n\\n<ul class=\"subnav menu\" role=\"menu\" aria-hidden=\"true\">\\n    \\n        <li class=\"tier-2 element-1\" role=\"treeitem\"><a href=\"/success-stories/category/arts/\" title=\"\">Arts</a></li>\\n    \\n        <li class=\"tier-2 element-2\" role=\"treeitem\"><a href=\"/success-stories/category/business/\" title=\"\">Business</a></li>\\n    \\n        <li class=\"tier-2 element-3\" role=\"treeitem\"><a href=\"/success-stories/category/education/\" title=\"\">Education</a></li>\\n    \\n        <li class=\"tier-2 element-4\" role=\"treeitem\"><a href=\"/success-stories/category/engineering/\" title=\"\">Engineering</a></li>\\n    \\n        <li class=\"tier-2 element-5\" role=\"treeitem\"><a href=\"/success-stories/category/government/\" title=\"\">Government</a></li>\\n    \\n        <li class=\"tier-2 element-6\" role=\"treeitem\"><a href=\"/success-stories/category/scientific/\" title=\"\">Scientific</a></li>\\n    \\n        <li class=\"tier-2 element-7\" role=\"treeitem\"><a href=\"/success-stories/category/software-development/\" title=\"\">Software Development</a></li>\\n    \\n<!-- successstories supernav from templates/successstories/supernav.html -->\\n       <li class=\"tier-2 super-navigation\">\\n            \\n            <blockquote class=\"success-quote\">\\n                Thanks to the flexibility of Python and the powerful ecosystem of packages, the Azure CLI supports features such as autocompletion (in shells that support it), persistent credentials, JMESPath result parsing, lazy initialization, network-less unit tests, and more.\\n            </blockquote>\\n            <p class=\"quote-by\"><cite>Dan Taylor</cite>, <a href=\"https://aka.ms/AA4kvf0\">Microsoft</a></p>\\n\\n        </li></ul>\\n\\n        \\n    </li>\\n    \\n    \\n    \\n    <li id=\"news\" class=\"tier-1 element-6  \" aria-haspopup=\"true\">\\n        <a href=\"/blogs/\" title=\"News from around the Python world\" class=\"\">News</a>\\n        \\n            \\n\\n<ul class=\"subnav menu\" role=\"menu\" aria-hidden=\"true\">\\n    \\n        <li class=\"tier-2 element-1\" role=\"treeitem\"><a href=\"/blogs/\" title=\"Python Insider Blog Posts\">Python News</a></li>\\n    \\n        <li class=\"tier-2 element-2\" role=\"treeitem\"><a href=\"/psf/newsletter/\" title=\"Python Software Foundation Newsletter\">PSF Newsletter</a></li>\\n    \\n        <li class=\"tier-2 element-3\" role=\"treeitem\"><a href=\"http://planetpython.org/\" title=\"Planet Python\">Community News</a></li>\\n    \\n        <li class=\"tier-2 element-4\" role=\"treeitem\"><a href=\"http://pyfound.blogspot.com/\" title=\"PSF Blog\">PSF News</a></li>\\n    \\n        <li class=\"tier-2 element-5\" role=\"treeitem\"><a href=\"http://pycon.blogspot.com/\" title=\"PyCon Blog\">PyCon News</a></li>\\n    \\n</ul>\\n\\n        \\n    </li>\\n    \\n    \\n    \\n    <li id=\"events\" class=\"tier-1 element-7   with-supernav\" aria-haspopup=\"true\">\\n        <a href=\"/events/\" title=\"\" class=\"\">Events</a>\\n        \\n            \\n\\n<ul class=\"subnav menu\" role=\"menu\" aria-hidden=\"true\">\\n    \\n        <li class=\"tier-2 element-1\" role=\"treeitem\"><a href=\"/events/python-events\" title=\"\">Python Events</a></li>\\n    \\n        <li class=\"tier-2 element-2\" role=\"treeitem\"><a href=\"/events/python-user-group/\" title=\"\">User Group Events</a></li>\\n    \\n        <li class=\"tier-2 element-3\" role=\"treeitem\"><a href=\"/events/python-events/past/\" title=\"\">Python Events Archive</a></li>\\n    \\n        <li class=\"tier-2 element-4\" role=\"treeitem\"><a href=\"/events/python-user-group/past/\" title=\"\">User Group Events Archive</a></li>\\n    \\n        <li class=\"tier-2 element-5\" role=\"treeitem\"><a href=\"https://wiki.python.org/moin/PythonEventsCalendar#Submitting_an_Event\" title=\"\">Submit an Event</a></li>\\n    \\n<li class=\"tier-2 super-navigation\">Find events from the Python Community around the world!</li></ul>\\n\\n        \\n    </li>\\n    \\n    \\n    \\n    \\n  \\n</ul>\\n\\n                    \\n                </nav>\\n\\n                <div class=\"header-banner \"> <!-- for optional \"do-not-print\" class -->\\n                    \\n                    \\n                </div>\\n\\n                \\n                \\n\\n             </div><!-- end .container -->\\n        </header>\\n\\n        <div id=\"content\" class=\"content-wrapper\">\\n            <!-- Main Content Column -->\\n            <div class=\"container\">\\n\\n                <section class=\"main-content \" role=\"main\">\\n\\n                    \\n                    \\n\\n                    \\n\\n                    \\n    <h2>Search Python.org</h2>\\n\\n    <form method=\"get\" action=\".\">\\n        <p>\\n            <input type=\"text\" name=\"q\" value=\"pycon\">\\n            <input type=\"submit\" value=\"Search\">\\n        </p>\\n        \\n            <h3>Results</h3>\\n\\n            <ul class=\"list-recent-events menu\">\\n            \\n            <li>\\n                \\n<h3><a href=\"/psf/trademarks/pycon\">PSF PyCon Trademark Usage Policy</a></h3>\\n<p>\\n    ...<span class=\"highlighted\">PyCon</span> AR\", \"<span class=\"highlighted\">PyCon</span> Argentina\" in Argentina\\n\"<span class=\"highlighted\">PyCon</span> AU\", \"<span class=\"highlighted\">PyCon</span> Australia\"  in Australia\\n\"<span class=\"highlighted\">PyCon</span> BY\", \"<span class=\"highlighted\">PyCon</span> Belarus\"  in Belarus\\n\"<span class=\"highlighted\">PyCon</span> CA\", \"<span class=\"highlighted\">PyCon</span> Canada\" in Canada\\n\"<span class=\"highlighted\">PyCon</span> CN\", \"<span class=\"highlighted\">PyCon</span> China\" in China\\n\"<span class=\"highlighted\">PyCon</span> CZ\", \"<span class=\"highlighted\">PyCon</span> Czech\" in Czech Republic\\n\"<span class=\"highlighted\">PyCon</span> DE\" in Germany\\n\"<span class=\"highlighted\">PyCon</span> ES\", \"<span class=\"highlighted\">PyCon</span> España\", \"<span class=\"highlighted\">PyCon</span> Spain\" in Spain\\n\"<span class=\"highlighted\">PyCon</span> FI\", \"Py...\\n</p>\\n\\n            </li>\\n            \\n            <li>\\n                \\n<h3><a href=\"/community/workshops\">Conferences and Workshops</a></h3>\\n<p>\\n    ...<span class=\"highlighted\">PyCon</span> (New Zealand)\\nOSCON (O\\'Reilly Open Source Convention)\\nPlone Conference\\n<span class=\"highlighted\">PyCon</span> (original conference, US / North America)\\n<span class=\"highlighted\">PyCon</span> Argentina (formerly\\nPython en Santa Fe (Argentina))\\n<span class=\"highlighted\">PyCon</span> Asia Pacific\\n<span class=\"highlighted\">PyCon</span> AU (Australia)\\n<span class=\"highlighted\">PyCon</span> FI (Finland)\\n<span class=\"highlighted\">PyCon</span> FR (France)\\n<span class=\"highlighted\">PyCon</span> DE (Germany)\\n<span class=\"highlighted\">PyCon</span> India\\n<span class=\"highlighted\">PyCon</span> Ireland\\n<span class=\"highlighted\">PyCon</span> Italia  (Report on 2007 Conference)\\n<span class=\"highlighted\">PyCon</span> PH (Philippines)\\n<span class=\"highlighted\">PyCon</span> PL (Poland)\\n<span class=\"highlighted\">PyCon</span> SK (Slovakia)\\n<span class=\"highlighted\">PyCon</span> UK\\n<span class=\"highlighted\">PyCon</span> Ukraine\\n<span class=\"highlighted\">PyCon</span> ZA (South Africa)\\nPyData\\nPyGotham\\nPyOhio\\nPython Brasil\\nPythonFO...\\n</p>\\n\\n            </li>\\n            \\n            <li>\\n                <h3>Event – <a href=\"/events/python-events/378/\">PyCon Italia 2016 (PyCon Sette)</a></h3>\\n\\n\\n\\n<!-- Different start and end dates -->\\n<p class=\"single-event-date\">\\n    <time class=\"date-start\" datetime=\"2016-04-15T00:00:00+00:00\">From 15 April</time> \\n    <time class=\"date-end\" datetime=\"2016-04-17T00:00:00+00:00\">through 17 April</time>, \\n    <time class=\"year\" datetime=\"2016\">2016</time>\\n</p>\\n\\n\\n\\n\\n<p>Location: Hotel Mediterraneo, Lungarno del Tempio, Florence, Italia</p>\\n\\n\\n<p>PyCon Italia 2016 (PyCon Sette)</p>\\n            </li>\\n            \\n            <li>\\n                \\n<h3><a href=\"/psf/records/board/minutes/2008-04-14\">2008-04-14 PSF Board Meeting Minutes</a></h3>\\n<p>\\n    ...<span class=\"highlighted\">PyCon</span> sponsors.\\nD. Goodger reported that he will be going over the <span class=\"highlighted\">PyCon</span> hotel bill\\nwith CTE this week, but it looks fine.\\nK. Kaiser sent a statement of accounts receivable to the Board mailing\\nlist.\\n\\n\\n6&nbsp;&nbsp;&nbsp;<span class=\"highlighted\">PyCon</span> 2009 Venue\\nD. Goodger reported that there are two options for larger venues for\\n<span class=\"highlighted\">PyCon</span> 2009, as he emailed previously.\\n\\nRESOLVED, that the <span class=\"highlighted\">PyCon</span> chairman be authorized to choose the\\nvenue for <span class=\"highlighted\">PyCon</span> 2009.\\nApproved 7-0-1.\\n\\n\\n7&nbsp;&nbsp;&nbsp;<span class=\"highlighted\">PyCon</span> Asset Record-Keeping\\nD. Goo...\\n</p>\\n\\n            </li>\\n            \\n            <li>\\n                \\n<h3><a href=\"/psf/records/board/minutes/2012-07-16\">2012-07-16 PSF Board Meeting Minutes</a></h3>\\n<p>\\n    ...<span class=\"highlighted\">PyCon</span> AV Management\\n6.8.2&nbsp;&nbsp;&nbsp;<span class=\"highlighted\">PyCon</span> Budgeting\\n6.8.3&nbsp;&nbsp;&nbsp;<span class=\"highlighted\">PyCon</span> Catering\\n6.8.4&nbsp;&nbsp;&nbsp;<span class=\"highlighted\">PyCon</span> Contract Negotiations\\n6.8.5&nbsp;&nbsp;&nbsp;<span class=\"highlighted\">PyCon</span> Electrical\\n6.8.6&nbsp;&nbsp;&nbsp;<span class=\"highlighted\">PyCon</span> Exhibit Hall\\n6.8.7&nbsp;&nbsp;&nbsp;<span class=\"highlighted\">PyCon</span> Financial Aid\\n6.8.8&nbsp;&nbsp;&nbsp;Future Event Planning\\n6.8.9&nbsp;&nbsp;&nbsp;<span class=\"highlighted\">PyCon</span> Hotel/CC Management\\n6.8.10&nbsp;&nbsp;&nbsp;<span class=\"highlighted\">PyCon</span> Housing Management\\n6.8.11&nbsp;&nbsp;&nbsp;<span class=\"highlighted\">PyCon</span> Internet\\n6.8.12&nbsp;&nbsp;&nbsp;<span class=\"highlighted\">PyCon</span> Printing\\n6.8.13...\\n</p>\\n\\n            </li>\\n            \\n            <li>\\n                \\n<h3><a href=\"/psf/records/board/minutes/2013-02-06\">2013-02-06 PSF Board Meeting Minutes</a></h3>\\n<p>\\n    ...<span class=\"highlighted\">PyCon</span> AV Management\\n8.3&nbsp;&nbsp;&nbsp;<span class=\"highlighted\">PyCon</span> Budgeting\\n8.4&nbsp;&nbsp;&nbsp;<span class=\"highlighted\">PyCon</span> Catering\\n8.5&nbsp;&nbsp;&nbsp;<span class=\"highlighted\">PyCon</span> Contract Negotiations\\n8.6&nbsp;&nbsp;&nbsp;<span class=\"highlighted\">PyCon</span> Electrical\\n8.7&nbsp;&nbsp;&nbsp;<span class=\"highlighted\">PyCon</span> Exhibit Hall\\n8.8&nbsp;&nbsp;&nbsp;<span class=\"highlighted\">PyCon</span> Financial Aid\\n8.9&nbsp;&nbsp;&nbsp;Future Event Planning\\n8.10&nbsp;&nbsp;&nbsp;<span class=\"highlighted\">PyCon</span> Hotel/CC Management\\n8.11&nbsp;&nbsp;&nbsp;<span class=\"highlighted\">PyCon</span> Housing Management\\n8.12&nbsp;&nbsp;&nbsp;<span class=\"highlighted\">PyCon</span> Internet\\n8.13&nbsp;&nbsp;&nbsp;<span class=\"highlighted\">PyCon</span> Printing\\n8.14&nbsp;&nbsp;&nbsp;<span class=\"highlighted\">PyCon</span>...\\n</p>\\n\\n            </li>\\n            \\n            <li>\\n                \\n<h3><a href=\"/community/pycon\">PyCon Home at python.org</a></h3>\\n<p>\\n    <span class=\"highlighted\">PyCon</span> Home at python.org\\n\\n\\n<span class=\"highlighted\">PyCon</span> is a conference for the Python community, organized by members\\nof the Python community.  <span class=\"highlighted\">PyCon</span> is for Python enthusiasts of all\\nexperience levels, from new users to core developers.\\nThe original <span class=\"highlighted\">PyCon</span> was formed in North America in 2003, but there are\\nnow a number of other conferences being run in the <span class=\"highlighted\">PyCon</span> spirit around\\nthe world.  Visit the worldwide <span class=\"highlighted\">PyCon</span> web site for more information.\\nFor information on <span class=\"highlighted\">PyCon</span> US, please visit the conference website .\\n<span class=\"highlighted\">PyCon</span> gi...\\n</p>\\n\\n            </li>\\n            \\n            <li>\\n                <h3>Event – <a href=\"/events/python-events/57/\">PyCon Australia 2013</a></h3>\\n\\n\\n\\n<!-- Different start and end dates -->\\n<p class=\"single-event-date\">\\n    <time class=\"date-start\" datetime=\"2013-07-05T00:00:00+00:00\">From 05 July</time> \\n    <time class=\"date-end\" datetime=\"2013-07-07T00:00:00+00:00\">through 07 July</time>, \\n    <time class=\"year\" datetime=\"2013\">2013</time>\\n</p>\\n\\n\\n\\n\\n<p>Location: Hobart, Australia</p>\\n\\n\\n<p>PyCon Australia 2013</p>\\n            </li>\\n            \\n            <li>\\n                <h3>Event – <a href=\"/events/python-events/776/\">PyCon AU 2019</a></h3>\\n\\n\\n\\n<!-- Different start and end dates -->\\n<p class=\"single-event-date\">\\n    <time class=\"date-start\" datetime=\"2019-08-02T00:00:00+00:00\">From 02 Aug.</time> \\n    <time class=\"date-end\" datetime=\"2019-08-06T00:00:00+00:00\">through 06 Aug.</time>, \\n    <time class=\"year\" datetime=\"2019\">2019</time>\\n</p>\\n\\n\\n\\n\\n<p>Location: Sydney, Australia</p>\\n\\n\\n<p>PyCon AU</p>\\n            </li>\\n            \\n            <li>\\n                <h3>Event – <a href=\"/events/python-events/10/\">PyCon Australia 2014</a></h3>\\n\\n\\n\\n<!-- Different start and end dates -->\\n<p class=\"single-event-date\">\\n    <time class=\"date-start\" datetime=\"2014-08-01T00:00:00+00:00\">From 01 Aug.</time> \\n    <time class=\"date-end\" datetime=\"2014-08-05T00:00:00+00:00\">through 05 Aug.</time>, \\n    <time class=\"year\" datetime=\"2014\">2014</time>\\n</p>\\n\\n\\n\\n\\n<p>Location: Brisbane, Australia</p>\\n\\n\\n<p>PyCon Australia 2014</p>\\n            </li>\\n            \\n            <li>\\n                <h3>Event – <a href=\"/events/python-events/76/\">PyCon Ireland 2012</a></h3>\\n\\n\\n\\n<!-- Different start and end dates -->\\n<p class=\"single-event-date\">\\n    <time class=\"date-start\" datetime=\"2012-10-13T00:00:00+00:00\">From 13 Oct.</time> \\n    <time class=\"date-end\" datetime=\"2012-10-14T00:00:00+00:00\">through 14 Oct.</time>, \\n    <time class=\"year\" datetime=\"2012\">2012</time>\\n</p>\\n\\n\\n\\n\\n<p>Location: Dublin, Ireland</p>\\n\\n\\n<p>PyCon Ireland 2012</p>\\n            </li>\\n            \\n            <li>\\n                <h3>Event – <a href=\"/events/python-events/429/\">PyCon Ireland 2016</a></h3>\\n\\n\\n\\n<!-- Different start and end dates -->\\n<p class=\"single-event-date\">\\n    <time class=\"date-start\" datetime=\"2016-11-05T00:00:00+00:00\">From 05 Nov.</time> \\n    <time class=\"date-end\" datetime=\"2016-11-06T00:00:00+00:00\">through 06 Nov.</time>, \\n    <time class=\"year\" datetime=\"2016\">2016</time>\\n</p>\\n\\n\\n\\n\\n<p>Location: Dublin, Ireland</p>\\n\\n\\n<p>PyCon Ireland 2016</p>\\n            </li>\\n            \\n            <li>\\n                <h3>Event – <a href=\"/events/python-events/696/\">PyCon AU 2018</a></h3>\\n\\n\\n\\n<!-- Different start and end dates -->\\n<p class=\"single-event-date\">\\n    <time class=\"date-start\" datetime=\"2018-08-24T00:00:00+00:00\">From 24 Aug.</time> \\n    <time class=\"date-end\" datetime=\"2018-08-28T00:00:00+00:00\">through 28 Aug.</time>, \\n    <time class=\"year\" datetime=\"2018\">2018</time>\\n</p>\\n\\n\\n\\n\\n<p>Location: ICC, Sydney, Australia</p>\\n\\n\\n<p>PyCon AU 2018</p>\\n            </li>\\n            \\n            <li>\\n                <h3>Event – <a href=\"/events/python-events/333/\">PyCon Ireland 2015</a></h3>\\n\\n\\n\\n<!-- Different start and end dates -->\\n<p class=\"single-event-date\">\\n    <time class=\"date-start\" datetime=\"2015-10-24T00:00:00+00:00\">From 24 Oct.</time> \\n    <time class=\"date-end\" datetime=\"2015-10-25T00:00:00+00:00\">through 25 Oct.</time>, \\n    <time class=\"year\" datetime=\"2015\">2015</time>\\n</p>\\n\\n\\n\\n\\n<p>Location: Radisson Blu Royal Hotel Dublin, Golden Ln, Dublin 8</p>\\n\\n\\n<p>PyCon Ireland 2015</p>\\n            </li>\\n            \\n            <li>\\n                <h3>Event – <a href=\"/events/python-events/191/\">PyCon PL 2014</a></h3>\\n\\n\\n\\n<!-- Different start and end dates -->\\n<p class=\"single-event-date\">\\n    <time class=\"date-start\" datetime=\"2014-10-16T00:00:00+00:00\">From 16 Oct.</time> \\n    <time class=\"date-end\" datetime=\"2014-10-19T00:00:00+00:00\">through 19 Oct.</time>, \\n    <time class=\"year\" datetime=\"2014\">2014</time>\\n</p>\\n\\n\\n\\n\\n<p>Location: „Orle Gniazdo” Congress &amp; Recreation Centre, 28a, Wrzosowa St., Szczyrk, Poland</p>\\n\\n\\n<p>PyCon PL is a polish Python conference - one of many PyCons happening around the world. It aims to integrate developers, designers and managers interested in using Python. Such meeting makes a great opportunity to meet new people and exchange experiences and ideas. The conference program should suit as well Python ...</p>\\n            </li>\\n            \\n            <li>\\n                <h3>Event – <a href=\"/events/python-events/273/\">PyCon AU 2015</a></h3>\\n\\n\\n\\n<!-- Different start and end dates -->\\n<p class=\"single-event-date\">\\n    <time class=\"date-start\" datetime=\"2015-07-31T00:00:00+00:00\">From 31 July</time> \\n    <time class=\"date-end\" datetime=\"2015-08-04T00:00:00+00:00\">through 04 Aug.</time>, \\n    <time class=\"year\" datetime=\"2015\">2015</time>\\n</p>\\n\\n\\n\\n\\n<p>Location: Pullman Brisbane King George Square, Roma Street, Brisbane QLD 4000, Australia</p>\\n\\n\\n<p>PyCon AU 2015</p>\\n            </li>\\n            \\n            <li>\\n                <h3>Event – <a href=\"/events/python-events/313/\">PyCon MY 2015</a></h3>\\n\\n\\n\\n<!-- Different start and end dates -->\\n<p class=\"single-event-date\">\\n    <time class=\"date-start\" datetime=\"2015-08-21T00:00:00+00:00\">From 21 Aug.</time> \\n    <time class=\"date-end\" datetime=\"2015-08-23T00:00:00+00:00\">through 23 Aug.</time>, \\n    <time class=\"year\" datetime=\"2015\">2015</time>\\n</p>\\n\\n\\n\\n\\n<p>Location: Faculty of Computer Science and Information Technology, University of Malaya, Malaysia</p>\\n\\n\\n<p>PyCon MY 2015</p>\\n            </li>\\n            \\n            <li>\\n                <h3>Event – <a href=\"/events/python-events/357/\">PyCon Australia 2016</a></h3>\\n\\n\\n\\n<!-- Different start and end dates -->\\n<p class=\"single-event-date\">\\n    <time class=\"date-start\" datetime=\"2016-08-12T00:00:00+00:00\">From 12 Aug.</time> \\n    <time class=\"date-end\" datetime=\"2016-08-16T00:00:00+00:00\">through 16 Aug.</time>, \\n    <time class=\"year\" datetime=\"2016\">2016</time>\\n</p>\\n\\n\\n\\n\\n<p>Location: Melbourne Convention and Exhibition Centre, 1 Convention Centre Pl, South Wharf VIC 3006, Australia</p>\\n\\n\\n<p>PyCon Australia 2016</p>\\n            </li>\\n            \\n            <li>\\n                <h3>Event – <a href=\"/events/python-events/151/\">PyCon MY 2014</a></h3>\\n\\n\\n<!-- Single date with start and end times -->\\n<p class=\"single-event-date\">\\n    <time class=\"single-date\" datetime=\"2014-03-15\">15 March</time>\\n    <time class=\"time-start\" datetime=\"2014-03-15 00:00\">from 12am UTC</time>\\n    ,\\n    <time class=\"year\" datetime=\"2014\">2014</time>\\n</p>\\n\\n\\n\\n\\n\\n<p>Location: iTrain, Unit E-7-1, Block E, Megan Avenue 1, 189 Jalan Tun Razak, 50400 Kuala Lumpur </p>\\n\\n\\n<p>PyCon MY 2014</p>\\n            </li>\\n            \\n            <li>\\n                <h3>Event – <a href=\"/events/python-events/149/\">PyCon Ireland 2014</a></h3>\\n\\n\\n\\n<!-- Different start and end dates -->\\n<p class=\"single-event-date\">\\n    <time class=\"date-start\" datetime=\"2014-10-11T00:00:00+00:00\">From 11 Oct.</time> \\n    <time class=\"date-end\" datetime=\"2014-10-14T00:00:00+00:00\">through 14 Oct.</time>, \\n    <time class=\"year\" datetime=\"2014\">2014</time>\\n</p>\\n\\n\\n\\n\\n<p>Location: The Ballsbridge Hotel, Ballsbridge, Dublin 4, Ireland</p>\\n\\n\\n<p>PyCon Ireland 2014\\n\\nThe main Conference 11th &amp; 12th October 2014. Sprints are held in the same venue on the 13th and 14th of October 2014.</p>\\n            </li>\\n            \\n            </ul>\\n            \\n                <div>\\n                    « Previous\\n                    |\\n                    <a href=\"?q=pycon&amp;page=2\">Next »</a>\\n                </div>\\n            \\n        \\n    </form>\\n\\n\\n                </section>\\n\\n                \\n                \\n\\n                \\n                \\n\\n\\n            </div><!-- end .container -->\\n        </div><!-- end #content .content-wrapper -->\\n\\n        <!-- Footer and social media list -->\\n        <footer id=\"site-map\" class=\"main-footer\" role=\"contentinfo\">\\n            <div class=\"main-footer-links\">\\n                <div class=\"container\">\\n\\n                    \\n                    <a id=\"back-to-top-1\" class=\"jump-link\" href=\"#python-network\"><span aria-hidden=\"true\" class=\"icon-arrow-up\"><span>▲</span></span> Back to Top</a>\\n\\n                    \\n\\n<ul class=\"sitemap navigation menu do-not-print\" role=\"tree\" id=\"container\" style=\"position: relative; height: 530.656px;\">\\n    \\n    <li class=\"tier-1 element-1\" style=\"position: absolute; left: 0px; top: 0px;\">\\n        <a href=\"/about/\">About</a>\\n        \\n            \\n\\n<ul class=\"subnav menu\">\\n    \\n        <li class=\"tier-2 element-1\" role=\"treeitem\"><a href=\"/about/apps/\" title=\"\">Applications</a></li>\\n    \\n        <li class=\"tier-2 element-2\" role=\"treeitem\"><a href=\"/about/quotes/\" title=\"\">Quotes</a></li>\\n    \\n        <li class=\"tier-2 element-3\" role=\"treeitem\"><a href=\"/about/gettingstarted/\" title=\"\">Getting Started</a></li>\\n    \\n        <li class=\"tier-2 element-4\" role=\"treeitem\"><a href=\"/about/help/\" title=\"\">Help</a></li>\\n    \\n        <li class=\"tier-2 element-5\" role=\"treeitem\"><a href=\"http://brochure.getpython.info/\" title=\"\">Python Brochure</a></li>\\n    \\n</ul>\\n\\n        \\n    </li>\\n    \\n    <li class=\"tier-1 element-2\" style=\"position: absolute; left: 196px; top: 0px;\">\\n        <a href=\"/downloads/\">Downloads</a>\\n        \\n            \\n\\n<ul class=\"subnav menu\">\\n    \\n        <li class=\"tier-2 element-1\" role=\"treeitem\"><a href=\"/downloads/\" title=\"\">All releases</a></li>\\n    \\n        <li class=\"tier-2 element-2\" role=\"treeitem\"><a href=\"/downloads/source/\" title=\"\">Source code</a></li>\\n    \\n        <li class=\"tier-2 element-3\" role=\"treeitem\"><a href=\"/downloads/windows/\" title=\"\">Windows</a></li>\\n    \\n        <li class=\"tier-2 element-4\" role=\"treeitem\"><a href=\"/downloads/mac-osx/\" title=\"\">Mac OS X</a></li>\\n    \\n        <li class=\"tier-2 element-5\" role=\"treeitem\"><a href=\"/download/other/\" title=\"\">Other Platforms</a></li>\\n    \\n        <li class=\"tier-2 element-6\" role=\"treeitem\"><a href=\"https://docs.python.org/3/license.html\" title=\"\">License</a></li>\\n    \\n        <li class=\"tier-2 element-7\" role=\"treeitem\"><a href=\"/download/alternatives\" title=\"\">Alternative Implementations</a></li>\\n    \\n</ul>\\n\\n        \\n    </li>\\n    \\n    <li class=\"tier-1 element-3\" style=\"position: absolute; left: 392px; top: 0px;\">\\n        <a href=\"/doc/\">Documentation</a>\\n        \\n            \\n\\n<ul class=\"subnav menu\">\\n    \\n        <li class=\"tier-2 element-1\" role=\"treeitem\"><a href=\"/doc/\" title=\"\">Docs</a></li>\\n    \\n        <li class=\"tier-2 element-2\" role=\"treeitem\"><a href=\"/doc/av\" title=\"\">Audio/Visual Talks</a></li>\\n    \\n        <li class=\"tier-2 element-3\" role=\"treeitem\"><a href=\"https://wiki.python.org/moin/BeginnersGuide\" title=\"\">Beginner\\'s Guide</a></li>\\n    \\n        <li class=\"tier-2 element-4\" role=\"treeitem\"><a href=\"https://devguide.python.org/\" title=\"\">Developer\\'s Guide</a></li>\\n    \\n        <li class=\"tier-2 element-5\" role=\"treeitem\"><a href=\"https://docs.python.org/faq/\" title=\"\">FAQ</a></li>\\n    \\n        <li class=\"tier-2 element-6\" role=\"treeitem\"><a href=\"http://wiki.python.org/moin/Languages\" title=\"\">Non-English Docs</a></li>\\n    \\n        <li class=\"tier-2 element-7\" role=\"treeitem\"><a href=\"http://python.org/dev/peps/\" title=\"\">PEP Index</a></li>\\n    \\n        <li class=\"tier-2 element-8\" role=\"treeitem\"><a href=\"https://wiki.python.org/moin/PythonBooks\" title=\"\">Python Books</a></li>\\n    \\n        <li class=\"tier-2 element-9\" role=\"treeitem\"><a href=\"/doc/essays/\" title=\"\">Python Essays</a></li>\\n    \\n</ul>\\n\\n        \\n    </li>\\n    \\n    <li class=\"tier-1 element-4\" style=\"position: absolute; left: 588px; top: 0px;\">\\n        <a href=\"/community/\">Community</a>\\n        \\n            \\n\\n<ul class=\"subnav menu\">\\n    \\n        <li class=\"tier-2 element-1\" role=\"treeitem\"><a href=\"/community/survey\" title=\"\">Community Survey</a></li>\\n    \\n        <li class=\"tier-2 element-2\" role=\"treeitem\"><a href=\"/community/diversity/\" title=\"\">Diversity</a></li>\\n    \\n        <li class=\"tier-2 element-3\" role=\"treeitem\"><a href=\"/community/lists/\" title=\"\">Mailing Lists</a></li>\\n    \\n        <li class=\"tier-2 element-4\" role=\"treeitem\"><a href=\"/community/irc/\" title=\"\">IRC</a></li>\\n    \\n        <li class=\"tier-2 element-5\" role=\"treeitem\"><a href=\"/community/forums/\" title=\"\">Forums</a></li>\\n    \\n        <li class=\"tier-2 element-6\" role=\"treeitem\"><a href=\"/psf/annual-report/2019/\" title=\"\">PSF Annual Impact Report</a></li>\\n    \\n        <li class=\"tier-2 element-7\" role=\"treeitem\"><a href=\"/community/workshops/\" title=\"\">Python Conferences</a></li>\\n    \\n        <li class=\"tier-2 element-8\" role=\"treeitem\"><a href=\"/community/sigs/\" title=\"\">Special Interest Groups</a></li>\\n    \\n        <li class=\"tier-2 element-9\" role=\"treeitem\"><a href=\"/community/logos/\" title=\"\">Python Logo</a></li>\\n    \\n        <li class=\"tier-2 element-10\" role=\"treeitem\"><a href=\"https://wiki.python.org/moin/\" title=\"\">Python Wiki</a></li>\\n    \\n        <li class=\"tier-2 element-11\" role=\"treeitem\"><a href=\"/community/merchandise/\" title=\"\">Merchandise</a></li>\\n    \\n        <li class=\"tier-2 element-12\" role=\"treeitem\"><a href=\"/community/awards\" title=\"\">Community Awards</a></li>\\n    \\n        <li class=\"tier-2 element-13\" role=\"treeitem\"><a href=\"https://www.python.org/psf/codeofconduct/\" title=\"\">Code of Conduct</a></li>\\n    \\n</ul>\\n\\n        \\n    </li>\\n    \\n    <li class=\"tier-1 element-5\" style=\"position: absolute; left: 784px; top: 0px;\">\\n        <a href=\"/success-stories/\" title=\"success-stories\">Success Stories</a>\\n        \\n            \\n\\n<ul class=\"subnav menu\">\\n    \\n        <li class=\"tier-2 element-1\" role=\"treeitem\"><a href=\"/success-stories/category/arts/\" title=\"\">Arts</a></li>\\n    \\n        <li class=\"tier-2 element-2\" role=\"treeitem\"><a href=\"/success-stories/category/business/\" title=\"\">Business</a></li>\\n    \\n        <li class=\"tier-2 element-3\" role=\"treeitem\"><a href=\"/success-stories/category/education/\" title=\"\">Education</a></li>\\n    \\n        <li class=\"tier-2 element-4\" role=\"treeitem\"><a href=\"/success-stories/category/engineering/\" title=\"\">Engineering</a></li>\\n    \\n        <li class=\"tier-2 element-5\" role=\"treeitem\"><a href=\"/success-stories/category/government/\" title=\"\">Government</a></li>\\n    \\n        <li class=\"tier-2 element-6\" role=\"treeitem\"><a href=\"/success-stories/category/scientific/\" title=\"\">Scientific</a></li>\\n    \\n        <li class=\"tier-2 element-7\" role=\"treeitem\"><a href=\"/success-stories/category/software-development/\" title=\"\">Software Development</a></li>\\n    \\n</ul>\\n\\n        \\n    </li>\\n    \\n    <li class=\"tier-1 element-6\" style=\"position: absolute; left: 980px; top: 0px;\">\\n        <a href=\"/blogs/\" title=\"News from around the Python world\">News</a>\\n        \\n            \\n\\n<ul class=\"subnav menu\">\\n    \\n        <li class=\"tier-2 element-1\" role=\"treeitem\"><a href=\"/blogs/\" title=\"Python Insider Blog Posts\">Python News</a></li>\\n    \\n        <li class=\"tier-2 element-2\" role=\"treeitem\"><a href=\"/psf/newsletter/\" title=\"Python Software Foundation Newsletter\">PSF Newsletter</a></li>\\n    \\n        <li class=\"tier-2 element-3\" role=\"treeitem\"><a href=\"http://planetpython.org/\" title=\"Planet Python\">Community News</a></li>\\n    \\n        <li class=\"tier-2 element-4\" role=\"treeitem\"><a href=\"http://pyfound.blogspot.com/\" title=\"PSF Blog\">PSF News</a></li>\\n    \\n        <li class=\"tier-2 element-5\" role=\"treeitem\"><a href=\"http://pycon.blogspot.com/\" title=\"PyCon Blog\">PyCon News</a></li>\\n    \\n</ul>\\n\\n        \\n    </li>\\n    \\n    <li class=\"tier-1 element-7\" style=\"position: absolute; left: 0px; top: 246px;\">\\n        <a href=\"/events/\">Events</a>\\n        \\n            \\n\\n<ul class=\"subnav menu\">\\n    \\n        <li class=\"tier-2 element-1\" role=\"treeitem\"><a href=\"/events/python-events\" title=\"\">Python Events</a></li>\\n    \\n        <li class=\"tier-2 element-2\" role=\"treeitem\"><a href=\"/events/python-user-group/\" title=\"\">User Group Events</a></li>\\n    \\n        <li class=\"tier-2 element-3\" role=\"treeitem\"><a href=\"/events/python-events/past/\" title=\"\">Python Events Archive</a></li>\\n    \\n        <li class=\"tier-2 element-4\" role=\"treeitem\"><a href=\"/events/python-user-group/past/\" title=\"\">User Group Events Archive</a></li>\\n    \\n        <li class=\"tier-2 element-5\" role=\"treeitem\"><a href=\"https://wiki.python.org/moin/PythonEventsCalendar#Submitting_an_Event\" title=\"\">Submit an Event</a></li>\\n    \\n</ul>\\n\\n        \\n    </li>\\n    \\n    <li class=\"tier-1 element-8\" style=\"position: absolute; left: 980px; top: 246px;\">\\n        <a href=\"/dev/\">Contributing</a>\\n        \\n            \\n\\n<ul class=\"subnav menu\">\\n    \\n        <li class=\"tier-2 element-1\" role=\"treeitem\"><a href=\"https://devguide.python.org/\" title=\"\">Developer\\'s Guide</a></li>\\n    \\n        <li class=\"tier-2 element-2\" role=\"treeitem\"><a href=\"https://bugs.python.org/\" title=\"\">Issue Tracker</a></li>\\n    \\n        <li class=\"tier-2 element-3\" role=\"treeitem\"><a href=\"https://mail.python.org/mailman/listinfo/python-dev\" title=\"\">python-dev list</a></li>\\n    \\n        <li class=\"tier-2 element-4\" role=\"treeitem\"><a href=\"/dev/core-mentorship/\" title=\"\">Core Mentorship</a></li>\\n    \\n        <li class=\"tier-2 element-5\" role=\"treeitem\"><a href=\"/news/security/\" title=\"\">Report a Security Issue</a></li>\\n    \\n</ul>\\n\\n        \\n    </li>\\n    \\n</ul>\\n\\n\\n                    <a id=\"back-to-top-2\" class=\"jump-link\" href=\"#python-network\"><span aria-hidden=\"true\" class=\"icon-arrow-up\"><span>▲</span></span> Back to Top</a>\\n                    \\n\\n                </div><!-- end .container -->\\n            </div> <!-- end .main-footer-links -->\\n\\n            <div class=\"site-base\">\\n                <div class=\"container\">\\n                    \\n                    <ul class=\"footer-links navigation menu do-not-print\" role=\"tree\">\\n                        <li class=\"tier-1 element-1\"><a href=\"/about/help/\">Help &amp; <span class=\"say-no-more\">General</span> Contact</a></li>\\n                        <li class=\"tier-1 element-2\"><a href=\"/community/diversity/\">Diversity <span class=\"say-no-more\">Initiatives</span></a></li>\\n                        <li class=\"tier-1 element-3\"><a href=\"https://github.com/python/pythondotorg/issues\">Submit Website Bug</a></li>\\n                        <li class=\"tier-1 element-4\">\\n                            <a href=\"https://status.python.org/\" title=\"All Systems Operational\">Status <span class=\"python-status-indicator-none\" id=\"python-status-indicator\"></span></a>\\n                        </li>\\n                    </ul>\\n\\n                    <div class=\"copyright\">\\n                        <p><small>\\n                            <span class=\"pre\">Copyright ©2001-2019.</span>\\n                            &nbsp;<span class=\"pre\"><a href=\"/psf-landing/\">Python Software Foundation</a></span>\\n                            &nbsp;<span class=\"pre\"><a href=\"/about/legal/\">Legal Statements</a></span>\\n                            &nbsp;<span class=\"pre\"><a href=\"/privacy/\">Privacy Policy</a></span>\\n                            &nbsp;<span class=\"pre\"><a href=\"/psf/sponsorship/sponsors/#heroku\">Powered by Heroku</a></span>\\n                        </small></p>\\n                    </div>\\n\\n                </div><!-- end .container -->\\n            </div><!-- end .site-base -->\\n\\n        </footer>\\n\\n    </div><!-- end #touchnav-wrapper -->\\n\\n    \\n    <script src=\"//ajax.googleapis.com/ajax/libs/jquery/1.8.2/jquery.min.js\"></script>\\n    <script>window.jQuery || document.write(\\'<script src=\"/static/js/libs/jquery-1.8.2.min.js\"><\\\\/script>\\')</script>\\n\\n    <script src=\"/static/js/libs/masonry.pkgd.min.js\"></script>\\n    <script src=\"/static/js/libs/html-includes.js\"></script>\\n\\n    <script type=\"text/javascript\" src=\"/static/js/main-min.fbfe252506ae.js\" charset=\"utf-8\"></script>\\n    \\n\\n    <!--[if lte IE 7]>\\n    <script type=\"text/javascript\" src=\"/static/js/plugins/IE8-min.16868e6a5d2f.js\" charset=\"utf-8\"></script>\\n    \\n    \\n    <![endif]-->\\n\\n    <!--[if lte IE 8]>\\n    <script type=\"text/javascript\" src=\"/static/js/plugins/getComputedStyle-min.c3860be1d290.js\" charset=\"utf-8\"></script>\\n    \\n    \\n    <![endif]-->\\n\\n    \\n\\n    \\n    \\n\\n\\n\\n</body></html>'"
      ]
     },
     "execution_count": 15,
     "metadata": {},
     "output_type": "execute_result"
    }
   ],
   "source": [
    "driver.page_source"
   ]
  },
  {
   "cell_type": "code",
   "execution_count": 16,
   "metadata": {},
   "outputs": [
    {
     "data": {
      "text/plain": [
       "-1"
      ]
     },
     "execution_count": 16,
     "metadata": {},
     "output_type": "execute_result"
    }
   ],
   "source": [
    "driver.page_source.find('No results found.')"
   ]
  },
  {
   "cell_type": "code",
   "execution_count": 14,
   "metadata": {},
   "outputs": [],
   "source": [
    "assert \"No results found.\" not in driver.page_source"
   ]
  },
  {
   "cell_type": "code",
   "execution_count": 17,
   "metadata": {},
   "outputs": [],
   "source": [
    "driver.close()"
   ]
  },
  {
   "cell_type": "markdown",
   "metadata": {},
   "source": [
    "## Using Selenium to write tests"
   ]
  },
  {
   "cell_type": "code",
   "execution_count": 19,
   "metadata": {},
   "outputs": [
    {
     "name": "stdout",
     "output_type": "stream",
     "text": [
      ".\r\n",
      "----------------------------------------------------------------------\r\n",
      "Ran 1 test in 4.883s\r\n",
      "\r\n",
      "OK\r\n"
     ]
    }
   ],
   "source": [
    "!python test_python_org_search.py"
   ]
  },
  {
   "cell_type": "markdown",
   "metadata": {},
   "source": [
    "## Navigating 导航\n",
    "https://selenium-python.readthedocs.io/navigating.html"
   ]
  },
  {
   "cell_type": "code",
   "execution_count": null,
   "metadata": {},
   "outputs": [],
   "source": [
    "driver.get(\"http://www.google.com\")"
   ]
  },
  {
   "cell_type": "markdown",
   "metadata": {},
   "source": [
    "### Interacting with the page"
   ]
  },
  {
   "cell_type": "code",
   "execution_count": null,
   "metadata": {},
   "outputs": [],
   "source": [
    "<input type=\"text\" name=\"passwd\" id=\"passwd-id\" />"
   ]
  },
  {
   "cell_type": "code",
   "execution_count": null,
   "metadata": {},
   "outputs": [],
   "source": [
    "element = driver.find_element_by_id(\"passwd-id\")\n",
    "element = driver.find_element_by_name(\"passwd\")\n",
    "element = driver.find_element_by_xpath(\"//input[@id='passwd-id']\")"
   ]
  },
  {
   "cell_type": "code",
   "execution_count": null,
   "metadata": {},
   "outputs": [],
   "source": [
    "# you may want to enter some text into a text field:\n",
    "element.send_keys(\"some text\")"
   ]
  },
  {
   "cell_type": "code",
   "execution_count": null,
   "metadata": {},
   "outputs": [],
   "source": [
    "# You can simulate pressing the arrow keys by using the “Keys” class:\n",
    "element.send_keys(\" and some\", Keys.ARROW_DOWN)"
   ]
  },
  {
   "cell_type": "markdown",
   "metadata": {},
   "source": [
    "It is possible to call send_keys on any element, which makes it possible to test keyboard shortcuts such as those used on GMail. A side-effect of this is that typing something into a text field won’t automatically clear it. Instead, what you type will be appended to what’s already there."
   ]
  },
  {
   "cell_type": "code",
   "execution_count": null,
   "metadata": {},
   "outputs": [],
   "source": [
    "# You can easily clear the contents of a text field or textarea with the clear method:\n",
    "\n",
    "element.clear()"
   ]
  },
  {
   "cell_type": "markdown",
   "metadata": {},
   "source": [
    "### Filling in forms"
   ]
  },
  {
   "cell_type": "markdown",
   "metadata": {},
   "source": [
    "## Locating Elements"
   ]
  },
  {
   "cell_type": "markdown",
   "metadata": {},
   "source": [
    "* find_element_by_id\n",
    "* find_element_by_name\n",
    "* find_element_by_xpath\n",
    "* find_element_by_link_text\n",
    "* find_element_by_partial_link_text\n",
    "* find_element_by_tag_name\n",
    "* find_element_by_class_name\n",
    "* find_element_by_css_selector\n",
    "\n",
    "To find multiple elements (these methods will return a list):\n",
    "\n",
    "* find_elements_by_name\n",
    "* find_elements_by_xpath\n",
    "* find_elements_by_link_text\n",
    "* find_elements_by_partial_link_text\n",
    "* find_elements_by_tag_name\n",
    "* find_elements_by_class_name\n",
    "* find_elements_by_css_selector"
   ]
  },
  {
   "cell_type": "markdown",
   "metadata": {},
   "source": [
    "## Waits\n",
    "These days most of the web apps are using AJAX techniques. When a page is loaded by the browser, the elements within that page may load at different time intervals. This makes locating elements difficult: if an element is not yet present in the DOM, a locate function will raise an ElementNotVisibleException exception. Using waits, we can solve this issue. Waiting provides some slack between actions performed - mostly locating an element or any other operation with the element.\n",
    "\n",
    "Selenium Webdriver provides two types of waits - implicit & explicit. An explicit wait makes WebDriver wait for a certain condition to occur before proceeding further with execution. An implicit wait makes WebDriver poll the DOM for a certain amount of time when trying to locate an element.\n",
    "\n"
   ]
  },
  {
   "cell_type": "markdown",
   "metadata": {},
   "source": [
    "### Explicit Waits 显示等待\n",
    "An explicit wait is a code you define to wait for a certain condition to occur before proceeding further in the code. The extreme case of this is time.sleep(), which sets the condition to an exact time period to wait. There are some convenience methods provided that help you write code that will wait only as long as required. WebDriverWait in combination with ExpectedCondition is one way this can be accomplished."
   ]
  },
  {
   "cell_type": "code",
   "execution_count": null,
   "metadata": {},
   "outputs": [],
   "source": [
    "from selenium import webdriver\n",
    "from selenium.webdriver.common.by import By\n",
    "from selenium.webdriver.support.ui import WebDriverWait\n",
    "from selenium.webdriver.support import expected_conditions as EC\n",
    "\n",
    "driver = webdriver.Firefox()\n",
    "driver.get(\"http://somedomain/url_that_delays_loading\")\n",
    "try:\n",
    "    element = WebDriverWait(driver, 10).until(\n",
    "        EC.presence_of_element_located((By.ID, \"myDynamicElement\"))\n",
    "    )\n",
    "finally:\n",
    "    driver.quit()"
   ]
  },
  {
   "cell_type": "markdown",
   "metadata": {},
   "source": [
    "This waits up to 10 seconds before throwing a TimeoutException unless it finds the element to return within 10 seconds. WebDriverWait by default calls the ExpectedCondition every 500 milliseconds until it returns successfully. A successful return is for ExpectedCondition type is Boolean return true or not null return value for all other ExpectedCondition types."
   ]
  },
  {
   "cell_type": "markdown",
   "metadata": {},
   "source": [
    "#### Expected Conditions\n",
    "\n",
    "There are some common conditions that are frequently of use when automating web browsers. Listed below are the names of each. Selenium Python binding provides some convenience methods so you don’t have to code an expected_condition class yourself or create your own utility package for them."
   ]
  },
  {
   "cell_type": "code",
   "execution_count": null,
   "metadata": {},
   "outputs": [],
   "source": [
    "title_is\n",
    "title_contains\n",
    "presence_of_element_located\n",
    "visibility_of_element_located\n",
    "visibility_of\n",
    "presence_of_all_elements_located\n",
    "text_to_be_present_in_element\n",
    "text_to_be_present_in_element_value\n",
    "frame_to_be_available_and_switch_to_it\n",
    "invisibility_of_element_located\n",
    "element_to_be_clickable\n",
    "staleness_of\n",
    "element_to_be_selected\n",
    "element_located_to_be_selected\n",
    "element_selection_state_to_be\n",
    "element_located_selection_state_to_be\n",
    "alert_is_present"
   ]
  },
  {
   "cell_type": "markdown",
   "metadata": {},
   "source": [
    "### Implicit Waits\n",
    "An implicit wait tells WebDriver to poll the DOM for a certain amount of time when trying to find any element (or elements) not immediately available. The default setting is 0. Once set, the implicit wait is set for the life of the WebDriver object.\n",
    "\n"
   ]
  },
  {
   "cell_type": "code",
   "execution_count": null,
   "metadata": {},
   "outputs": [],
   "source": [
    "from selenium import webdriver\n",
    "\n",
    "driver = webdriver.Firefox()\n",
    "driver.implicitly_wait(10) # seconds\n",
    "driver.get(\"http://somedomain/url_that_delays_loading\")\n",
    "myDynamicElement = driver.find_element_by_id(\"myDynamicElement\")"
   ]
  },
  {
   "cell_type": "code",
   "execution_count": null,
   "metadata": {},
   "outputs": [],
   "source": []
  }
 ],
 "metadata": {
  "kernelspec": {
   "display_name": "Python 3",
   "language": "python",
   "name": "python3"
  },
  "toc": {
   "base_numbering": 1,
   "nav_menu": {},
   "number_sections": true,
   "sideBar": true,
   "skip_h1_title": false,
   "title_cell": "Table of Contents",
   "title_sidebar": "Contents",
   "toc_cell": false,
   "toc_position": {},
   "toc_section_display": true,
   "toc_window_display": true
  },
  "varInspector": {
   "cols": {
    "lenName": 16,
    "lenType": 16,
    "lenVar": 40
   },
   "kernels_config": {
    "python": {
     "delete_cmd_postfix": "",
     "delete_cmd_prefix": "del ",
     "library": "var_list.py",
     "varRefreshCmd": "print(var_dic_list())"
    },
    "r": {
     "delete_cmd_postfix": ") ",
     "delete_cmd_prefix": "rm(",
     "library": "var_list.r",
     "varRefreshCmd": "cat(var_dic_list()) "
    }
   },
   "types_to_exclude": [
    "module",
    "function",
    "builtin_function_or_method",
    "instance",
    "_Feature"
   ],
   "window_display": false
  }
 },
 "nbformat": 4,
 "nbformat_minor": 2
}

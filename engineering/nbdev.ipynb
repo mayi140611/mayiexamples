{
 "cells": [
  {
   "cell_type": "code",
   "execution_count": 3,
   "metadata": {},
   "outputs": [],
   "source": [
    "# default_exp core"
   ]
  },
  {
   "cell_type": "markdown",
   "metadata": {},
   "source": [
    "安利一个可以用 jupyter notebook 快速开发python library的库 nbdev, https://nbdev.fast.ai/,  \n",
    "\n",
    "前段时间我用它开发了影像件服务 http://gitlab.internal.leapstack.cn/LeapStack/imgproc/claimimageprocessing   \n",
    "\n",
    "其优点在于可以再notebook里面边写遍测， \n",
    "\n",
    "写好了一键可以到处到python library文件，\n",
    "\n",
    "而且自动生成前段pydoc, 自动pip包等 \n",
    "\n",
    "教程：https://www.youtube.com/watch?v=Hrs7iEYmRmg&t=242s"
   ]
  },
  {
   "cell_type": "markdown",
   "metadata": {},
   "source": [
    "# nbdev\n",
    "nbdev是一个库，可让您在Jupyter Notebooks中全面开发一个库，将所有代码，测试和文档放在一个位置。 那就是：您现在拥有一个真正的文学式编程环境(a true literate programming environment)，就像Donald Knuth在1983年所设想的那样！\n",
    "\n",
    "## Installing"
   ]
  },
  {
   "cell_type": "code",
   "execution_count": 11,
   "metadata": {},
   "outputs": [
    {
     "name": "stdout",
     "output_type": "stream",
     "text": [
      "nbdev==0.2.18\r\n"
     ]
    }
   ],
   "source": [
    "# !pip install nbdev -U\n",
    "!pip freeze | grep nbdev"
   ]
  },
  {
   "cell_type": "markdown",
   "metadata": {},
   "source": [
    "使用交互式环境，您可以轻松地调试和重构代码。 将#export标志添加到定义要包含在python模块中的功能的单元格中。 例如，这是在fastai库中如何定义和记录combined_cos的方法："
   ]
  },
  {
   "cell_type": "markdown",
   "metadata": {},
   "source": [
    "# Getting Started"
   ]
  },
  {
   "cell_type": "code",
   "execution_count": 12,
   "metadata": {},
   "outputs": [],
   "source": [
    "#export\n",
    "def say_hello(to):\n",
    "    \"Say hello to somebody\"\n",
    "    return f'Hello {to}!'"
   ]
  },
  {
   "cell_type": "code",
   "execution_count": 16,
   "metadata": {},
   "outputs": [],
   "source": [
    "class HelloSayer:\n",
    "    \"Say hello to `to` using `say_hello`\"\n",
    "    def __init__(self, to): self.to = to\n",
    "    def say(self): say_hello(self.to)\n"
   ]
  },
  {
   "cell_type": "code",
   "execution_count": 17,
   "metadata": {},
   "outputs": [
    {
     "data": {
      "text/markdown": [
       "<h4 id=\"HelloSayer.say\" class=\"doc_header\"><code>HelloSayer.say</code><a href=\"__main__.py#L4\" class=\"source_link\" style=\"float:right\">[source]</a></h4>\n",
       "\n",
       "> <code>HelloSayer.say</code>()\n",
       "\n"
      ],
      "text/plain": [
       "<IPython.core.display.Markdown object>"
      ]
     },
     "metadata": {},
     "output_type": "display_data"
    }
   ],
   "source": [
    "from nbdev.showdoc import *\n",
    "show_doc(HelloSayer.say)"
   ]
  },
  {
   "cell_type": "code",
   "execution_count": 3,
   "metadata": {},
   "outputs": [],
   "source": [
    "from nbdev.export import create_config"
   ]
  },
  {
   "cell_type": "code",
   "execution_count": 8,
   "metadata": {},
   "outputs": [],
   "source": [
    "\n",
    "\n",
    "create_config(host='localhost', lib_name='tt', user='ian', title='title1', copyright='cp1', description='des1')"
   ]
  },
  {
   "cell_type": "code",
   "execution_count": 1,
   "metadata": {},
   "outputs": [
    {
     "name": "stdout",
     "output_type": "stream",
     "text": [
      "Converted nbdev.ipynb.\n"
     ]
    }
   ],
   "source": [
    "from nbdev.export import *\n",
    "notebook2script('nbdev.ipynb')"
   ]
  },
  {
   "cell_type": "code",
   "execution_count": 15,
   "metadata": {},
   "outputs": [
    {
     "name": "stdout",
     "output_type": "stream",
     "text": [
      "No notebooks were modified\r\n",
      "Traceback (most recent call last):\r\n",
      "  File \"/Users/luoyonggui/anaconda3/bin/nbdev_build_docs\", line 10, in <module>\r\n",
      "    sys.exit(nbdev_build_docs())\r\n",
      "  File \"/Users/luoyonggui/anaconda3/lib/python3.7/site-packages/fastscript/core.py\", line 73, in _f\r\n",
      "    func(**args.__dict__)\r\n",
      "  File \"/Users/luoyonggui/anaconda3/lib/python3.7/site-packages/nbdev/cli.py\", line 103, in nbdev_build_docs\r\n",
      "    if mk_readme: make_readme()\r\n",
      "  File \"/Users/luoyonggui/anaconda3/lib/python3.7/site-packages/nbdev/cli.py\", line 84, in make_readme\r\n",
      "    assert index_fn is not None, \"Could not locate index notebook\"\r\n",
      "AssertionError: Could not locate index notebook\r\n"
     ]
    }
   ],
   "source": [
    "!nbdev_build_docs"
   ]
  },
  {
   "cell_type": "code",
   "execution_count": 9,
   "metadata": {},
   "outputs": [
    {
     "name": "stdout",
     "output_type": "stream",
     "text": [
      "Traceback (most recent call last):\r\n",
      "  File \"/Users/luoyonggui/anaconda3/bin/nbdev_build_lib\", line 10, in <module>\r\n",
      "    sys.exit(nbdev_build_lib())\r\n",
      "  File \"/Users/luoyonggui/anaconda3/lib/python3.7/site-packages/fastscript/core.py\", line 73, in _f\r\n",
      "    func(**args.__dict__)\r\n",
      "  File \"/Users/luoyonggui/anaconda3/lib/python3.7/site-packages/nbdev/cli.py\", line 20, in nbdev_build_lib\r\n",
      "    write_tmpls()\r\n",
      "  File \"/Users/luoyonggui/anaconda3/lib/python3.7/site-packages/nbdev/export2html.py\", line 443, in write_tmpls\r\n",
      "    write_tmpl(config_tmpl, 'user lib_name title copyright description', cfg, cfg.doc_path/'_config.yml')\r\n",
      "  File \"/Users/luoyonggui/anaconda3/lib/python3.7/site-packages/nbdev/export2html.py\", line 437, in write_tmpl\r\n",
      "    dest.write_text(outp)\r\n",
      "  File \"/Users/luoyonggui/anaconda3/lib/python3.7/pathlib.py\", line 1218, in write_text\r\n",
      "    with self.open(mode='w', encoding=encoding, errors=errors) as f:\r\n",
      "  File \"/Users/luoyonggui/anaconda3/lib/python3.7/pathlib.py\", line 1186, in open\r\n",
      "    opener=self._opener)\r\n",
      "  File \"/Users/luoyonggui/anaconda3/lib/python3.7/pathlib.py\", line 1039, in _opener\r\n",
      "    return self._accessor.open(self, flags, mode)\r\n",
      "FileNotFoundError: [Errno 2] No such file or directory: '/Users/luoyonggui/PycharmProjects/mayiexamples/engineering/docs/_config.yml'\r\n"
     ]
    }
   ],
   "source": [
    "!nbdev_build_lib "
   ]
  },
  {
   "cell_type": "code",
   "execution_count": null,
   "metadata": {},
   "outputs": [],
   "source": []
  }
 ],
 "metadata": {
  "kernelspec": {
   "display_name": "Python 3",
   "language": "python",
   "name": "python3"
  },
  "language_info": {
   "codemirror_mode": {
    "name": "ipython",
    "version": 3
   },
   "file_extension": ".py",
   "mimetype": "text/x-python",
   "name": "python",
   "nbconvert_exporter": "python",
   "pygments_lexer": "ipython3",
   "version": "3.7.3"
  },
  "toc": {
   "base_numbering": 1,
   "nav_menu": {},
   "number_sections": true,
   "sideBar": true,
   "skip_h1_title": false,
   "title_cell": "Table of Contents",
   "title_sidebar": "Contents",
   "toc_cell": false,
   "toc_position": {},
   "toc_section_display": true,
   "toc_window_display": true
  }
 },
 "nbformat": 4,
 "nbformat_minor": 2
}
